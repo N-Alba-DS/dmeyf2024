{
  "cells": [
    {
      "cell_type": "markdown",
      "metadata": {
        "id": "FX-Vq4mgJS_t"
      },
      "source": [
        "# Segmentando clientes\n",
        "\n",
        "En esta notebook se verá una forma sobre como segmentar a los clientes, cuando cuenta con una gran cantidad de estos sobre una base de datos de una gran (?) cantidad de dimensiones.\n",
        "\n",
        "Empezaremos cargando el entorno e instalando los requerimentos necesarios."
      ]
    },
    {
      "cell_type": "code",
      "execution_count": 1,
      "metadata": {
        "id": "T8x1jAl_kqFt"
      },
      "outputs": [],
      "source": [
        "import pandas as pd\n",
        "import numpy as np\n",
        "import seaborn as sns\n",
        "\n",
        "from umap import UMAP\n",
        "import matplotlib.pyplot as plt\n",
        "from sklearn.cluster import DBSCAN\n",
        "from sklearn.ensemble import  RandomForestClassifier\n",
        "from sklearn.impute import SimpleImputer"
      ]
    },
    {
      "cell_type": "code",
      "execution_count": 2,
      "metadata": {
        "id": "R58qDmLYtVXk"
      },
      "outputs": [],
      "source": [
        "base_path = '/content/drive/MyDrive/DMEyF/2024/'\n",
        "dataset_path = base_path + 'datos/'\n",
        "modelos_path = base_path + 'modelos/'\n",
        "db_path = base_path + 'db/'\n",
        "dataset_file = 'competencia_01.csv'"
      ]
    },
    {
      "cell_type": "code",
      "execution_count": 4,
      "metadata": {
        "id": "bpzFTT_HkzLx"
      },
      "outputs": [],
      "source": [
        "df_train = pd.read_csv(r\"C:\\Users\\Admin\\Documents\\1_Notebook\\1_Estudio\\1 UBA Maestría DS\\1_Especialización\\1_Segundo Semestre\\DMEyF\\Python\\competencia_01.csv\", index_col=0)\n"
      ]
    },
    {
      "cell_type": "markdown",
      "metadata": {
        "id": "AEDRaksFthSF"
      },
      "source": [
        "Solo segmentaremos a los clientes de abril, dado que necesitaremos variables en algún momento agregar variables históricas para entender su comportamiento previo a la **baja**"
      ]
    },
    {
      "cell_type": "code",
      "execution_count": 5,
      "metadata": {
        "id": "MNZ1Vrg4k9r8"
      },
      "outputs": [],
      "source": [
        "df_train = df_train[df_train['foto_mes']==202104]"
      ]
    },
    {
      "cell_type": "markdown",
      "metadata": {
        "id": "yR9XFSG4t5We"
      },
      "source": [
        "A su vez, nos concentraremos en el fenómeno de la **baja**. No importa si es en un mes o si es en dos."
      ]
    },
    {
      "cell_type": "code",
      "execution_count": 6,
      "metadata": {
        "id": "sXUD6rxyk7VJ"
      },
      "outputs": [],
      "source": [
        "Xtrain = df_train\n",
        "ytrain = Xtrain[\"clase_ternaria\"].map(lambda x: 0 if x == \"CONTINUA\" else 1)\n",
        "Xtrain = Xtrain.drop(\"clase_ternaria\", axis=1)\n",
        "\n",
        "del(df_train)"
      ]
    },
    {
      "cell_type": "markdown",
      "metadata": {
        "id": "5FR1cavzuEaB"
      },
      "source": [
        "Lo primero que necesitamos es saber cuando un cliente es parecido a otro. Todos los clientes que son parecidos los juntaremos en un **segmento** y sobre esos segmentos haremos perfilados o profiles para entender que los caracteriza.\n",
        "\n",
        "Saber cuando un cliente es parecido a otro no es algo tan simple en un problema de alta dimensionalidad, lo que se suele llamar **curse of dimensionality**. Las cosas no son lo mismo más allá de nuestras 3 escasas dimensiones. Para muestra, un botón: https://www.youtube.com/watch?v=mceaM2_zQd8\n",
        "\n",
        "Por esto, es conveniente usar herramientas que nos ayuden a no tener que hacer distancias euclídeas.\n",
        "\n",
        "Empecemos con una ayuda con nos dan nuestros amigos, los **rf** con una original matriz de distancias (https://en.wikipedia.org/wiki/Distance_matrix)"
      ]
    },
    {
      "cell_type": "markdown",
      "metadata": {
        "id": "r3_HXJFymRN3"
      },
      "source": [
        "La **Random Forest Distance** es una matriz derivada del algoritmo Random Forest,\n",
        "\n",
        "+ Se utiliza para medir la similitud entre pares de puntos de datos. Esta métrica se basa en la idea de cuántas veces dos puntos de datos terminan en la misma hoja de un árbol en un **rf**, entre los múltiples árboles que se generan.\n",
        "\n",
        "+ Cómo se Calcula?\n",
        "\n",
        " 1. Se entrena un **rf**.\n",
        " 2. Para cada par de clientes $c_i$ y $c_j$, se observa cuántas veces caen en la misma hoja a través de todos los árboles del bosque. Luego se agrega en la posición $i$, $j$ de una matriz el número de veces que coincidieron esos dos clientes en un nodo terminal.\n",
        " 3. Se calcula la matriz de distancia como **1 - proporción de veces que caen en la misma hoja**. Ejemplo: Si caen en la misma hoja el 90% de las veces, su distancia será 0.1. Si nunca caen en la misma hoja, la distancia es 1.\n",
        "\n",
        "Veamoslo aplicado en nuestro caso"
      ]
    },
    {
      "cell_type": "markdown",
      "metadata": {
        "id": "G9omJU4KnsVE"
      },
      "source": [
        "Para trabajar con este algoritmo no vamos a trabajar con todos los datos. Usted decida con cuantos trabajar. En este caso, tomaremos todos los **baja** y unos 2000 **continua**, ya que queremos como interactuan los segmentos de clientes que se van con los que se quedan.\n"
      ]
    },
    {
      "cell_type": "code",
      "execution_count": 19,
      "metadata": {},
      "outputs": [
        {
          "data": {
            "text/plain": [
              "(164090, 154)"
            ]
          },
          "execution_count": 19,
          "metadata": {},
          "output_type": "execute_result"
        }
      ],
      "source": [
        "Xtrain.shape"
      ]
    },
    {
      "cell_type": "code",
      "execution_count": 7,
      "metadata": {
        "id": "4aqKBvj2nnrM"
      },
      "outputs": [],
      "source": [
        "np.random.seed(17)\n",
        "continua_sample = ytrain[ytrain == 0].sample(2000).index\n",
        "bajas_1_2 = ytrain[ytrain == 1].index\n",
        "rf_index = continua_sample.union(bajas_1_2)\n",
        "\n",
        "Xtrain_rf = Xtrain.loc[rf_index]\n",
        "ytrain_rf = ytrain.loc[rf_index]"
      ]
    },
    {
      "cell_type": "markdown",
      "metadata": {
        "id": "CFTvRro4yv2C"
      },
      "source": [
        "Entrenamos un simple **rf**, despliegue sus herramientas aprendidas para contar con un buen modelo\n"
      ]
    },
    {
      "cell_type": "code",
      "execution_count": 8,
      "metadata": {
        "colab": {
          "base_uri": "https://localhost:8080/",
          "height": 75
        },
        "id": "FQ1pNFwmzOc5",
        "outputId": "3846997b-ec54-4703-cc84-e105069562f6"
      },
      "outputs": [
        {
          "data": {
            "text/html": [
              "<style>#sk-container-id-1 {\n",
              "  /* Definition of color scheme common for light and dark mode */\n",
              "  --sklearn-color-text: black;\n",
              "  --sklearn-color-line: gray;\n",
              "  /* Definition of color scheme for unfitted estimators */\n",
              "  --sklearn-color-unfitted-level-0: #fff5e6;\n",
              "  --sklearn-color-unfitted-level-1: #f6e4d2;\n",
              "  --sklearn-color-unfitted-level-2: #ffe0b3;\n",
              "  --sklearn-color-unfitted-level-3: chocolate;\n",
              "  /* Definition of color scheme for fitted estimators */\n",
              "  --sklearn-color-fitted-level-0: #f0f8ff;\n",
              "  --sklearn-color-fitted-level-1: #d4ebff;\n",
              "  --sklearn-color-fitted-level-2: #b3dbfd;\n",
              "  --sklearn-color-fitted-level-3: cornflowerblue;\n",
              "\n",
              "  /* Specific color for light theme */\n",
              "  --sklearn-color-text-on-default-background: var(--sg-text-color, var(--theme-code-foreground, var(--jp-content-font-color1, black)));\n",
              "  --sklearn-color-background: var(--sg-background-color, var(--theme-background, var(--jp-layout-color0, white)));\n",
              "  --sklearn-color-border-box: var(--sg-text-color, var(--theme-code-foreground, var(--jp-content-font-color1, black)));\n",
              "  --sklearn-color-icon: #696969;\n",
              "\n",
              "  @media (prefers-color-scheme: dark) {\n",
              "    /* Redefinition of color scheme for dark theme */\n",
              "    --sklearn-color-text-on-default-background: var(--sg-text-color, var(--theme-code-foreground, var(--jp-content-font-color1, white)));\n",
              "    --sklearn-color-background: var(--sg-background-color, var(--theme-background, var(--jp-layout-color0, #111)));\n",
              "    --sklearn-color-border-box: var(--sg-text-color, var(--theme-code-foreground, var(--jp-content-font-color1, white)));\n",
              "    --sklearn-color-icon: #878787;\n",
              "  }\n",
              "}\n",
              "\n",
              "#sk-container-id-1 {\n",
              "  color: var(--sklearn-color-text);\n",
              "}\n",
              "\n",
              "#sk-container-id-1 pre {\n",
              "  padding: 0;\n",
              "}\n",
              "\n",
              "#sk-container-id-1 input.sk-hidden--visually {\n",
              "  border: 0;\n",
              "  clip: rect(1px 1px 1px 1px);\n",
              "  clip: rect(1px, 1px, 1px, 1px);\n",
              "  height: 1px;\n",
              "  margin: -1px;\n",
              "  overflow: hidden;\n",
              "  padding: 0;\n",
              "  position: absolute;\n",
              "  width: 1px;\n",
              "}\n",
              "\n",
              "#sk-container-id-1 div.sk-dashed-wrapped {\n",
              "  border: 1px dashed var(--sklearn-color-line);\n",
              "  margin: 0 0.4em 0.5em 0.4em;\n",
              "  box-sizing: border-box;\n",
              "  padding-bottom: 0.4em;\n",
              "  background-color: var(--sklearn-color-background);\n",
              "}\n",
              "\n",
              "#sk-container-id-1 div.sk-container {\n",
              "  /* jupyter's `normalize.less` sets `[hidden] { display: none; }`\n",
              "     but bootstrap.min.css set `[hidden] { display: none !important; }`\n",
              "     so we also need the `!important` here to be able to override the\n",
              "     default hidden behavior on the sphinx rendered scikit-learn.org.\n",
              "     See: https://github.com/scikit-learn/scikit-learn/issues/21755 */\n",
              "  display: inline-block !important;\n",
              "  position: relative;\n",
              "}\n",
              "\n",
              "#sk-container-id-1 div.sk-text-repr-fallback {\n",
              "  display: none;\n",
              "}\n",
              "\n",
              "div.sk-parallel-item,\n",
              "div.sk-serial,\n",
              "div.sk-item {\n",
              "  /* draw centered vertical line to link estimators */\n",
              "  background-image: linear-gradient(var(--sklearn-color-text-on-default-background), var(--sklearn-color-text-on-default-background));\n",
              "  background-size: 2px 100%;\n",
              "  background-repeat: no-repeat;\n",
              "  background-position: center center;\n",
              "}\n",
              "\n",
              "/* Parallel-specific style estimator block */\n",
              "\n",
              "#sk-container-id-1 div.sk-parallel-item::after {\n",
              "  content: \"\";\n",
              "  width: 100%;\n",
              "  border-bottom: 2px solid var(--sklearn-color-text-on-default-background);\n",
              "  flex-grow: 1;\n",
              "}\n",
              "\n",
              "#sk-container-id-1 div.sk-parallel {\n",
              "  display: flex;\n",
              "  align-items: stretch;\n",
              "  justify-content: center;\n",
              "  background-color: var(--sklearn-color-background);\n",
              "  position: relative;\n",
              "}\n",
              "\n",
              "#sk-container-id-1 div.sk-parallel-item {\n",
              "  display: flex;\n",
              "  flex-direction: column;\n",
              "}\n",
              "\n",
              "#sk-container-id-1 div.sk-parallel-item:first-child::after {\n",
              "  align-self: flex-end;\n",
              "  width: 50%;\n",
              "}\n",
              "\n",
              "#sk-container-id-1 div.sk-parallel-item:last-child::after {\n",
              "  align-self: flex-start;\n",
              "  width: 50%;\n",
              "}\n",
              "\n",
              "#sk-container-id-1 div.sk-parallel-item:only-child::after {\n",
              "  width: 0;\n",
              "}\n",
              "\n",
              "/* Serial-specific style estimator block */\n",
              "\n",
              "#sk-container-id-1 div.sk-serial {\n",
              "  display: flex;\n",
              "  flex-direction: column;\n",
              "  align-items: center;\n",
              "  background-color: var(--sklearn-color-background);\n",
              "  padding-right: 1em;\n",
              "  padding-left: 1em;\n",
              "}\n",
              "\n",
              "\n",
              "/* Toggleable style: style used for estimator/Pipeline/ColumnTransformer box that is\n",
              "clickable and can be expanded/collapsed.\n",
              "- Pipeline and ColumnTransformer use this feature and define the default style\n",
              "- Estimators will overwrite some part of the style using the `sk-estimator` class\n",
              "*/\n",
              "\n",
              "/* Pipeline and ColumnTransformer style (default) */\n",
              "\n",
              "#sk-container-id-1 div.sk-toggleable {\n",
              "  /* Default theme specific background. It is overwritten whether we have a\n",
              "  specific estimator or a Pipeline/ColumnTransformer */\n",
              "  background-color: var(--sklearn-color-background);\n",
              "}\n",
              "\n",
              "/* Toggleable label */\n",
              "#sk-container-id-1 label.sk-toggleable__label {\n",
              "  cursor: pointer;\n",
              "  display: block;\n",
              "  width: 100%;\n",
              "  margin-bottom: 0;\n",
              "  padding: 0.5em;\n",
              "  box-sizing: border-box;\n",
              "  text-align: center;\n",
              "}\n",
              "\n",
              "#sk-container-id-1 label.sk-toggleable__label-arrow:before {\n",
              "  /* Arrow on the left of the label */\n",
              "  content: \"▸\";\n",
              "  float: left;\n",
              "  margin-right: 0.25em;\n",
              "  color: var(--sklearn-color-icon);\n",
              "}\n",
              "\n",
              "#sk-container-id-1 label.sk-toggleable__label-arrow:hover:before {\n",
              "  color: var(--sklearn-color-text);\n",
              "}\n",
              "\n",
              "/* Toggleable content - dropdown */\n",
              "\n",
              "#sk-container-id-1 div.sk-toggleable__content {\n",
              "  max-height: 0;\n",
              "  max-width: 0;\n",
              "  overflow: hidden;\n",
              "  text-align: left;\n",
              "  /* unfitted */\n",
              "  background-color: var(--sklearn-color-unfitted-level-0);\n",
              "}\n",
              "\n",
              "#sk-container-id-1 div.sk-toggleable__content.fitted {\n",
              "  /* fitted */\n",
              "  background-color: var(--sklearn-color-fitted-level-0);\n",
              "}\n",
              "\n",
              "#sk-container-id-1 div.sk-toggleable__content pre {\n",
              "  margin: 0.2em;\n",
              "  border-radius: 0.25em;\n",
              "  color: var(--sklearn-color-text);\n",
              "  /* unfitted */\n",
              "  background-color: var(--sklearn-color-unfitted-level-0);\n",
              "}\n",
              "\n",
              "#sk-container-id-1 div.sk-toggleable__content.fitted pre {\n",
              "  /* unfitted */\n",
              "  background-color: var(--sklearn-color-fitted-level-0);\n",
              "}\n",
              "\n",
              "#sk-container-id-1 input.sk-toggleable__control:checked~div.sk-toggleable__content {\n",
              "  /* Expand drop-down */\n",
              "  max-height: 200px;\n",
              "  max-width: 100%;\n",
              "  overflow: auto;\n",
              "}\n",
              "\n",
              "#sk-container-id-1 input.sk-toggleable__control:checked~label.sk-toggleable__label-arrow:before {\n",
              "  content: \"▾\";\n",
              "}\n",
              "\n",
              "/* Pipeline/ColumnTransformer-specific style */\n",
              "\n",
              "#sk-container-id-1 div.sk-label input.sk-toggleable__control:checked~label.sk-toggleable__label {\n",
              "  color: var(--sklearn-color-text);\n",
              "  background-color: var(--sklearn-color-unfitted-level-2);\n",
              "}\n",
              "\n",
              "#sk-container-id-1 div.sk-label.fitted input.sk-toggleable__control:checked~label.sk-toggleable__label {\n",
              "  background-color: var(--sklearn-color-fitted-level-2);\n",
              "}\n",
              "\n",
              "/* Estimator-specific style */\n",
              "\n",
              "/* Colorize estimator box */\n",
              "#sk-container-id-1 div.sk-estimator input.sk-toggleable__control:checked~label.sk-toggleable__label {\n",
              "  /* unfitted */\n",
              "  background-color: var(--sklearn-color-unfitted-level-2);\n",
              "}\n",
              "\n",
              "#sk-container-id-1 div.sk-estimator.fitted input.sk-toggleable__control:checked~label.sk-toggleable__label {\n",
              "  /* fitted */\n",
              "  background-color: var(--sklearn-color-fitted-level-2);\n",
              "}\n",
              "\n",
              "#sk-container-id-1 div.sk-label label.sk-toggleable__label,\n",
              "#sk-container-id-1 div.sk-label label {\n",
              "  /* The background is the default theme color */\n",
              "  color: var(--sklearn-color-text-on-default-background);\n",
              "}\n",
              "\n",
              "/* On hover, darken the color of the background */\n",
              "#sk-container-id-1 div.sk-label:hover label.sk-toggleable__label {\n",
              "  color: var(--sklearn-color-text);\n",
              "  background-color: var(--sklearn-color-unfitted-level-2);\n",
              "}\n",
              "\n",
              "/* Label box, darken color on hover, fitted */\n",
              "#sk-container-id-1 div.sk-label.fitted:hover label.sk-toggleable__label.fitted {\n",
              "  color: var(--sklearn-color-text);\n",
              "  background-color: var(--sklearn-color-fitted-level-2);\n",
              "}\n",
              "\n",
              "/* Estimator label */\n",
              "\n",
              "#sk-container-id-1 div.sk-label label {\n",
              "  font-family: monospace;\n",
              "  font-weight: bold;\n",
              "  display: inline-block;\n",
              "  line-height: 1.2em;\n",
              "}\n",
              "\n",
              "#sk-container-id-1 div.sk-label-container {\n",
              "  text-align: center;\n",
              "}\n",
              "\n",
              "/* Estimator-specific */\n",
              "#sk-container-id-1 div.sk-estimator {\n",
              "  font-family: monospace;\n",
              "  border: 1px dotted var(--sklearn-color-border-box);\n",
              "  border-radius: 0.25em;\n",
              "  box-sizing: border-box;\n",
              "  margin-bottom: 0.5em;\n",
              "  /* unfitted */\n",
              "  background-color: var(--sklearn-color-unfitted-level-0);\n",
              "}\n",
              "\n",
              "#sk-container-id-1 div.sk-estimator.fitted {\n",
              "  /* fitted */\n",
              "  background-color: var(--sklearn-color-fitted-level-0);\n",
              "}\n",
              "\n",
              "/* on hover */\n",
              "#sk-container-id-1 div.sk-estimator:hover {\n",
              "  /* unfitted */\n",
              "  background-color: var(--sklearn-color-unfitted-level-2);\n",
              "}\n",
              "\n",
              "#sk-container-id-1 div.sk-estimator.fitted:hover {\n",
              "  /* fitted */\n",
              "  background-color: var(--sklearn-color-fitted-level-2);\n",
              "}\n",
              "\n",
              "/* Specification for estimator info (e.g. \"i\" and \"?\") */\n",
              "\n",
              "/* Common style for \"i\" and \"?\" */\n",
              "\n",
              ".sk-estimator-doc-link,\n",
              "a:link.sk-estimator-doc-link,\n",
              "a:visited.sk-estimator-doc-link {\n",
              "  float: right;\n",
              "  font-size: smaller;\n",
              "  line-height: 1em;\n",
              "  font-family: monospace;\n",
              "  background-color: var(--sklearn-color-background);\n",
              "  border-radius: 1em;\n",
              "  height: 1em;\n",
              "  width: 1em;\n",
              "  text-decoration: none !important;\n",
              "  margin-left: 1ex;\n",
              "  /* unfitted */\n",
              "  border: var(--sklearn-color-unfitted-level-1) 1pt solid;\n",
              "  color: var(--sklearn-color-unfitted-level-1);\n",
              "}\n",
              "\n",
              ".sk-estimator-doc-link.fitted,\n",
              "a:link.sk-estimator-doc-link.fitted,\n",
              "a:visited.sk-estimator-doc-link.fitted {\n",
              "  /* fitted */\n",
              "  border: var(--sklearn-color-fitted-level-1) 1pt solid;\n",
              "  color: var(--sklearn-color-fitted-level-1);\n",
              "}\n",
              "\n",
              "/* On hover */\n",
              "div.sk-estimator:hover .sk-estimator-doc-link:hover,\n",
              ".sk-estimator-doc-link:hover,\n",
              "div.sk-label-container:hover .sk-estimator-doc-link:hover,\n",
              ".sk-estimator-doc-link:hover {\n",
              "  /* unfitted */\n",
              "  background-color: var(--sklearn-color-unfitted-level-3);\n",
              "  color: var(--sklearn-color-background);\n",
              "  text-decoration: none;\n",
              "}\n",
              "\n",
              "div.sk-estimator.fitted:hover .sk-estimator-doc-link.fitted:hover,\n",
              ".sk-estimator-doc-link.fitted:hover,\n",
              "div.sk-label-container:hover .sk-estimator-doc-link.fitted:hover,\n",
              ".sk-estimator-doc-link.fitted:hover {\n",
              "  /* fitted */\n",
              "  background-color: var(--sklearn-color-fitted-level-3);\n",
              "  color: var(--sklearn-color-background);\n",
              "  text-decoration: none;\n",
              "}\n",
              "\n",
              "/* Span, style for the box shown on hovering the info icon */\n",
              ".sk-estimator-doc-link span {\n",
              "  display: none;\n",
              "  z-index: 9999;\n",
              "  position: relative;\n",
              "  font-weight: normal;\n",
              "  right: .2ex;\n",
              "  padding: .5ex;\n",
              "  margin: .5ex;\n",
              "  width: min-content;\n",
              "  min-width: 20ex;\n",
              "  max-width: 50ex;\n",
              "  color: var(--sklearn-color-text);\n",
              "  box-shadow: 2pt 2pt 4pt #999;\n",
              "  /* unfitted */\n",
              "  background: var(--sklearn-color-unfitted-level-0);\n",
              "  border: .5pt solid var(--sklearn-color-unfitted-level-3);\n",
              "}\n",
              "\n",
              ".sk-estimator-doc-link.fitted span {\n",
              "  /* fitted */\n",
              "  background: var(--sklearn-color-fitted-level-0);\n",
              "  border: var(--sklearn-color-fitted-level-3);\n",
              "}\n",
              "\n",
              ".sk-estimator-doc-link:hover span {\n",
              "  display: block;\n",
              "}\n",
              "\n",
              "/* \"?\"-specific style due to the `<a>` HTML tag */\n",
              "\n",
              "#sk-container-id-1 a.estimator_doc_link {\n",
              "  float: right;\n",
              "  font-size: 1rem;\n",
              "  line-height: 1em;\n",
              "  font-family: monospace;\n",
              "  background-color: var(--sklearn-color-background);\n",
              "  border-radius: 1rem;\n",
              "  height: 1rem;\n",
              "  width: 1rem;\n",
              "  text-decoration: none;\n",
              "  /* unfitted */\n",
              "  color: var(--sklearn-color-unfitted-level-1);\n",
              "  border: var(--sklearn-color-unfitted-level-1) 1pt solid;\n",
              "}\n",
              "\n",
              "#sk-container-id-1 a.estimator_doc_link.fitted {\n",
              "  /* fitted */\n",
              "  border: var(--sklearn-color-fitted-level-1) 1pt solid;\n",
              "  color: var(--sklearn-color-fitted-level-1);\n",
              "}\n",
              "\n",
              "/* On hover */\n",
              "#sk-container-id-1 a.estimator_doc_link:hover {\n",
              "  /* unfitted */\n",
              "  background-color: var(--sklearn-color-unfitted-level-3);\n",
              "  color: var(--sklearn-color-background);\n",
              "  text-decoration: none;\n",
              "}\n",
              "\n",
              "#sk-container-id-1 a.estimator_doc_link.fitted:hover {\n",
              "  /* fitted */\n",
              "  background-color: var(--sklearn-color-fitted-level-3);\n",
              "}\n",
              "</style><div id=\"sk-container-id-1\" class=\"sk-top-container\"><div class=\"sk-text-repr-fallback\"><pre>RandomForestClassifier(max_features=20, min_samples_leaf=400, random_state=17)</pre><b>In a Jupyter environment, please rerun this cell to show the HTML representation or trust the notebook. <br />On GitHub, the HTML representation is unable to render, please try loading this page with nbviewer.org.</b></div><div class=\"sk-container\" hidden><div class=\"sk-item\"><div class=\"sk-estimator fitted sk-toggleable\"><input class=\"sk-toggleable__control sk-hidden--visually\" id=\"sk-estimator-id-1\" type=\"checkbox\" checked><label for=\"sk-estimator-id-1\" class=\"sk-toggleable__label fitted sk-toggleable__label-arrow fitted\">&nbsp;&nbsp;RandomForestClassifier<a class=\"sk-estimator-doc-link fitted\" rel=\"noreferrer\" target=\"_blank\" href=\"https://scikit-learn.org/1.5/modules/generated/sklearn.ensemble.RandomForestClassifier.html\">?<span>Documentation for RandomForestClassifier</span></a><span class=\"sk-estimator-doc-link fitted\">i<span>Fitted</span></span></label><div class=\"sk-toggleable__content fitted\"><pre>RandomForestClassifier(max_features=20, min_samples_leaf=400, random_state=17)</pre></div> </div></div></div></div>"
            ],
            "text/plain": [
              "RandomForestClassifier(max_features=20, min_samples_leaf=400, random_state=17)"
            ]
          },
          "execution_count": 8,
          "metadata": {},
          "output_type": "execute_result"
        }
      ],
      "source": [
        "imp_mean = SimpleImputer(missing_values=np.nan, strategy='median')\n",
        "Xtrain_rf_imp = imp_mean.fit_transform(Xtrain_rf)\n",
        "\n",
        "model = RandomForestClassifier(n_estimators=100, max_features=20, min_samples_leaf=400, random_state=17 )\n",
        "model.fit(Xtrain_rf_imp, ytrain_rf)"
      ]
    },
    {
      "cell_type": "markdown",
      "metadata": {
        "id": "3WkehiTNzRrL"
      },
      "source": [
        "Armamos (copiamos de internet) una función que nos calcule la matriz de distancias"
      ]
    },
    {
      "cell_type": "code",
      "execution_count": 9,
      "metadata": {
        "id": "Ab0UY9VAo1mj"
      },
      "outputs": [],
      "source": [
        "def distanceMatrix(model, X):\n",
        "\n",
        "    terminals = model.apply(X)\n",
        "    nTrees = terminals.shape[1]\n",
        "\n",
        "    a = terminals[:,0]\n",
        "    proxMat = 1*np.equal.outer(a, a)\n",
        "\n",
        "    for i in range(1, nTrees):\n",
        "        a = terminals[:,i]\n",
        "        proxMat += 1*np.equal.outer(a, a)\n",
        "\n",
        "    proxMat = proxMat / nTrees\n",
        "\n",
        "    return proxMat.max() - proxMat\n",
        "\n",
        "md = distanceMatrix(model, Xtrain_rf_imp)"
      ]
    },
    {
      "cell_type": "markdown",
      "metadata": {
        "id": "uBIZpRv4zfCu"
      },
      "source": [
        "Veamos como se ve. Recuerde que significa que un número esté cerca de 0 o que esté cerca de 1."
      ]
    },
    {
      "cell_type": "code",
      "execution_count": 10,
      "metadata": {
        "colab": {
          "base_uri": "https://localhost:8080/"
        },
        "id": "jM0crgSQqC5x",
        "outputId": "cdf7d73d-fbc2-4a1c-ce31-2056e062dc57"
      },
      "outputs": [
        {
          "data": {
            "text/plain": [
              "array([[0.  , 0.48, 0.82, ..., 0.93, 0.98, 0.98],\n",
              "       [0.48, 0.  , 0.93, ..., 0.94, 0.97, 0.97],\n",
              "       [0.82, 0.93, 0.  , ..., 0.77, 0.79, 0.97],\n",
              "       ...,\n",
              "       [0.93, 0.94, 0.77, ..., 0.  , 0.17, 0.36],\n",
              "       [0.98, 0.97, 0.79, ..., 0.17, 0.  , 0.19],\n",
              "       [0.98, 0.97, 0.97, ..., 0.36, 0.19, 0.  ]])"
            ]
          },
          "execution_count": 10,
          "metadata": {},
          "output_type": "execute_result"
        }
      ],
      "source": [
        "md"
      ]
    },
    {
      "cell_type": "markdown",
      "metadata": {
        "id": "xrhE0O2nzodC"
      },
      "source": [
        "Para poder visualizar la matriz, utilizaremos un embedding. Los *embeddings* son representaciones vectoriales de datos en un espacio de menor dimensión\n",
        "\n",
        "Podría utilizar un **PCA** con ese fin, pero en los últimos años hay mejores algoritmos como **t-sne** o **umap**.\n",
        "\n",
        "UMAP (Uniform Manifold Approximation and Projection) es una técnica avanzada para la reducción de dimensionalidad y visualización de datos en espacios de menor dimensión, que busca mantener al máximo la estructura de los datos en alta dimensión.\n",
        "\n",
        "1. **Preservación de la Estructura Global y Local**:\n",
        "   - Intenta preservar tanto la estructura local (relaciones cercanas) como la global (estructura general) de los datos al proyectarlos en un espacio de menor dimensión.\n",
        "\n",
        "2. **Basado en Manifold Learning**:\n",
        "   - UMAP asume que los datos de alta dimensión se encuentran en un espacio de menor dimensión (un \"manifold\") y busca proyectar esos datos de manera que se mantenga esa estructura subyacente.\n",
        "\n",
        "3. **Velocidad y Escalabilidad**:\n",
        "   - UMAP es más rápido y escalable en comparación con técnicas similares como t-SNE, especialmente en conjuntos de datos grandes.\n",
        "\n",
        "4. **Control sobre la Estructura**:\n",
        "   - UMAP permite al usuario ajustar parámetros que controlan la preservación de la estructura local y global, como el número de vecinos cercanos (n_neighbors) y la distancia mínima entre puntos (min_dist).\n",
        "\n",
        "Una característica adicional, es que cuenta con la posibilidad de recibir de entrada una matriz de distancia.\n",
        "\n",
        "Veamos los datos por primera vez:"
      ]
    },
    {
      "cell_type": "code",
      "execution_count": 11,
      "metadata": {
        "colab": {
          "base_uri": "https://localhost:8080/",
          "height": 544
        },
        "id": "5LRYIYv-rBb6",
        "outputId": "cf878468-23ef-438a-d32b-e07f179f3ccf"
      },
      "outputs": [
        {
          "name": "stderr",
          "output_type": "stream",
          "text": [
            "c:\\Users\\Admin\\.conda\\envs\\datascience\\Lib\\site-packages\\umap\\umap_.py:1858: UserWarning: using precomputed metric; inverse_transform will be unavailable\n",
            "  warn(\"using precomputed metric; inverse_transform will be unavailable\")\n",
            "c:\\Users\\Admin\\.conda\\envs\\datascience\\Lib\\site-packages\\umap\\umap_.py:1945: UserWarning: n_jobs value 1 overridden to 1 by setting random_state. Use no seed for parallelism.\n",
            "  warn(f\"n_jobs value {self.n_jobs} overridden to 1 by setting random_state. Use no seed for parallelism.\")\n"
          ]
        },
        {
          "data": {
            "text/plain": [
              "<matplotlib.collections.PathCollection at 0x2cbd2c87d50>"
            ]
          },
          "execution_count": 11,
          "metadata": {},
          "output_type": "execute_result"
        },
        {
          "data": {
            "image/png": "[encoded data removed]",
            "text/plain": [
              "<Figure size 640x480 with 1 Axes>"
            ]
          },
          "metadata": {},
          "output_type": "display_data"
        }
      ],
      "source": [
        "embedding_rf = UMAP(\n",
        "  n_components=2,\n",
        "  n_neighbors=50,\n",
        "  metric=\"precomputed\",\n",
        "  random_state=17,\n",
        ").fit_transform(md)\n",
        "\n",
        "plt.scatter(embedding_rf[:,0], embedding_rf[:,1])"
      ]
    },
    {
      "cell_type": "markdown",
      "metadata": {
        "id": "r2StQEZK3Guh"
      },
      "source": [
        "Agreguemos la dimensión de la probabilidad de salida, para ver donde cree el modelo que se encuentran los **bajas**."
      ]
    },
    {
      "cell_type": "code",
      "execution_count": 12,
      "metadata": {
        "colab": {
          "base_uri": "https://localhost:8080/",
          "height": 435
        },
        "id": "A1Rfhj7CTeLt",
        "outputId": "cc6bf1e7-2099-4b20-dc81-44ebfab9b88d"
      },
      "outputs": [
        {
          "data": {
            "image/png": "[encoded data removed]",
            "text/plain": [
              "<Figure size 640x480 with 2 Axes>"
            ]
          },
          "metadata": {},
          "output_type": "display_data"
        }
      ],
      "source": [
        "class_index = np.where(model.classes_ == 1)[0]\n",
        "prob_baja = model.predict_proba(Xtrain_rf_imp)[:,class_index]\n",
        "\n",
        "plt.scatter(embedding_rf[:,0], embedding_rf[:,1], c=prob_baja)\n",
        "plt.colorbar()\n",
        "plt.show()"
      ]
    },
    {
      "cell_type": "markdown",
      "metadata": {
        "id": "xpthaD3P3d4C"
      },
      "source": [
        "Vamos a partir de este embedding para segmentar a los clientes. Puede utilizar cualquier técnica, los datos ya son simples para cualquier algoritmo. Utilizaremos uno bastante estandar"
      ]
    },
    {
      "cell_type": "code",
      "execution_count": 13,
      "metadata": {
        "colab": {
          "base_uri": "https://localhost:8080/",
          "height": 486
        },
        "id": "RtyL7PdqrVpr",
        "outputId": "4e457963-66a5-40bb-c3a5-001a2c249c32"
      },
      "outputs": [
        {
          "data": {
            "image/png": "[encoded data removed]",
            "text/plain": [
              "<Figure size 640x480 with 1 Axes>"
            ]
          },
          "metadata": {},
          "output_type": "display_data"
        }
      ],
      "source": [
        "hdb = DBSCAN(eps=0.3)\n",
        "y = hdb.fit(embedding_rf)\n",
        "\n",
        "plt.scatter(embedding_rf[:, 0], embedding_rf[:, 1], c=y.labels_, cmap='tab10')\n",
        "plt.tight_layout()\n",
        "plt.show()"
      ]
    },
    {
      "cell_type": "markdown",
      "metadata": {
        "id": "1DT8Napm4giz"
      },
      "source": [
        "Veamos cuantos cluster detecto y cuantos clientes tiene cada uno"
      ]
    },
    {
      "cell_type": "code",
      "execution_count": 14,
      "metadata": {
        "colab": {
          "base_uri": "https://localhost:8080/",
          "height": 429
        },
        "id": "oYA4-CLXtGxa",
        "outputId": "55c14c45-6193-4f60-aadb-e3fccaa87b26"
      },
      "outputs": [
        {
          "data": {
            "text/plain": [
              " 6     872\n",
              " 2     597\n",
              " 5     564\n",
              " 0     463\n",
              " 4     426\n",
              " 1     333\n",
              " 8     276\n",
              " 3     265\n",
              " 10    158\n",
              " 7      97\n",
              " 9      64\n",
              " 11     34\n",
              "-1      16\n",
              " 12     11\n",
              "Name: count, dtype: int64"
            ]
          },
          "execution_count": 14,
          "metadata": {},
          "output_type": "execute_result"
        }
      ],
      "source": [
        "pd.Series(y.labels_).value_counts()"
      ]
    },
    {
      "cell_type": "markdown",
      "metadata": {
        "id": "qDcWrYG94sGq"
      },
      "source": [
        "Los que tienen -1, son considerados outliers."
      ]
    },
    {
      "cell_type": "markdown",
      "metadata": {
        "id": "O4kSLegC4wXT"
      },
      "source": [
        "Por último necesitamos alguna forma de saber que hace a cada cluster distinto del otro. Para esto utilizaremos modelos (**rf**) que buscan separar los cluster uno a uno del resto de los datos.\n",
        "\n",
        "Por cada modelo, miraremos cuales son las variables más importantes que separan los datos para luego caracterizarlos:\n",
        "\n",
        "Manos a la obra:"
      ]
    },
    {
      "cell_type": "code",
      "execution_count": 15,
      "metadata": {
        "id": "JNAspxcDNsJO"
      },
      "outputs": [],
      "source": [
        "df_embedding = pd.DataFrame(embedding_rf, columns=['embedding_1', 'embedding_2'])\n",
        "df_embedding['cluster'] = y.labels_\n",
        "\n",
        "clusters = df_embedding['cluster'].unique()\n",
        "\n",
        "important_features_by_cluster = {}\n",
        "\n",
        "for cluster in clusters:\n",
        "  y_binary = (df_embedding['cluster'] == cluster).astype(int)\n",
        "\n",
        "  model = RandomForestClassifier(random_state=17)\n",
        "  model.fit(Xtrain_rf_imp, y_binary)\n",
        "\n",
        "  importances = model.feature_importances_\n",
        "  feature_names = Xtrain_rf.columns\n",
        "\n",
        "  indices = np.argsort(importances)[::-1]\n",
        "  important_features_by_cluster[cluster] = [feature_names[i] for i in indices]"
      ]
    },
    {
      "cell_type": "markdown",
      "metadata": {
        "id": "y7Mz0fa35llh"
      },
      "source": [
        "Y exploramos cuales son las variables importantes por cada cluster"
      ]
    },
    {
      "cell_type": "code",
      "execution_count": 16,
      "metadata": {
        "colab": {
          "base_uri": "https://localhost:8080/"
        },
        "id": "TXC_cFv45mO5",
        "outputId": "e8c852a3-bc84-42b8-9c61-865b61eb3094"
      },
      "outputs": [
        {
          "name": "stdout",
          "output_type": "stream",
          "text": [
            "Cluster 0 vs. Resto:\n",
            "  - ctrx_quarter\n",
            "  - mpayroll\n",
            "  - cpayroll_trx\n",
            "  - mpasivos_margen\n",
            "  - ctarjeta_debito_transacciones\n",
            "Cluster 1 vs. Resto:\n",
            "  - mautoservicio\n",
            "  - ctarjeta_debito_transacciones\n",
            "  - mpasivos_margen\n",
            "  - ctrx_quarter\n",
            "  - mpayroll\n",
            "Cluster 2 vs. Resto:\n",
            "  - cpayroll_trx\n",
            "  - mpayroll\n",
            "  - mautoservicio\n",
            "  - mtarjeta_visa_consumo\n",
            "  - Visa_msaldototal\n",
            "Cluster 3 vs. Resto:\n",
            "  - mpasivos_margen\n",
            "  - ctrx_quarter\n",
            "  - mcaja_ahorro\n",
            "  - mcuentas_saldo\n",
            "  - mautoservicio\n",
            "Cluster 4 vs. Resto:\n",
            "  - mautoservicio\n",
            "  - cpayroll_trx\n",
            "  - mpayroll\n",
            "  - ctarjeta_debito_transacciones\n",
            "  - mtarjeta_visa_consumo\n",
            "Cluster 5 vs. Resto:\n",
            "  - ctarjeta_visa\n",
            "  - ctarjeta_master\n",
            "  - mpasivos_margen\n",
            "  - cproductos\n",
            "  - ctrx_quarter\n",
            "Cluster 6 vs. Resto:\n",
            "  - mpasivos_margen\n",
            "  - ctrx_quarter\n",
            "  - Visa_mpagominimo\n",
            "  - Visa_msaldototal\n",
            "  - Visa_msaldopesos\n",
            "Cluster 7 vs. Resto:\n",
            "  - mpasivos_margen\n",
            "  - mpayroll\n",
            "  - cpayroll_trx\n",
            "  - mcaja_ahorro\n",
            "  - ctarjeta_visa_transacciones\n",
            "Cluster 8 vs. Resto:\n",
            "  - mpayroll\n",
            "  - Visa_msaldopesos\n",
            "  - Visa_msaldototal\n",
            "  - cpayroll_trx\n",
            "  - mtarjeta_visa_consumo\n",
            "Cluster 9 vs. Resto:\n",
            "  - ctrx_quarter\n",
            "  - mautoservicio\n",
            "  - ctarjeta_debito_transacciones\n",
            "  - cliente_antiguedad\n",
            "  - mpasivos_margen\n",
            "Cluster 10 vs. Resto:\n",
            "  - ctarjeta_debito_transacciones\n",
            "  - mautoservicio\n",
            "  - mpayroll\n",
            "  - cpayroll_trx\n",
            "  - mpasivos_margen\n",
            "Cluster 11 vs. Resto:\n",
            "  - Visa_status\n",
            "  - Visa_mfinanciacion_limite\n",
            "  - Visa_msaldototal\n",
            "  - mpasivos_margen\n",
            "  - ctarjeta_visa\n",
            "Cluster -1 vs. Resto:\n",
            "  - Master_Fvencimiento\n",
            "  - cliente_edad\n",
            "  - Visa_fechaalta\n",
            "  - ctrx_quarter\n",
            "  - mrentabilidad_annual\n",
            "Cluster 12 vs. Resto:\n",
            "  - mcaja_ahorro\n",
            "  - ctrx_quarter\n",
            "  - mpasivos_margen\n",
            "  - numero_de_cliente\n",
            "  - Master_fechaalta\n"
          ]
        }
      ],
      "source": [
        "for cluster, features in important_features_by_cluster.items():\n",
        "  print(f\"Cluster {cluster} vs. Resto:\")\n",
        "  for feature in features[:5]:\n",
        "    print(f\"  - {feature}\")\n"
      ]
    },
    {
      "cell_type": "markdown",
      "metadata": {
        "id": "h5WHCJDw53Pa"
      },
      "source": [
        "Luego resta, analizar los estadísticos de los datos de cada cluster para las variables importantes, comparar sus distribuciones con histogramas, boxplots, pivot tables, etc.\n"
      ]
    },
    {
      "cell_type": "markdown",
      "metadata": {
        "id": "Th9-1pcqMZeG"
      },
      "source": [
        "Junto con el diccionaro de datos, de sentido a lo que ve a través del análisis multivariado de datos.\n",
        "\n",
        "Obviamente, esto es apenas mas que una semilla. Agregue las variables históricas, juegue con los **rf** y genere una segmentación pro, que encante a Miranda\n"
      ]
    }
  ],
  "metadata": {
    "colab": {
      "provenance": []
    },
    "kernelspec": {
      "display_name": "Python 3",
      "name": "python3"
    },
    "language_info": {
      "codemirror_mode": {
        "name": "ipython",
        "version": 3
      },
      "file_extension": ".py",
      "mimetype": "text/x-python",
      "name": "python",
      "nbconvert_exporter": "python",
      "pygments_lexer": "ipython3",
      "version": "3.11.9"
    }
  },
  "nbformat": 4,
  "nbformat_minor": 0
}
