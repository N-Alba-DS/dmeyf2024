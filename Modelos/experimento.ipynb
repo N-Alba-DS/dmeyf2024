{
 "cells": [
  {
   "cell_type": "markdown",
   "metadata": {},
   "source": [
    "## Librerías"
   ]
  },
  {
   "cell_type": "code",
   "execution_count": 1,
   "metadata": {},
   "outputs": [
    {
     "name": "stdout",
     "output_type": "stream",
     "text": [
      "Requirement already satisfied: shap in c:\\users\\admin\\.conda\\envs\\datascience\\lib\\site-packages (0.46.0)\n",
      "Requirement already satisfied: numpy in c:\\users\\admin\\.conda\\envs\\datascience\\lib\\site-packages (from shap) (1.26.4)\n",
      "Requirement already satisfied: scipy in c:\\users\\admin\\.conda\\envs\\datascience\\lib\\site-packages (from shap) (1.14.0)\n",
      "Requirement already satisfied: scikit-learn in c:\\users\\admin\\.conda\\envs\\datascience\\lib\\site-packages (from shap) (1.5.1)\n",
      "Requirement already satisfied: pandas in c:\\users\\admin\\.conda\\envs\\datascience\\lib\\site-packages (from shap) (2.2.2)\n",
      "Requirement already satisfied: tqdm>=4.27.0 in c:\\users\\admin\\.conda\\envs\\datascience\\lib\\site-packages (from shap) (4.66.4)\n",
      "Requirement already satisfied: packaging>20.9 in c:\\users\\admin\\.conda\\envs\\datascience\\lib\\site-packages (from shap) (24.1)\n",
      "Requirement already satisfied: slicer==0.0.8 in c:\\users\\admin\\.conda\\envs\\datascience\\lib\\site-packages (from shap) (0.0.8)\n",
      "Requirement already satisfied: numba in c:\\users\\admin\\.conda\\envs\\datascience\\lib\\site-packages (from shap) (0.60.0)\n",
      "Requirement already satisfied: cloudpickle in c:\\users\\admin\\.conda\\envs\\datascience\\lib\\site-packages (from shap) (3.1.0)\n",
      "Requirement already satisfied: colorama in c:\\users\\admin\\.conda\\envs\\datascience\\lib\\site-packages (from tqdm>=4.27.0->shap) (0.4.6)\n",
      "Requirement already satisfied: llvmlite<0.44,>=0.43.0dev0 in c:\\users\\admin\\.conda\\envs\\datascience\\lib\\site-packages (from numba->shap) (0.43.0)\n",
      "Requirement already satisfied: python-dateutil>=2.8.2 in c:\\users\\admin\\.conda\\envs\\datascience\\lib\\site-packages (from pandas->shap) (2.9.0.post0)\n",
      "Requirement already satisfied: pytz>=2020.1 in c:\\users\\admin\\.conda\\envs\\datascience\\lib\\site-packages (from pandas->shap) (2024.1)\n",
      "Requirement already satisfied: tzdata>=2022.7 in c:\\users\\admin\\.conda\\envs\\datascience\\lib\\site-packages (from pandas->shap) (2023.3)\n",
      "Requirement already satisfied: joblib>=1.2.0 in c:\\users\\admin\\.conda\\envs\\datascience\\lib\\site-packages (from scikit-learn->shap) (1.4.2)\n",
      "Requirement already satisfied: threadpoolctl>=3.1.0 in c:\\users\\admin\\.conda\\envs\\datascience\\lib\\site-packages (from scikit-learn->shap) (3.5.0)\n",
      "Requirement already satisfied: six>=1.5 in c:\\users\\admin\\.conda\\envs\\datascience\\lib\\site-packages (from python-dateutil>=2.8.2->pandas->shap) (1.16.0)\n"
     ]
    }
   ],
   "source": [
    "!pip install shap"
   ]
  },
  {
   "cell_type": "code",
   "execution_count": 2,
   "metadata": {},
   "outputs": [],
   "source": [
    "import pandas as pd\n",
    "import numpy as np\n",
    "import seaborn as sns\n",
    "import matplotlib.pyplot as plt\n",
    "import itertools\n",
    "import plotly.express as px\n",
    "import plotly.graph_objects as go\n",
    "from plotly.subplots import make_subplots\n",
    "import lightgbm as lgb\n",
    "\n",
    "\n",
    "\n",
    "\n",
    "from sklearn.ensemble import RandomForestClassifier\n",
    "from sklearn.tree import DecisionTreeClassifier, plot_tree,  _tree\n",
    "from sklearn.model_selection import train_test_split\n",
    "from sklearn.model_selection import ShuffleSplit, StratifiedShuffleSplit\n",
    "from sklearn.metrics import f1_score\n",
    "\n",
    "from umap import UMAP\n",
    "import matplotlib.pyplot as plt\n",
    "from sklearn.cluster import DBSCAN\n",
    "from sklearn.ensemble import  RandomForestClassifier\n",
    "from sklearn.impute import SimpleImputer\n",
    "from joblib import Parallel, delayed\n",
    "from time import time\n",
    "import duckdb\n",
    "# %load_ext sql\n",
    "# %config SqlMagic.autopandas = True\n",
    "# %config SqlMagic.feedback = False\n",
    "# %config SqlMagic.displaycon = False\n",
    "# %sql duckdb:///:memory:\n",
    "import time\n",
    "import optuna\n",
    "from optuna.study import MaxTrialsCallback\n",
    "from optuna.trial import TrialState\n",
    "\n",
    "from optuna.visualization import plot_param_importances, plot_contour,  plot_slice, plot_optimization_history\n",
    "import plotly.express as px\n",
    "import shap\n",
    "import os\n",
    "\n",
    "import kaggle \n",
    "import glob\n",
    "\n"
   ]
  },
  {
   "cell_type": "code",
   "execution_count": 3,
   "metadata": {},
   "outputs": [],
   "source": [
    "from kaggle.api.kaggle_api_extended import KaggleApi\n",
    "api = KaggleApi()\n",
    "api.authenticate()"
   ]
  },
  {
   "cell_type": "code",
   "execution_count": 4,
   "metadata": {},
   "outputs": [],
   "source": [
    "semillas =[ 400009,  500009,  600011,  700021,  800021]"
   ]
  },
  {
   "cell_type": "code",
   "execution_count": 5,
   "metadata": {},
   "outputs": [],
   "source": [
    "\n",
    "ganancia_acierto = 273000\n",
    "costo_estimulo = 7000\n",
    "\n",
    "mes_train = 202104\n",
    "mes_test = 202106\n"
   ]
  },
  {
   "cell_type": "code",
   "execution_count": 7,
   "metadata": {},
   "outputs": [
    {
     "ename": "NameError",
     "evalue": "name 'df_train' is not defined",
     "output_type": "error",
     "traceback": [
      "\u001b[1;31m---------------------------------------------------------------------------\u001b[0m",
      "\u001b[1;31mNameError\u001b[0m                                 Traceback (most recent call last)",
      "Cell \u001b[1;32mIn[7], line 3\u001b[0m\n\u001b[0;32m      1\u001b[0m \u001b[38;5;66;03m# sacadas por data drifting\u001b[39;00m\n\u001b[1;32m----> 3\u001b[0m df_train \u001b[38;5;241m=\u001b[39m df_train\u001b[38;5;241m.\u001b[39mdrop(columns\u001b[38;5;241m=\u001b[39m[\u001b[38;5;124m'\u001b[39m\u001b[38;5;124mcprestamos_personales\u001b[39m\u001b[38;5;124m'\u001b[39m,\u001b[38;5;124m'\u001b[39m\u001b[38;5;124mmprestamos_personales\u001b[39m\u001b[38;5;124m'\u001b[39m,\u001b[38;5;124m'\u001b[39m\u001b[38;5;124mMaster_fultimo_cierre\u001b[39m\u001b[38;5;124m'\u001b[39m,\u001b[38;5;124m'\u001b[39m\u001b[38;5;124mVisa_fultimo_cierre\u001b[39m\u001b[38;5;124m'\u001b[39m])\n",
      "\u001b[1;31mNameError\u001b[0m: name 'df_train' is not defined"
     ]
    }
   ],
   "source": [
    "# sacadas por data drifting\n",
    "\n",
    "df_train = df_train.drop(columns=['cprestamos_personales','mprestamos_personales','Master_fultimo_cierre','Visa_fultimo_cierre'])"
   ]
  },
  {
   "cell_type": "code",
   "execution_count": 15,
   "metadata": {},
   "outputs": [],
   "source": [
    "df_gbm = df_train.copy() "
   ]
  },
  {
   "cell_type": "code",
   "execution_count": 16,
   "metadata": {},
   "outputs": [],
   "source": [
    "df_gbm['clase_binaria1'] = 0\n",
    "df_gbm['clase_binaria2'] = 0\n",
    "df_gbm['clase_binaria1'] = np.where(df_gbm['clase_ternaria'] == 'BAJA+2', 1, 0)\n",
    "df_gbm['clase_binaria2'] = np.where(df_gbm['clase_ternaria'] == 'CONTINUA', 0, 1)"
   ]
  },
  {
   "cell_type": "code",
   "execution_count": 17,
   "metadata": {},
   "outputs": [],
   "source": [
    "df_gbm['clase_peso'] = 1.0\n",
    "\n",
    "df_gbm.loc[df_gbm['clase_ternaria'] == 'BAJA+2', 'clase_peso'] = 1.00002\n",
    "df_gbm.loc[df_gbm['clase_ternaria'] == 'BAJA+1', 'clase_peso'] = 1.00001"
   ]
  },
  {
   "cell_type": "code",
   "execution_count": 18,
   "metadata": {},
   "outputs": [],
   "source": [
    "train_data = df_gbm[df_gbm['foto_mes'] == mes_train]\n",
    "test_data = df_gbm[df_gbm['foto_mes'] == mes_test]\n",
    "\n",
    "X_train = train_data.drop(['clase_ternaria', 'clase_peso', 'clase_binaria1','clase_binaria2'], axis=1)\n",
    "y_train_binaria1 = train_data['clase_binaria1']\n",
    "y_train_binaria2 = train_data['clase_binaria2']\n",
    "w_train = train_data['clase_peso']\n",
    "\n",
    "X_test = test_data.drop(['clase_ternaria', 'clase_peso', 'clase_binaria1','clase_binaria2'], axis=1)\n",
    "y_test_binaria1 = test_data['clase_binaria1']\n",
    "y_test_class = test_data['clase_ternaria']\n",
    "w_test = test_data['clase_peso']"
   ]
  },
  {
   "cell_type": "code",
   "execution_count": 19,
   "metadata": {},
   "outputs": [],
   "source": [
    "def lgb_gan_eval(y_pred, data):\n",
    "    weight = data.get_weight()\n",
    "    ganancia = np.where(weight == 1.00002, ganancia_acierto, 0) - np.where(weight < 1.00002, costo_estimulo, 0)\n",
    "    ganancia = ganancia[np.argsort(y_pred)[::-1]]\n",
    "    ganancia = np.cumsum(ganancia)\n",
    "\n",
    "    return 'gan_eval', np.max(ganancia) , True\n",
    "\n",
    "# Parámetros del modelos.\n",
    "params = {\n",
    "    'objective': 'binary',\n",
    "    'metric': 'gan_eval',\n",
    "    'boosting_type': 'gbdt',\n",
    "    'max_bin': 31,\n",
    "    'num_leaves': 31,\n",
    "    'learning_rate': 0.01,\n",
    "    'feature_fraction': 0.3,\n",
    "    'bagging_fraction': 0.7,\n",
    "    'verbose': 0\n",
    "}"
   ]
  },
  {
   "cell_type": "code",
   "execution_count": 20,
   "metadata": {},
   "outputs": [],
   "source": [
    "train_data1 = lgb.Dataset(X_train, label=y_train_binaria1, weight=w_train )\n",
    "train_data2 = lgb.Dataset(X_train, label=y_train_binaria2, weight=w_train )"
   ]
  },
  {
   "cell_type": "code",
   "execution_count": 21,
   "metadata": {},
   "outputs": [],
   "source": [
    "cv_results1 = lgb.cv(\n",
    "    params,\n",
    "    train_data1,\n",
    "    num_boost_round=150,\n",
    "    feval=lgb_gan_eval,\n",
    "    nfold=5,\n",
    "    seed=semillas[0]\n",
    ")\n",
    "\n",
    "cv_results2 = lgb.cv(\n",
    "    params,\n",
    "    train_data2,\n",
    "    num_boost_round=150,\n",
    "    feval=lgb_gan_eval,\n",
    "    nfold=5,\n",
    "    seed=semillas[0]\n",
    ")"
   ]
  },
  {
   "cell_type": "code",
   "execution_count": 577,
   "metadata": {},
   "outputs": [
    {
     "data": {
      "image/png": "[encoded data removed]",
      "text/plain": [
       "<Figure size 1000x600 with 1 Axes>"
      ]
     },
     "metadata": {},
     "output_type": "display_data"
    }
   ],
   "source": [
    "df_ganancias = pd.DataFrame({\n",
    "    'binaria1': cv_results1['valid gan_eval-mean'],\n",
    "    'binaria2': cv_results2['valid gan_eval-mean'],\n",
    "    'Iteracion': range(1, len(cv_results1['valid gan_eval-mean']) + 1)\n",
    "})\n",
    "\n",
    "# Normalizamos la ganancias\n",
    "df_ganancias['binaria1'] = df_ganancias['binaria1']*5\n",
    "df_ganancias['binaria2'] = df_ganancias['binaria2']*5\n",
    "\n",
    "plt.figure(figsize=(10, 6))\n",
    "sns.lineplot(x='Iteracion', y='binaria1', data=df_ganancias, label='binaria 1')\n",
    "sns.lineplot(x='Iteracion', y='binaria2', data=df_ganancias, label='binaria 2')\n",
    "plt.title('Comparación de las Ganancias de las 2 clases binarias')\n",
    "plt.xlabel('Iteración')\n",
    "plt.ylabel('Ganancia')\n",
    "plt.legend()\n",
    "plt.show()"
   ]
  },
  {
   "cell_type": "markdown",
   "metadata": {},
   "source": [
    "# Experimento"
   ]
  },
  {
   "cell_type": "code",
   "execution_count": 8,
   "metadata": {},
   "outputs": [],
   "source": [
    "df_train = pd.read_csv(r\"C:\\Users\\Admin\\Documents\\1_Notebook\\1_Estudio\\1_UBA_Maestria_DS\\1_Especializacion\\1_Segundo_Semestre\\DMEyF\\Git\\dmeyf2024\\datasets\\competencia_01.csv\")"
   ]
  },
  {
   "cell_type": "code",
   "execution_count": 9,
   "metadata": {},
   "outputs": [],
   "source": [
    "df_train['clase_peso'] = 1.0\n",
    "df_train.loc[df_train['clase_ternaria'] == 'BAJA+2', 'clase_peso'] = 1.00002\n",
    "df_train.loc[df_train['clase_ternaria'] == 'BAJA+1', 'clase_peso'] = 1.00001"
   ]
  },
  {
   "cell_type": "code",
   "execution_count": 10,
   "metadata": {},
   "outputs": [],
   "source": [
    "def lgb_gan_eval(y_pred, data):\n",
    "    weight = data.get_weight()\n",
    "    ganancia = np.where(weight == 1.00002, ganancia_acierto, 0) - np.where(weight < 1.00002, costo_estimulo, 0)\n",
    "    ganancia = ganancia[np.argsort(y_pred)[::-1]]\n",
    "    ganancia = np.cumsum(ganancia)\n",
    "\n",
    "    return 'gan_eval', np.max(ganancia) , True"
   ]
  },
  {
   "cell_type": "code",
   "execution_count": 12,
   "metadata": {},
   "outputs": [
    {
     "data": {
      "text/plain": [
       "clase_ternaria\n",
       "CONTINUA    645039\n",
       "BAJA+1      169504\n",
       "BAJA+2      167403\n",
       "Name: count, dtype: int64"
      ]
     },
     "execution_count": 12,
     "metadata": {},
     "output_type": "execute_result"
    }
   ],
   "source": [
    "df_train['clase_ternaria'].value_counts()"
   ]
  },
  {
   "cell_type": "code",
   "execution_count": 18,
   "metadata": {},
   "outputs": [],
   "source": [
    "df_train['clase_binaria'] = np.where(df_train['clase_ternaria']=='CONTINUA', 0, 1)"
   ]
  },
  {
   "cell_type": "code",
   "execution_count": 19,
   "metadata": {},
   "outputs": [],
   "source": [
    "f_test = df_train.query('foto_mes == 202106')\n",
    "df_test = df_train.loc[f_test.index, : ]\n"
   ]
  },
  {
   "cell_type": "code",
   "execution_count": 20,
   "metadata": {},
   "outputs": [],
   "source": [
    "clase_peso = df_train['clase_peso']\n",
    "X_train = df_train.drop(['clase_ternaria', 'clase_binaria', 'clase_peso'], axis=1)\n",
    "Y_train =df_train['clase_binaria']\n",
    "X_test = df_test.drop(['clase_ternaria', 'clase_binaria', 'clase_peso'], axis=1)\n",
    "Y_test =df_test['clase_binaria']"
   ]
  },
  {
   "cell_type": "code",
   "execution_count": 21,
   "metadata": {},
   "outputs": [
    {
     "name": "stderr",
     "output_type": "stream",
     "text": [
      "[I 2024-11-01 21:28:48,620] Using an existing study with name 'experimento_trazas_data' instead of creating a new one.\n",
      "[I 2024-11-01 21:28:48,656] Using an existing study with name 'experimento_trazas_data' instead of creating a new one.\n",
      "[I 2024-11-01 21:30:08,362] Trial 5 finished with value: 10737355816.0 and parameters: {'num_leaves': 38, 'learning_rate': 0.13480169325383795, 'min_data_in_leaf': 367, 'feature_fraction': 0.7406579782085484, 'bagging_fraction': 0.1415544063764994}. Best is trial 5 with value: 10737355816.0.\n",
      "[I 2024-11-01 21:31:43,541] Trial 6 finished with value: 10737334816.0 and parameters: {'num_leaves': 52, 'learning_rate': 0.2986074479471136, 'min_data_in_leaf': 516, 'feature_fraction': 0.5825533658887233, 'bagging_fraction': 0.2721351382597599}. Best is trial 5 with value: 10737355816.0.\n",
      "[I 2024-11-01 21:33:34,686] Trial 7 finished with value: 10737313816.0 and parameters: {'num_leaves': 97, 'learning_rate': 0.04707759144417927, 'min_data_in_leaf': 159, 'feature_fraction': 0.8190774698305657, 'bagging_fraction': 0.18977186848046362}. Best is trial 5 with value: 10737355816.0.\n",
      "[I 2024-11-01 21:35:42,356] Trial 8 finished with value: 10737350520.0 and parameters: {'num_leaves': 97, 'learning_rate': 0.09218731833686232, 'min_data_in_leaf': 1258, 'feature_fraction': 0.5291733839120756, 'bagging_fraction': 0.25252820271850684}. Best is trial 5 with value: 10737355816.0.\n",
      "[I 2024-11-01 21:37:45,731] Trial 9 finished with value: 10737329704.0 and parameters: {'num_leaves': 95, 'learning_rate': 0.10965860905178297, 'min_data_in_leaf': 409, 'feature_fraction': 0.34721884969514083, 'bagging_fraction': 0.8953816113852368}. Best is trial 5 with value: 10737355816.0.\n",
      "[I 2024-11-01 21:38:43,546] Trial 10 finished with value: 10737326112.0 and parameters: {'num_leaves': 12, 'learning_rate': 0.02439459121624382, 'min_data_in_leaf': 213, 'feature_fraction': 0.8605483335760041, 'bagging_fraction': 0.26783082570148076}. Best is trial 5 with value: 10737355816.0.\n",
      "[I 2024-11-01 21:40:00,959] Trial 11 finished with value: 10737315704.0 and parameters: {'num_leaves': 33, 'learning_rate': 0.18167786240534894, 'min_data_in_leaf': 1717, 'feature_fraction': 0.9937147151621906, 'bagging_fraction': 0.5618450519447655}. Best is trial 5 with value: 10737355816.0.\n",
      "[I 2024-11-01 21:41:53,953] Trial 12 finished with value: 10737364704.0 and parameters: {'num_leaves': 72, 'learning_rate': 0.07707909451321053, 'min_data_in_leaf': 1368, 'feature_fraction': 0.592090759349519, 'bagging_fraction': 0.4544945403095783}. Best is trial 12 with value: 10737364704.0.\n",
      "[I 2024-11-01 21:43:40,310] Trial 13 finished with value: 10737347112.0 and parameters: {'num_leaves': 66, 'learning_rate': 0.06461641683490371, 'min_data_in_leaf': 1452, 'feature_fraction': 0.6050957557553422, 'bagging_fraction': 0.4687368418087484}. Best is trial 12 with value: 10737364704.0.\n",
      "[I 2024-11-01 21:45:22,363] Trial 14 finished with value: 10737334816.0 and parameters: {'num_leaves': 67, 'learning_rate': 0.15697981411801015, 'min_data_in_leaf': 826, 'feature_fraction': 0.6603769112475922, 'bagging_fraction': 0.4595903062337104}. Best is trial 12 with value: 10737364704.0.\n",
      "[I 2024-11-01 21:47:22,127] Trial 15 finished with value: 10737343704.0 and parameters: {'num_leaves': 73, 'learning_rate': 0.011466825422970423, 'min_data_in_leaf': 1464, 'feature_fraction': 0.45355237704363077, 'bagging_fraction': 0.6989016141743514}. Best is trial 12 with value: 10737364704.0.\n",
      "[I 2024-11-01 21:48:39,212] Trial 16 finished with value: 10737326112.0 and parameters: {'num_leaves': 28, 'learning_rate': 0.08447044052249493, 'min_data_in_leaf': 1173, 'feature_fraction': 0.9216857776743228, 'bagging_fraction': 0.3999545580591492}. Best is trial 12 with value: 10737364704.0.\n",
      "[I 2024-11-01 21:50:09,032] Trial 17 finished with value: 10737396112.0 and parameters: {'num_leaves': 51, 'learning_rate': 0.13870336045994874, 'min_data_in_leaf': 776, 'feature_fraction': 0.7119923826207131, 'bagging_fraction': 0.627883478400356}. Best is trial 17 with value: 10737396112.0.\n",
      "[I 2024-11-01 21:51:52,823] Trial 18 finished with value: 10737298112.0 and parameters: {'num_leaves': 52, 'learning_rate': 0.22553227725537262, 'min_data_in_leaf': 728, 'feature_fraction': 0.45990503464562227, 'bagging_fraction': 0.6534809277867945}. Best is trial 17 with value: 10737396112.0.\n",
      "[I 2024-11-01 21:53:42,646] Trial 19 finished with value: 10737340112.0 and parameters: {'num_leaves': 76, 'learning_rate': 0.16136737396575684, 'min_data_in_leaf': 1559, 'feature_fraction': 0.6736634404514085, 'bagging_fraction': 0.6374070816287293}. Best is trial 17 with value: 10737396112.0.\n",
      "[I 2024-11-01 21:55:25,391] Trial 20 finished with value: 10737319112.0 and parameters: {'num_leaves': 60, 'learning_rate': 0.07117279166075681, 'min_data_in_leaf': 1261, 'feature_fraction': 0.11235128473586331, 'bagging_fraction': 0.99215489070855}. Best is trial 17 with value: 10737396112.0.\n",
      "[I 2024-11-01 21:57:08,940] Trial 21 finished with value: 10737298112.0 and parameters: {'num_leaves': 46, 'learning_rate': 0.04367007026100227, 'min_data_in_leaf': 691, 'feature_fraction': 0.356174018937793, 'bagging_fraction': 0.7890741072049408}. Best is trial 17 with value: 10737396112.0.\n",
      "[I 2024-11-01 21:58:27,253] Trial 22 finished with value: 10737352408.0 and parameters: {'num_leaves': 27, 'learning_rate': 0.12507290731152743, 'min_data_in_leaf': 71, 'feature_fraction': 0.6756431861961122, 'bagging_fraction': 0.5761658286558523}. Best is trial 17 with value: 10737396112.0.\n",
      "[I 2024-11-01 21:59:54,475] Trial 23 finished with value: 10737354112.0 and parameters: {'num_leaves': 41, 'learning_rate': 0.13721059995508023, 'min_data_in_leaf': 1979, 'feature_fraction': 0.7322667382029517, 'bagging_fraction': 0.40925119245363606}. Best is trial 17 with value: 10737396112.0.\n",
      "[I 2024-11-01 22:01:42,360] Trial 24 finished with value: 10737341816.0 and parameters: {'num_leaves': 59, 'learning_rate': 0.10139842736525562, 'min_data_in_leaf': 312, 'feature_fraction': 0.5077183683634021, 'bagging_fraction': 0.3429146168458559}. Best is trial 17 with value: 10737396112.0.\n",
      "[I 2024-11-01 22:03:29,244] Trial 25 finished with value: 10737385704.0 and parameters: {'num_leaves': 81, 'learning_rate': 0.18058561036796195, 'min_data_in_leaf': 597, 'feature_fraction': 0.8549156051329538, 'bagging_fraction': 0.1095701202038531}. Best is trial 17 with value: 10737396112.0.\n",
      "[I 2024-11-01 22:05:12,703] Trial 26 finished with value: 10737333112.0 and parameters: {'num_leaves': 80, 'learning_rate': 0.18990627885838082, 'min_data_in_leaf': 1010, 'feature_fraction': 0.9013235596249068, 'bagging_fraction': 0.7533911327651187}. Best is trial 17 with value: 10737396112.0.\n",
      "[I 2024-11-01 22:06:58,699] Trial 27 finished with value: 10737352408.0 and parameters: {'num_leaves': 84, 'learning_rate': 0.21530046703258615, 'min_data_in_leaf': 594, 'feature_fraction': 0.8452380393400503, 'bagging_fraction': 0.4987615655441203}. Best is trial 17 with value: 10737396112.0.\n",
      "[I 2024-11-01 22:08:40,812] Trial 28 finished with value: 10737352408.0 and parameters: {'num_leaves': 69, 'learning_rate': 0.2597929583211259, 'min_data_in_leaf': 879, 'feature_fraction': 0.6225055276109134, 'bagging_fraction': 0.10906364551097684}. Best is trial 17 with value: 10737396112.0.\n",
      "[I 2024-11-01 22:10:15,511] Trial 29 finished with value: 10737331408.0 and parameters: {'num_leaves': 60, 'learning_rate': 0.1653240885750269, 'min_data_in_leaf': 1125, 'feature_fraction': 0.9973898859436805, 'bagging_fraction': 0.6178808445456565}. Best is trial 17 with value: 10737396112.0.\n",
      "[I 2024-11-01 22:12:13,838] Trial 30 finished with value: 10737338408.0 and parameters: {'num_leaves': 81, 'learning_rate': 0.1213032346867005, 'min_data_in_leaf': 941, 'feature_fraction': 0.273635968173039, 'bagging_fraction': 0.37118045108142994}. Best is trial 17 with value: 10737396112.0.\n",
      "[I 2024-11-01 22:14:08,145] Trial 31 finished with value: 10737362816.0 and parameters: {'num_leaves': 73, 'learning_rate': 0.17863271262004526, 'min_data_in_leaf': 719, 'feature_fraction': 0.4169258850685938, 'bagging_fraction': 0.5152041303179419}. Best is trial 17 with value: 10737396112.0.\n",
      "[I 2024-11-01 22:16:19,194] Trial 32 finished with value: 10737368112.0 and parameters: {'num_leaves': 90, 'learning_rate': 0.17512018154112133, 'min_data_in_leaf': 633, 'feature_fraction': 0.42104205110337384, 'bagging_fraction': 0.49880055927263073}. Best is trial 17 with value: 10737396112.0.\n",
      "[I 2024-11-01 22:18:23,560] Trial 33 finished with value: 10737312112.0 and parameters: {'num_leaves': 90, 'learning_rate': 0.21067828830848614, 'min_data_in_leaf': 598, 'feature_fraction': 0.530527373584618, 'bagging_fraction': 0.6887193801925482}. Best is trial 17 with value: 10737396112.0.\n",
      "[W 2024-11-01 22:20:03,180] Trial 34 failed with parameters: {'num_leaves': 91, 'learning_rate': 0.14671799434129074, 'min_data_in_leaf': 1055, 'feature_fraction': 0.7851299307421736, 'bagging_fraction': 0.5762310084478715} because of the following error: KeyboardInterrupt().\n",
      "Traceback (most recent call last):\n",
      "  File \"c:\\Users\\Admin\\.conda\\envs\\datascience\\Lib\\site-packages\\optuna\\study\\_optimize.py\", line 196, in _run_trial\n",
      "    value_or_values = func(trial)\n",
      "                      ^^^^^^^^^^^\n",
      "  File \"C:\\Users\\Admin\\AppData\\Local\\Temp\\ipykernel_21988\\3573749863.py\", line 33, in objective\n",
      "    cv_results = lgb.cv(\n",
      "                 ^^^^^^^\n",
      "  File \"c:\\Users\\Admin\\.conda\\envs\\datascience\\Lib\\site-packages\\lightgbm\\engine.py\", line 826, in cv\n",
      "    cvfolds.update(fobj=fobj)  # type: ignore[call-arg]\n",
      "    ^^^^^^^^^^^^^^^^^^^^^^^^^\n",
      "  File \"c:\\Users\\Admin\\.conda\\envs\\datascience\\Lib\\site-packages\\lightgbm\\engine.py\", line 402, in handler_function\n",
      "    ret.append(getattr(booster, name)(*args, **kwargs))\n",
      "               ^^^^^^^^^^^^^^^^^^^^^^^^^^^^^^^^^^^^^^^\n",
      "  File \"c:\\Users\\Admin\\.conda\\envs\\datascience\\Lib\\site-packages\\lightgbm\\basic.py\", line 4126, in update\n",
      "    _LIB.LGBM_BoosterUpdateOneIter(\n",
      "KeyboardInterrupt\n",
      "[W 2024-11-01 22:20:03,183] Trial 34 failed with value None.\n"
     ]
    },
    {
     "ename": "KeyboardInterrupt",
     "evalue": "",
     "output_type": "error",
     "traceback": [
      "\u001b[1;31m---------------------------------------------------------------------------\u001b[0m",
      "\u001b[1;31mKeyboardInterrupt\u001b[0m                         Traceback (most recent call last)",
      "Cell \u001b[1;32mIn[21], line 105\u001b[0m\n\u001b[0;32m     97\u001b[0m study \u001b[38;5;241m=\u001b[39m optuna\u001b[38;5;241m.\u001b[39mcreate_study(\n\u001b[0;32m     98\u001b[0m     direction\u001b[38;5;241m=\u001b[39m\u001b[38;5;124m\"\u001b[39m\u001b[38;5;124mmaximize\u001b[39m\u001b[38;5;124m\"\u001b[39m,\n\u001b[0;32m     99\u001b[0m     study_name\u001b[38;5;241m=\u001b[39mstudy_name,\n\u001b[0;32m    100\u001b[0m     storage\u001b[38;5;241m=\u001b[39mstorage_name,\n\u001b[0;32m    101\u001b[0m     load_if_exists\u001b[38;5;241m=\u001b[39m\u001b[38;5;28;01mTrue\u001b[39;00m,\n\u001b[0;32m    102\u001b[0m )\n\u001b[0;32m    104\u001b[0m \u001b[38;5;66;03m# Optimizar el estudio con el callback personalizado\u001b[39;00m\n\u001b[1;32m--> 105\u001b[0m study\u001b[38;5;241m.\u001b[39moptimize(objective, n_trials\u001b[38;5;241m=\u001b[39m\u001b[38;5;241m30000\u001b[39m)\n",
      "File \u001b[1;32mc:\\Users\\Admin\\.conda\\envs\\datascience\\Lib\\site-packages\\optuna\\study\\study.py:451\u001b[0m, in \u001b[0;36mStudy.optimize\u001b[1;34m(self, func, n_trials, timeout, n_jobs, catch, callbacks, gc_after_trial, show_progress_bar)\u001b[0m\n\u001b[0;32m    348\u001b[0m \u001b[38;5;28;01mdef\u001b[39;00m \u001b[38;5;21moptimize\u001b[39m(\n\u001b[0;32m    349\u001b[0m     \u001b[38;5;28mself\u001b[39m,\n\u001b[0;32m    350\u001b[0m     func: ObjectiveFuncType,\n\u001b[1;32m   (...)\u001b[0m\n\u001b[0;32m    357\u001b[0m     show_progress_bar: \u001b[38;5;28mbool\u001b[39m \u001b[38;5;241m=\u001b[39m \u001b[38;5;28;01mFalse\u001b[39;00m,\n\u001b[0;32m    358\u001b[0m ) \u001b[38;5;241m-\u001b[39m\u001b[38;5;241m>\u001b[39m \u001b[38;5;28;01mNone\u001b[39;00m:\n\u001b[0;32m    359\u001b[0m \u001b[38;5;250m    \u001b[39m\u001b[38;5;124;03m\"\"\"Optimize an objective function.\u001b[39;00m\n\u001b[0;32m    360\u001b[0m \n\u001b[0;32m    361\u001b[0m \u001b[38;5;124;03m    Optimization is done by choosing a suitable set of hyperparameter values from a given\u001b[39;00m\n\u001b[1;32m   (...)\u001b[0m\n\u001b[0;32m    449\u001b[0m \u001b[38;5;124;03m            If nested invocation of this method occurs.\u001b[39;00m\n\u001b[0;32m    450\u001b[0m \u001b[38;5;124;03m    \"\"\"\u001b[39;00m\n\u001b[1;32m--> 451\u001b[0m     _optimize(\n\u001b[0;32m    452\u001b[0m         study\u001b[38;5;241m=\u001b[39m\u001b[38;5;28mself\u001b[39m,\n\u001b[0;32m    453\u001b[0m         func\u001b[38;5;241m=\u001b[39mfunc,\n\u001b[0;32m    454\u001b[0m         n_trials\u001b[38;5;241m=\u001b[39mn_trials,\n\u001b[0;32m    455\u001b[0m         timeout\u001b[38;5;241m=\u001b[39mtimeout,\n\u001b[0;32m    456\u001b[0m         n_jobs\u001b[38;5;241m=\u001b[39mn_jobs,\n\u001b[0;32m    457\u001b[0m         catch\u001b[38;5;241m=\u001b[39m\u001b[38;5;28mtuple\u001b[39m(catch) \u001b[38;5;28;01mif\u001b[39;00m \u001b[38;5;28misinstance\u001b[39m(catch, Iterable) \u001b[38;5;28;01melse\u001b[39;00m (catch,),\n\u001b[0;32m    458\u001b[0m         callbacks\u001b[38;5;241m=\u001b[39mcallbacks,\n\u001b[0;32m    459\u001b[0m         gc_after_trial\u001b[38;5;241m=\u001b[39mgc_after_trial,\n\u001b[0;32m    460\u001b[0m         show_progress_bar\u001b[38;5;241m=\u001b[39mshow_progress_bar,\n\u001b[0;32m    461\u001b[0m     )\n",
      "File \u001b[1;32mc:\\Users\\Admin\\.conda\\envs\\datascience\\Lib\\site-packages\\optuna\\study\\_optimize.py:62\u001b[0m, in \u001b[0;36m_optimize\u001b[1;34m(study, func, n_trials, timeout, n_jobs, catch, callbacks, gc_after_trial, show_progress_bar)\u001b[0m\n\u001b[0;32m     60\u001b[0m \u001b[38;5;28;01mtry\u001b[39;00m:\n\u001b[0;32m     61\u001b[0m     \u001b[38;5;28;01mif\u001b[39;00m n_jobs \u001b[38;5;241m==\u001b[39m \u001b[38;5;241m1\u001b[39m:\n\u001b[1;32m---> 62\u001b[0m         _optimize_sequential(\n\u001b[0;32m     63\u001b[0m             study,\n\u001b[0;32m     64\u001b[0m             func,\n\u001b[0;32m     65\u001b[0m             n_trials,\n\u001b[0;32m     66\u001b[0m             timeout,\n\u001b[0;32m     67\u001b[0m             catch,\n\u001b[0;32m     68\u001b[0m             callbacks,\n\u001b[0;32m     69\u001b[0m             gc_after_trial,\n\u001b[0;32m     70\u001b[0m             reseed_sampler_rng\u001b[38;5;241m=\u001b[39m\u001b[38;5;28;01mFalse\u001b[39;00m,\n\u001b[0;32m     71\u001b[0m             time_start\u001b[38;5;241m=\u001b[39m\u001b[38;5;28;01mNone\u001b[39;00m,\n\u001b[0;32m     72\u001b[0m             progress_bar\u001b[38;5;241m=\u001b[39mprogress_bar,\n\u001b[0;32m     73\u001b[0m         )\n\u001b[0;32m     74\u001b[0m     \u001b[38;5;28;01melse\u001b[39;00m:\n\u001b[0;32m     75\u001b[0m         \u001b[38;5;28;01mif\u001b[39;00m n_jobs \u001b[38;5;241m==\u001b[39m \u001b[38;5;241m-\u001b[39m\u001b[38;5;241m1\u001b[39m:\n",
      "File \u001b[1;32mc:\\Users\\Admin\\.conda\\envs\\datascience\\Lib\\site-packages\\optuna\\study\\_optimize.py:159\u001b[0m, in \u001b[0;36m_optimize_sequential\u001b[1;34m(study, func, n_trials, timeout, catch, callbacks, gc_after_trial, reseed_sampler_rng, time_start, progress_bar)\u001b[0m\n\u001b[0;32m    156\u001b[0m         \u001b[38;5;28;01mbreak\u001b[39;00m\n\u001b[0;32m    158\u001b[0m \u001b[38;5;28;01mtry\u001b[39;00m:\n\u001b[1;32m--> 159\u001b[0m     frozen_trial \u001b[38;5;241m=\u001b[39m _run_trial(study, func, catch)\n\u001b[0;32m    160\u001b[0m \u001b[38;5;28;01mfinally\u001b[39;00m:\n\u001b[0;32m    161\u001b[0m     \u001b[38;5;66;03m# The following line mitigates memory problems that can be occurred in some\u001b[39;00m\n\u001b[0;32m    162\u001b[0m     \u001b[38;5;66;03m# environments (e.g., services that use computing containers such as GitHub Actions).\u001b[39;00m\n\u001b[0;32m    163\u001b[0m     \u001b[38;5;66;03m# Please refer to the following PR for further details:\u001b[39;00m\n\u001b[0;32m    164\u001b[0m     \u001b[38;5;66;03m# https://github.com/optuna/optuna/pull/325.\u001b[39;00m\n\u001b[0;32m    165\u001b[0m     \u001b[38;5;28;01mif\u001b[39;00m gc_after_trial:\n",
      "File \u001b[1;32mc:\\Users\\Admin\\.conda\\envs\\datascience\\Lib\\site-packages\\optuna\\study\\_optimize.py:247\u001b[0m, in \u001b[0;36m_run_trial\u001b[1;34m(study, func, catch)\u001b[0m\n\u001b[0;32m    240\u001b[0m         \u001b[38;5;28;01massert\u001b[39;00m \u001b[38;5;28;01mFalse\u001b[39;00m, \u001b[38;5;124m\"\u001b[39m\u001b[38;5;124mShould not reach.\u001b[39m\u001b[38;5;124m\"\u001b[39m\n\u001b[0;32m    242\u001b[0m \u001b[38;5;28;01mif\u001b[39;00m (\n\u001b[0;32m    243\u001b[0m     frozen_trial\u001b[38;5;241m.\u001b[39mstate \u001b[38;5;241m==\u001b[39m TrialState\u001b[38;5;241m.\u001b[39mFAIL\n\u001b[0;32m    244\u001b[0m     \u001b[38;5;129;01mand\u001b[39;00m func_err \u001b[38;5;129;01mis\u001b[39;00m \u001b[38;5;129;01mnot\u001b[39;00m \u001b[38;5;28;01mNone\u001b[39;00m\n\u001b[0;32m    245\u001b[0m     \u001b[38;5;129;01mand\u001b[39;00m \u001b[38;5;129;01mnot\u001b[39;00m \u001b[38;5;28misinstance\u001b[39m(func_err, catch)\n\u001b[0;32m    246\u001b[0m ):\n\u001b[1;32m--> 247\u001b[0m     \u001b[38;5;28;01mraise\u001b[39;00m func_err\n\u001b[0;32m    248\u001b[0m \u001b[38;5;28;01mreturn\u001b[39;00m frozen_trial\n",
      "File \u001b[1;32mc:\\Users\\Admin\\.conda\\envs\\datascience\\Lib\\site-packages\\optuna\\study\\_optimize.py:196\u001b[0m, in \u001b[0;36m_run_trial\u001b[1;34m(study, func, catch)\u001b[0m\n\u001b[0;32m    194\u001b[0m \u001b[38;5;28;01mwith\u001b[39;00m get_heartbeat_thread(trial\u001b[38;5;241m.\u001b[39m_trial_id, study\u001b[38;5;241m.\u001b[39m_storage):\n\u001b[0;32m    195\u001b[0m     \u001b[38;5;28;01mtry\u001b[39;00m:\n\u001b[1;32m--> 196\u001b[0m         value_or_values \u001b[38;5;241m=\u001b[39m func(trial)\n\u001b[0;32m    197\u001b[0m     \u001b[38;5;28;01mexcept\u001b[39;00m exceptions\u001b[38;5;241m.\u001b[39mTrialPruned \u001b[38;5;28;01mas\u001b[39;00m e:\n\u001b[0;32m    198\u001b[0m         \u001b[38;5;66;03m# TODO(mamu): Handle multi-objective cases.\u001b[39;00m\n\u001b[0;32m    199\u001b[0m         state \u001b[38;5;241m=\u001b[39m TrialState\u001b[38;5;241m.\u001b[39mPRUNED\n",
      "Cell \u001b[1;32mIn[21], line 33\u001b[0m, in \u001b[0;36mobjective\u001b[1;34m(trial)\u001b[0m\n\u001b[0;32m      8\u001b[0m params \u001b[38;5;241m=\u001b[39m {\n\u001b[0;32m      9\u001b[0m     \u001b[38;5;124m'\u001b[39m\u001b[38;5;124mobjective\u001b[39m\u001b[38;5;124m'\u001b[39m: \u001b[38;5;124m'\u001b[39m\u001b[38;5;124mbinary\u001b[39m\u001b[38;5;124m'\u001b[39m,\n\u001b[0;32m     10\u001b[0m     \u001b[38;5;124m'\u001b[39m\u001b[38;5;124mmetric\u001b[39m\u001b[38;5;124m'\u001b[39m: \u001b[38;5;124m'\u001b[39m\u001b[38;5;124mcustom\u001b[39m\u001b[38;5;124m'\u001b[39m, \n\u001b[1;32m   (...)\u001b[0m\n\u001b[0;32m     26\u001b[0m     \u001b[38;5;124m'\u001b[39m\u001b[38;5;124mverbose\u001b[39m\u001b[38;5;124m'\u001b[39m: \u001b[38;5;241m-\u001b[39m\u001b[38;5;241m1\u001b[39m\n\u001b[0;32m     27\u001b[0m }\n\u001b[0;32m     29\u001b[0m train_data \u001b[38;5;241m=\u001b[39m lgb\u001b[38;5;241m.\u001b[39mDataset(X_train,\n\u001b[0;32m     30\u001b[0m                          label\u001b[38;5;241m=\u001b[39mY_train,  \u001b[38;5;66;03m# elegir la clase\u001b[39;00m\n\u001b[0;32m     31\u001b[0m                          weight\u001b[38;5;241m=\u001b[39mclase_peso)\n\u001b[1;32m---> 33\u001b[0m cv_results \u001b[38;5;241m=\u001b[39m lgb\u001b[38;5;241m.\u001b[39mcv(\n\u001b[0;32m     34\u001b[0m     params,\n\u001b[0;32m     35\u001b[0m     train_data,\n\u001b[0;32m     36\u001b[0m     num_boost_round\u001b[38;5;241m=\u001b[39m\u001b[38;5;241m300\u001b[39m,  \u001b[38;5;66;03m# modificar, subir y subir... y descomentar la línea inferior\u001b[39;00m\n\u001b[0;32m     37\u001b[0m     \n\u001b[0;32m     38\u001b[0m     feval\u001b[38;5;241m=\u001b[39mlgb_gan_eval,\n\u001b[0;32m     39\u001b[0m     stratified\u001b[38;5;241m=\u001b[39m\u001b[38;5;28;01mTrue\u001b[39;00m,\n\u001b[0;32m     40\u001b[0m     nfold\u001b[38;5;241m=\u001b[39m\u001b[38;5;241m5\u001b[39m,\n\u001b[0;32m     41\u001b[0m     seed\u001b[38;5;241m=\u001b[39msemillas[\u001b[38;5;241m0\u001b[39m]\n\u001b[0;32m     42\u001b[0m )\n\u001b[0;32m     44\u001b[0m max_gan \u001b[38;5;241m=\u001b[39m \u001b[38;5;28mmax\u001b[39m(cv_results[\u001b[38;5;124m'\u001b[39m\u001b[38;5;124mvalid gan_eval-mean\u001b[39m\u001b[38;5;124m'\u001b[39m])\n\u001b[0;32m     45\u001b[0m best_iter \u001b[38;5;241m=\u001b[39m cv_results[\u001b[38;5;124m'\u001b[39m\u001b[38;5;124mvalid gan_eval-mean\u001b[39m\u001b[38;5;124m'\u001b[39m]\u001b[38;5;241m.\u001b[39mindex(max_gan) \u001b[38;5;241m+\u001b[39m \u001b[38;5;241m1\u001b[39m\n",
      "File \u001b[1;32mc:\\Users\\Admin\\.conda\\envs\\datascience\\Lib\\site-packages\\lightgbm\\engine.py:826\u001b[0m, in \u001b[0;36mcv\u001b[1;34m(params, train_set, num_boost_round, folds, nfold, stratified, shuffle, metrics, feval, init_model, feature_name, categorical_feature, fpreproc, seed, callbacks, eval_train_metric, return_cvbooster)\u001b[0m\n\u001b[0;32m    815\u001b[0m \u001b[38;5;28;01mfor\u001b[39;00m cb \u001b[38;5;129;01min\u001b[39;00m callbacks_before_iter:\n\u001b[0;32m    816\u001b[0m     cb(\n\u001b[0;32m    817\u001b[0m         callback\u001b[38;5;241m.\u001b[39mCallbackEnv(\n\u001b[0;32m    818\u001b[0m             model\u001b[38;5;241m=\u001b[39mcvfolds,\n\u001b[1;32m   (...)\u001b[0m\n\u001b[0;32m    824\u001b[0m         )\n\u001b[0;32m    825\u001b[0m     )\n\u001b[1;32m--> 826\u001b[0m cvfolds\u001b[38;5;241m.\u001b[39mupdate(fobj\u001b[38;5;241m=\u001b[39mfobj)  \u001b[38;5;66;03m# type: ignore[call-arg]\u001b[39;00m\n\u001b[0;32m    827\u001b[0m res \u001b[38;5;241m=\u001b[39m _agg_cv_result(cvfolds\u001b[38;5;241m.\u001b[39meval_valid(feval))  \u001b[38;5;66;03m# type: ignore[call-arg]\u001b[39;00m\n\u001b[0;32m    828\u001b[0m \u001b[38;5;28;01mfor\u001b[39;00m _, key, mean, _, std \u001b[38;5;129;01min\u001b[39;00m res:\n",
      "File \u001b[1;32mc:\\Users\\Admin\\.conda\\envs\\datascience\\Lib\\site-packages\\lightgbm\\engine.py:402\u001b[0m, in \u001b[0;36mCVBooster.__getattr__.<locals>.handler_function\u001b[1;34m(*args, **kwargs)\u001b[0m\n\u001b[0;32m    400\u001b[0m ret \u001b[38;5;241m=\u001b[39m []\n\u001b[0;32m    401\u001b[0m \u001b[38;5;28;01mfor\u001b[39;00m booster \u001b[38;5;129;01min\u001b[39;00m \u001b[38;5;28mself\u001b[39m\u001b[38;5;241m.\u001b[39mboosters:\n\u001b[1;32m--> 402\u001b[0m     ret\u001b[38;5;241m.\u001b[39mappend(\u001b[38;5;28mgetattr\u001b[39m(booster, name)(\u001b[38;5;241m*\u001b[39margs, \u001b[38;5;241m*\u001b[39m\u001b[38;5;241m*\u001b[39mkwargs))\n\u001b[0;32m    403\u001b[0m \u001b[38;5;28;01mreturn\u001b[39;00m ret\n",
      "File \u001b[1;32mc:\\Users\\Admin\\.conda\\envs\\datascience\\Lib\\site-packages\\lightgbm\\basic.py:4126\u001b[0m, in \u001b[0;36mBooster.update\u001b[1;34m(self, train_set, fobj)\u001b[0m\n\u001b[0;32m   4123\u001b[0m \u001b[38;5;28;01mif\u001b[39;00m \u001b[38;5;28mself\u001b[39m\u001b[38;5;241m.\u001b[39m__set_objective_to_none:\n\u001b[0;32m   4124\u001b[0m     \u001b[38;5;28;01mraise\u001b[39;00m LightGBMError(\u001b[38;5;124m\"\u001b[39m\u001b[38;5;124mCannot update due to null objective function.\u001b[39m\u001b[38;5;124m\"\u001b[39m)\n\u001b[0;32m   4125\u001b[0m _safe_call(\n\u001b[1;32m-> 4126\u001b[0m     _LIB\u001b[38;5;241m.\u001b[39mLGBM_BoosterUpdateOneIter(\n\u001b[0;32m   4127\u001b[0m         \u001b[38;5;28mself\u001b[39m\u001b[38;5;241m.\u001b[39m_handle,\n\u001b[0;32m   4128\u001b[0m         ctypes\u001b[38;5;241m.\u001b[39mbyref(is_finished),\n\u001b[0;32m   4129\u001b[0m     )\n\u001b[0;32m   4130\u001b[0m )\n\u001b[0;32m   4131\u001b[0m \u001b[38;5;28mself\u001b[39m\u001b[38;5;241m.\u001b[39m__is_predicted_cur_iter \u001b[38;5;241m=\u001b[39m [\u001b[38;5;28;01mFalse\u001b[39;00m \u001b[38;5;28;01mfor\u001b[39;00m _ \u001b[38;5;129;01min\u001b[39;00m \u001b[38;5;28mrange\u001b[39m(\u001b[38;5;28mself\u001b[39m\u001b[38;5;241m.\u001b[39m__num_dataset)]\n\u001b[0;32m   4132\u001b[0m \u001b[38;5;28;01mreturn\u001b[39;00m is_finished\u001b[38;5;241m.\u001b[39mvalue \u001b[38;5;241m==\u001b[39m \u001b[38;5;241m1\u001b[39m\n",
      "\u001b[1;31mKeyboardInterrupt\u001b[0m: "
     ]
    }
   ],
   "source": [
    "def objective(trial):\n",
    "    num_leaves = trial.suggest_int('num_leaves', 8, 100)\n",
    "    learning_rate = trial.suggest_float('learning_rate', 0.00005, 0.3)  # mas bajo, más iteraciones necesita\n",
    "    min_data_in_leaf = trial.suggest_int('min_data_in_leaf', 1, 2000)\n",
    "    feature_fraction = trial.suggest_float('feature_fraction', 0.1, 1.0)\n",
    "    bagging_fraction = trial.suggest_float('bagging_fraction', 0.1, 1.0)\n",
    "\n",
    "    params = {\n",
    "        'objective': 'binary',\n",
    "        'metric': 'custom', \n",
    "        'boosting_type': 'gbdt',\n",
    "        'device': 'gpu',  # Usar la GPU\n",
    "        'gpu_platform_id': 0,  # (opcional) ID de la plataforma GPU\n",
    "        'gpu_device_id': 0,     # (opcional) ID del dispositivo GPU\n",
    "        'first_metric_only': True,\n",
    "        'boost_from_average': True,\n",
    "        'feature_pre_filter': False,\n",
    "        'max_bin': 31,\n",
    "        'device': 'gpu',\n",
    "        'num_leaves': num_leaves,\n",
    "        'learning_rate': learning_rate,\n",
    "        'min_data_in_leaf': min_data_in_leaf,\n",
    "        'feature_fraction': feature_fraction,\n",
    "        'bagging_fraction': bagging_fraction,\n",
    "        'seed': semillas[0],\n",
    "        'verbose': -1\n",
    "    }\n",
    "\n",
    "    train_data = lgb.Dataset(X_train,\n",
    "                             label=Y_train,  # elegir la clase\n",
    "                             weight=clase_peso)\n",
    "                             \n",
    "    cv_results = lgb.cv(\n",
    "        params,\n",
    "        train_data,\n",
    "        num_boost_round=300,  # modificar, subir y subir... y descomentar la línea inferior\n",
    "        \n",
    "        feval=lgb_gan_eval,\n",
    "        stratified=True,\n",
    "        nfold=5,\n",
    "        seed=semillas[0]\n",
    "    )\n",
    "\n",
    "    max_gan = max(cv_results['valid gan_eval-mean'])\n",
    "    best_iter = cv_results['valid gan_eval-mean'].index(max_gan) + 1\n",
    "\n",
    "    # Guardamos cual es la mejor iteración del modelo\n",
    "    trial.set_user_attr(\"best_iter\", best_iter)\n",
    "\n",
    "    return max_gan * 5\n",
    "\n",
    "\n",
    "storage_name = r\"sqlite:///C:\\Users\\Admin\\Documents\\1_Notebook\\1_Estudio\\1_UBA_Maestria_DS\\1_Especializacion\\1_Segundo_Semestre\\DMEyF\\Optuna\\rf_segmentacion1\\optimization_tree.db\"\n",
    "study_name = \"experimento_trazas_data\"\n",
    "\n",
    "\n",
    "\n",
    "study = optuna.create_study(\n",
    "    direction=\"maximize\",\n",
    "    study_name=study_name,\n",
    "    storage=storage_name,\n",
    "    load_if_exists=True,\n",
    ")\n",
    "\n",
    "import optuna\n",
    "\n",
    "class EarlyStoppingByImprovement:\n",
    "    def __init__(self, patience: int):\n",
    "        \"\"\"\n",
    "        Args:\n",
    "            patience (int): Número de pruebas consecutivas sin mejora antes de detener la optimización.\n",
    "        \"\"\"\n",
    "        self.patience = patience\n",
    "        self.best_value = None\n",
    "        self.no_improvement_trials = 0\n",
    "\n",
    "    def __call__(self, study, trial):\n",
    "        current_best_value = study.best_trial.value\n",
    "\n",
    "        # Si la métrica mejora, reseteamos el contador\n",
    "        if self.best_value is None or current_best_value > self.best_value:\n",
    "            self.best_value = current_best_value\n",
    "            self.no_improvement_trials = 0\n",
    "        else:\n",
    "            # Si no hay mejora, incrementamos el contador\n",
    "            self.no_improvement_trials += 1\n",
    "\n",
    "        # Detener si no ha habido mejora en 'self.patience' pruebas consecutivas\n",
    "        if self.no_improvement_trials >= self.patience:\n",
    "            print(f\"Early stopping: No hay mejora en {self.patience} pruebas consecutivas.\")\n",
    "            study.stop()\n",
    "\n",
    "# Crear el callback con 100 pruebas consecutivas sin mejora\n",
    "early_stopping_callback = EarlyStoppingByImprovement(patience=300)\n",
    "\n",
    "# Crear el estudio\n",
    "study = optuna.create_study(\n",
    "    direction=\"maximize\",\n",
    "    study_name=study_name,\n",
    "    storage=storage_name,\n",
    "    load_if_exists=True,\n",
    ")\n",
    "\n",
    "# Optimizar el estudio con el callback personalizado\n",
    "study.optimize(objective, n_trials=30000)\n"
   ]
  },
  {
   "cell_type": "code",
   "execution_count": 22,
   "metadata": {},
   "outputs": [
    {
     "data": {
      "text/plain": [
       "{'num_leaves': 51,\n",
       " 'learning_rate': 0.13870336045994874,\n",
       " 'min_data_in_leaf': 776,\n",
       " 'feature_fraction': 0.7119923826207131,\n",
       " 'bagging_fraction': 0.627883478400356}"
      ]
     },
     "execution_count": 22,
     "metadata": {},
     "output_type": "execute_result"
    }
   ],
   "source": [
    "study.best_params"
   ]
  },
  {
   "cell_type": "code",
   "execution_count": 579,
   "metadata": {},
   "outputs": [],
   "source": [
    "best_params = {'num_leaves': 76, 'learning_rate': 0.04264413547569725, 'min_data_in_leaf': 766, 'feature_fraction': 0.8987812271100075, 'bagging_fraction': 0.6737761560342819}\n"
   ]
  },
  {
   "cell_type": "code",
   "execution_count": 580,
   "metadata": {},
   "outputs": [],
   "source": [
    "# optuna.visualization.plot_optimization_history(study)"
   ]
  },
  {
   "cell_type": "code",
   "execution_count": 581,
   "metadata": {},
   "outputs": [],
   "source": [
    "# plot_param_importances(study)"
   ]
  },
  {
   "cell_type": "code",
   "execution_count": 582,
   "metadata": {},
   "outputs": [],
   "source": [
    "# plot_slice(study)"
   ]
  },
  {
   "cell_type": "markdown",
   "metadata": {},
   "source": []
  },
  {
   "cell_type": "code",
   "execution_count": 23,
   "metadata": {},
   "outputs": [
    {
     "name": "stdout",
     "output_type": "stream",
     "text": [
      "Mejor cantidad de árboles para el mejor model 283\n"
     ]
    }
   ],
   "source": [
    "w_train = df_train.loc[X_train.index, 'clase_peso']\n",
    "\n",
    "best_iter = study.best_trial.user_attrs[\"best_iter\"]\n",
    "print(f\"Mejor cantidad de árboles para el mejor model {best_iter}\")\n",
    "params = {\n",
    "    'objective': 'binary',\n",
    "    'boosting_type': 'gbdt',\n",
    "    'first_metric_only': True,\n",
    "    'boost_from_average': True,\n",
    "    'feature_pre_filter': False,\n",
    "    'max_bin': 31,\n",
    "    'num_leaves': study.best_params['num_leaves'],\n",
    "    'learning_rate': study.best_params['learning_rate'],\n",
    "    'min_data_in_leaf': study.best_params['min_data_in_leaf'],\n",
    "    'feature_fraction': study.best_params['feature_fraction'],\n",
    "    'bagging_fraction': study.best_params['bagging_fraction'],\n",
    "    'seed': semillas[0],\n",
    "    'verbose': 0\n",
    "}\n",
    "\n",
    "train_data = lgb.Dataset(X_train,\n",
    "                          label= Y_train,\n",
    "                          weight=w_train)\n",
    "\n",
    "model = lgb.train(params,\n",
    "                  train_data,\n",
    "                  num_boost_round=best_iter)"
   ]
  },
  {
   "cell_type": "code",
   "execution_count": 24,
   "metadata": {},
   "outputs": [
    {
     "name": "stderr",
     "output_type": "stream",
     "text": [
      "c:\\Users\\Admin\\.conda\\envs\\datascience\\Lib\\site-packages\\shap\\explainers\\_tree.py:448: UserWarning: LightGBM binary classifier with TreeExplainer shap values output has changed to a list of ndarray\n",
      "  warnings.warn('LightGBM binary classifier with TreeExplainer shap values output has changed to a list of ndarray')\n"
     ]
    }
   ],
   "source": [
    "explainer = shap.TreeExplainer(model)\n",
    "shap_values = explainer.shap_values(X_train)"
   ]
  },
  {
   "cell_type": "code",
   "execution_count": 25,
   "metadata": {},
   "outputs": [
    {
     "data": {
      "text/html": [
       "<div>\n",
       "<style scoped>\n",
       "    .dataframe tbody tr th:only-of-type {\n",
       "        vertical-align: middle;\n",
       "    }\n",
       "\n",
       "    .dataframe tbody tr th {\n",
       "        vertical-align: top;\n",
       "    }\n",
       "\n",
       "    .dataframe thead th {\n",
       "        text-align: right;\n",
       "    }\n",
       "</style>\n",
       "<table border=\"1\" class=\"dataframe\">\n",
       "  <thead>\n",
       "    <tr style=\"text-align: right;\">\n",
       "      <th></th>\n",
       "      <th>numero_de_cliente</th>\n",
       "      <th>foto_mes</th>\n",
       "      <th>active_quarter</th>\n",
       "      <th>cliente_vip</th>\n",
       "      <th>internet</th>\n",
       "      <th>cliente_edad</th>\n",
       "      <th>cliente_antiguedad</th>\n",
       "      <th>mrentabilidad</th>\n",
       "      <th>mrentabilidad_annual</th>\n",
       "      <th>mcomisiones</th>\n",
       "      <th>...</th>\n",
       "      <th>Visa_madelantodolares</th>\n",
       "      <th>Visa_fultimo_cierre</th>\n",
       "      <th>Visa_mpagado</th>\n",
       "      <th>Visa_mpagospesos</th>\n",
       "      <th>Visa_mpagosdolares</th>\n",
       "      <th>Visa_fechaalta</th>\n",
       "      <th>Visa_mconsumototal</th>\n",
       "      <th>Visa_cconsumos</th>\n",
       "      <th>Visa_cadelantosefectivo</th>\n",
       "      <th>Visa_mpagominimo</th>\n",
       "    </tr>\n",
       "  </thead>\n",
       "  <tbody>\n",
       "    <tr>\n",
       "      <th>0</th>\n",
       "      <td>0.010037</td>\n",
       "      <td>-6.160762</td>\n",
       "      <td>-0.002981</td>\n",
       "      <td>0.000422</td>\n",
       "      <td>-0.002635</td>\n",
       "      <td>-0.053066</td>\n",
       "      <td>-0.049811</td>\n",
       "      <td>0.056300</td>\n",
       "      <td>-0.004194</td>\n",
       "      <td>-0.009676</td>\n",
       "      <td>...</td>\n",
       "      <td>0.0</td>\n",
       "      <td>-0.521222</td>\n",
       "      <td>-0.005699</td>\n",
       "      <td>-0.168166</td>\n",
       "      <td>0.009052</td>\n",
       "      <td>-0.139515</td>\n",
       "      <td>0.069256</td>\n",
       "      <td>0.054289</td>\n",
       "      <td>0.0</td>\n",
       "      <td>-0.400873</td>\n",
       "    </tr>\n",
       "    <tr>\n",
       "      <th>1</th>\n",
       "      <td>0.222062</td>\n",
       "      <td>-5.793181</td>\n",
       "      <td>-0.002245</td>\n",
       "      <td>0.000183</td>\n",
       "      <td>0.002829</td>\n",
       "      <td>-0.120017</td>\n",
       "      <td>0.170101</td>\n",
       "      <td>-0.021941</td>\n",
       "      <td>-0.116167</td>\n",
       "      <td>-0.002599</td>\n",
       "      <td>...</td>\n",
       "      <td>0.0</td>\n",
       "      <td>-0.461153</td>\n",
       "      <td>-0.009286</td>\n",
       "      <td>0.121774</td>\n",
       "      <td>-0.000314</td>\n",
       "      <td>0.153909</td>\n",
       "      <td>0.016472</td>\n",
       "      <td>0.038007</td>\n",
       "      <td>0.0</td>\n",
       "      <td>-0.049618</td>\n",
       "    </tr>\n",
       "    <tr>\n",
       "      <th>2</th>\n",
       "      <td>0.072694</td>\n",
       "      <td>-5.981195</td>\n",
       "      <td>-0.002380</td>\n",
       "      <td>0.000398</td>\n",
       "      <td>0.002209</td>\n",
       "      <td>-0.116045</td>\n",
       "      <td>-0.112142</td>\n",
       "      <td>0.027015</td>\n",
       "      <td>-0.065158</td>\n",
       "      <td>0.006063</td>\n",
       "      <td>...</td>\n",
       "      <td>0.0</td>\n",
       "      <td>-0.366360</td>\n",
       "      <td>-0.006168</td>\n",
       "      <td>-0.087495</td>\n",
       "      <td>0.006140</td>\n",
       "      <td>-0.133304</td>\n",
       "      <td>-0.007267</td>\n",
       "      <td>-0.082207</td>\n",
       "      <td>0.0</td>\n",
       "      <td>-0.283839</td>\n",
       "    </tr>\n",
       "    <tr>\n",
       "      <th>3</th>\n",
       "      <td>0.049202</td>\n",
       "      <td>-5.444368</td>\n",
       "      <td>-0.007144</td>\n",
       "      <td>-0.000086</td>\n",
       "      <td>0.005852</td>\n",
       "      <td>0.153562</td>\n",
       "      <td>0.018665</td>\n",
       "      <td>-0.188983</td>\n",
       "      <td>0.182499</td>\n",
       "      <td>-0.017563</td>\n",
       "      <td>...</td>\n",
       "      <td>0.0</td>\n",
       "      <td>-0.379034</td>\n",
       "      <td>-0.034454</td>\n",
       "      <td>-0.056010</td>\n",
       "      <td>0.016932</td>\n",
       "      <td>-0.117705</td>\n",
       "      <td>-0.002682</td>\n",
       "      <td>-0.035950</td>\n",
       "      <td>0.0</td>\n",
       "      <td>0.077824</td>\n",
       "    </tr>\n",
       "    <tr>\n",
       "      <th>4</th>\n",
       "      <td>0.092263</td>\n",
       "      <td>-5.749915</td>\n",
       "      <td>-0.003900</td>\n",
       "      <td>-0.000083</td>\n",
       "      <td>-0.001129</td>\n",
       "      <td>0.278451</td>\n",
       "      <td>0.060917</td>\n",
       "      <td>-0.063967</td>\n",
       "      <td>-0.263292</td>\n",
       "      <td>-0.095945</td>\n",
       "      <td>...</td>\n",
       "      <td>0.0</td>\n",
       "      <td>-0.536280</td>\n",
       "      <td>-0.014928</td>\n",
       "      <td>-0.004730</td>\n",
       "      <td>0.012467</td>\n",
       "      <td>0.073242</td>\n",
       "      <td>-0.000468</td>\n",
       "      <td>-0.020002</td>\n",
       "      <td>0.0</td>\n",
       "      <td>0.035582</td>\n",
       "    </tr>\n",
       "    <tr>\n",
       "      <th>...</th>\n",
       "      <td>...</td>\n",
       "      <td>...</td>\n",
       "      <td>...</td>\n",
       "      <td>...</td>\n",
       "      <td>...</td>\n",
       "      <td>...</td>\n",
       "      <td>...</td>\n",
       "      <td>...</td>\n",
       "      <td>...</td>\n",
       "      <td>...</td>\n",
       "      <td>...</td>\n",
       "      <td>...</td>\n",
       "      <td>...</td>\n",
       "      <td>...</td>\n",
       "      <td>...</td>\n",
       "      <td>...</td>\n",
       "      <td>...</td>\n",
       "      <td>...</td>\n",
       "      <td>...</td>\n",
       "      <td>...</td>\n",
       "      <td>...</td>\n",
       "    </tr>\n",
       "    <tr>\n",
       "      <th>981941</th>\n",
       "      <td>0.010454</td>\n",
       "      <td>11.043201</td>\n",
       "      <td>0.121904</td>\n",
       "      <td>-0.000085</td>\n",
       "      <td>0.009081</td>\n",
       "      <td>0.097263</td>\n",
       "      <td>-0.039242</td>\n",
       "      <td>-0.057279</td>\n",
       "      <td>0.089843</td>\n",
       "      <td>-0.004348</td>\n",
       "      <td>...</td>\n",
       "      <td>0.0</td>\n",
       "      <td>0.086753</td>\n",
       "      <td>-0.013013</td>\n",
       "      <td>0.024025</td>\n",
       "      <td>0.010640</td>\n",
       "      <td>0.036792</td>\n",
       "      <td>0.002499</td>\n",
       "      <td>-0.039967</td>\n",
       "      <td>0.0</td>\n",
       "      <td>0.097580</td>\n",
       "    </tr>\n",
       "    <tr>\n",
       "      <th>981942</th>\n",
       "      <td>0.051735</td>\n",
       "      <td>11.144780</td>\n",
       "      <td>-0.001460</td>\n",
       "      <td>0.000394</td>\n",
       "      <td>0.009292</td>\n",
       "      <td>0.044418</td>\n",
       "      <td>-0.061971</td>\n",
       "      <td>-0.022084</td>\n",
       "      <td>0.121041</td>\n",
       "      <td>-0.006667</td>\n",
       "      <td>...</td>\n",
       "      <td>0.0</td>\n",
       "      <td>0.091636</td>\n",
       "      <td>-0.012478</td>\n",
       "      <td>0.015110</td>\n",
       "      <td>0.007882</td>\n",
       "      <td>-0.183246</td>\n",
       "      <td>0.006679</td>\n",
       "      <td>-0.039975</td>\n",
       "      <td>0.0</td>\n",
       "      <td>0.061727</td>\n",
       "    </tr>\n",
       "    <tr>\n",
       "      <th>981943</th>\n",
       "      <td>0.039082</td>\n",
       "      <td>11.105130</td>\n",
       "      <td>0.147785</td>\n",
       "      <td>0.000394</td>\n",
       "      <td>0.009670</td>\n",
       "      <td>0.055700</td>\n",
       "      <td>-0.069155</td>\n",
       "      <td>-0.018137</td>\n",
       "      <td>0.116875</td>\n",
       "      <td>-0.003371</td>\n",
       "      <td>...</td>\n",
       "      <td>0.0</td>\n",
       "      <td>0.095263</td>\n",
       "      <td>-0.012312</td>\n",
       "      <td>0.016562</td>\n",
       "      <td>0.007346</td>\n",
       "      <td>-0.251888</td>\n",
       "      <td>0.006737</td>\n",
       "      <td>-0.040349</td>\n",
       "      <td>0.0</td>\n",
       "      <td>0.065176</td>\n",
       "    </tr>\n",
       "    <tr>\n",
       "      <th>981944</th>\n",
       "      <td>0.037426</td>\n",
       "      <td>10.917088</td>\n",
       "      <td>0.113750</td>\n",
       "      <td>0.000395</td>\n",
       "      <td>0.008529</td>\n",
       "      <td>0.098973</td>\n",
       "      <td>0.007877</td>\n",
       "      <td>-0.043610</td>\n",
       "      <td>0.112312</td>\n",
       "      <td>-0.002327</td>\n",
       "      <td>...</td>\n",
       "      <td>0.0</td>\n",
       "      <td>0.672840</td>\n",
       "      <td>-0.008911</td>\n",
       "      <td>0.027065</td>\n",
       "      <td>0.008807</td>\n",
       "      <td>-0.033974</td>\n",
       "      <td>0.003825</td>\n",
       "      <td>-0.047031</td>\n",
       "      <td>0.0</td>\n",
       "      <td>0.075757</td>\n",
       "    </tr>\n",
       "    <tr>\n",
       "      <th>981945</th>\n",
       "      <td>0.034878</td>\n",
       "      <td>10.435938</td>\n",
       "      <td>-0.001374</td>\n",
       "      <td>-0.000085</td>\n",
       "      <td>0.011201</td>\n",
       "      <td>0.112341</td>\n",
       "      <td>-0.043689</td>\n",
       "      <td>-0.026331</td>\n",
       "      <td>0.041506</td>\n",
       "      <td>0.051955</td>\n",
       "      <td>...</td>\n",
       "      <td>0.0</td>\n",
       "      <td>0.658091</td>\n",
       "      <td>-0.013169</td>\n",
       "      <td>0.046983</td>\n",
       "      <td>0.010361</td>\n",
       "      <td>-0.014292</td>\n",
       "      <td>0.007882</td>\n",
       "      <td>-0.037668</td>\n",
       "      <td>0.0</td>\n",
       "      <td>0.150104</td>\n",
       "    </tr>\n",
       "  </tbody>\n",
       "</table>\n",
       "<p>981946 rows × 154 columns</p>\n",
       "</div>"
      ],
      "text/plain": [
       "        numero_de_cliente   foto_mes  active_quarter  cliente_vip  internet  \\\n",
       "0                0.010037  -6.160762       -0.002981     0.000422 -0.002635   \n",
       "1                0.222062  -5.793181       -0.002245     0.000183  0.002829   \n",
       "2                0.072694  -5.981195       -0.002380     0.000398  0.002209   \n",
       "3                0.049202  -5.444368       -0.007144    -0.000086  0.005852   \n",
       "4                0.092263  -5.749915       -0.003900    -0.000083 -0.001129   \n",
       "...                   ...        ...             ...          ...       ...   \n",
       "981941           0.010454  11.043201        0.121904    -0.000085  0.009081   \n",
       "981942           0.051735  11.144780       -0.001460     0.000394  0.009292   \n",
       "981943           0.039082  11.105130        0.147785     0.000394  0.009670   \n",
       "981944           0.037426  10.917088        0.113750     0.000395  0.008529   \n",
       "981945           0.034878  10.435938       -0.001374    -0.000085  0.011201   \n",
       "\n",
       "        cliente_edad  cliente_antiguedad  mrentabilidad  mrentabilidad_annual  \\\n",
       "0          -0.053066           -0.049811       0.056300             -0.004194   \n",
       "1          -0.120017            0.170101      -0.021941             -0.116167   \n",
       "2          -0.116045           -0.112142       0.027015             -0.065158   \n",
       "3           0.153562            0.018665      -0.188983              0.182499   \n",
       "4           0.278451            0.060917      -0.063967             -0.263292   \n",
       "...              ...                 ...            ...                   ...   \n",
       "981941      0.097263           -0.039242      -0.057279              0.089843   \n",
       "981942      0.044418           -0.061971      -0.022084              0.121041   \n",
       "981943      0.055700           -0.069155      -0.018137              0.116875   \n",
       "981944      0.098973            0.007877      -0.043610              0.112312   \n",
       "981945      0.112341           -0.043689      -0.026331              0.041506   \n",
       "\n",
       "        mcomisiones  ...  Visa_madelantodolares  Visa_fultimo_cierre  \\\n",
       "0         -0.009676  ...                    0.0            -0.521222   \n",
       "1         -0.002599  ...                    0.0            -0.461153   \n",
       "2          0.006063  ...                    0.0            -0.366360   \n",
       "3         -0.017563  ...                    0.0            -0.379034   \n",
       "4         -0.095945  ...                    0.0            -0.536280   \n",
       "...             ...  ...                    ...                  ...   \n",
       "981941    -0.004348  ...                    0.0             0.086753   \n",
       "981942    -0.006667  ...                    0.0             0.091636   \n",
       "981943    -0.003371  ...                    0.0             0.095263   \n",
       "981944    -0.002327  ...                    0.0             0.672840   \n",
       "981945     0.051955  ...                    0.0             0.658091   \n",
       "\n",
       "        Visa_mpagado  Visa_mpagospesos  Visa_mpagosdolares  Visa_fechaalta  \\\n",
       "0          -0.005699         -0.168166            0.009052       -0.139515   \n",
       "1          -0.009286          0.121774           -0.000314        0.153909   \n",
       "2          -0.006168         -0.087495            0.006140       -0.133304   \n",
       "3          -0.034454         -0.056010            0.016932       -0.117705   \n",
       "4          -0.014928         -0.004730            0.012467        0.073242   \n",
       "...              ...               ...                 ...             ...   \n",
       "981941     -0.013013          0.024025            0.010640        0.036792   \n",
       "981942     -0.012478          0.015110            0.007882       -0.183246   \n",
       "981943     -0.012312          0.016562            0.007346       -0.251888   \n",
       "981944     -0.008911          0.027065            0.008807       -0.033974   \n",
       "981945     -0.013169          0.046983            0.010361       -0.014292   \n",
       "\n",
       "        Visa_mconsumototal  Visa_cconsumos  Visa_cadelantosefectivo  \\\n",
       "0                 0.069256        0.054289                      0.0   \n",
       "1                 0.016472        0.038007                      0.0   \n",
       "2                -0.007267       -0.082207                      0.0   \n",
       "3                -0.002682       -0.035950                      0.0   \n",
       "4                -0.000468       -0.020002                      0.0   \n",
       "...                    ...             ...                      ...   \n",
       "981941            0.002499       -0.039967                      0.0   \n",
       "981942            0.006679       -0.039975                      0.0   \n",
       "981943            0.006737       -0.040349                      0.0   \n",
       "981944            0.003825       -0.047031                      0.0   \n",
       "981945            0.007882       -0.037668                      0.0   \n",
       "\n",
       "        Visa_mpagominimo  \n",
       "0              -0.400873  \n",
       "1              -0.049618  \n",
       "2              -0.283839  \n",
       "3               0.077824  \n",
       "4               0.035582  \n",
       "...                  ...  \n",
       "981941          0.097580  \n",
       "981942          0.061727  \n",
       "981943          0.065176  \n",
       "981944          0.075757  \n",
       "981945          0.150104  \n",
       "\n",
       "[981946 rows x 154 columns]"
      ]
     },
     "execution_count": 25,
     "metadata": {},
     "output_type": "execute_result"
    }
   ],
   "source": [
    "shap_df = pd.DataFrame(shap_values, columns = X_train.columns)\n",
    "shap_df"
   ]
  },
  {
   "cell_type": "code",
   "execution_count": null,
   "metadata": {},
   "outputs": [
    {
     "name": "stdout",
     "output_type": "stream",
     "text": [
      "Mejor cantidad de árboles para el mejor model 141\n"
     ]
    }
   ],
   "source": [
    "# best_iter = study.best_trial.user_attrs[\"best_iter\"]\n",
    "# print(f\"Mejor cantidad de árboles para el mejor model {best_iter}\")\n",
    "# params = {\n",
    "#     'objective': 'binary',\n",
    "#     'boosting_type': 'gbdt',\n",
    "#     'first_metric_only': True,\n",
    "#     'boost_from_average': True,\n",
    "#     'feature_pre_filter': False,\n",
    "#     'max_bin': 31,\n",
    "#     'num_leaves': study.best_params['num_leaves'],\n",
    "#     'learning_rate': study.best_params['learning_rate'],\n",
    "#     'min_data_in_leaf': study.best_params['min_data_in_leaf'],\n",
    "#     'feature_fraction': study.best_params['feature_fraction'],\n",
    "#     'bagging_fraction': study.best_params['bagging_fraction'],\n",
    "#     'seed': semillas[0],\n",
    "#     'verbose': 0\n",
    "# }\n",
    "\n",
    "# train_data = lgb.Dataset(X_train,\n",
    "#                           label=y_train_binaria2,\n",
    "#                           weight=w_train)\n",
    "\n",
    "# model = lgb.train(params,\n",
    "#                   train_data,\n",
    "#                   num_boost_round=best_iter)"
   ]
  },
  {
   "cell_type": "code",
   "execution_count": 585,
   "metadata": {},
   "outputs": [],
   "source": [
    "# mes_test = 202106\n",
    "# test_data = df_gbm[df_gbm['foto_mes'] == mes_test]\n",
    "\n",
    "\n",
    "# X_test = test_data.drop(['clase_ternaria', 'clase_peso', 'clase_binaria1','clase_binaria2'], axis=1)\n",
    "# y_test_binaria1 = test_data['clase_binaria1']\n",
    "# y_test_class = test_data['clase_ternaria']\n",
    "# w_test = test_data['clase_peso']"
   ]
  },
  {
   "cell_type": "code",
   "execution_count": 586,
   "metadata": {},
   "outputs": [
    {
     "data": {
      "text/plain": [
       "(164876, 150)"
      ]
     },
     "execution_count": 586,
     "metadata": {},
     "output_type": "execute_result"
    }
   ],
   "source": [
    "X_test.shape"
   ]
  },
  {
   "cell_type": "code",
   "execution_count": 587,
   "metadata": {},
   "outputs": [],
   "source": [
    "y_pred_lgm = model.predict(X_test)"
   ]
  },
  {
   "cell_type": "code",
   "execution_count": 588,
   "metadata": {},
   "outputs": [],
   "source": [
    "y_pred_labels = (y_pred_lgm > 0.025).astype(int)\n"
   ]
  },
  {
   "cell_type": "code",
   "execution_count": 589,
   "metadata": {},
   "outputs": [],
   "source": [
    "#dataframe con las variables más importantes\n",
    "importancias = model.feature_importance()\n",
    "nombres = model.feature_name()\n",
    "df_variables_importantes = pd.DataFrame({'importancia': importancias, 'variable': nombres})\n",
    "df_variables_importantes = df_variables_importantes.sort_values(by='importancia', ascending=False)\n",
    "lista_variables_importantes =  df_variables_importantes['variable'].head(10).to_list()"
   ]
  },
  {
   "cell_type": "code",
   "execution_count": 590,
   "metadata": {},
   "outputs": [],
   "source": [
    "df_resultado = pd.DataFrame({\n",
    "    'numero_de_cliente': X_test['numero_de_cliente'],\n",
    "    'Predicted': y_pred_labels\n",
    "})"
   ]
  },
  {
   "cell_type": "code",
   "execution_count": 591,
   "metadata": {},
   "outputs": [],
   "source": [
    "\n",
    "# numero = '006'\n",
    "# entrega = f'entrega_{numero}.csv'\n",
    "# path = r\"C:\\Users\\Admin\\Documents\\1_Notebook\\1_Estudio\\1_UBA_Maestria_DS\\1_Especializacion\\1_Segundo_Semestre\\DMEyF\\Entregas\"\n",
    "# archivos = glob.glob(os.path.join(path, '*'))\n",
    "# archivos.sort(key=os.path.getmtime, reverse=True)\n",
    "# ultimo_archivo = archivos[0] if archivos else None\n",
    "# if ultimo_archivo:\n",
    "#     nombre_archivo = os.path.basename(ultimo_archivo)\n",
    "#     numero = ''.join(filter(str.isdigit, nombre_archivo))\n",
    "#     print(f\"El último archivo entregado es: {nombre_archivo}\")\n",
    "#     print(f\"El número extraído es: {numero}\")\n",
    "# else:\n",
    "#     print(\"No se encontraron archivos en la carpeta.\")\n",
    "\n",
    "\n",
    " "
   ]
  },
  {
   "cell_type": "code",
   "execution_count": 592,
   "metadata": {},
   "outputs": [],
   "source": [
    "#Ingresar el path sobre el cual se quiere ingresar el archivo a entregar\n",
    "\n",
    "entrega = df_resultado.to_csv(r\"C:\\Users\\Admin\\Desktop\\replicabilidad_competencia_01\\competencia_01_replicabilidad.csv\", index=False)"
   ]
  },
  {
   "cell_type": "code",
   "execution_count": 593,
   "metadata": {},
   "outputs": [],
   "source": [
    "\n",
    "# numero = '073'\n",
    "# entrega = f'entrega_{numero}.csv'"
   ]
  },
  {
   "cell_type": "code",
   "execution_count": 594,
   "metadata": {},
   "outputs": [],
   "source": [
    "\n",
    "\n",
    "# if os.path.exists(path + entrega):\n",
    "#     print(\"El archivo ya existe\")\n",
    "# else:\n",
    "#     entrega_final = os.path.join(path, entrega)\n",
    "#     df_resultado.to_csv(entrega_final, index=False)\n",
    "    \n"
   ]
  },
  {
   "cell_type": "code",
   "execution_count": 595,
   "metadata": {},
   "outputs": [],
   "source": [
    "# entrega_final"
   ]
  },
  {
   "cell_type": "code",
   "execution_count": 596,
   "metadata": {},
   "outputs": [],
   "source": [
    "# cantidad_columnas = df_gbm.shape[1]\n",
    "# message = f\"{entrega}, cantidad de columnas en el train: {cantidad_columnas}, modelo: LGBM, mejores parametros: {best_params}, mejor iteracion: {best_iter}, archivo: {entrega_final}\""
   ]
  },
  {
   "cell_type": "markdown",
   "metadata": {},
   "source": [
    "<!-- ### Kaggle -->"
   ]
  },
  {
   "cell_type": "code",
   "execution_count": 597,
   "metadata": {},
   "outputs": [],
   "source": [
    "\n",
    "# entrega_final = os.path.join(path, entrega)\n",
    "# entrega_final\n",
    "# competition= 'dm-ey-f-2024-primera'"
   ]
  },
  {
   "cell_type": "code",
   "execution_count": 598,
   "metadata": {},
   "outputs": [],
   "source": [
    "# kaggle.api.competition_submit(competition=competition, file_name= entrega_final, message=message, quiet=False)"
   ]
  },
  {
   "cell_type": "markdown",
   "metadata": {},
   "source": [
    "## Consejo de especialistas"
   ]
  },
  {
   "cell_type": "code",
   "execution_count": 599,
   "metadata": {},
   "outputs": [],
   "source": [
    "# df_abril = df_train[df_train['foto_mes'] == 202104]\n",
    "# df_abril.shape\n",
    "# df_abril['clase_ternaria'] = df_abril['clase_ternaria'].map(lambda x: 0 if x == 'CONTINUA' else 1)"
   ]
  },
  {
   "cell_type": "code",
   "execution_count": 600,
   "metadata": {},
   "outputs": [],
   "source": [
    "# df_junio = df_train[df_train['foto_mes'] == 202106]\n",
    "# clientes_unicos = df_junio['numero_de_cliente'].unique()"
   ]
  },
  {
   "cell_type": "code",
   "execution_count": 601,
   "metadata": {},
   "outputs": [],
   "source": [
    "# junio_en_abril = df_abril.loc[df_abril['numero_de_cliente'].isin(clientes_unicos), 'clase_ternaria']"
   ]
  },
  {
   "cell_type": "code",
   "execution_count": 602,
   "metadata": {},
   "outputs": [],
   "source": [
    "# Xtrain_rf = df_abril\n",
    "# ytrain_rf = Xtrain_rf[\"clase_ternaria\"].map(lambda x: 0 if x == \"CONTINUA\" else 1)\n",
    "# Xtrain_rf = Xtrain_rf.drop(\"clase_ternaria\", axis=1)"
   ]
  },
  {
   "cell_type": "code",
   "execution_count": 603,
   "metadata": {},
   "outputs": [],
   "source": [
    "# imp_mean = SimpleImputer(missing_values=np.nan, strategy='median')\n",
    "# Xtrain_rf_imp = imp_mean.fit_transform(Xtrain_rf)\n"
   ]
  },
  {
   "cell_type": "code",
   "execution_count": 604,
   "metadata": {},
   "outputs": [],
   "source": [
    "# Xtrain_rf_imp.shape"
   ]
  },
  {
   "cell_type": "code",
   "execution_count": 605,
   "metadata": {},
   "outputs": [],
   "source": [
    "# embedding_rf = UMAP(\n",
    "#   n_components=4,\n",
    "#   n_neighbors=50,\n",
    "#   metric=\"minkowski\",\n",
    "#   random_state=17,\n",
    "# ).fit_transform(Xtrain_rf_imp)\n",
    "\n",
    "# plt.scatter(embedding_rf[:,0], embedding_rf[:,1])"
   ]
  },
  {
   "cell_type": "code",
   "execution_count": 606,
   "metadata": {},
   "outputs": [],
   "source": [
    "# hdb = DBSCAN(eps=0.3)\n",
    "# y = hdb.fit(embedding_rf)\n",
    "\n",
    "# plt.scatter(embedding_rf[:, 0], embedding_rf[:, 1], c=y.labels_, cmap='tab10')\n",
    "# plt.tight_layout()\n",
    "# plt.show()"
   ]
  },
  {
   "cell_type": "code",
   "execution_count": 607,
   "metadata": {},
   "outputs": [],
   "source": [
    "# df_abril['clase_ternaria'].value_counts()"
   ]
  },
  {
   "cell_type": "code",
   "execution_count": 608,
   "metadata": {},
   "outputs": [],
   "source": [
    "\n",
    "\n",
    "# embedding_df = pd.DataFrame(embedding_rf, columns=['UMAP_1', 'UMAP_2'])\n",
    "\n",
    "# df_abril = df_abril.reset_index(drop=True)\n",
    "# df_abril = pd.concat([df_abril, embedding_df], axis=1)\n",
    "\n",
    "# df_abril['cluster'] = y.labels_\n",
    "\n"
   ]
  },
  {
   "cell_type": "code",
   "execution_count": 609,
   "metadata": {},
   "outputs": [],
   "source": [
    "# # Crear un mapa de colores para las clases\n",
    "# class_colors = {0: 'blue', 1: 'red'}  # Colores para las dos clases\n",
    "# class_names = {0: 'CONTINUA', 1: 'BAJA'}  # Etiquetas para las clases\n",
    "\n",
    "# plt.figure(figsize=(10, 7))\n",
    "\n",
    "# # Obtener etiquetas de clúster únicas\n",
    "# clusters_unique = df_abril['cluster'].unique()\n",
    "\n",
    "# # Graficar cada clúster y clase\n",
    "# for cluster in clusters_unique:\n",
    "#     # Indices de los puntos en este clúster\n",
    "#     idx = df_abril['cluster'] == cluster\n",
    "#     # Obtener las etiquetas de clase de estos puntos\n",
    "#     classes_in_cluster = df_abril.loc[idx, 'clase_ternaria']\n",
    "#     # Colorear puntos según su clase\n",
    "#     for class_value in [0, 1]:  # Asumiendo dos valores de clase (0, 1)\n",
    "#         idx_class = idx & (df_abril['clase_ternaria'] == class_value)\n",
    "#         if np.any(idx_class):\n",
    "#             plt.scatter(\n",
    "#                 df_abril.loc[idx_class, 'UMAP_1'],\n",
    "#                 df_abril.loc[idx_class, 'UMAP_2'],\n",
    "#                 color=class_colors[class_value],\n",
    "#                 label=f'Clúster {cluster}, {class_names[class_value]}',\n",
    "#                 edgecolor='k',\n",
    "#                 s=50,\n",
    "#                 alpha=0.5\n",
    "#             )\n",
    "\n",
    "\n",
    "\n",
    "# # Configuración de la gráfica\n",
    "# plt.xlabel('Componente UMAP 1')\n",
    "# plt.ylabel('Componente UMAP 2')\n",
    "# plt.title('Distribución de Clases en los Clústeres')\n",
    "# plt.tight_layout()\n",
    "# plt.show()\n",
    "\n"
   ]
  },
  {
   "cell_type": "code",
   "execution_count": 610,
   "metadata": {},
   "outputs": [],
   "source": [
    "# df_abril.groupby('cluster')['clase_ternaria'].value_counts(normalize=True).unstack().plot(kind='bar', stacked=True, color=['blue', 'red'])\n"
   ]
  },
  {
   "cell_type": "markdown",
   "metadata": {},
   "source": [
    "### Puntos de corte"
   ]
  },
  {
   "cell_type": "code",
   "execution_count": 611,
   "metadata": {},
   "outputs": [],
   "source": [
    "\n",
    "# predicciones = y_pred_lgm\n",
    "\n",
    "# X_test['Probabilidad'] = predicciones\n",
    "\n",
    "# tb_entrega = X_test.sort_values(by='Probabilidad', ascending=False)\n",
    "\n",
    "# cortes = range(9000,14000,100)\n",
    "\n",
    "# num_subida_kaggle = 65\n",
    "# for envios in cortes:\n",
    "    \n",
    "#     tb_entrega['Predicted'] = 0\n",
    "#     tb_entrega.iloc[:envios, tb_entrega.columns.get_loc('Predicted')] = 1\n",
    "#     resultados = tb_entrega[[\"numero_de_cliente\", 'Predicted']].reset_index(drop=True)\n",
    "    \n",
    "#     print(\"Cantidad de clientes {}\".format(envios))\n",
    "    \n",
    "#     nombre_archivo = 'entrega_0{}.csv'.format(num_subida_kaggle)\n",
    "#     entrega_final = os.path.join(path, nombre_archivo)\n",
    "#     resultados.to_csv(entrega_final, index=False)\n",
    "    \n",
    "    \n",
    "#     cantidad_columnas = df_train.shape[1]\n",
    "#     message = f\"{entrega}, cantidad de columnas en el train: {cantidad_columnas}, modelo: LGBM, mejores parametros: {best_params}, mejor iteracion: {best_iter}, archivo: {entrega_final}, punto de corte: {envios}, optimizado con optuna: {study_name}\"\n",
    "    \n",
    "#     num_subida_kaggle += 1\n",
    "    \n",
    "    \n",
    "    \n",
    "#     entrega_final = os.path.join(path, nombre_archivo)   \n",
    "#     competencia = 'dm-ey-f-2024-primera'\n",
    "#     try:\n",
    "#         api.competition_submit(file_name=entrega_final,message=message,competition=competencia)\n",
    "#     except:\n",
    "#         print(f\"Numero máximo de envios, último envio ={num_subida_kaggle}\")"
   ]
  },
  {
   "cell_type": "code",
   "execution_count": 612,
   "metadata": {},
   "outputs": [],
   "source": [
    "# df_train.shape"
   ]
  },
  {
   "cell_type": "code",
   "execution_count": 613,
   "metadata": {},
   "outputs": [],
   "source": [
    "# nombre_modelo = 'lgbm_e_en_abril_p_en_junio_451_features.txt'\n",
    "# model.save_model(rf\"C:\\Users\\Admin\\Documents\\1_Notebook\\1_Estudio\\1_UBA_Maestria_DS\\1_Especializacion\\1_Segundo_Semestre\\DMEyF\\modelos_lgbm\\{nombre_modelo}\")"
   ]
  }
 ],
 "metadata": {
  "kernelspec": {
   "display_name": "datascience",
   "language": "python",
   "name": "python3"
  },
  "language_info": {
   "codemirror_mode": {
    "name": "ipython",
    "version": 3
   },
   "file_extension": ".py",
   "mimetype": "text/x-python",
   "name": "python",
   "nbconvert_exporter": "python",
   "pygments_lexer": "ipython3",
   "version": "3.11.9"
  }
 },
 "nbformat": 4,
 "nbformat_minor": 2
}
