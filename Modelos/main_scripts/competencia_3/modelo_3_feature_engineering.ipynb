{
 "cells": [
  {
   "cell_type": "markdown",
   "metadata": {},
   "source": [
    "## Librerías"
   ]
  },
  {
   "cell_type": "markdown",
   "metadata": {},
   "source": []
  },
  {
   "cell_type": "code",
   "execution_count": 4,
   "metadata": {},
   "outputs": [],
   "source": [
    "%%capture\n",
    "%run \"../../recurrentes.ipynb\""
   ]
  },
  {
   "cell_type": "code",
   "execution_count": 5,
   "metadata": {},
   "outputs": [],
   "source": [
    "%%capture\n",
    "%run \"../../funciones.ipynb\""
   ]
  },
  {
   "cell_type": "code",
   "execution_count": 6,
   "metadata": {},
   "outputs": [
    {
     "name": "stdout",
     "output_type": "stream",
     "text": [
      "The sql extension is already loaded. To reload it, use:\n",
      "  %reload_ext sql\n"
     ]
    }
   ],
   "source": [
    "%load_ext sql\n",
    "%config SqlMagic.autopandas = True\n",
    "%config SqlMagic.feedback = False\n",
    "%config SqlMagic.displaycon = False\n",
    "%sql duckdb:///:memory:\n"
   ]
  },
  {
   "cell_type": "markdown",
   "metadata": {},
   "source": [
    "# Feature Engineering"
   ]
  },
  {
   "cell_type": "code",
   "execution_count": null,
   "metadata": {},
   "outputs": [],
   "source": [
    "df_train = pd.read_csv(\"D:\\competencia_03_crudo.csv\")"
   ]
  },
  {
   "cell_type": "code",
   "execution_count": null,
   "metadata": {},
   "outputs": [
    {
     "data": {
      "text/plain": [
       "(4735593, 155)"
      ]
     },
     "execution_count": 31,
     "metadata": {},
     "output_type": "execute_result"
    }
   ],
   "source": [
    "df_train.shape"
   ]
  },
  {
   "cell_type": "code",
   "execution_count": 32,
   "metadata": {},
   "outputs": [],
   "source": [
    "lista_feature = ['active_quarter','mrentabilidad','mrentabilidad_annual','mcuenta_corriente','mcaja_ahorro','mcuentas_saldo','ctarjeta_debito_transacciones','mautoservicio','ctarjeta_visa_transacciones','mtarjeta_visa_consumo','mtarjeta_master_consumo','cprestamos_personales','mprestamos_prendarios','cprestamos_hipotecarios','mprestamos_hipotecarios','cplazo_fijo','mplazo_fijo_dolares','mplazo_fijo_pesos','cpayroll_trx','mpayroll','mpayroll2','cpayroll2_trx','ccuenta_debitos_automaticos','mcuenta_debitos_automaticos','ctarjeta_visa_debitos_automaticos','mttarjeta_visa_debitos_automaticos','ctarjeta_master_debitos_automaticos','mttarjeta_master_debitos_automaticos','cpagodeservicios','mpagodeservicios','mpagomiscuentas','cpagomiscuentas','ccajeros_propios_descuentos','mcajeros_propios_descuentos','ctarjeta_visa_descuentos','mtarjeta_visa_descuentos','ctarjeta_master_descuentos','mtarjeta_master_descuentos','ccomisiones_mantenimiento','mcomisiones_mantenimiento','ccomisiones_otras','mcomisiones_otras','cforex','cforex_buy','mforex_buy','cforex_sell','mforex_sell','ctransferencias_recibidas','mtransferencias_recibidas','ctransferencias_emitidas','mtransferencias_emitidas','cextraccion_autoservicio','mextraccion_autoservicio','ccheques_depositados','mcheques_depositados','ccheques_emitidos','mcheques_emitidos','ccheques_depositados_rechazados','mcheques_depositados_rechazados','ccheques_emitidos_rechazados','mcheques_emitidos_rechazados','ccallcenter_transacciones','chomebanking_transacciones','ccajas_transacciones','ccajas_consultas','ccajas_depositos','ccajas_extracciones','ccajas_otras','catm_trx','matm','catm_trx_other','matm_other','ctrx_quarter','Master_Fvencimiento','Master_msaldototal','Master_msaldopesos','Master_msaldodolares','Master_mconsumospesos','Master_mconsumosdolares','Master_mlimitecompra','Master_madelantopesos','Master_madelantodolares','Master_fultimo_cierre','Master_mpagado','Master_mpagospesos','Master_mpagosdolares','Master_fechaalta','Master_mconsumototal','Master_cconsumos','Master_cadelantosefectivo','Master_mpagominimo','Visa_mfinanciacion_limite','Visa_Fvencimiento','Visa_Finiciomora','Visa_msaldototal','Visa_msaldopesos','Visa_msaldodolares','Visa_mconsumospesos','Visa_mconsumosdolares','Visa_mlimitecompra','Visa_madelantopesos', 'Visa_madelantodolares','Visa_fultimo_cierre','Visa_mpagado','Visa_mpagospesos','Visa_mpagosdolares','Visa_fechaalta','Visa_mconsumotal','Visa_cconsumos','Visa_cadelantosefectivo','Visa_mpagominimo']"
   ]
  },
  {
   "cell_type": "code",
   "execution_count": 33,
   "metadata": {},
   "outputs": [],
   "source": [
    "# con.execute('''\n",
    "# CREATE OR REPLACE TABLE df_train AS\n",
    "# SELECT *,\n",
    "#     (COALESCE(mpayroll, 0) - COALESCE(mcuentas_saldo, 0)) / NULLIF(ctrx_quarter, 0) AS intensidad_gasto\n",
    "# FROM df_train\n",
    "# ''')"
   ]
  },
  {
   "cell_type": "code",
   "execution_count": 34,
   "metadata": {},
   "outputs": [],
   "source": [
    "# df_train['intensidad_gasto'] = (df_train['mpayroll'].fillna(0) - df_train['mcuentas_saldo'].fillna(0)) / df_train['ctrx_quarter'].replace(0, pd.NA)"
   ]
  },
  {
   "cell_type": "code",
   "execution_count": 35,
   "metadata": {},
   "outputs": [],
   "source": [
    "# con.execute('''\n",
    "# create or replace table df_train as\n",
    "# select \n",
    "#     *,\n",
    "#     (IFNULL(visa_msaldototal, 0) + IFNULL(master_msaldototal, 0)) as t_saldo_total\n",
    "# FROM df_train''')\n",
    "\n",
    "\n"
   ]
  },
  {
   "cell_type": "code",
   "execution_count": 36,
   "metadata": {},
   "outputs": [],
   "source": [
    "# df_train['t_saldo_total'] = df_train['Visa_msaldototal'].fillna(0) + df_train['Master_msaldototal'].fillna(0)"
   ]
  },
  {
   "cell_type": "code",
   "execution_count": 37,
   "metadata": {},
   "outputs": [],
   "source": [
    "# con.execute('''\n",
    "# create or replace table df_train as\n",
    "# select \n",
    "#     *,\n",
    "#     (ifnull(Master_mconsumototal,0) + ifnull(Visa_mconsumototal,0)) as t_consumo_total\n",
    "# from df_train''')\n"
   ]
  },
  {
   "cell_type": "code",
   "execution_count": 38,
   "metadata": {},
   "outputs": [],
   "source": [
    "# con.execute('''\n",
    "#             create or replace table df_train as\n",
    "#             select \n",
    "#                     *,\n",
    "#             (IFNULL(t_consumo_total,0) - IFNULL(mpayroll,0)) /NULLIF((IFNULL(mcuentas_saldo, 0) - IFNULL(t_saldo_total,0)), 0) as nivel_endeudamiento, \n",
    "#             FROM df_train''')"
   ]
  },
  {
   "cell_type": "code",
   "execution_count": 39,
   "metadata": {},
   "outputs": [],
   "source": [
    "# df_train['t_consumo_total'] = df_train['Master_mconsumototal'].fillna(0) + df_train['Visa_mconsumototal'].fillna(0)"
   ]
  },
  {
   "cell_type": "markdown",
   "metadata": {},
   "source": [
    "### Status tarjeta"
   ]
  },
  {
   "cell_type": "code",
   "execution_count": 40,
   "metadata": {},
   "outputs": [
    {
     "data": {
      "text/plain": [
       "Master_status\n",
       "0.0    4188245\n",
       "9.0       8853\n",
       "7.0       5623\n",
       "6.0       3483\n",
       "Name: count, dtype: int64"
      ]
     },
     "execution_count": 40,
     "metadata": {},
     "output_type": "execute_result"
    }
   ],
   "source": [
    "df_train['Master_status'].value_counts()"
   ]
  },
  {
   "cell_type": "code",
   "execution_count": 41,
   "metadata": {},
   "outputs": [
    {
     "name": "stderr",
     "output_type": "stream",
     "text": [
      "RuntimeError: If using snippets, you may pass the --with argument explicitly.\n",
      "For more details please refer: https://jupysql.ploomber.io/en/latest/compose.html#with-argument\n",
      "\n",
      "\n",
      "Original error message from DB driver:\n",
      "(duckdb.duckdb.BinderException) Binder Error: Referenced column \"Visa_status\" not found in FROM clause!\n",
      "Candidate bindings: \"df_train.Visa_status_1\"\n",
      "LINE 4:     ...\n",
      "                       ^\n",
      "[SQL: create or replace table df_train as\n",
      "select\n",
      "    *,\n",
      "    (case when Visa_status = 0 then True end) as T_Visa_normal,\n",
      "    (case when Master_status = 0 then True end) as T_Master_normal\n",
      "from df_train;]\n",
      "(Background on this error at: https://sqlalche.me/e/20/f405)\n",
      "\n",
      "If you need help solving this issue, send us a message: https://ploomber.io/community\n"
     ]
    }
   ],
   "source": [
    "%%sql \n",
    "\n",
    "\n",
    "create or replace table df_train as\n",
    "select\n",
    "    *,\n",
    "    (case when Visa_status = 0 then True end) as T_Visa_normal,\n",
    "    (case when Master_status = 0 then True end) as T_Master_normal\n",
    "from df_train;\n",
    "\n",
    "\n",
    "create or replace table df_train as\n",
    "        select *,\n",
    "        CASE \n",
    "        WHEN Visa_status = 6 then 1\n",
    "        WHEN Visa_status = 7 then 2 \n",
    "        WHEN Visa_status = 8 then 3\n",
    "        ELSE NULL\n",
    "        END as Visa_status\n",
    "        from df_train;"
   ]
  },
  {
   "cell_type": "code",
   "execution_count": null,
   "metadata": {},
   "outputs": [
    {
     "data": {
      "text/html": [
       "<div>\n",
       "<style scoped>\n",
       "    .dataframe tbody tr th:only-of-type {\n",
       "        vertical-align: middle;\n",
       "    }\n",
       "\n",
       "    .dataframe tbody tr th {\n",
       "        vertical-align: top;\n",
       "    }\n",
       "\n",
       "    .dataframe thead th {\n",
       "        text-align: right;\n",
       "    }\n",
       "</style>\n",
       "<table border=\"1\" class=\"dataframe\">\n",
       "  <thead>\n",
       "    <tr style=\"text-align: right;\">\n",
       "      <th></th>\n",
       "      <th>Success</th>\n",
       "    </tr>\n",
       "  </thead>\n",
       "  <tbody>\n",
       "  </tbody>\n",
       "</table>\n",
       "</div>"
      ],
      "text/plain": [
       "Empty DataFrame\n",
       "Columns: [Success]\n",
       "Index: []"
      ]
     },
     "execution_count": 16,
     "metadata": {},
     "output_type": "execute_result"
    }
   ],
   "source": [
    "%%sql\n",
    "\n",
    "alter table df_train drop column visa_status;\n",
    "alter table df_train drop column Master_status;"
   ]
  },
  {
   "cell_type": "code",
   "execution_count": null,
   "metadata": {},
   "outputs": [],
   "source": [
    "# df_train['T_Visa_normal'] = df_train['Visa_status'] == 0\n",
    "\n",
    "\n",
    "# df_train['T_Master_normal'] = df_train['Master_status'] == 0"
   ]
  },
  {
   "cell_type": "code",
   "execution_count": null,
   "metadata": {},
   "outputs": [],
   "source": [
    "# con.execute('''\n",
    "# create or replace table df_train as\n",
    "# select *\n",
    "#     , greatest(Master_Fvencimiento, Visa_Fvencimiento) as tc_fvencimiento_mayor\n",
    "#     , least(Master_Fvencimiento, Visa_Fvencimiento) as tc_fvencimiento_menor\n",
    "# from df_train''')"
   ]
  },
  {
   "cell_type": "code",
   "execution_count": null,
   "metadata": {},
   "outputs": [],
   "source": [
    "# con.execute('''create or replace table df_train as\n",
    "#     select *\n",
    "#     , Master_mpagado+Visa_mpagado as tarjeta_total_pagado\n",
    "#     from df_train''')"
   ]
  },
  {
   "cell_type": "code",
   "execution_count": null,
   "metadata": {},
   "outputs": [],
   "source": [
    "# con.execute('''create or replace table df_train as\n",
    "#     select *\n",
    "#     ,IFNULL(tarjeta_total_pagado, 0) / NULLIF(IFNULL(mprestamos_personales,0),0) as actitud_pago\n",
    "#             from df_train''')"
   ]
  },
  {
   "cell_type": "code",
   "execution_count": null,
   "metadata": {},
   "outputs": [],
   "source": [
    "# con.execute('''\n",
    "# create or replace table df_train as\n",
    "# select *,\n",
    "#     lag (actitud_pago, 1) over (\n",
    "#         partition by numero_de_cliente \n",
    "#         order by foto_mes\n",
    "#     ) as lag_actitud_pago_1,\n",
    "#     lag (actitud_pago, 2) over (\n",
    "#         partition by numero_de_cliente \n",
    "#         order by foto_mes\n",
    "#     ) as lag_actitud_pago_2\n",
    "# from df_train''')"
   ]
  },
  {
   "cell_type": "code",
   "execution_count": null,
   "metadata": {},
   "outputs": [],
   "source": [
    "# df_train['T_Visa_normal'] = df_train['Visa_status'] == 0\n",
    "\n",
    "# # Calcular la nueva columna T_Master_normal\n",
    "# df_train['T_Master_normal'] = df_train['Master_status'] == 0"
   ]
  },
  {
   "cell_type": "markdown",
   "metadata": {},
   "source": [
    "### FE lags"
   ]
  },
  {
   "cell_type": "code",
   "execution_count": 43,
   "metadata": {},
   "outputs": [],
   "source": [
    "lista_feature = ['active_quarter',\n",
    " 'mrentabilidad',\n",
    " 'mrentabilidad_annual',\n",
    " 'mcuenta_corriente',\n",
    " 'mcaja_ahorro',\n",
    " 'mcuentas_saldo',\n",
    " 'ctarjeta_debito_transacciones',\n",
    " 'mautoservicio',\n",
    " 'ctarjeta_visa_transacciones',\n",
    " 'mtarjeta_visa_consumo',\n",
    " 'mtarjeta_master_consumo',\n",
    " 'cprestamos_personales',\n",
    " 'mprestamos_prendarios',\n",
    " 'cprestamos_hipotecarios',\n",
    " 'mprestamos_hipotecarios',\n",
    " 'cplazo_fijo',\n",
    " 'mplazo_fijo_dolares',\n",
    " 'mplazo_fijo_pesos',\n",
    " 'cpayroll_trx',\n",
    " 'mpayroll',\n",
    " 'mpayroll2',\n",
    " 'cpayroll2_trx',\n",
    " 'ccuenta_debitos_automaticos',\n",
    " 'mcuenta_debitos_automaticos',\n",
    " 'ctarjeta_visa_debitos_automaticos',\n",
    " 'mttarjeta_visa_debitos_automaticos',\n",
    " 'ctarjeta_master_debitos_automaticos',\n",
    " 'mttarjeta_master_debitos_automaticos',\n",
    " 'cpagodeservicios',\n",
    " 'mpagodeservicios',\n",
    " 'mpagomiscuentas',\n",
    " 'cpagomiscuentas',\n",
    " 'ccajeros_propios_descuentos',\n",
    " 'mcajeros_propios_descuentos',\n",
    " 'ctarjeta_visa_descuentos',\n",
    " 'mtarjeta_visa_descuentos',\n",
    " 'ctarjeta_master_descuentos',\n",
    " 'mtarjeta_master_descuentos',\n",
    " 'ccomisiones_mantenimiento',\n",
    " 'mcomisiones_mantenimiento',\n",
    " 'ccomisiones_otras',\n",
    " 'mcomisiones_otras',\n",
    " 'cforex',\n",
    " 'cforex_buy',\n",
    " 'mforex_buy',\n",
    " 'cforex_sell',\n",
    " 'mforex_sell',\n",
    " 'ctransferencias_recibidas',\n",
    " 'mtransferencias_recibidas',\n",
    " 'ctransferencias_emitidas',\n",
    " 'mtransferencias_emitidas',\n",
    " 'cextraccion_autoservicio',\n",
    " 'mextraccion_autoservicio',\n",
    " 'ccheques_depositados',\n",
    " 'mcheques_depositados',\n",
    " 'ccheques_emitidos',\n",
    " 'mcheques_emitidos',\n",
    " 'ccheques_depositados_rechazados',\n",
    " 'mcheques_depositados_rechazados',\n",
    " 'ccheques_emitidos_rechazados',\n",
    " 'mcheques_emitidos_rechazados',\n",
    " 'ccallcenter_transacciones',\n",
    " 'chomebanking_transacciones',\n",
    " 'ccajas_transacciones',\n",
    " 'ccajas_consultas',\n",
    " 'ccajas_depositos',\n",
    " 'ccajas_extracciones',\n",
    " 'ccajas_otras',\n",
    " 'catm_trx',\n",
    " 'matm',\n",
    " 'catm_trx_other',\n",
    " 'matm_other',\n",
    " 'ctrx_quarter',\n",
    " 'Master_Fvencimiento',\n",
    " 'Master_msaldototal',\n",
    " 'Master_msaldopesos',\n",
    " 'Master_msaldodolares',\n",
    " 'Master_mconsumospesos',\n",
    " 'Master_mconsumosdolares',\n",
    " 'Master_mlimitecompra',\n",
    " 'Master_madelantopesos',\n",
    " 'Master_madelantodolares',\n",
    " 'Master_fultimo_cierre',\n",
    " 'Master_mpagado',\n",
    " 'Master_mpagospesos',\n",
    " 'Master_mpagosdolares',\n",
    " 'Master_fechaalta',\n",
    " 'Master_mconsumototal',\n",
    " 'Master_cconsumos',\n",
    " 'Master_cadelantosefectivo',\n",
    " 'Master_mpagominimo',\n",
    " 'Visa_mfinanciacion_limite',\n",
    " 'Visa_Fvencimiento',\n",
    " 'Visa_Finiciomora',\n",
    " 'Visa_msaldototal',\n",
    " 'Visa_msaldopesos',\n",
    " 'Visa_msaldodolares',\n",
    " 'Visa_mconsumospesos',\n",
    " 'Visa_mconsumosdolares',\n",
    " 'Visa_mlimitecompra',\n",
    " 'Visa_madelantopesos',\n",
    " 'Visa_madelantodolares',\n",
    " 'Visa_fultimo_cierre',\n",
    " 'Visa_mpagado',\n",
    " 'Visa_mpagospesos',\n",
    " 'Visa_mpagosdolares',\n",
    " 'Visa_fechaalta',\n",
    " 'Visa_mconsumototal',\n",
    " 'Visa_cconsumos',\n",
    " 'Visa_cadelantosefectivo',\n",
    " 'Visa_mpagominimo']"
   ]
  },
  {
   "cell_type": "code",
   "execution_count": null,
   "metadata": {},
   "outputs": [
    {
     "data": {
      "text/plain": [
       "(4735593, 155)"
      ]
     },
     "execution_count": 24,
     "metadata": {},
     "output_type": "execute_result"
    }
   ],
   "source": [
    "df_train.shape"
   ]
  },
  {
   "cell_type": "code",
   "execution_count": 44,
   "metadata": {},
   "outputs": [
    {
     "data": {
      "text/html": [
       "<div>\n",
       "<style scoped>\n",
       "    .dataframe tbody tr th:only-of-type {\n",
       "        vertical-align: middle;\n",
       "    }\n",
       "\n",
       "    .dataframe tbody tr th {\n",
       "        vertical-align: top;\n",
       "    }\n",
       "\n",
       "    .dataframe thead th {\n",
       "        text-align: right;\n",
       "    }\n",
       "</style>\n",
       "<table border=\"1\" class=\"dataframe\">\n",
       "  <thead>\n",
       "    <tr style=\"text-align: right;\">\n",
       "      <th></th>\n",
       "      <th>Success</th>\n",
       "    </tr>\n",
       "  </thead>\n",
       "  <tbody>\n",
       "  </tbody>\n",
       "</table>\n",
       "</div>"
      ],
      "text/plain": [
       "Empty DataFrame\n",
       "Columns: [Success]\n",
       "Index: []"
      ]
     },
     "execution_count": 44,
     "metadata": {},
     "output_type": "execute_result"
    }
   ],
   "source": [
    "lag_columns = []\n",
    "for variable in lista_feature:\n",
    "    lag_columns.append(f\"lag({variable}, 1) over (partition by numero_de_cliente order by foto_mes) as {variable}_lag_1\")\n",
    "    lag_columns.append(f\"lag({variable}, 2) over (partition by numero_de_cliente order by foto_mes) as {variable}_lag_2\")\n",
    "\n",
    "\n",
    "lag_columns_sql = \",\\n    \".join(lag_columns)\n",
    "\n",
    "\n",
    "query = f\"\"\"\n",
    "CREATE OR REPLACE TABLE df_train AS\n",
    "SELECT *,\n",
    "    {lag_columns_sql}\n",
    "FROM df_train\n",
    "\"\"\"\n",
    "\n",
    "%sql {{query}}\n",
    "\n"
   ]
  },
  {
   "cell_type": "code",
   "execution_count": 45,
   "metadata": {},
   "outputs": [
    {
     "data": {
      "text/html": [
       "<div>\n",
       "<style scoped>\n",
       "    .dataframe tbody tr th:only-of-type {\n",
       "        vertical-align: middle;\n",
       "    }\n",
       "\n",
       "    .dataframe tbody tr th {\n",
       "        vertical-align: top;\n",
       "    }\n",
       "\n",
       "    .dataframe thead th {\n",
       "        text-align: right;\n",
       "    }\n",
       "</style>\n",
       "<table border=\"1\" class=\"dataframe\">\n",
       "  <thead>\n",
       "    <tr style=\"text-align: right;\">\n",
       "      <th></th>\n",
       "      <th>numero_de_cliente</th>\n",
       "      <th>foto_mes</th>\n",
       "      <th>active_quarter</th>\n",
       "      <th>cliente_vip</th>\n",
       "      <th>internet</th>\n",
       "      <th>cliente_edad</th>\n",
       "      <th>cliente_antiguedad</th>\n",
       "      <th>mrentabilidad</th>\n",
       "      <th>mrentabilidad_annual</th>\n",
       "      <th>mcomisiones</th>\n",
       "      <th>...</th>\n",
       "      <th>Visa_fechaalta_lag_1</th>\n",
       "      <th>Visa_fechaalta_lag_2</th>\n",
       "      <th>Visa_mconsumototal_lag_1</th>\n",
       "      <th>Visa_mconsumototal_lag_2</th>\n",
       "      <th>Visa_cconsumos_lag_1</th>\n",
       "      <th>Visa_cconsumos_lag_2</th>\n",
       "      <th>Visa_cadelantosefectivo_lag_1</th>\n",
       "      <th>Visa_cadelantosefectivo_lag_2</th>\n",
       "      <th>Visa_mpagominimo_lag_1</th>\n",
       "      <th>Visa_mpagominimo_lag_2</th>\n",
       "    </tr>\n",
       "  </thead>\n",
       "  <tbody>\n",
       "    <tr>\n",
       "      <th>0</th>\n",
       "      <td>249291844</td>\n",
       "      <td>201901</td>\n",
       "      <td>1</td>\n",
       "      <td>0</td>\n",
       "      <td>1</td>\n",
       "      <td>56</td>\n",
       "      <td>262</td>\n",
       "      <td>6794.43</td>\n",
       "      <td>51497.65</td>\n",
       "      <td>612.77</td>\n",
       "      <td>...</td>\n",
       "      <td>NaN</td>\n",
       "      <td>NaN</td>\n",
       "      <td>NaN</td>\n",
       "      <td>NaN</td>\n",
       "      <td>NaN</td>\n",
       "      <td>NaN</td>\n",
       "      <td>NaN</td>\n",
       "      <td>NaN</td>\n",
       "      <td>NaN</td>\n",
       "      <td>NaN</td>\n",
       "    </tr>\n",
       "    <tr>\n",
       "      <th>1</th>\n",
       "      <td>249291844</td>\n",
       "      <td>201902</td>\n",
       "      <td>1</td>\n",
       "      <td>0</td>\n",
       "      <td>1</td>\n",
       "      <td>56</td>\n",
       "      <td>263</td>\n",
       "      <td>4734.80</td>\n",
       "      <td>53145.49</td>\n",
       "      <td>217.39</td>\n",
       "      <td>...</td>\n",
       "      <td>2696.0</td>\n",
       "      <td>NaN</td>\n",
       "      <td>2099.68</td>\n",
       "      <td>NaN</td>\n",
       "      <td>3.0</td>\n",
       "      <td>NaN</td>\n",
       "      <td>0.0</td>\n",
       "      <td>NaN</td>\n",
       "      <td>1442.79</td>\n",
       "      <td>NaN</td>\n",
       "    </tr>\n",
       "    <tr>\n",
       "      <th>2</th>\n",
       "      <td>249291844</td>\n",
       "      <td>201903</td>\n",
       "      <td>1</td>\n",
       "      <td>0</td>\n",
       "      <td>1</td>\n",
       "      <td>56</td>\n",
       "      <td>264</td>\n",
       "      <td>5606.25</td>\n",
       "      <td>55569.23</td>\n",
       "      <td>250.88</td>\n",
       "      <td>...</td>\n",
       "      <td>2724.0</td>\n",
       "      <td>2696.0</td>\n",
       "      <td>405.50</td>\n",
       "      <td>2099.68</td>\n",
       "      <td>2.0</td>\n",
       "      <td>3.0</td>\n",
       "      <td>0.0</td>\n",
       "      <td>0.0</td>\n",
       "      <td>1196.46</td>\n",
       "      <td>1442.79</td>\n",
       "    </tr>\n",
       "    <tr>\n",
       "      <th>3</th>\n",
       "      <td>249291844</td>\n",
       "      <td>201904</td>\n",
       "      <td>1</td>\n",
       "      <td>0</td>\n",
       "      <td>1</td>\n",
       "      <td>56</td>\n",
       "      <td>265</td>\n",
       "      <td>6269.47</td>\n",
       "      <td>58429.81</td>\n",
       "      <td>295.13</td>\n",
       "      <td>...</td>\n",
       "      <td>2755.0</td>\n",
       "      <td>2724.0</td>\n",
       "      <td>1750.93</td>\n",
       "      <td>405.50</td>\n",
       "      <td>3.0</td>\n",
       "      <td>2.0</td>\n",
       "      <td>0.0</td>\n",
       "      <td>0.0</td>\n",
       "      <td>1243.38</td>\n",
       "      <td>1196.46</td>\n",
       "    </tr>\n",
       "    <tr>\n",
       "      <th>4</th>\n",
       "      <td>249291844</td>\n",
       "      <td>201905</td>\n",
       "      <td>1</td>\n",
       "      <td>0</td>\n",
       "      <td>1</td>\n",
       "      <td>56</td>\n",
       "      <td>266</td>\n",
       "      <td>0.00</td>\n",
       "      <td>0.00</td>\n",
       "      <td>0.00</td>\n",
       "      <td>...</td>\n",
       "      <td>2785.0</td>\n",
       "      <td>2755.0</td>\n",
       "      <td>452.47</td>\n",
       "      <td>1750.93</td>\n",
       "      <td>2.0</td>\n",
       "      <td>3.0</td>\n",
       "      <td>0.0</td>\n",
       "      <td>0.0</td>\n",
       "      <td>973.59</td>\n",
       "      <td>1243.38</td>\n",
       "    </tr>\n",
       "    <tr>\n",
       "      <th>...</th>\n",
       "      <td>...</td>\n",
       "      <td>...</td>\n",
       "      <td>...</td>\n",
       "      <td>...</td>\n",
       "      <td>...</td>\n",
       "      <td>...</td>\n",
       "      <td>...</td>\n",
       "      <td>...</td>\n",
       "      <td>...</td>\n",
       "      <td>...</td>\n",
       "      <td>...</td>\n",
       "      <td>...</td>\n",
       "      <td>...</td>\n",
       "      <td>...</td>\n",
       "      <td>...</td>\n",
       "      <td>...</td>\n",
       "      <td>...</td>\n",
       "      <td>...</td>\n",
       "      <td>...</td>\n",
       "      <td>...</td>\n",
       "      <td>...</td>\n",
       "    </tr>\n",
       "    <tr>\n",
       "      <th>4735588</th>\n",
       "      <td>703832887</td>\n",
       "      <td>202001</td>\n",
       "      <td>1</td>\n",
       "      <td>0</td>\n",
       "      <td>0</td>\n",
       "      <td>46</td>\n",
       "      <td>157</td>\n",
       "      <td>-713.96</td>\n",
       "      <td>17404.37</td>\n",
       "      <td>-1883.31</td>\n",
       "      <td>...</td>\n",
       "      <td>3844.0</td>\n",
       "      <td>3813.0</td>\n",
       "      <td>NaN</td>\n",
       "      <td>NaN</td>\n",
       "      <td>NaN</td>\n",
       "      <td>NaN</td>\n",
       "      <td>NaN</td>\n",
       "      <td>NaN</td>\n",
       "      <td>0.00</td>\n",
       "      <td>0.00</td>\n",
       "    </tr>\n",
       "    <tr>\n",
       "      <th>4735589</th>\n",
       "      <td>703832887</td>\n",
       "      <td>202002</td>\n",
       "      <td>1</td>\n",
       "      <td>0</td>\n",
       "      <td>1</td>\n",
       "      <td>46</td>\n",
       "      <td>158</td>\n",
       "      <td>915.59</td>\n",
       "      <td>17476.16</td>\n",
       "      <td>-342.72</td>\n",
       "      <td>...</td>\n",
       "      <td>3875.0</td>\n",
       "      <td>3844.0</td>\n",
       "      <td>NaN</td>\n",
       "      <td>NaN</td>\n",
       "      <td>NaN</td>\n",
       "      <td>NaN</td>\n",
       "      <td>NaN</td>\n",
       "      <td>NaN</td>\n",
       "      <td>0.00</td>\n",
       "      <td>0.00</td>\n",
       "    </tr>\n",
       "    <tr>\n",
       "      <th>4735590</th>\n",
       "      <td>703832887</td>\n",
       "      <td>202003</td>\n",
       "      <td>1</td>\n",
       "      <td>0</td>\n",
       "      <td>1</td>\n",
       "      <td>46</td>\n",
       "      <td>159</td>\n",
       "      <td>1174.25</td>\n",
       "      <td>17037.22</td>\n",
       "      <td>-55.65</td>\n",
       "      <td>...</td>\n",
       "      <td>3904.0</td>\n",
       "      <td>3875.0</td>\n",
       "      <td>NaN</td>\n",
       "      <td>NaN</td>\n",
       "      <td>NaN</td>\n",
       "      <td>NaN</td>\n",
       "      <td>NaN</td>\n",
       "      <td>NaN</td>\n",
       "      <td>0.00</td>\n",
       "      <td>0.00</td>\n",
       "    </tr>\n",
       "    <tr>\n",
       "      <th>4735591</th>\n",
       "      <td>703832887</td>\n",
       "      <td>202004</td>\n",
       "      <td>1</td>\n",
       "      <td>0</td>\n",
       "      <td>1</td>\n",
       "      <td>46</td>\n",
       "      <td>160</td>\n",
       "      <td>1497.70</td>\n",
       "      <td>17588.74</td>\n",
       "      <td>202.88</td>\n",
       "      <td>...</td>\n",
       "      <td>3935.0</td>\n",
       "      <td>3904.0</td>\n",
       "      <td>NaN</td>\n",
       "      <td>NaN</td>\n",
       "      <td>NaN</td>\n",
       "      <td>NaN</td>\n",
       "      <td>NaN</td>\n",
       "      <td>NaN</td>\n",
       "      <td>0.00</td>\n",
       "      <td>0.00</td>\n",
       "    </tr>\n",
       "    <tr>\n",
       "      <th>4735592</th>\n",
       "      <td>703832887</td>\n",
       "      <td>202005</td>\n",
       "      <td>1</td>\n",
       "      <td>0</td>\n",
       "      <td>1</td>\n",
       "      <td>46</td>\n",
       "      <td>161</td>\n",
       "      <td>1003.06</td>\n",
       "      <td>15817.82</td>\n",
       "      <td>-6.81</td>\n",
       "      <td>...</td>\n",
       "      <td>3965.0</td>\n",
       "      <td>3935.0</td>\n",
       "      <td>NaN</td>\n",
       "      <td>NaN</td>\n",
       "      <td>NaN</td>\n",
       "      <td>NaN</td>\n",
       "      <td>NaN</td>\n",
       "      <td>NaN</td>\n",
       "      <td>0.00</td>\n",
       "      <td>0.00</td>\n",
       "    </tr>\n",
       "  </tbody>\n",
       "</table>\n",
       "<p>4735593 rows × 378 columns</p>\n",
       "</div>"
      ],
      "text/plain": [
       "         numero_de_cliente  foto_mes  active_quarter  cliente_vip  internet  \\\n",
       "0                249291844    201901               1            0         1   \n",
       "1                249291844    201902               1            0         1   \n",
       "2                249291844    201903               1            0         1   \n",
       "3                249291844    201904               1            0         1   \n",
       "4                249291844    201905               1            0         1   \n",
       "...                    ...       ...             ...          ...       ...   \n",
       "4735588          703832887    202001               1            0         0   \n",
       "4735589          703832887    202002               1            0         1   \n",
       "4735590          703832887    202003               1            0         1   \n",
       "4735591          703832887    202004               1            0         1   \n",
       "4735592          703832887    202005               1            0         1   \n",
       "\n",
       "         cliente_edad  cliente_antiguedad  mrentabilidad  \\\n",
       "0                  56                 262        6794.43   \n",
       "1                  56                 263        4734.80   \n",
       "2                  56                 264        5606.25   \n",
       "3                  56                 265        6269.47   \n",
       "4                  56                 266           0.00   \n",
       "...               ...                 ...            ...   \n",
       "4735588            46                 157        -713.96   \n",
       "4735589            46                 158         915.59   \n",
       "4735590            46                 159        1174.25   \n",
       "4735591            46                 160        1497.70   \n",
       "4735592            46                 161        1003.06   \n",
       "\n",
       "         mrentabilidad_annual  mcomisiones  ...  Visa_fechaalta_lag_1  \\\n",
       "0                    51497.65       612.77  ...                   NaN   \n",
       "1                    53145.49       217.39  ...                2696.0   \n",
       "2                    55569.23       250.88  ...                2724.0   \n",
       "3                    58429.81       295.13  ...                2755.0   \n",
       "4                        0.00         0.00  ...                2785.0   \n",
       "...                       ...          ...  ...                   ...   \n",
       "4735588              17404.37     -1883.31  ...                3844.0   \n",
       "4735589              17476.16      -342.72  ...                3875.0   \n",
       "4735590              17037.22       -55.65  ...                3904.0   \n",
       "4735591              17588.74       202.88  ...                3935.0   \n",
       "4735592              15817.82        -6.81  ...                3965.0   \n",
       "\n",
       "         Visa_fechaalta_lag_2  Visa_mconsumototal_lag_1  \\\n",
       "0                         NaN                       NaN   \n",
       "1                         NaN                   2099.68   \n",
       "2                      2696.0                    405.50   \n",
       "3                      2724.0                   1750.93   \n",
       "4                      2755.0                    452.47   \n",
       "...                       ...                       ...   \n",
       "4735588                3813.0                       NaN   \n",
       "4735589                3844.0                       NaN   \n",
       "4735590                3875.0                       NaN   \n",
       "4735591                3904.0                       NaN   \n",
       "4735592                3935.0                       NaN   \n",
       "\n",
       "         Visa_mconsumototal_lag_2  Visa_cconsumos_lag_1  Visa_cconsumos_lag_2  \\\n",
       "0                             NaN                   NaN                   NaN   \n",
       "1                             NaN                   3.0                   NaN   \n",
       "2                         2099.68                   2.0                   3.0   \n",
       "3                          405.50                   3.0                   2.0   \n",
       "4                         1750.93                   2.0                   3.0   \n",
       "...                           ...                   ...                   ...   \n",
       "4735588                       NaN                   NaN                   NaN   \n",
       "4735589                       NaN                   NaN                   NaN   \n",
       "4735590                       NaN                   NaN                   NaN   \n",
       "4735591                       NaN                   NaN                   NaN   \n",
       "4735592                       NaN                   NaN                   NaN   \n",
       "\n",
       "         Visa_cadelantosefectivo_lag_1  Visa_cadelantosefectivo_lag_2  \\\n",
       "0                                  NaN                            NaN   \n",
       "1                                  0.0                            NaN   \n",
       "2                                  0.0                            0.0   \n",
       "3                                  0.0                            0.0   \n",
       "4                                  0.0                            0.0   \n",
       "...                                ...                            ...   \n",
       "4735588                            NaN                            NaN   \n",
       "4735589                            NaN                            NaN   \n",
       "4735590                            NaN                            NaN   \n",
       "4735591                            NaN                            NaN   \n",
       "4735592                            NaN                            NaN   \n",
       "\n",
       "         Visa_mpagominimo_lag_1  Visa_mpagominimo_lag_2  \n",
       "0                           NaN                     NaN  \n",
       "1                       1442.79                     NaN  \n",
       "2                       1196.46                 1442.79  \n",
       "3                       1243.38                 1196.46  \n",
       "4                        973.59                 1243.38  \n",
       "...                         ...                     ...  \n",
       "4735588                    0.00                    0.00  \n",
       "4735589                    0.00                    0.00  \n",
       "4735590                    0.00                    0.00  \n",
       "4735591                    0.00                    0.00  \n",
       "4735592                    0.00                    0.00  \n",
       "\n",
       "[4735593 rows x 378 columns]"
      ]
     },
     "execution_count": 45,
     "metadata": {},
     "output_type": "execute_result"
    }
   ],
   "source": [
    "%sql select * from df_train"
   ]
  },
  {
   "cell_type": "code",
   "execution_count": null,
   "metadata": {},
   "outputs": [],
   "source": [
    "lag_columns = []\n",
    "for variable in lista_feature:\n",
    "    lag_columns.append(f\"lag({variable}, 1) over (partition by numero_de_cliente order by foto_mes) as {variable}_lag_1\")\n",
    "    lag_columns.append(f\"lag({variable}, 2) over (partition by numero_de_cliente order by foto_mes) as {variable}_lag_2\")\n",
    "\n",
    "\n",
    "lag_columns_sql = \",\\n    \".join(lag_columns)\n",
    "\n",
    "\n",
    "query = f\"\"\"\n",
    "CREATE OR REPLACE TABLE df_train AS\n",
    "SELECT *,\n",
    "    {lag_columns_sql}\n",
    "FROM df_train\n",
    "\"\"\"\n",
    "\n",
    "%sql {{query}}\n"
   ]
  },
  {
   "cell_type": "code",
   "execution_count": 75,
   "metadata": {},
   "outputs": [
    {
     "data": {
      "text/plain": [
       "'lag(active_quarter, 1) over (partition by numero_de_cliente order by foto_mes) as active_quarter_lag_1,\\n    lag(active_quarter, 2) over (partition by numero_de_cliente order by foto_mes) as active_quarter_lag_2,\\n    lag(mrentabilidad, 1) over (partition by numero_de_cliente order by foto_mes) as mrentabilidad_lag_1,\\n    lag(mrentabilidad, 2) over (partition by numero_de_cliente order by foto_mes) as mrentabilidad_lag_2,\\n    lag(mrentabilidad_annual, 1) over (partition by numero_de_cliente order by foto_mes) as mrentabilidad_annual_lag_1,\\n    lag(mrentabilidad_annual, 2) over (partition by numero_de_cliente order by foto_mes) as mrentabilidad_annual_lag_2,\\n    lag(mcuenta_corriente, 1) over (partition by numero_de_cliente order by foto_mes) as mcuenta_corriente_lag_1,\\n    lag(mcuenta_corriente, 2) over (partition by numero_de_cliente order by foto_mes) as mcuenta_corriente_lag_2,\\n    lag(mcaja_ahorro, 1) over (partition by numero_de_cliente order by foto_mes) as mcaja_ahorro_lag_1,\\n    lag(mcaja_ahorro, 2) over (partition by numero_de_cliente order by foto_mes) as mcaja_ahorro_lag_2,\\n    lag(mcuentas_saldo, 1) over (partition by numero_de_cliente order by foto_mes) as mcuentas_saldo_lag_1,\\n    lag(mcuentas_saldo, 2) over (partition by numero_de_cliente order by foto_mes) as mcuentas_saldo_lag_2,\\n    lag(ctarjeta_debito_transacciones, 1) over (partition by numero_de_cliente order by foto_mes) as ctarjeta_debito_transacciones_lag_1,\\n    lag(ctarjeta_debito_transacciones, 2) over (partition by numero_de_cliente order by foto_mes) as ctarjeta_debito_transacciones_lag_2,\\n    lag(mautoservicio, 1) over (partition by numero_de_cliente order by foto_mes) as mautoservicio_lag_1,\\n    lag(mautoservicio, 2) over (partition by numero_de_cliente order by foto_mes) as mautoservicio_lag_2,\\n    lag(ctarjeta_visa_transacciones, 1) over (partition by numero_de_cliente order by foto_mes) as ctarjeta_visa_transacciones_lag_1,\\n    lag(ctarjeta_visa_transacciones, 2) over (partition by numero_de_cliente order by foto_mes) as ctarjeta_visa_transacciones_lag_2,\\n    lag(mtarjeta_visa_consumo, 1) over (partition by numero_de_cliente order by foto_mes) as mtarjeta_visa_consumo_lag_1,\\n    lag(mtarjeta_visa_consumo, 2) over (partition by numero_de_cliente order by foto_mes) as mtarjeta_visa_consumo_lag_2,\\n    lag(mtarjeta_master_consumo, 1) over (partition by numero_de_cliente order by foto_mes) as mtarjeta_master_consumo_lag_1,\\n    lag(mtarjeta_master_consumo, 2) over (partition by numero_de_cliente order by foto_mes) as mtarjeta_master_consumo_lag_2,\\n    lag(cprestamos_personales, 1) over (partition by numero_de_cliente order by foto_mes) as cprestamos_personales_lag_1,\\n    lag(cprestamos_personales, 2) over (partition by numero_de_cliente order by foto_mes) as cprestamos_personales_lag_2,\\n    lag(mprestamos_prendarios, 1) over (partition by numero_de_cliente order by foto_mes) as mprestamos_prendarios_lag_1,\\n    lag(mprestamos_prendarios, 2) over (partition by numero_de_cliente order by foto_mes) as mprestamos_prendarios_lag_2,\\n    lag(cprestamos_hipotecarios, 1) over (partition by numero_de_cliente order by foto_mes) as cprestamos_hipotecarios_lag_1,\\n    lag(cprestamos_hipotecarios, 2) over (partition by numero_de_cliente order by foto_mes) as cprestamos_hipotecarios_lag_2,\\n    lag(mprestamos_hipotecarios, 1) over (partition by numero_de_cliente order by foto_mes) as mprestamos_hipotecarios_lag_1,\\n    lag(mprestamos_hipotecarios, 2) over (partition by numero_de_cliente order by foto_mes) as mprestamos_hipotecarios_lag_2,\\n    lag(cplazo_fijo, 1) over (partition by numero_de_cliente order by foto_mes) as cplazo_fijo_lag_1,\\n    lag(cplazo_fijo, 2) over (partition by numero_de_cliente order by foto_mes) as cplazo_fijo_lag_2,\\n    lag(mplazo_fijo_dolares, 1) over (partition by numero_de_cliente order by foto_mes) as mplazo_fijo_dolares_lag_1,\\n    lag(mplazo_fijo_dolares, 2) over (partition by numero_de_cliente order by foto_mes) as mplazo_fijo_dolares_lag_2,\\n    lag(mplazo_fijo_pesos, 1) over (partition by numero_de_cliente order by foto_mes) as mplazo_fijo_pesos_lag_1,\\n    lag(mplazo_fijo_pesos, 2) over (partition by numero_de_cliente order by foto_mes) as mplazo_fijo_pesos_lag_2,\\n    lag(cpayroll_trx, 1) over (partition by numero_de_cliente order by foto_mes) as cpayroll_trx_lag_1,\\n    lag(cpayroll_trx, 2) over (partition by numero_de_cliente order by foto_mes) as cpayroll_trx_lag_2,\\n    lag(mpayroll, 1) over (partition by numero_de_cliente order by foto_mes) as mpayroll_lag_1,\\n    lag(mpayroll, 2) over (partition by numero_de_cliente order by foto_mes) as mpayroll_lag_2,\\n    lag(mpayroll2, 1) over (partition by numero_de_cliente order by foto_mes) as mpayroll2_lag_1,\\n    lag(mpayroll2, 2) over (partition by numero_de_cliente order by foto_mes) as mpayroll2_lag_2,\\n    lag(cpayroll2_trx, 1) over (partition by numero_de_cliente order by foto_mes) as cpayroll2_trx_lag_1,\\n    lag(cpayroll2_trx, 2) over (partition by numero_de_cliente order by foto_mes) as cpayroll2_trx_lag_2,\\n    lag(ccuenta_debitos_automaticos, 1) over (partition by numero_de_cliente order by foto_mes) as ccuenta_debitos_automaticos_lag_1,\\n    lag(ccuenta_debitos_automaticos, 2) over (partition by numero_de_cliente order by foto_mes) as ccuenta_debitos_automaticos_lag_2,\\n    lag(mcuenta_debitos_automaticos, 1) over (partition by numero_de_cliente order by foto_mes) as mcuenta_debitos_automaticos_lag_1,\\n    lag(mcuenta_debitos_automaticos, 2) over (partition by numero_de_cliente order by foto_mes) as mcuenta_debitos_automaticos_lag_2,\\n    lag(ctarjeta_visa_debitos_automaticos, 1) over (partition by numero_de_cliente order by foto_mes) as ctarjeta_visa_debitos_automaticos_lag_1,\\n    lag(ctarjeta_visa_debitos_automaticos, 2) over (partition by numero_de_cliente order by foto_mes) as ctarjeta_visa_debitos_automaticos_lag_2,\\n    lag(mttarjeta_visa_debitos_automaticos, 1) over (partition by numero_de_cliente order by foto_mes) as mttarjeta_visa_debitos_automaticos_lag_1,\\n    lag(mttarjeta_visa_debitos_automaticos, 2) over (partition by numero_de_cliente order by foto_mes) as mttarjeta_visa_debitos_automaticos_lag_2,\\n    lag(ctarjeta_master_debitos_automaticos, 1) over (partition by numero_de_cliente order by foto_mes) as ctarjeta_master_debitos_automaticos_lag_1,\\n    lag(ctarjeta_master_debitos_automaticos, 2) over (partition by numero_de_cliente order by foto_mes) as ctarjeta_master_debitos_automaticos_lag_2,\\n    lag(mttarjeta_master_debitos_automaticos, 1) over (partition by numero_de_cliente order by foto_mes) as mttarjeta_master_debitos_automaticos_lag_1,\\n    lag(mttarjeta_master_debitos_automaticos, 2) over (partition by numero_de_cliente order by foto_mes) as mttarjeta_master_debitos_automaticos_lag_2,\\n    lag(cpagodeservicios, 1) over (partition by numero_de_cliente order by foto_mes) as cpagodeservicios_lag_1,\\n    lag(cpagodeservicios, 2) over (partition by numero_de_cliente order by foto_mes) as cpagodeservicios_lag_2,\\n    lag(mpagodeservicios, 1) over (partition by numero_de_cliente order by foto_mes) as mpagodeservicios_lag_1,\\n    lag(mpagodeservicios, 2) over (partition by numero_de_cliente order by foto_mes) as mpagodeservicios_lag_2,\\n    lag(mpagomiscuentas, 1) over (partition by numero_de_cliente order by foto_mes) as mpagomiscuentas_lag_1,\\n    lag(mpagomiscuentas, 2) over (partition by numero_de_cliente order by foto_mes) as mpagomiscuentas_lag_2,\\n    lag(cpagomiscuentas, 1) over (partition by numero_de_cliente order by foto_mes) as cpagomiscuentas_lag_1,\\n    lag(cpagomiscuentas, 2) over (partition by numero_de_cliente order by foto_mes) as cpagomiscuentas_lag_2,\\n    lag(ccajeros_propios_descuentos, 1) over (partition by numero_de_cliente order by foto_mes) as ccajeros_propios_descuentos_lag_1,\\n    lag(ccajeros_propios_descuentos, 2) over (partition by numero_de_cliente order by foto_mes) as ccajeros_propios_descuentos_lag_2,\\n    lag(mcajeros_propios_descuentos, 1) over (partition by numero_de_cliente order by foto_mes) as mcajeros_propios_descuentos_lag_1,\\n    lag(mcajeros_propios_descuentos, 2) over (partition by numero_de_cliente order by foto_mes) as mcajeros_propios_descuentos_lag_2,\\n    lag(ctarjeta_visa_descuentos, 1) over (partition by numero_de_cliente order by foto_mes) as ctarjeta_visa_descuentos_lag_1,\\n    lag(ctarjeta_visa_descuentos, 2) over (partition by numero_de_cliente order by foto_mes) as ctarjeta_visa_descuentos_lag_2,\\n    lag(mtarjeta_visa_descuentos, 1) over (partition by numero_de_cliente order by foto_mes) as mtarjeta_visa_descuentos_lag_1,\\n    lag(mtarjeta_visa_descuentos, 2) over (partition by numero_de_cliente order by foto_mes) as mtarjeta_visa_descuentos_lag_2,\\n    lag(ctarjeta_master_descuentos, 1) over (partition by numero_de_cliente order by foto_mes) as ctarjeta_master_descuentos_lag_1,\\n    lag(ctarjeta_master_descuentos, 2) over (partition by numero_de_cliente order by foto_mes) as ctarjeta_master_descuentos_lag_2,\\n    lag(mtarjeta_master_descuentos, 1) over (partition by numero_de_cliente order by foto_mes) as mtarjeta_master_descuentos_lag_1,\\n    lag(mtarjeta_master_descuentos, 2) over (partition by numero_de_cliente order by foto_mes) as mtarjeta_master_descuentos_lag_2,\\n    lag(ccomisiones_mantenimiento, 1) over (partition by numero_de_cliente order by foto_mes) as ccomisiones_mantenimiento_lag_1,\\n    lag(ccomisiones_mantenimiento, 2) over (partition by numero_de_cliente order by foto_mes) as ccomisiones_mantenimiento_lag_2,\\n    lag(mcomisiones_mantenimiento, 1) over (partition by numero_de_cliente order by foto_mes) as mcomisiones_mantenimiento_lag_1,\\n    lag(mcomisiones_mantenimiento, 2) over (partition by numero_de_cliente order by foto_mes) as mcomisiones_mantenimiento_lag_2,\\n    lag(ccomisiones_otras, 1) over (partition by numero_de_cliente order by foto_mes) as ccomisiones_otras_lag_1,\\n    lag(ccomisiones_otras, 2) over (partition by numero_de_cliente order by foto_mes) as ccomisiones_otras_lag_2,\\n    lag(mcomisiones_otras, 1) over (partition by numero_de_cliente order by foto_mes) as mcomisiones_otras_lag_1,\\n    lag(mcomisiones_otras, 2) over (partition by numero_de_cliente order by foto_mes) as mcomisiones_otras_lag_2,\\n    lag(cforex, 1) over (partition by numero_de_cliente order by foto_mes) as cforex_lag_1,\\n    lag(cforex, 2) over (partition by numero_de_cliente order by foto_mes) as cforex_lag_2,\\n    lag(cforex_buy, 1) over (partition by numero_de_cliente order by foto_mes) as cforex_buy_lag_1,\\n    lag(cforex_buy, 2) over (partition by numero_de_cliente order by foto_mes) as cforex_buy_lag_2,\\n    lag(mforex_buy, 1) over (partition by numero_de_cliente order by foto_mes) as mforex_buy_lag_1,\\n    lag(mforex_buy, 2) over (partition by numero_de_cliente order by foto_mes) as mforex_buy_lag_2,\\n    lag(cforex_sell, 1) over (partition by numero_de_cliente order by foto_mes) as cforex_sell_lag_1,\\n    lag(cforex_sell, 2) over (partition by numero_de_cliente order by foto_mes) as cforex_sell_lag_2,\\n    lag(mforex_sell, 1) over (partition by numero_de_cliente order by foto_mes) as mforex_sell_lag_1,\\n    lag(mforex_sell, 2) over (partition by numero_de_cliente order by foto_mes) as mforex_sell_lag_2,\\n    lag(ctransferencias_recibidas, 1) over (partition by numero_de_cliente order by foto_mes) as ctransferencias_recibidas_lag_1,\\n    lag(ctransferencias_recibidas, 2) over (partition by numero_de_cliente order by foto_mes) as ctransferencias_recibidas_lag_2,\\n    lag(mtransferencias_recibidas, 1) over (partition by numero_de_cliente order by foto_mes) as mtransferencias_recibidas_lag_1,\\n    lag(mtransferencias_recibidas, 2) over (partition by numero_de_cliente order by foto_mes) as mtransferencias_recibidas_lag_2,\\n    lag(ctransferencias_emitidas, 1) over (partition by numero_de_cliente order by foto_mes) as ctransferencias_emitidas_lag_1,\\n    lag(ctransferencias_emitidas, 2) over (partition by numero_de_cliente order by foto_mes) as ctransferencias_emitidas_lag_2,\\n    lag(mtransferencias_emitidas, 1) over (partition by numero_de_cliente order by foto_mes) as mtransferencias_emitidas_lag_1,\\n    lag(mtransferencias_emitidas, 2) over (partition by numero_de_cliente order by foto_mes) as mtransferencias_emitidas_lag_2,\\n    lag(cextraccion_autoservicio, 1) over (partition by numero_de_cliente order by foto_mes) as cextraccion_autoservicio_lag_1,\\n    lag(cextraccion_autoservicio, 2) over (partition by numero_de_cliente order by foto_mes) as cextraccion_autoservicio_lag_2,\\n    lag(mextraccion_autoservicio, 1) over (partition by numero_de_cliente order by foto_mes) as mextraccion_autoservicio_lag_1,\\n    lag(mextraccion_autoservicio, 2) over (partition by numero_de_cliente order by foto_mes) as mextraccion_autoservicio_lag_2,\\n    lag(ccheques_depositados, 1) over (partition by numero_de_cliente order by foto_mes) as ccheques_depositados_lag_1,\\n    lag(ccheques_depositados, 2) over (partition by numero_de_cliente order by foto_mes) as ccheques_depositados_lag_2,\\n    lag(mcheques_depositados, 1) over (partition by numero_de_cliente order by foto_mes) as mcheques_depositados_lag_1,\\n    lag(mcheques_depositados, 2) over (partition by numero_de_cliente order by foto_mes) as mcheques_depositados_lag_2,\\n    lag(ccheques_emitidos, 1) over (partition by numero_de_cliente order by foto_mes) as ccheques_emitidos_lag_1,\\n    lag(ccheques_emitidos, 2) over (partition by numero_de_cliente order by foto_mes) as ccheques_emitidos_lag_2,\\n    lag(mcheques_emitidos, 1) over (partition by numero_de_cliente order by foto_mes) as mcheques_emitidos_lag_1,\\n    lag(mcheques_emitidos, 2) over (partition by numero_de_cliente order by foto_mes) as mcheques_emitidos_lag_2,\\n    lag(ccheques_depositados_rechazados, 1) over (partition by numero_de_cliente order by foto_mes) as ccheques_depositados_rechazados_lag_1,\\n    lag(ccheques_depositados_rechazados, 2) over (partition by numero_de_cliente order by foto_mes) as ccheques_depositados_rechazados_lag_2,\\n    lag(mcheques_depositados_rechazados, 1) over (partition by numero_de_cliente order by foto_mes) as mcheques_depositados_rechazados_lag_1,\\n    lag(mcheques_depositados_rechazados, 2) over (partition by numero_de_cliente order by foto_mes) as mcheques_depositados_rechazados_lag_2,\\n    lag(ccheques_emitidos_rechazados, 1) over (partition by numero_de_cliente order by foto_mes) as ccheques_emitidos_rechazados_lag_1,\\n    lag(ccheques_emitidos_rechazados, 2) over (partition by numero_de_cliente order by foto_mes) as ccheques_emitidos_rechazados_lag_2,\\n    lag(mcheques_emitidos_rechazados, 1) over (partition by numero_de_cliente order by foto_mes) as mcheques_emitidos_rechazados_lag_1,\\n    lag(mcheques_emitidos_rechazados, 2) over (partition by numero_de_cliente order by foto_mes) as mcheques_emitidos_rechazados_lag_2,\\n    lag(ccallcenter_transacciones, 1) over (partition by numero_de_cliente order by foto_mes) as ccallcenter_transacciones_lag_1,\\n    lag(ccallcenter_transacciones, 2) over (partition by numero_de_cliente order by foto_mes) as ccallcenter_transacciones_lag_2,\\n    lag(chomebanking_transacciones, 1) over (partition by numero_de_cliente order by foto_mes) as chomebanking_transacciones_lag_1,\\n    lag(chomebanking_transacciones, 2) over (partition by numero_de_cliente order by foto_mes) as chomebanking_transacciones_lag_2,\\n    lag(ccajas_transacciones, 1) over (partition by numero_de_cliente order by foto_mes) as ccajas_transacciones_lag_1,\\n    lag(ccajas_transacciones, 2) over (partition by numero_de_cliente order by foto_mes) as ccajas_transacciones_lag_2,\\n    lag(ccajas_consultas, 1) over (partition by numero_de_cliente order by foto_mes) as ccajas_consultas_lag_1,\\n    lag(ccajas_consultas, 2) over (partition by numero_de_cliente order by foto_mes) as ccajas_consultas_lag_2,\\n    lag(ccajas_depositos, 1) over (partition by numero_de_cliente order by foto_mes) as ccajas_depositos_lag_1,\\n    lag(ccajas_depositos, 2) over (partition by numero_de_cliente order by foto_mes) as ccajas_depositos_lag_2,\\n    lag(ccajas_extracciones, 1) over (partition by numero_de_cliente order by foto_mes) as ccajas_extracciones_lag_1,\\n    lag(ccajas_extracciones, 2) over (partition by numero_de_cliente order by foto_mes) as ccajas_extracciones_lag_2,\\n    lag(ccajas_otras, 1) over (partition by numero_de_cliente order by foto_mes) as ccajas_otras_lag_1,\\n    lag(ccajas_otras, 2) over (partition by numero_de_cliente order by foto_mes) as ccajas_otras_lag_2,\\n    lag(catm_trx, 1) over (partition by numero_de_cliente order by foto_mes) as catm_trx_lag_1,\\n    lag(catm_trx, 2) over (partition by numero_de_cliente order by foto_mes) as catm_trx_lag_2,\\n    lag(matm, 1) over (partition by numero_de_cliente order by foto_mes) as matm_lag_1,\\n    lag(matm, 2) over (partition by numero_de_cliente order by foto_mes) as matm_lag_2,\\n    lag(catm_trx_other, 1) over (partition by numero_de_cliente order by foto_mes) as catm_trx_other_lag_1,\\n    lag(catm_trx_other, 2) over (partition by numero_de_cliente order by foto_mes) as catm_trx_other_lag_2,\\n    lag(matm_other, 1) over (partition by numero_de_cliente order by foto_mes) as matm_other_lag_1,\\n    lag(matm_other, 2) over (partition by numero_de_cliente order by foto_mes) as matm_other_lag_2,\\n    lag(ctrx_quarter, 1) over (partition by numero_de_cliente order by foto_mes) as ctrx_quarter_lag_1,\\n    lag(ctrx_quarter, 2) over (partition by numero_de_cliente order by foto_mes) as ctrx_quarter_lag_2,\\n    lag(Master_Fvencimiento, 1) over (partition by numero_de_cliente order by foto_mes) as Master_Fvencimiento_lag_1,\\n    lag(Master_Fvencimiento, 2) over (partition by numero_de_cliente order by foto_mes) as Master_Fvencimiento_lag_2,\\n    lag(Master_msaldototal, 1) over (partition by numero_de_cliente order by foto_mes) as Master_msaldototal_lag_1,\\n    lag(Master_msaldototal, 2) over (partition by numero_de_cliente order by foto_mes) as Master_msaldototal_lag_2,\\n    lag(Master_msaldopesos, 1) over (partition by numero_de_cliente order by foto_mes) as Master_msaldopesos_lag_1,\\n    lag(Master_msaldopesos, 2) over (partition by numero_de_cliente order by foto_mes) as Master_msaldopesos_lag_2,\\n    lag(Master_msaldodolares, 1) over (partition by numero_de_cliente order by foto_mes) as Master_msaldodolares_lag_1,\\n    lag(Master_msaldodolares, 2) over (partition by numero_de_cliente order by foto_mes) as Master_msaldodolares_lag_2,\\n    lag(Master_mconsumospesos, 1) over (partition by numero_de_cliente order by foto_mes) as Master_mconsumospesos_lag_1,\\n    lag(Master_mconsumospesos, 2) over (partition by numero_de_cliente order by foto_mes) as Master_mconsumospesos_lag_2,\\n    lag(Master_mconsumosdolares, 1) over (partition by numero_de_cliente order by foto_mes) as Master_mconsumosdolares_lag_1,\\n    lag(Master_mconsumosdolares, 2) over (partition by numero_de_cliente order by foto_mes) as Master_mconsumosdolares_lag_2,\\n    lag(Master_mlimitecompra, 1) over (partition by numero_de_cliente order by foto_mes) as Master_mlimitecompra_lag_1,\\n    lag(Master_mlimitecompra, 2) over (partition by numero_de_cliente order by foto_mes) as Master_mlimitecompra_lag_2,\\n    lag(Master_madelantopesos, 1) over (partition by numero_de_cliente order by foto_mes) as Master_madelantopesos_lag_1,\\n    lag(Master_madelantopesos, 2) over (partition by numero_de_cliente order by foto_mes) as Master_madelantopesos_lag_2,\\n    lag(Master_madelantodolares, 1) over (partition by numero_de_cliente order by foto_mes) as Master_madelantodolares_lag_1,\\n    lag(Master_madelantodolares, 2) over (partition by numero_de_cliente order by foto_mes) as Master_madelantodolares_lag_2,\\n    lag(Master_fultimo_cierre, 1) over (partition by numero_de_cliente order by foto_mes) as Master_fultimo_cierre_lag_1,\\n    lag(Master_fultimo_cierre, 2) over (partition by numero_de_cliente order by foto_mes) as Master_fultimo_cierre_lag_2,\\n    lag(Master_mpagado, 1) over (partition by numero_de_cliente order by foto_mes) as Master_mpagado_lag_1,\\n    lag(Master_mpagado, 2) over (partition by numero_de_cliente order by foto_mes) as Master_mpagado_lag_2,\\n    lag(Master_mpagospesos, 1) over (partition by numero_de_cliente order by foto_mes) as Master_mpagospesos_lag_1,\\n    lag(Master_mpagospesos, 2) over (partition by numero_de_cliente order by foto_mes) as Master_mpagospesos_lag_2,\\n    lag(Master_mpagosdolares, 1) over (partition by numero_de_cliente order by foto_mes) as Master_mpagosdolares_lag_1,\\n    lag(Master_mpagosdolares, 2) over (partition by numero_de_cliente order by foto_mes) as Master_mpagosdolares_lag_2,\\n    lag(Master_fechaalta, 1) over (partition by numero_de_cliente order by foto_mes) as Master_fechaalta_lag_1,\\n    lag(Master_fechaalta, 2) over (partition by numero_de_cliente order by foto_mes) as Master_fechaalta_lag_2,\\n    lag(Master_mconsumototal, 1) over (partition by numero_de_cliente order by foto_mes) as Master_mconsumototal_lag_1,\\n    lag(Master_mconsumototal, 2) over (partition by numero_de_cliente order by foto_mes) as Master_mconsumototal_lag_2,\\n    lag(Master_cconsumos, 1) over (partition by numero_de_cliente order by foto_mes) as Master_cconsumos_lag_1,\\n    lag(Master_cconsumos, 2) over (partition by numero_de_cliente order by foto_mes) as Master_cconsumos_lag_2,\\n    lag(Master_cadelantosefectivo, 1) over (partition by numero_de_cliente order by foto_mes) as Master_cadelantosefectivo_lag_1,\\n    lag(Master_cadelantosefectivo, 2) over (partition by numero_de_cliente order by foto_mes) as Master_cadelantosefectivo_lag_2,\\n    lag(Master_mpagominimo, 1) over (partition by numero_de_cliente order by foto_mes) as Master_mpagominimo_lag_1,\\n    lag(Master_mpagominimo, 2) over (partition by numero_de_cliente order by foto_mes) as Master_mpagominimo_lag_2,\\n    lag(Visa_mfinanciacion_limite, 1) over (partition by numero_de_cliente order by foto_mes) as Visa_mfinanciacion_limite_lag_1,\\n    lag(Visa_mfinanciacion_limite, 2) over (partition by numero_de_cliente order by foto_mes) as Visa_mfinanciacion_limite_lag_2,\\n    lag(Visa_Fvencimiento, 1) over (partition by numero_de_cliente order by foto_mes) as Visa_Fvencimiento_lag_1,\\n    lag(Visa_Fvencimiento, 2) over (partition by numero_de_cliente order by foto_mes) as Visa_Fvencimiento_lag_2,\\n    lag(Visa_Finiciomora, 1) over (partition by numero_de_cliente order by foto_mes) as Visa_Finiciomora_lag_1,\\n    lag(Visa_Finiciomora, 2) over (partition by numero_de_cliente order by foto_mes) as Visa_Finiciomora_lag_2,\\n    lag(Visa_msaldototal, 1) over (partition by numero_de_cliente order by foto_mes) as Visa_msaldototal_lag_1,\\n    lag(Visa_msaldototal, 2) over (partition by numero_de_cliente order by foto_mes) as Visa_msaldototal_lag_2,\\n    lag(Visa_msaldopesos, 1) over (partition by numero_de_cliente order by foto_mes) as Visa_msaldopesos_lag_1,\\n    lag(Visa_msaldopesos, 2) over (partition by numero_de_cliente order by foto_mes) as Visa_msaldopesos_lag_2,\\n    lag(Visa_msaldodolares, 1) over (partition by numero_de_cliente order by foto_mes) as Visa_msaldodolares_lag_1,\\n    lag(Visa_msaldodolares, 2) over (partition by numero_de_cliente order by foto_mes) as Visa_msaldodolares_lag_2,\\n    lag(Visa_mconsumospesos, 1) over (partition by numero_de_cliente order by foto_mes) as Visa_mconsumospesos_lag_1,\\n    lag(Visa_mconsumospesos, 2) over (partition by numero_de_cliente order by foto_mes) as Visa_mconsumospesos_lag_2,\\n    lag(Visa_mconsumosdolares, 1) over (partition by numero_de_cliente order by foto_mes) as Visa_mconsumosdolares_lag_1,\\n    lag(Visa_mconsumosdolares, 2) over (partition by numero_de_cliente order by foto_mes) as Visa_mconsumosdolares_lag_2,\\n    lag(Visa_mlimitecompra, 1) over (partition by numero_de_cliente order by foto_mes) as Visa_mlimitecompra_lag_1,\\n    lag(Visa_mlimitecompra, 2) over (partition by numero_de_cliente order by foto_mes) as Visa_mlimitecompra_lag_2,\\n    lag(Visa_madelantopesos, 1) over (partition by numero_de_cliente order by foto_mes) as Visa_madelantopesos_lag_1,\\n    lag(Visa_madelantopesos, 2) over (partition by numero_de_cliente order by foto_mes) as Visa_madelantopesos_lag_2,\\n    lag(Visa_madelantodolares, 1) over (partition by numero_de_cliente order by foto_mes) as Visa_madelantodolares_lag_1,\\n    lag(Visa_madelantodolares, 2) over (partition by numero_de_cliente order by foto_mes) as Visa_madelantodolares_lag_2,\\n    lag(Visa_fultimo_cierre, 1) over (partition by numero_de_cliente order by foto_mes) as Visa_fultimo_cierre_lag_1,\\n    lag(Visa_fultimo_cierre, 2) over (partition by numero_de_cliente order by foto_mes) as Visa_fultimo_cierre_lag_2,\\n    lag(Visa_mpagado, 1) over (partition by numero_de_cliente order by foto_mes) as Visa_mpagado_lag_1,\\n    lag(Visa_mpagado, 2) over (partition by numero_de_cliente order by foto_mes) as Visa_mpagado_lag_2,\\n    lag(Visa_mpagospesos, 1) over (partition by numero_de_cliente order by foto_mes) as Visa_mpagospesos_lag_1,\\n    lag(Visa_mpagospesos, 2) over (partition by numero_de_cliente order by foto_mes) as Visa_mpagospesos_lag_2,\\n    lag(Visa_mpagosdolares, 1) over (partition by numero_de_cliente order by foto_mes) as Visa_mpagosdolares_lag_1,\\n    lag(Visa_mpagosdolares, 2) over (partition by numero_de_cliente order by foto_mes) as Visa_mpagosdolares_lag_2,\\n    lag(Visa_fechaalta, 1) over (partition by numero_de_cliente order by foto_mes) as Visa_fechaalta_lag_1,\\n    lag(Visa_fechaalta, 2) over (partition by numero_de_cliente order by foto_mes) as Visa_fechaalta_lag_2,\\n    lag(Visa_mconsumototal, 1) over (partition by numero_de_cliente order by foto_mes) as Visa_mconsumototal_lag_1,\\n    lag(Visa_mconsumototal, 2) over (partition by numero_de_cliente order by foto_mes) as Visa_mconsumototal_lag_2,\\n    lag(Visa_cconsumos, 1) over (partition by numero_de_cliente order by foto_mes) as Visa_cconsumos_lag_1,\\n    lag(Visa_cconsumos, 2) over (partition by numero_de_cliente order by foto_mes) as Visa_cconsumos_lag_2,\\n    lag(Visa_cadelantosefectivo, 1) over (partition by numero_de_cliente order by foto_mes) as Visa_cadelantosefectivo_lag_1,\\n    lag(Visa_cadelantosefectivo, 2) over (partition by numero_de_cliente order by foto_mes) as Visa_cadelantosefectivo_lag_2,\\n    lag(Visa_mpagominimo, 1) over (partition by numero_de_cliente order by foto_mes) as Visa_mpagominimo_lag_1,\\n    lag(Visa_mpagominimo, 2) over (partition by numero_de_cliente order by foto_mes) as Visa_mpagominimo_lag_2'"
      ]
     },
     "execution_count": 75,
     "metadata": {},
     "output_type": "execute_result"
    }
   ],
   "source": [
    "lag_columns_sql"
   ]
  },
  {
   "cell_type": "code",
   "execution_count": 58,
   "metadata": {},
   "outputs": [],
   "source": [
    "path_dataset_lags_y_clase_ternaria = datasets_path_l+r'\\competencia_02_lags_y_clase_ternaria.parquet'"
   ]
  },
  {
   "cell_type": "code",
   "execution_count": 59,
   "metadata": {},
   "outputs": [
    {
     "data": {
      "text/plain": [
       "'C:\\\\Users\\\\Admin\\\\Documents\\\\1_Notebook\\\\1_Estudio\\\\1_UBA_Maestria_DS\\\\1_Especializacion\\\\1_Segundo_Semestre\\\\DMEyF\\\\datasets\\\\competencia_2\\\\competencia_02_lags_y_clase_ternaria.parquet'"
      ]
     },
     "execution_count": 59,
     "metadata": {},
     "output_type": "execute_result"
    }
   ],
   "source": [
    "path_dataset_lags_y_clase_ternaria"
   ]
  },
  {
   "cell_type": "code",
   "execution_count": null,
   "metadata": {},
   "outputs": [
    {
     "data": {
      "text/html": [
       "<div>\n",
       "<style scoped>\n",
       "    .dataframe tbody tr th:only-of-type {\n",
       "        vertical-align: middle;\n",
       "    }\n",
       "\n",
       "    .dataframe tbody tr th {\n",
       "        vertical-align: top;\n",
       "    }\n",
       "\n",
       "    .dataframe thead th {\n",
       "        text-align: right;\n",
       "    }\n",
       "</style>\n",
       "<table border=\"1\" class=\"dataframe\">\n",
       "  <thead>\n",
       "    <tr style=\"text-align: right;\">\n",
       "      <th></th>\n",
       "      <th>Success</th>\n",
       "    </tr>\n",
       "  </thead>\n",
       "  <tbody>\n",
       "  </tbody>\n",
       "</table>\n",
       "</div>"
      ],
      "text/plain": [
       "Empty DataFrame\n",
       "Columns: [Success]\n",
       "Index: []"
      ]
     },
     "execution_count": 68,
     "metadata": {},
     "output_type": "execute_result"
    }
   ],
   "source": [
    "# %%sql\n",
    "\n",
    "# COPY df_train TO '{{path_dataset_lags_y_clase_ternaria}}' (FORMAT 'parquet')\n",
    "\n"
   ]
  },
  {
   "cell_type": "code",
   "execution_count": 77,
   "metadata": {},
   "outputs": [
    {
     "data": {
      "text/html": [
       "<div>\n",
       "<style scoped>\n",
       "    .dataframe tbody tr th:only-of-type {\n",
       "        vertical-align: middle;\n",
       "    }\n",
       "\n",
       "    .dataframe tbody tr th {\n",
       "        vertical-align: top;\n",
       "    }\n",
       "\n",
       "    .dataframe thead th {\n",
       "        text-align: right;\n",
       "    }\n",
       "</style>\n",
       "<table border=\"1\" class=\"dataframe\">\n",
       "  <thead>\n",
       "    <tr style=\"text-align: right;\">\n",
       "      <th></th>\n",
       "      <th>Success</th>\n",
       "    </tr>\n",
       "  </thead>\n",
       "  <tbody>\n",
       "  </tbody>\n",
       "</table>\n",
       "</div>"
      ],
      "text/plain": [
       "Empty DataFrame\n",
       "Columns: [Success]\n",
       "Index: []"
      ]
     },
     "execution_count": 77,
     "metadata": {},
     "output_type": "execute_result"
    }
   ],
   "source": [
    "delta_columns = []\n",
    "for variable in lista_feature:\n",
    "    nombre_variable = variable+'_delta_1'\n",
    "    nombre_variable_2 = variable+'_delta_2'\n",
    "    delta_columns.append(f\"{variable} - {variable}_lag_1 as {nombre_variable}\")\n",
    "    delta_columns.append(f\"{variable}_lag_1 - {variable}_lag_2 as {nombre_variable_2}\")\n",
    "\n",
    "delta_columns_sql = \",\\n    \".join(delta_columns)\n",
    "\n",
    "\n",
    "query = f'''CREATE OR REPLACE TABLE df_train AS\n",
    "            select *,\n",
    "            {delta_columns_sql}\n",
    "            from df_train'''\n",
    "%sql {{query}}\n",
    "            "
   ]
  },
  {
   "cell_type": "code",
   "execution_count": 83,
   "metadata": {},
   "outputs": [
    {
     "data": {
      "text/plain": [
       "'C:\\\\Users\\\\Admin\\\\Documents\\\\1_Notebook\\\\1_Estudio\\\\1_UBA_Maestria_DS\\\\1_Especializacion\\\\1_Segundo_Semestre\\\\DMEyF\\\\datasets\\\\competencia_2\\\\competencia_02_lags_deltas_y_clase_ternaria.parquet'"
      ]
     },
     "execution_count": 83,
     "metadata": {},
     "output_type": "execute_result"
    }
   ],
   "source": [
    "path_dataset_lags_deltas_y_clase_ternaria = datasets_path_l+r'\\competencia_02_lags_deltas_y_clase_ternaria.parquet'\n",
    "path_dataset_lags_deltas_y_clase_ternaria\n"
   ]
  },
  {
   "cell_type": "code",
   "execution_count": 86,
   "metadata": {},
   "outputs": [
    {
     "data": {
      "text/html": [
       "<div>\n",
       "<style scoped>\n",
       "    .dataframe tbody tr th:only-of-type {\n",
       "        vertical-align: middle;\n",
       "    }\n",
       "\n",
       "    .dataframe tbody tr th {\n",
       "        vertical-align: top;\n",
       "    }\n",
       "\n",
       "    .dataframe thead th {\n",
       "        text-align: right;\n",
       "    }\n",
       "</style>\n",
       "<table border=\"1\" class=\"dataframe\">\n",
       "  <thead>\n",
       "    <tr style=\"text-align: right;\">\n",
       "      <th></th>\n",
       "      <th>Success</th>\n",
       "    </tr>\n",
       "  </thead>\n",
       "  <tbody>\n",
       "  </tbody>\n",
       "</table>\n",
       "</div>"
      ],
      "text/plain": [
       "Empty DataFrame\n",
       "Columns: [Success]\n",
       "Index: []"
      ]
     },
     "execution_count": 86,
     "metadata": {},
     "output_type": "execute_result"
    }
   ],
   "source": [
    "%sql COPY df_train TO '{{path_dataset_lags_deltas_y_clase_ternaria}}' (FORMAT 'parquet')\n"
   ]
  },
  {
   "cell_type": "code",
   "execution_count": 6,
   "metadata": {},
   "outputs": [
    {
     "data": {
      "text/plain": [
       "(4735593, 600)"
      ]
     },
     "execution_count": 6,
     "metadata": {},
     "output_type": "execute_result"
    }
   ],
   "source": [
    "datita = pd.read_parquet('C:\\\\Users\\\\Admin\\\\Documents\\\\1_Notebook\\\\1_Estudio\\\\1_UBA_Maestria_DS\\\\1_Especializacion\\\\1_Segundo_Semestre\\\\DMEyF\\\\datasets\\\\competencia_2\\\\competencia_02_lags_deltas_y_clase_ternaria.parquet'\n",
    ") \n",
    "datita.shape"
   ]
  },
  {
   "cell_type": "code",
   "execution_count": 8,
   "metadata": {},
   "outputs": [
    {
     "data": {
      "text/plain": [
       "0          CONTINUA\n",
       "1          CONTINUA\n",
       "2          CONTINUA\n",
       "3          CONTINUA\n",
       "4          CONTINUA\n",
       "             ...   \n",
       "4735588    CONTINUA\n",
       "4735589    CONTINUA\n",
       "4735590    CONTINUA\n",
       "4735591    CONTINUA\n",
       "4735592    CONTINUA\n",
       "Name: clase_ternaria, Length: 4735593, dtype: object"
      ]
     },
     "execution_count": 8,
     "metadata": {},
     "output_type": "execute_result"
    }
   ],
   "source": [
    "datita['clase_ternaria']"
   ]
  },
  {
   "cell_type": "code",
   "execution_count": null,
   "metadata": {},
   "outputs": [
    {
     "data": {
      "application/vnd.jupyter.widget-view+json": {
       "model_id": "5bfd0e6324534aa0b2e4a359d6320790",
       "version_major": 2,
       "version_minor": 0
      },
      "text/plain": [
       "FloatProgress(value=0.0, layout=Layout(width='auto'), style=ProgressStyle(bar_color='black'))"
      ]
     },
     "metadata": {},
     "output_type": "display_data"
    },
    {
     "data": {
      "text/plain": [
       "<duckdb.duckdb.DuckDBPyConnection at 0x1b1d393a4b0>"
      ]
     },
     "execution_count": 80,
     "metadata": {},
     "output_type": "execute_result"
    }
   ],
   "source": [
    "\n",
    "# con.execute('''\n",
    "# create or replace table df_train as\n",
    "# select *,\n",
    "#     lag (mpayroll, 1) over (\n",
    "#         partition by numero_de_cliente \n",
    "#         order by foto_mes\n",
    "#     ) as lag_mpayroll1,\n",
    "#     lag (mpayroll, 2) over (\n",
    "#         partition by numero_de_cliente \n",
    "#         order by foto_mes\n",
    "#     ) as lag_mpayroll2\n",
    "# from df_train''')\n"
   ]
  },
  {
   "cell_type": "code",
   "execution_count": 81,
   "metadata": {},
   "outputs": [],
   "source": [
    "\n",
    "# df_sorted = df_train.sort_values(by=['numero_de_cliente', 'foto_mes'])\n",
    "\n",
    "\n",
    "# df_train['lag_ctrx_quarter1'] = df_sorted.groupby('numero_de_cliente')['ctrx_quarter'].shift(1)\n",
    "\n",
    "\n",
    "# df_train['lag_ctrx_quarter2'] = df_sorted.groupby('numero_de_cliente')['ctrx_quarter'].shift(2)"
   ]
  },
  {
   "cell_type": "code",
   "execution_count": 82,
   "metadata": {},
   "outputs": [],
   "source": [
    "# con.execute('''\n",
    "# create or replace table df_train as\n",
    "# select * \n",
    "#     , lag (t_consumo_total, 1) over (\n",
    "#         partition by numero_de_cliente \n",
    "#         order by foto_mes, numero_de_cliente\n",
    "#     ) as lag_consumo_total1\n",
    "#     , lag (t_consumo_total, 2) over (\n",
    "#         partition by numero_de_cliente \n",
    "#         order by foto_mes, numero_de_cliente\n",
    "#     ) as lag_consumo_total2\n",
    "# from df_train''')"
   ]
  },
  {
   "cell_type": "markdown",
   "metadata": {},
   "source": [
    "### FE Deltas"
   ]
  },
  {
   "cell_type": "code",
   "execution_count": null,
   "metadata": {},
   "outputs": [
    {
     "data": {
      "text/plain": [
       "<duckdb.duckdb.DuckDBPyConnection at 0x1b1d393a4b0>"
      ]
     },
     "execution_count": 83,
     "metadata": {},
     "output_type": "execute_result"
    }
   ],
   "source": [
    "con.execute('''create or replace table df_train as\n",
    "select *\n",
    "  , ctrx_quarter - lag_ctrx_quarter1 as delta_1_ctrx_quarter\n",
    "  , ctrx_quarter - lag_ctrx_quarter2 as delta_1_ctrx_quarter\n",
    "from df_train''')"
   ]
  },
  {
   "cell_type": "code",
   "execution_count": 84,
   "metadata": {},
   "outputs": [],
   "source": [
    "\n",
    "# con.execute('''create or replace table df_train as\n",
    "# select *\n",
    "#   , t_consumo_total - lag_consumo_total1 as delta_1_lag_confumo_total\n",
    "#   , t_consumo_total - lag_consumo_total2 as delta_2_lag_consumo_total\n",
    "# from df_train''')"
   ]
  },
  {
   "cell_type": "code",
   "execution_count": 85,
   "metadata": {},
   "outputs": [],
   "source": [
    "# con.execute(''' create or replace table df_train as\n",
    "# select *\n",
    "#   ,         IFNULL (t_consumo_total,0) / NULLIF (IFNULL (mpayroll,0),0) as consumo_vs_payroll\n",
    "#             from df_train''')"
   ]
  },
  {
   "cell_type": "code",
   "execution_count": 86,
   "metadata": {},
   "outputs": [],
   "source": [
    "# con.execute('''\n",
    "# create or replace table df_train as\n",
    "# select * \n",
    "#     , lag (consumo_vs_payroll, 1) over (\n",
    "#         partition by numero_de_cliente \n",
    "#         order by foto_mes, numero_de_cliente\n",
    "#     ) as lag_consumo_vs_payroll_1\n",
    "#     , lag (consumo_vs_payroll, 2) over (\n",
    "#         partition by numero_de_cliente \n",
    "#         order by foto_mes, numero_de_cliente\n",
    "#     ) as lag_consumo_vs_payroll_2\n",
    "# from df_train''')"
   ]
  },
  {
   "cell_type": "code",
   "execution_count": 87,
   "metadata": {},
   "outputs": [],
   "source": [
    "# # Ordenar el DataFrame por 'numero_de_cliente' y 'foto_mes'\n",
    "# df_sorted = df_train.sort_values(by=['numero_de_cliente', 'foto_mes'])\n",
    "\n",
    "# # Calcular la columna 'lag_consumo_total1'\n",
    "# df_train['lag_consumo_total1'] = df_sorted.groupby('numero_de_cliente')['t_consumo_total'].shift(1)\n",
    "\n",
    "# # Calcular la columna 'lag_consumo_total2'\n",
    "# df_train['lag_consumo_total2'] = df_sorted.groupby('numero_de_cliente')['t_consumo_total'].shift(2)"
   ]
  },
  {
   "cell_type": "markdown",
   "metadata": {},
   "source": [
    "### FE Percents"
   ]
  },
  {
   "cell_type": "code",
   "execution_count": null,
   "metadata": {},
   "outputs": [
    {
     "data": {
      "application/vnd.jupyter.widget-view+json": {
       "model_id": "f4513bf73c4d4fefaf76e7ca75448c3e",
       "version_major": 2,
       "version_minor": 0
      },
      "text/plain": [
       "FloatProgress(value=0.0, layout=Layout(width='auto'), style=ProgressStyle(bar_color='black'))"
      ]
     },
     "metadata": {},
     "output_type": "display_data"
    },
    {
     "data": {
      "text/plain": [
       "<duckdb.duckdb.DuckDBPyConnection at 0x1b1d393a4b0>"
      ]
     },
     "execution_count": 88,
     "metadata": {},
     "output_type": "execute_result"
    }
   ],
   "source": [
    "for variable in lista_features:\n",
    "        \n",
    "    con.execute('''\n",
    "                \n",
    "        \n",
    "    create or replace table df_train as\n",
    "    select *\n",
    "        , percent_rank() over (partition by foto_mes order by {variable},numero_de_cliente) as cliente_antiguedad_dd\n",
    "         as {nombre_variable}\n",
    "    from df_train''')\n",
    "\n"
   ]
  },
  {
   "cell_type": "code",
   "execution_count": 89,
   "metadata": {},
   "outputs": [],
   "source": [
    "# con.execute('''create or replace table df_train as\n",
    "# select *, \n",
    "#             greatest(ctarjeta_visa_transacciones, ctarjeta_master_transacciones) as max_tarjeta_transacciones,\n",
    "#             greatest(ccallcenter_transacciones, chomebanking_transacciones) as max_dig_analog_transacciones,\n",
    "#             least(ctarjeta_debito_transacciones, ctarjeta_visa_transacciones) as min_tarjeta_debito_transacciones,\n",
    "#             least(ctarjeta_visa_transacciones, ctarjeta_master_transacciones) as min_tarjeta_master_transacciones,\n",
    "#             least(ccallcenter_transacciones, chomebanking_transacciones) as min_callcenter_transacciones,\n",
    "#             from df_train''')\n",
    "            "
   ]
  },
  {
   "cell_type": "code",
   "execution_count": 90,
   "metadata": {},
   "outputs": [],
   "source": [
    "# # Calcular percent_rank para cada columna\n",
    "# df_train['cliente_antiguedad_dd'] = df_train.groupby('foto_mes')['cliente_antiguedad'].rank(method='min', pct=True)\n",
    "# df_train['cliente_edad_dd'] = df_train.groupby('foto_mes')['cliente_edad'].rank(method='min', pct=True)\n",
    "# df_train['ctrx_quarter_dd'] = df_train.groupby('foto_mes')['ctrx_quarter'].rank(method='min', pct=True)\n",
    "# df_train['mactivos_margen_dd'] = df_train.groupby('foto_mes')['mactivos_margen'].rank(method='min', pct=True)\n",
    "# df_train['mpayroll_dd'] = df_train.groupby('foto_mes')['mpayroll'].rank(method='min', pct=True)\n",
    "# df_train['intensidad_gasto_dd'] = df_train.groupby('foto_mes')['intensidad_gasto'].rank(method='min', pct=True)\n",
    "# df_train['cproductos_dd'] = df_train.groupby('foto_mes')['cproductos'].rank(method='min', pct=True)"
   ]
  },
  {
   "cell_type": "code",
   "execution_count": 91,
   "metadata": {},
   "outputs": [],
   "source": [
    "# df_train = con.execute('''SELECT * FROM df_train''').fetch_df()\n"
   ]
  },
  {
   "cell_type": "code",
   "execution_count": 92,
   "metadata": {},
   "outputs": [],
   "source": [
    "# con.close()"
   ]
  },
  {
   "cell_type": "code",
   "execution_count": 93,
   "metadata": {},
   "outputs": [],
   "source": [
    "# df_train.shape"
   ]
  },
  {
   "cell_type": "code",
   "execution_count": 94,
   "metadata": {},
   "outputs": [],
   "source": [
    "# # df_train.to_csv(r\"C:\\Users\\Admin\\Documents\\1_Notebook\\1_Estudio\\1_UBA_Maestria_DS\\1_Especializacion\\1_Segundo_Semestre\\DMEyF\\Git\\dmeyf2024\\datasets\\competencia_03_f_e.csv\", index=False)\n",
    "# df_train = pd.read_csv(r\"C:\\Users\\Admin\\Documents\\1_Notebook\\1_Estudio\\1_UBA_Maestria_DS\\1_Especializacion\\1_Segundo_Semestre\\DMEyF\\Git\\dmeyf2024\\datasets\\competencia_03_f_e.csv\", index_col=False)    "
   ]
  },
  {
   "cell_type": "markdown",
   "metadata": {},
   "source": [
    "### Modelo para variables más importantes + optimización "
   ]
  },
  {
   "cell_type": "code",
   "execution_count": 96,
   "metadata": {},
   "outputs": [],
   "source": [
    "# optuna.visualization.plot_optimization_history(study)"
   ]
  },
  {
   "cell_type": "code",
   "execution_count": 97,
   "metadata": {},
   "outputs": [],
   "source": [
    "# plot_param_importances(study)"
   ]
  },
  {
   "cell_type": "code",
   "execution_count": 98,
   "metadata": {},
   "outputs": [],
   "source": [
    "# plot_slice(study)"
   ]
  },
  {
   "cell_type": "code",
   "execution_count": 99,
   "metadata": {},
   "outputs": [],
   "source": [
    "# best_params = study.best_params\n",
    "# print(\"Mejores parámetros:\", best_params)"
   ]
  },
  {
   "cell_type": "markdown",
   "metadata": {},
   "source": [
    "# Light GBM"
   ]
  },
  {
   "cell_type": "markdown",
   "metadata": {},
   "source": [
    "## Formateo pre modelo"
   ]
  },
  {
   "cell_type": "code",
   "execution_count": 100,
   "metadata": {},
   "outputs": [],
   "source": [
    "\n",
    "ganancia_acierto = 273000\n",
    "costo_estimulo = 7000\n",
    "\n",
    "mes_train = 202104\n",
    "mes_test = 202106\n"
   ]
  },
  {
   "cell_type": "code",
   "execution_count": 101,
   "metadata": {},
   "outputs": [],
   "source": [
    "data = df_train"
   ]
  },
  {
   "cell_type": "code",
   "execution_count": 102,
   "metadata": {},
   "outputs": [],
   "source": [
    "data['clase_peso'] = 1.0\n",
    "data.loc[data['clase_ternaria'] == 'BAJA+2', 'clase_peso'] = 1.00002\n",
    "data.loc[data['clase_ternaria'] == 'BAJA+1', 'clase_peso'] = 1.00001"
   ]
  },
  {
   "cell_type": "code",
   "execution_count": 45,
   "metadata": {},
   "outputs": [],
   "source": [
    "def lgb_gan_eval(y_pred, data):\n",
    "    weight = data.get_weight()\n",
    "    ganancia = np.where(weight == 1.00002, ganancia_acierto, 0) - np.where(weight < 1.00002, costo_estimulo, 0)\n",
    "    ganancia = ganancia[np.argsort(y_pred)[::-1]]\n",
    "    ganancia = np.cumsum(ganancia)\n",
    "\n",
    "    return 'gan_eval', np.max(ganancia) , True"
   ]
  },
  {
   "cell_type": "code",
   "execution_count": 46,
   "metadata": {},
   "outputs": [],
   "source": [
    "data['clase_binaria'] = np.where(data['clase_ternaria']=='CONTINUA', 0, 1)"
   ]
  },
  {
   "cell_type": "code",
   "execution_count": 48,
   "metadata": {},
   "outputs": [],
   "source": [
    "\n",
    "df_train = data[data['foto_mes']<=202104]\n",
    "df_test = data[data['foto_mes']==202106]\n"
   ]
  },
  {
   "cell_type": "code",
   "execution_count": 49,
   "metadata": {},
   "outputs": [],
   "source": [
    "clase_peso = df_train['clase_peso']\n",
    "X_train = df_train.drop(['clase_ternaria', 'clase_binaria', 'clase_peso'], axis=1)\n",
    "Y_train =df_train['clase_binaria']\n",
    "X_test = df_test.drop(['clase_ternaria', 'clase_binaria', 'clase_peso'], axis=1)\n",
    "Y_test =df_test['clase_binaria']"
   ]
  },
  {
   "cell_type": "code",
   "execution_count": 104,
   "metadata": {},
   "outputs": [],
   "source": [
    "w_train = df_train.loc[X_train.index, 'clase_peso']\n"
   ]
  },
  {
   "cell_type": "markdown",
   "metadata": {},
   "source": [
    "### Optimización"
   ]
  },
  {
   "cell_type": "code",
   "execution_count": 105,
   "metadata": {},
   "outputs": [
    {
     "name": "stderr",
     "output_type": "stream",
     "text": [
      "[I 2024-11-08 11:24:00,504] Using an existing study with name 'competencia_02' instead of creating a new one.\n",
      "[I 2024-11-08 11:24:00,548] Using an existing study with name 'competencia_02' instead of creating a new one.\n",
      "[I 2024-11-08 11:25:26,175] Trial 1 finished with value: 484022000.0 and parameters: {'num_leaves': 73, 'learning_rate': 0.048381168713106194, 'min_data_in_leaf': 1888, 'feature_fraction': 0.9611290073992866, 'bagging_fraction': 0.5702627562564301}. Best is trial 1 with value: 484022000.0.\n",
      "[I 2024-11-08 11:26:34,198] Trial 2 finished with value: 454993000.0 and parameters: {'num_leaves': 28, 'learning_rate': 0.03703877249854557, 'min_data_in_leaf': 393, 'feature_fraction': 0.2450786254076267, 'bagging_fraction': 0.23471371488088055}. Best is trial 1 with value: 484022000.0.\n",
      "[I 2024-11-08 11:28:04,561] Trial 3 finished with value: 489223000.0 and parameters: {'num_leaves': 79, 'learning_rate': 0.05486123634370735, 'min_data_in_leaf': 1380, 'feature_fraction': 0.6184913544411021, 'bagging_fraction': 0.4808902093417563}. Best is trial 3 with value: 489223000.0.\n",
      "[W 2024-11-08 11:28:09,636] Trial 4 failed with parameters: {'num_leaves': 70, 'learning_rate': 0.09504714430284956, 'min_data_in_leaf': 1329, 'feature_fraction': 0.6429553572890628, 'bagging_fraction': 0.8918113531122719} because of the following error: KeyboardInterrupt().\n",
      "Traceback (most recent call last):\n",
      "  File \"c:\\Users\\Admin\\.conda\\envs\\datascience\\Lib\\site-packages\\optuna\\study\\_optimize.py\", line 196, in _run_trial\n",
      "    value_or_values = func(trial)\n",
      "                      ^^^^^^^^^^^\n",
      "  File \"C:\\Users\\Admin\\AppData\\Local\\Temp\\ipykernel_2908\\754118112.py\", line 33, in objective\n",
      "    cv_results = lgb.cv(\n",
      "                 ^^^^^^^\n",
      "  File \"c:\\Users\\Admin\\.conda\\envs\\datascience\\Lib\\site-packages\\lightgbm\\engine.py\", line 827, in cv\n",
      "    res = _agg_cv_result(cvfolds.eval_valid(feval))  # type: ignore[call-arg]\n",
      "                         ^^^^^^^^^^^^^^^^^^^^^^^^^\n",
      "  File \"c:\\Users\\Admin\\.conda\\envs\\datascience\\Lib\\site-packages\\lightgbm\\engine.py\", line 402, in handler_function\n",
      "    ret.append(getattr(booster, name)(*args, **kwargs))\n",
      "               ^^^^^^^^^^^^^^^^^^^^^^^^^^^^^^^^^^^^^^^\n",
      "  File \"c:\\Users\\Admin\\.conda\\envs\\datascience\\Lib\\site-packages\\lightgbm\\basic.py\", line 4413, in eval_valid\n",
      "    return [\n",
      "           ^\n",
      "  File \"c:\\Users\\Admin\\.conda\\envs\\datascience\\Lib\\site-packages\\lightgbm\\basic.py\", line 4416, in <listcomp>\n",
      "    for item in self.__inner_eval(self.name_valid_sets[i - 1], i, feval)\n",
      "                ^^^^^^^^^^^^^^^^^^^^^^^^^^^^^^^^^^^^^^^^^^^^^^^^^^^^^^^^\n",
      "  File \"c:\\Users\\Admin\\.conda\\envs\\datascience\\Lib\\site-packages\\lightgbm\\basic.py\", line 5177, in __inner_eval\n",
      "    feval_ret = eval_function(self.__inner_predict(data_idx), cur_data)\n",
      "                ^^^^^^^^^^^^^^^^^^^^^^^^^^^^^^^^^^^^^^^^^^^^^^^^^^^^^^^\n",
      "  File \"C:\\Users\\Admin\\AppData\\Local\\Temp\\ipykernel_2908\\3141376051.py\", line 4, in lgb_gan_eval\n",
      "    ganancia = ganancia[np.argsort(y_pred)[::-1]]\n",
      "                        ^^^^^^^^^^^^^^^^^^\n",
      "  File \"c:\\Users\\Admin\\.conda\\envs\\datascience\\Lib\\site-packages\\numpy\\core\\fromnumeric.py\", line 1133, in argsort\n",
      "    return _wrapfunc(a, 'argsort', axis=axis, kind=kind, order=order)\n",
      "           ^^^^^^^^^^^^^^^^^^^^^^^^^^^^^^^^^^^^^^^^^^^^^^^^^^^^^^^^^^\n",
      "  File \"c:\\Users\\Admin\\.conda\\envs\\datascience\\Lib\\site-packages\\numpy\\core\\fromnumeric.py\", line 59, in _wrapfunc\n",
      "    return bound(*args, **kwds)\n",
      "           ^^^^^^^^^^^^^^^^^^^^\n",
      "KeyboardInterrupt\n",
      "[W 2024-11-08 11:28:09,640] Trial 4 failed with value None.\n"
     ]
    },
    {
     "ename": "KeyboardInterrupt",
     "evalue": "",
     "output_type": "error",
     "traceback": [
      "\u001b[1;31m---------------------------------------------------------------------------\u001b[0m",
      "\u001b[1;31mKeyboardInterrupt\u001b[0m                         Traceback (most recent call last)",
      "Cell \u001b[1;32mIn[105], line 105\u001b[0m\n\u001b[0;32m     97\u001b[0m study \u001b[38;5;241m=\u001b[39m optuna\u001b[38;5;241m.\u001b[39mcreate_study(\n\u001b[0;32m     98\u001b[0m     direction\u001b[38;5;241m=\u001b[39m\u001b[38;5;124m\"\u001b[39m\u001b[38;5;124mmaximize\u001b[39m\u001b[38;5;124m\"\u001b[39m,\n\u001b[0;32m     99\u001b[0m     study_name\u001b[38;5;241m=\u001b[39mstudy_name,\n\u001b[0;32m    100\u001b[0m     storage\u001b[38;5;241m=\u001b[39mstorage_name,\n\u001b[0;32m    101\u001b[0m     load_if_exists\u001b[38;5;241m=\u001b[39m\u001b[38;5;28;01mTrue\u001b[39;00m,\n\u001b[0;32m    102\u001b[0m )\n\u001b[0;32m    104\u001b[0m \u001b[38;5;66;03m# Optimizar el estudio con el callback personalizado\u001b[39;00m\n\u001b[1;32m--> 105\u001b[0m study\u001b[38;5;241m.\u001b[39moptimize(objective, n_trials\u001b[38;5;241m=\u001b[39m\u001b[38;5;241m30000\u001b[39m)\n",
      "File \u001b[1;32mc:\\Users\\Admin\\.conda\\envs\\datascience\\Lib\\site-packages\\optuna\\study\\study.py:451\u001b[0m, in \u001b[0;36mStudy.optimize\u001b[1;34m(self, func, n_trials, timeout, n_jobs, catch, callbacks, gc_after_trial, show_progress_bar)\u001b[0m\n\u001b[0;32m    348\u001b[0m \u001b[38;5;28;01mdef\u001b[39;00m \u001b[38;5;21moptimize\u001b[39m(\n\u001b[0;32m    349\u001b[0m     \u001b[38;5;28mself\u001b[39m,\n\u001b[0;32m    350\u001b[0m     func: ObjectiveFuncType,\n\u001b[1;32m   (...)\u001b[0m\n\u001b[0;32m    357\u001b[0m     show_progress_bar: \u001b[38;5;28mbool\u001b[39m \u001b[38;5;241m=\u001b[39m \u001b[38;5;28;01mFalse\u001b[39;00m,\n\u001b[0;32m    358\u001b[0m ) \u001b[38;5;241m-\u001b[39m\u001b[38;5;241m>\u001b[39m \u001b[38;5;28;01mNone\u001b[39;00m:\n\u001b[0;32m    359\u001b[0m \u001b[38;5;250m    \u001b[39m\u001b[38;5;124;03m\"\"\"Optimize an objective function.\u001b[39;00m\n\u001b[0;32m    360\u001b[0m \n\u001b[0;32m    361\u001b[0m \u001b[38;5;124;03m    Optimization is done by choosing a suitable set of hyperparameter values from a given\u001b[39;00m\n\u001b[1;32m   (...)\u001b[0m\n\u001b[0;32m    449\u001b[0m \u001b[38;5;124;03m            If nested invocation of this method occurs.\u001b[39;00m\n\u001b[0;32m    450\u001b[0m \u001b[38;5;124;03m    \"\"\"\u001b[39;00m\n\u001b[1;32m--> 451\u001b[0m     _optimize(\n\u001b[0;32m    452\u001b[0m         study\u001b[38;5;241m=\u001b[39m\u001b[38;5;28mself\u001b[39m,\n\u001b[0;32m    453\u001b[0m         func\u001b[38;5;241m=\u001b[39mfunc,\n\u001b[0;32m    454\u001b[0m         n_trials\u001b[38;5;241m=\u001b[39mn_trials,\n\u001b[0;32m    455\u001b[0m         timeout\u001b[38;5;241m=\u001b[39mtimeout,\n\u001b[0;32m    456\u001b[0m         n_jobs\u001b[38;5;241m=\u001b[39mn_jobs,\n\u001b[0;32m    457\u001b[0m         catch\u001b[38;5;241m=\u001b[39m\u001b[38;5;28mtuple\u001b[39m(catch) \u001b[38;5;28;01mif\u001b[39;00m \u001b[38;5;28misinstance\u001b[39m(catch, Iterable) \u001b[38;5;28;01melse\u001b[39;00m (catch,),\n\u001b[0;32m    458\u001b[0m         callbacks\u001b[38;5;241m=\u001b[39mcallbacks,\n\u001b[0;32m    459\u001b[0m         gc_after_trial\u001b[38;5;241m=\u001b[39mgc_after_trial,\n\u001b[0;32m    460\u001b[0m         show_progress_bar\u001b[38;5;241m=\u001b[39mshow_progress_bar,\n\u001b[0;32m    461\u001b[0m     )\n",
      "File \u001b[1;32mc:\\Users\\Admin\\.conda\\envs\\datascience\\Lib\\site-packages\\optuna\\study\\_optimize.py:62\u001b[0m, in \u001b[0;36m_optimize\u001b[1;34m(study, func, n_trials, timeout, n_jobs, catch, callbacks, gc_after_trial, show_progress_bar)\u001b[0m\n\u001b[0;32m     60\u001b[0m \u001b[38;5;28;01mtry\u001b[39;00m:\n\u001b[0;32m     61\u001b[0m     \u001b[38;5;28;01mif\u001b[39;00m n_jobs \u001b[38;5;241m==\u001b[39m \u001b[38;5;241m1\u001b[39m:\n\u001b[1;32m---> 62\u001b[0m         _optimize_sequential(\n\u001b[0;32m     63\u001b[0m             study,\n\u001b[0;32m     64\u001b[0m             func,\n\u001b[0;32m     65\u001b[0m             n_trials,\n\u001b[0;32m     66\u001b[0m             timeout,\n\u001b[0;32m     67\u001b[0m             catch,\n\u001b[0;32m     68\u001b[0m             callbacks,\n\u001b[0;32m     69\u001b[0m             gc_after_trial,\n\u001b[0;32m     70\u001b[0m             reseed_sampler_rng\u001b[38;5;241m=\u001b[39m\u001b[38;5;28;01mFalse\u001b[39;00m,\n\u001b[0;32m     71\u001b[0m             time_start\u001b[38;5;241m=\u001b[39m\u001b[38;5;28;01mNone\u001b[39;00m,\n\u001b[0;32m     72\u001b[0m             progress_bar\u001b[38;5;241m=\u001b[39mprogress_bar,\n\u001b[0;32m     73\u001b[0m         )\n\u001b[0;32m     74\u001b[0m     \u001b[38;5;28;01melse\u001b[39;00m:\n\u001b[0;32m     75\u001b[0m         \u001b[38;5;28;01mif\u001b[39;00m n_jobs \u001b[38;5;241m==\u001b[39m \u001b[38;5;241m-\u001b[39m\u001b[38;5;241m1\u001b[39m:\n",
      "File \u001b[1;32mc:\\Users\\Admin\\.conda\\envs\\datascience\\Lib\\site-packages\\optuna\\study\\_optimize.py:159\u001b[0m, in \u001b[0;36m_optimize_sequential\u001b[1;34m(study, func, n_trials, timeout, catch, callbacks, gc_after_trial, reseed_sampler_rng, time_start, progress_bar)\u001b[0m\n\u001b[0;32m    156\u001b[0m         \u001b[38;5;28;01mbreak\u001b[39;00m\n\u001b[0;32m    158\u001b[0m \u001b[38;5;28;01mtry\u001b[39;00m:\n\u001b[1;32m--> 159\u001b[0m     frozen_trial \u001b[38;5;241m=\u001b[39m _run_trial(study, func, catch)\n\u001b[0;32m    160\u001b[0m \u001b[38;5;28;01mfinally\u001b[39;00m:\n\u001b[0;32m    161\u001b[0m     \u001b[38;5;66;03m# The following line mitigates memory problems that can be occurred in some\u001b[39;00m\n\u001b[0;32m    162\u001b[0m     \u001b[38;5;66;03m# environments (e.g., services that use computing containers such as GitHub Actions).\u001b[39;00m\n\u001b[0;32m    163\u001b[0m     \u001b[38;5;66;03m# Please refer to the following PR for further details:\u001b[39;00m\n\u001b[0;32m    164\u001b[0m     \u001b[38;5;66;03m# https://github.com/optuna/optuna/pull/325.\u001b[39;00m\n\u001b[0;32m    165\u001b[0m     \u001b[38;5;28;01mif\u001b[39;00m gc_after_trial:\n",
      "File \u001b[1;32mc:\\Users\\Admin\\.conda\\envs\\datascience\\Lib\\site-packages\\optuna\\study\\_optimize.py:247\u001b[0m, in \u001b[0;36m_run_trial\u001b[1;34m(study, func, catch)\u001b[0m\n\u001b[0;32m    240\u001b[0m         \u001b[38;5;28;01massert\u001b[39;00m \u001b[38;5;28;01mFalse\u001b[39;00m, \u001b[38;5;124m\"\u001b[39m\u001b[38;5;124mShould not reach.\u001b[39m\u001b[38;5;124m\"\u001b[39m\n\u001b[0;32m    242\u001b[0m \u001b[38;5;28;01mif\u001b[39;00m (\n\u001b[0;32m    243\u001b[0m     frozen_trial\u001b[38;5;241m.\u001b[39mstate \u001b[38;5;241m==\u001b[39m TrialState\u001b[38;5;241m.\u001b[39mFAIL\n\u001b[0;32m    244\u001b[0m     \u001b[38;5;129;01mand\u001b[39;00m func_err \u001b[38;5;129;01mis\u001b[39;00m \u001b[38;5;129;01mnot\u001b[39;00m \u001b[38;5;28;01mNone\u001b[39;00m\n\u001b[0;32m    245\u001b[0m     \u001b[38;5;129;01mand\u001b[39;00m \u001b[38;5;129;01mnot\u001b[39;00m \u001b[38;5;28misinstance\u001b[39m(func_err, catch)\n\u001b[0;32m    246\u001b[0m ):\n\u001b[1;32m--> 247\u001b[0m     \u001b[38;5;28;01mraise\u001b[39;00m func_err\n\u001b[0;32m    248\u001b[0m \u001b[38;5;28;01mreturn\u001b[39;00m frozen_trial\n",
      "File \u001b[1;32mc:\\Users\\Admin\\.conda\\envs\\datascience\\Lib\\site-packages\\optuna\\study\\_optimize.py:196\u001b[0m, in \u001b[0;36m_run_trial\u001b[1;34m(study, func, catch)\u001b[0m\n\u001b[0;32m    194\u001b[0m \u001b[38;5;28;01mwith\u001b[39;00m get_heartbeat_thread(trial\u001b[38;5;241m.\u001b[39m_trial_id, study\u001b[38;5;241m.\u001b[39m_storage):\n\u001b[0;32m    195\u001b[0m     \u001b[38;5;28;01mtry\u001b[39;00m:\n\u001b[1;32m--> 196\u001b[0m         value_or_values \u001b[38;5;241m=\u001b[39m func(trial)\n\u001b[0;32m    197\u001b[0m     \u001b[38;5;28;01mexcept\u001b[39;00m exceptions\u001b[38;5;241m.\u001b[39mTrialPruned \u001b[38;5;28;01mas\u001b[39;00m e:\n\u001b[0;32m    198\u001b[0m         \u001b[38;5;66;03m# TODO(mamu): Handle multi-objective cases.\u001b[39;00m\n\u001b[0;32m    199\u001b[0m         state \u001b[38;5;241m=\u001b[39m TrialState\u001b[38;5;241m.\u001b[39mPRUNED\n",
      "Cell \u001b[1;32mIn[105], line 33\u001b[0m, in \u001b[0;36mobjective\u001b[1;34m(trial)\u001b[0m\n\u001b[0;32m      8\u001b[0m params \u001b[38;5;241m=\u001b[39m {\n\u001b[0;32m      9\u001b[0m     \u001b[38;5;124m'\u001b[39m\u001b[38;5;124mobjective\u001b[39m\u001b[38;5;124m'\u001b[39m: \u001b[38;5;124m'\u001b[39m\u001b[38;5;124mbinary\u001b[39m\u001b[38;5;124m'\u001b[39m,\n\u001b[0;32m     10\u001b[0m     \u001b[38;5;124m'\u001b[39m\u001b[38;5;124mmetric\u001b[39m\u001b[38;5;124m'\u001b[39m: \u001b[38;5;124m'\u001b[39m\u001b[38;5;124mcustom\u001b[39m\u001b[38;5;124m'\u001b[39m, \n\u001b[1;32m   (...)\u001b[0m\n\u001b[0;32m     26\u001b[0m     \u001b[38;5;124m'\u001b[39m\u001b[38;5;124mverbose\u001b[39m\u001b[38;5;124m'\u001b[39m: \u001b[38;5;241m-\u001b[39m\u001b[38;5;241m1\u001b[39m\n\u001b[0;32m     27\u001b[0m }\n\u001b[0;32m     29\u001b[0m train_data \u001b[38;5;241m=\u001b[39m lgb\u001b[38;5;241m.\u001b[39mDataset(X_train,\n\u001b[0;32m     30\u001b[0m                          label\u001b[38;5;241m=\u001b[39mY_train,  \u001b[38;5;66;03m# elegir la clase\u001b[39;00m\n\u001b[0;32m     31\u001b[0m                          weight\u001b[38;5;241m=\u001b[39mw_train)\n\u001b[1;32m---> 33\u001b[0m cv_results \u001b[38;5;241m=\u001b[39m lgb\u001b[38;5;241m.\u001b[39mcv(\n\u001b[0;32m     34\u001b[0m     params,\n\u001b[0;32m     35\u001b[0m     train_data,\n\u001b[0;32m     36\u001b[0m     num_boost_round\u001b[38;5;241m=\u001b[39m\u001b[38;5;241m300\u001b[39m,  \u001b[38;5;66;03m# modificar, subir y subir... y descomentar la línea inferior\u001b[39;00m\n\u001b[0;32m     37\u001b[0m     \n\u001b[0;32m     38\u001b[0m     feval\u001b[38;5;241m=\u001b[39mlgb_gan_eval,\n\u001b[0;32m     39\u001b[0m     stratified\u001b[38;5;241m=\u001b[39m\u001b[38;5;28;01mTrue\u001b[39;00m,\n\u001b[0;32m     40\u001b[0m     nfold\u001b[38;5;241m=\u001b[39m\u001b[38;5;241m5\u001b[39m,\n\u001b[0;32m     41\u001b[0m     seed\u001b[38;5;241m=\u001b[39msemillas[\u001b[38;5;241m0\u001b[39m]\n\u001b[0;32m     42\u001b[0m )\n\u001b[0;32m     44\u001b[0m max_gan \u001b[38;5;241m=\u001b[39m \u001b[38;5;28mmax\u001b[39m(cv_results[\u001b[38;5;124m'\u001b[39m\u001b[38;5;124mvalid gan_eval-mean\u001b[39m\u001b[38;5;124m'\u001b[39m])\n\u001b[0;32m     45\u001b[0m best_iter \u001b[38;5;241m=\u001b[39m cv_results[\u001b[38;5;124m'\u001b[39m\u001b[38;5;124mvalid gan_eval-mean\u001b[39m\u001b[38;5;124m'\u001b[39m]\u001b[38;5;241m.\u001b[39mindex(max_gan) \u001b[38;5;241m+\u001b[39m \u001b[38;5;241m1\u001b[39m\n",
      "File \u001b[1;32mc:\\Users\\Admin\\.conda\\envs\\datascience\\Lib\\site-packages\\lightgbm\\engine.py:827\u001b[0m, in \u001b[0;36mcv\u001b[1;34m(params, train_set, num_boost_round, folds, nfold, stratified, shuffle, metrics, feval, init_model, feature_name, categorical_feature, fpreproc, seed, callbacks, eval_train_metric, return_cvbooster)\u001b[0m\n\u001b[0;32m    816\u001b[0m     cb(\n\u001b[0;32m    817\u001b[0m         callback\u001b[38;5;241m.\u001b[39mCallbackEnv(\n\u001b[0;32m    818\u001b[0m             model\u001b[38;5;241m=\u001b[39mcvfolds,\n\u001b[1;32m   (...)\u001b[0m\n\u001b[0;32m    824\u001b[0m         )\n\u001b[0;32m    825\u001b[0m     )\n\u001b[0;32m    826\u001b[0m cvfolds\u001b[38;5;241m.\u001b[39mupdate(fobj\u001b[38;5;241m=\u001b[39mfobj)  \u001b[38;5;66;03m# type: ignore[call-arg]\u001b[39;00m\n\u001b[1;32m--> 827\u001b[0m res \u001b[38;5;241m=\u001b[39m _agg_cv_result(cvfolds\u001b[38;5;241m.\u001b[39meval_valid(feval))  \u001b[38;5;66;03m# type: ignore[call-arg]\u001b[39;00m\n\u001b[0;32m    828\u001b[0m \u001b[38;5;28;01mfor\u001b[39;00m _, key, mean, _, std \u001b[38;5;129;01min\u001b[39;00m res:\n\u001b[0;32m    829\u001b[0m     results[\u001b[38;5;124mf\u001b[39m\u001b[38;5;124m\"\u001b[39m\u001b[38;5;132;01m{\u001b[39;00mkey\u001b[38;5;132;01m}\u001b[39;00m\u001b[38;5;124m-mean\u001b[39m\u001b[38;5;124m\"\u001b[39m]\u001b[38;5;241m.\u001b[39mappend(mean)\n",
      "File \u001b[1;32mc:\\Users\\Admin\\.conda\\envs\\datascience\\Lib\\site-packages\\lightgbm\\engine.py:402\u001b[0m, in \u001b[0;36mCVBooster.__getattr__.<locals>.handler_function\u001b[1;34m(*args, **kwargs)\u001b[0m\n\u001b[0;32m    400\u001b[0m ret \u001b[38;5;241m=\u001b[39m []\n\u001b[0;32m    401\u001b[0m \u001b[38;5;28;01mfor\u001b[39;00m booster \u001b[38;5;129;01min\u001b[39;00m \u001b[38;5;28mself\u001b[39m\u001b[38;5;241m.\u001b[39mboosters:\n\u001b[1;32m--> 402\u001b[0m     ret\u001b[38;5;241m.\u001b[39mappend(\u001b[38;5;28mgetattr\u001b[39m(booster, name)(\u001b[38;5;241m*\u001b[39margs, \u001b[38;5;241m*\u001b[39m\u001b[38;5;241m*\u001b[39mkwargs))\n\u001b[0;32m    403\u001b[0m \u001b[38;5;28;01mreturn\u001b[39;00m ret\n",
      "File \u001b[1;32mc:\\Users\\Admin\\.conda\\envs\\datascience\\Lib\\site-packages\\lightgbm\\basic.py:4413\u001b[0m, in \u001b[0;36mBooster.eval_valid\u001b[1;34m(self, feval)\u001b[0m\n\u001b[0;32m   4381\u001b[0m \u001b[38;5;28;01mdef\u001b[39;00m \u001b[38;5;21meval_valid\u001b[39m(\n\u001b[0;32m   4382\u001b[0m     \u001b[38;5;28mself\u001b[39m,\n\u001b[0;32m   4383\u001b[0m     feval: Optional[Union[_LGBM_CustomEvalFunction, List[_LGBM_CustomEvalFunction]]] \u001b[38;5;241m=\u001b[39m \u001b[38;5;28;01mNone\u001b[39;00m,\n\u001b[0;32m   4384\u001b[0m ) \u001b[38;5;241m-\u001b[39m\u001b[38;5;241m>\u001b[39m List[_LGBM_BoosterEvalMethodResultType]:\n\u001b[0;32m   4385\u001b[0m \u001b[38;5;250m    \u001b[39m\u001b[38;5;124;03m\"\"\"Evaluate for validation data.\u001b[39;00m\n\u001b[0;32m   4386\u001b[0m \n\u001b[0;32m   4387\u001b[0m \u001b[38;5;124;03m    Parameters\u001b[39;00m\n\u001b[1;32m   (...)\u001b[0m\n\u001b[0;32m   4411\u001b[0m \u001b[38;5;124;03m        List with (validation_dataset_name, eval_name, eval_result, is_higher_better) tuples.\u001b[39;00m\n\u001b[0;32m   4412\u001b[0m \u001b[38;5;124;03m    \"\"\"\u001b[39;00m\n\u001b[1;32m-> 4413\u001b[0m     \u001b[38;5;28;01mreturn\u001b[39;00m [\n\u001b[0;32m   4414\u001b[0m         item\n\u001b[0;32m   4415\u001b[0m         \u001b[38;5;28;01mfor\u001b[39;00m i \u001b[38;5;129;01min\u001b[39;00m \u001b[38;5;28mrange\u001b[39m(\u001b[38;5;241m1\u001b[39m, \u001b[38;5;28mself\u001b[39m\u001b[38;5;241m.\u001b[39m__num_dataset)\n\u001b[0;32m   4416\u001b[0m         \u001b[38;5;28;01mfor\u001b[39;00m item \u001b[38;5;129;01min\u001b[39;00m \u001b[38;5;28mself\u001b[39m\u001b[38;5;241m.\u001b[39m__inner_eval(\u001b[38;5;28mself\u001b[39m\u001b[38;5;241m.\u001b[39mname_valid_sets[i \u001b[38;5;241m-\u001b[39m \u001b[38;5;241m1\u001b[39m], i, feval)\n\u001b[0;32m   4417\u001b[0m     ]\n",
      "File \u001b[1;32mc:\\Users\\Admin\\.conda\\envs\\datascience\\Lib\\site-packages\\lightgbm\\basic.py:4416\u001b[0m, in \u001b[0;36m<listcomp>\u001b[1;34m(.0)\u001b[0m\n\u001b[0;32m   4381\u001b[0m \u001b[38;5;28;01mdef\u001b[39;00m \u001b[38;5;21meval_valid\u001b[39m(\n\u001b[0;32m   4382\u001b[0m     \u001b[38;5;28mself\u001b[39m,\n\u001b[0;32m   4383\u001b[0m     feval: Optional[Union[_LGBM_CustomEvalFunction, List[_LGBM_CustomEvalFunction]]] \u001b[38;5;241m=\u001b[39m \u001b[38;5;28;01mNone\u001b[39;00m,\n\u001b[0;32m   4384\u001b[0m ) \u001b[38;5;241m-\u001b[39m\u001b[38;5;241m>\u001b[39m List[_LGBM_BoosterEvalMethodResultType]:\n\u001b[0;32m   4385\u001b[0m \u001b[38;5;250m    \u001b[39m\u001b[38;5;124;03m\"\"\"Evaluate for validation data.\u001b[39;00m\n\u001b[0;32m   4386\u001b[0m \n\u001b[0;32m   4387\u001b[0m \u001b[38;5;124;03m    Parameters\u001b[39;00m\n\u001b[1;32m   (...)\u001b[0m\n\u001b[0;32m   4411\u001b[0m \u001b[38;5;124;03m        List with (validation_dataset_name, eval_name, eval_result, is_higher_better) tuples.\u001b[39;00m\n\u001b[0;32m   4412\u001b[0m \u001b[38;5;124;03m    \"\"\"\u001b[39;00m\n\u001b[0;32m   4413\u001b[0m     \u001b[38;5;28;01mreturn\u001b[39;00m [\n\u001b[0;32m   4414\u001b[0m         item\n\u001b[0;32m   4415\u001b[0m         \u001b[38;5;28;01mfor\u001b[39;00m i \u001b[38;5;129;01min\u001b[39;00m \u001b[38;5;28mrange\u001b[39m(\u001b[38;5;241m1\u001b[39m, \u001b[38;5;28mself\u001b[39m\u001b[38;5;241m.\u001b[39m__num_dataset)\n\u001b[1;32m-> 4416\u001b[0m         \u001b[38;5;28;01mfor\u001b[39;00m item \u001b[38;5;129;01min\u001b[39;00m \u001b[38;5;28mself\u001b[39m\u001b[38;5;241m.\u001b[39m__inner_eval(\u001b[38;5;28mself\u001b[39m\u001b[38;5;241m.\u001b[39mname_valid_sets[i \u001b[38;5;241m-\u001b[39m \u001b[38;5;241m1\u001b[39m], i, feval)\n\u001b[0;32m   4417\u001b[0m     ]\n",
      "File \u001b[1;32mc:\\Users\\Admin\\.conda\\envs\\datascience\\Lib\\site-packages\\lightgbm\\basic.py:5177\u001b[0m, in \u001b[0;36mBooster.__inner_eval\u001b[1;34m(self, data_name, data_idx, feval)\u001b[0m\n\u001b[0;32m   5175\u001b[0m \u001b[38;5;28;01mif\u001b[39;00m eval_function \u001b[38;5;129;01mis\u001b[39;00m \u001b[38;5;28;01mNone\u001b[39;00m:\n\u001b[0;32m   5176\u001b[0m     \u001b[38;5;28;01mcontinue\u001b[39;00m\n\u001b[1;32m-> 5177\u001b[0m feval_ret \u001b[38;5;241m=\u001b[39m eval_function(\u001b[38;5;28mself\u001b[39m\u001b[38;5;241m.\u001b[39m__inner_predict(data_idx), cur_data)\n\u001b[0;32m   5178\u001b[0m \u001b[38;5;28;01mif\u001b[39;00m \u001b[38;5;28misinstance\u001b[39m(feval_ret, \u001b[38;5;28mlist\u001b[39m):\n\u001b[0;32m   5179\u001b[0m     \u001b[38;5;28;01mfor\u001b[39;00m eval_name, val, is_higher_better \u001b[38;5;129;01min\u001b[39;00m feval_ret:\n",
      "Cell \u001b[1;32mIn[45], line 4\u001b[0m, in \u001b[0;36mlgb_gan_eval\u001b[1;34m(y_pred, data)\u001b[0m\n\u001b[0;32m      2\u001b[0m weight \u001b[38;5;241m=\u001b[39m data\u001b[38;5;241m.\u001b[39mget_weight()\n\u001b[0;32m      3\u001b[0m ganancia \u001b[38;5;241m=\u001b[39m np\u001b[38;5;241m.\u001b[39mwhere(weight \u001b[38;5;241m==\u001b[39m \u001b[38;5;241m1.00002\u001b[39m, ganancia_acierto, \u001b[38;5;241m0\u001b[39m) \u001b[38;5;241m-\u001b[39m np\u001b[38;5;241m.\u001b[39mwhere(weight \u001b[38;5;241m<\u001b[39m \u001b[38;5;241m1.00002\u001b[39m, costo_estimulo, \u001b[38;5;241m0\u001b[39m)\n\u001b[1;32m----> 4\u001b[0m ganancia \u001b[38;5;241m=\u001b[39m ganancia[np\u001b[38;5;241m.\u001b[39margsort(y_pred)[::\u001b[38;5;241m-\u001b[39m\u001b[38;5;241m1\u001b[39m]]\n\u001b[0;32m      5\u001b[0m ganancia \u001b[38;5;241m=\u001b[39m np\u001b[38;5;241m.\u001b[39mcumsum(ganancia)\n\u001b[0;32m      7\u001b[0m \u001b[38;5;28;01mreturn\u001b[39;00m \u001b[38;5;124m'\u001b[39m\u001b[38;5;124mgan_eval\u001b[39m\u001b[38;5;124m'\u001b[39m, np\u001b[38;5;241m.\u001b[39mmax(ganancia) , \u001b[38;5;28;01mTrue\u001b[39;00m\n",
      "File \u001b[1;32mc:\\Users\\Admin\\.conda\\envs\\datascience\\Lib\\site-packages\\numpy\\core\\fromnumeric.py:1133\u001b[0m, in \u001b[0;36margsort\u001b[1;34m(a, axis, kind, order)\u001b[0m\n\u001b[0;32m   1025\u001b[0m \u001b[38;5;129m@array_function_dispatch\u001b[39m(_argsort_dispatcher)\n\u001b[0;32m   1026\u001b[0m \u001b[38;5;28;01mdef\u001b[39;00m \u001b[38;5;21margsort\u001b[39m(a, axis\u001b[38;5;241m=\u001b[39m\u001b[38;5;241m-\u001b[39m\u001b[38;5;241m1\u001b[39m, kind\u001b[38;5;241m=\u001b[39m\u001b[38;5;28;01mNone\u001b[39;00m, order\u001b[38;5;241m=\u001b[39m\u001b[38;5;28;01mNone\u001b[39;00m):\n\u001b[0;32m   1027\u001b[0m \u001b[38;5;250m    \u001b[39m\u001b[38;5;124;03m\"\"\"\u001b[39;00m\n\u001b[0;32m   1028\u001b[0m \u001b[38;5;124;03m    Returns the indices that would sort an array.\u001b[39;00m\n\u001b[0;32m   1029\u001b[0m \n\u001b[1;32m   (...)\u001b[0m\n\u001b[0;32m   1131\u001b[0m \n\u001b[0;32m   1132\u001b[0m \u001b[38;5;124;03m    \"\"\"\u001b[39;00m\n\u001b[1;32m-> 1133\u001b[0m     \u001b[38;5;28;01mreturn\u001b[39;00m _wrapfunc(a, \u001b[38;5;124m'\u001b[39m\u001b[38;5;124margsort\u001b[39m\u001b[38;5;124m'\u001b[39m, axis\u001b[38;5;241m=\u001b[39maxis, kind\u001b[38;5;241m=\u001b[39mkind, order\u001b[38;5;241m=\u001b[39morder)\n",
      "File \u001b[1;32mc:\\Users\\Admin\\.conda\\envs\\datascience\\Lib\\site-packages\\numpy\\core\\fromnumeric.py:59\u001b[0m, in \u001b[0;36m_wrapfunc\u001b[1;34m(obj, method, *args, **kwds)\u001b[0m\n\u001b[0;32m     56\u001b[0m     \u001b[38;5;28;01mreturn\u001b[39;00m _wrapit(obj, method, \u001b[38;5;241m*\u001b[39margs, \u001b[38;5;241m*\u001b[39m\u001b[38;5;241m*\u001b[39mkwds)\n\u001b[0;32m     58\u001b[0m \u001b[38;5;28;01mtry\u001b[39;00m:\n\u001b[1;32m---> 59\u001b[0m     \u001b[38;5;28;01mreturn\u001b[39;00m bound(\u001b[38;5;241m*\u001b[39margs, \u001b[38;5;241m*\u001b[39m\u001b[38;5;241m*\u001b[39mkwds)\n\u001b[0;32m     60\u001b[0m \u001b[38;5;28;01mexcept\u001b[39;00m \u001b[38;5;167;01mTypeError\u001b[39;00m:\n\u001b[0;32m     61\u001b[0m     \u001b[38;5;66;03m# A TypeError occurs if the object does have such a method in its\u001b[39;00m\n\u001b[0;32m     62\u001b[0m     \u001b[38;5;66;03m# class, but its signature is not identical to that of NumPy's. This\u001b[39;00m\n\u001b[1;32m   (...)\u001b[0m\n\u001b[0;32m     66\u001b[0m     \u001b[38;5;66;03m# Call _wrapit from within the except clause to ensure a potential\u001b[39;00m\n\u001b[0;32m     67\u001b[0m     \u001b[38;5;66;03m# exception has a traceback chain.\u001b[39;00m\n\u001b[0;32m     68\u001b[0m     \u001b[38;5;28;01mreturn\u001b[39;00m _wrapit(obj, method, \u001b[38;5;241m*\u001b[39margs, \u001b[38;5;241m*\u001b[39m\u001b[38;5;241m*\u001b[39mkwds)\n",
      "\u001b[1;31mKeyboardInterrupt\u001b[0m: "
     ]
    }
   ],
   "source": [
    "def objective(trial):\n",
    "    num_leaves = trial.suggest_int('num_leaves', 8, 100)\n",
    "    learning_rate = trial.suggest_float('learning_rate', 0.00005, 0.3)  # mas bajo, más iteraciones necesita\n",
    "    min_data_in_leaf = trial.suggest_int('min_data_in_leaf', 1, 2000)\n",
    "    feature_fraction = trial.suggest_float('feature_fraction', 0.1, 1.0)\n",
    "    bagging_fraction = trial.suggest_float('bagging_fraction', 0.1, 1.0)\n",
    "\n",
    "    params = {\n",
    "        'objective': 'binary',\n",
    "        'metric': 'custom', \n",
    "        'boosting_type': 'gbdt',\n",
    "        'device': 'gpu',  # Usar la GPU\n",
    "        'gpu_platform_id': 0,  # (opcional) ID de la plataforma GPU\n",
    "        'gpu_device_id': 0,     # (opcional) ID del dispositivo GPU\n",
    "        'first_metric_only': True,\n",
    "        'boost_from_average': True,\n",
    "        'feature_pre_filter': False,\n",
    "        'max_bin': 31,\n",
    "        'device': 'gpu',\n",
    "        'num_leaves': num_leaves,\n",
    "        'learning_rate': learning_rate,\n",
    "        'min_data_in_leaf': min_data_in_leaf,\n",
    "        'feature_fraction': feature_fraction,\n",
    "        'bagging_fraction': bagging_fraction,\n",
    "        'seed': semillas[0],\n",
    "        'verbose': -1\n",
    "    }\n",
    "\n",
    "    train_data = lgb.Dataset(X_train,\n",
    "                             label=Y_train,  # elegir la clase\n",
    "                             weight=w_train)\n",
    "                             \n",
    "    cv_results = lgb.cv(\n",
    "        params,\n",
    "        train_data,\n",
    "        num_boost_round=300,  # modificar, subir y subir... y descomentar la línea inferior\n",
    "        \n",
    "        feval=lgb_gan_eval,\n",
    "        stratified=True,\n",
    "        nfold=5,\n",
    "        seed=semillas[0]\n",
    "    )\n",
    "\n",
    "    max_gan = max(cv_results['valid gan_eval-mean'])\n",
    "    best_iter = cv_results['valid gan_eval-mean'].index(max_gan) + 1\n",
    "\n",
    "    # Guardamos cual es la mejor iteración del modelo\n",
    "    trial.set_user_attr(\"best_iter\", best_iter)\n",
    "\n",
    "    return max_gan * 5\n",
    "\n",
    "\n",
    "storage_name = r\"sqlite:///C:\\Users\\Admin\\Documents\\1_Notebook\\1_Estudio\\1_UBA_Maestria_DS\\1_Especializacion\\1_Segundo_Semestre\\DMEyF\\Optuna\\rf_segmentacion1\\optimization_tree.db\"\n",
    "study_name = \"competencia_02\"\n",
    "\n",
    "\n",
    "\n",
    "study = optuna.create_study(\n",
    "    direction=\"maximize\",\n",
    "    study_name=study_name,\n",
    "    storage=storage_name,\n",
    "    load_if_exists=True,\n",
    ")\n",
    "\n",
    "import optuna\n",
    "\n",
    "class EarlyStoppingByImprovement:\n",
    "    def __init__(self, patience: int):\n",
    "        \"\"\"\n",
    "        Args:\n",
    "            patience (int): Número de pruebas consecutivas sin mejora antes de detener la optimización.\n",
    "        \"\"\"\n",
    "        self.patience = patience\n",
    "        self.best_value = None\n",
    "        self.no_improvement_trials = 0\n",
    "\n",
    "    def __call__(self, study, trial):\n",
    "        current_best_value = study.best_trial.value\n",
    "\n",
    "        # Si la métrica mejora, reseteamos el contador\n",
    "        if self.best_value is None or current_best_value > self.best_value:\n",
    "            self.best_value = current_best_value\n",
    "            self.no_improvement_trials = 0\n",
    "        else:\n",
    "            # Si no hay mejora, incrementamos el contador\n",
    "            self.no_improvement_trials += 1\n",
    "\n",
    "        # Detener si no ha habido mejora en 'self.patience' pruebas consecutivas\n",
    "        if self.no_improvement_trials >= self.patience:\n",
    "            print(f\"Early stopping: No hay mejora en {self.patience} pruebas consecutivas.\")\n",
    "            study.stop()\n",
    "\n",
    "# Crear el callback con 100 pruebas consecutivas sin mejora\n",
    "early_stopping_callback = EarlyStoppingByImprovement(patience=100)\n",
    "\n",
    "# Crear el estudio\n",
    "study = optuna.create_study(\n",
    "    direction=\"maximize\",\n",
    "    study_name=study_name,\n",
    "    storage=storage_name,\n",
    "    load_if_exists=True,\n",
    ")\n",
    "\n",
    "# Optimizar el estudio con el callback personalizado\n",
    "study.optimize(objective, n_trials=30000)"
   ]
  },
  {
   "cell_type": "markdown",
   "metadata": {},
   "source": [
    "## Voting GD"
   ]
  },
  {
   "cell_type": "code",
   "execution_count": 114,
   "metadata": {},
   "outputs": [
    {
     "name": "stdout",
     "output_type": "stream",
     "text": [
      "Mejor cantidad de árboles para el mejor model 300\n"
     ]
    },
    {
     "name": "stderr",
     "output_type": "stream",
     "text": [
      "C:\\Users\\Admin\\AppData\\Local\\Temp\\ipykernel_2908\\1798680220.py:34: PerformanceWarning: DataFrame is highly fragmented.  This is usually the result of calling `frame.insert` many times, which has poor performance.  Consider joining all columns at once using pd.concat(axis=1) instead. To get a de-fragmented frame, use `newframe = frame.copy()`\n",
      "  df_voting['promedio'] = df_voting.mean(axis=1)\n"
     ]
    }
   ],
   "source": [
    "best_iter = study.best_trial.user_attrs[\"best_iter\"]\n",
    "print(f\"Mejor cantidad de árboles para el mejor model {best_iter}\")\n",
    "\n",
    "train_data = lgb.Dataset(X_train,\n",
    "                            label=Y_train,\n",
    "                            weight=w_train)\n",
    "\n",
    "df_voting = pd.DataFrame()\n",
    "\n",
    "for semilla in numeros_random:\n",
    "    params = {\n",
    "    'objective': 'binary',\n",
    "    'boosting_type': 'gbdt',\n",
    "    'first_metric_only': True,\n",
    "    'boost_from_average': True,\n",
    "    'feature_pre_filter': False,\n",
    "    'max_bin': 31,\n",
    "    'num_leaves': study.best_params['num_leaves'],\n",
    "    'learning_rate': study.best_params['learning_rate'],\n",
    "    'min_data_in_leaf': study.best_params['min_data_in_leaf'],\n",
    "    'feature_fraction': study.best_params['feature_fraction'],\n",
    "    'bagging_fraction': study.best_params['bagging_fraction'],\n",
    "    'seed': semilla,\n",
    "    'verbose': 0\n",
    "}\n",
    "    \n",
    "    \n",
    "    model = lgb.train(params,\n",
    "                    train_data,\n",
    "                    num_boost_round=best_iter)\n",
    "    \n",
    "    df_voting[f'semilla_{semilla}'] = model.predict(X_test)\n",
    "\n",
    "df_voting['promedio'] = df_voting.mean(axis=1)\n",
    "    "
   ]
  },
  {
   "cell_type": "code",
   "execution_count": 109,
   "metadata": {},
   "outputs": [
    {
     "data": {
      "text/html": [
       "<div>\n",
       "<style scoped>\n",
       "    .dataframe tbody tr th:only-of-type {\n",
       "        vertical-align: middle;\n",
       "    }\n",
       "\n",
       "    .dataframe tbody tr th {\n",
       "        vertical-align: top;\n",
       "    }\n",
       "\n",
       "    .dataframe thead th {\n",
       "        text-align: right;\n",
       "    }\n",
       "</style>\n",
       "<table border=\"1\" class=\"dataframe\">\n",
       "  <thead>\n",
       "    <tr style=\"text-align: right;\">\n",
       "      <th></th>\n",
       "      <th>semilla_400009</th>\n",
       "      <th>semilla_500009</th>\n",
       "      <th>semilla_500011</th>\n",
       "      <th>semilla_500021</th>\n",
       "      <th>semilla_600009</th>\n",
       "      <th>semilla_600011</th>\n",
       "      <th>semilla_600021</th>\n",
       "      <th>semilla_700009</th>\n",
       "      <th>semilla_7000011</th>\n",
       "      <th>semilla_700021</th>\n",
       "      <th>semilla_800009</th>\n",
       "      <th>semilla_800021</th>\n",
       "      <th>promedio</th>\n",
       "    </tr>\n",
       "  </thead>\n",
       "  <tbody>\n",
       "    <tr>\n",
       "      <th>0</th>\n",
       "      <td>0.000305</td>\n",
       "      <td>0.000205</td>\n",
       "      <td>0.000324</td>\n",
       "      <td>0.000184</td>\n",
       "      <td>0.000170</td>\n",
       "      <td>0.000468</td>\n",
       "      <td>0.000516</td>\n",
       "      <td>0.000222</td>\n",
       "      <td>0.000336</td>\n",
       "      <td>0.000299</td>\n",
       "      <td>0.000455</td>\n",
       "      <td>0.000306</td>\n",
       "      <td>0.000316</td>\n",
       "    </tr>\n",
       "    <tr>\n",
       "      <th>1</th>\n",
       "      <td>0.000530</td>\n",
       "      <td>0.000835</td>\n",
       "      <td>0.000548</td>\n",
       "      <td>0.001046</td>\n",
       "      <td>0.000690</td>\n",
       "      <td>0.000491</td>\n",
       "      <td>0.001604</td>\n",
       "      <td>0.000435</td>\n",
       "      <td>0.000667</td>\n",
       "      <td>0.000317</td>\n",
       "      <td>0.001324</td>\n",
       "      <td>0.000446</td>\n",
       "      <td>0.000744</td>\n",
       "    </tr>\n",
       "    <tr>\n",
       "      <th>2</th>\n",
       "      <td>0.000171</td>\n",
       "      <td>0.000080</td>\n",
       "      <td>0.000144</td>\n",
       "      <td>0.000078</td>\n",
       "      <td>0.000072</td>\n",
       "      <td>0.000063</td>\n",
       "      <td>0.000088</td>\n",
       "      <td>0.000083</td>\n",
       "      <td>0.000087</td>\n",
       "      <td>0.000112</td>\n",
       "      <td>0.000114</td>\n",
       "      <td>0.000118</td>\n",
       "      <td>0.000101</td>\n",
       "    </tr>\n",
       "    <tr>\n",
       "      <th>3</th>\n",
       "      <td>0.083189</td>\n",
       "      <td>0.056778</td>\n",
       "      <td>0.058699</td>\n",
       "      <td>0.084973</td>\n",
       "      <td>0.089187</td>\n",
       "      <td>0.074947</td>\n",
       "      <td>0.102785</td>\n",
       "      <td>0.058986</td>\n",
       "      <td>0.059479</td>\n",
       "      <td>0.060757</td>\n",
       "      <td>0.101514</td>\n",
       "      <td>0.051234</td>\n",
       "      <td>0.073544</td>\n",
       "    </tr>\n",
       "    <tr>\n",
       "      <th>4</th>\n",
       "      <td>0.000491</td>\n",
       "      <td>0.000448</td>\n",
       "      <td>0.000976</td>\n",
       "      <td>0.000662</td>\n",
       "      <td>0.000644</td>\n",
       "      <td>0.000855</td>\n",
       "      <td>0.000754</td>\n",
       "      <td>0.000556</td>\n",
       "      <td>0.001379</td>\n",
       "      <td>0.000912</td>\n",
       "      <td>0.000992</td>\n",
       "      <td>0.000781</td>\n",
       "      <td>0.000788</td>\n",
       "    </tr>\n",
       "  </tbody>\n",
       "</table>\n",
       "</div>"
      ],
      "text/plain": [
       "   semilla_400009  semilla_500009  semilla_500011  semilla_500021  \\\n",
       "0        0.000305        0.000205        0.000324        0.000184   \n",
       "1        0.000530        0.000835        0.000548        0.001046   \n",
       "2        0.000171        0.000080        0.000144        0.000078   \n",
       "3        0.083189        0.056778        0.058699        0.084973   \n",
       "4        0.000491        0.000448        0.000976        0.000662   \n",
       "\n",
       "   semilla_600009  semilla_600011  semilla_600021  semilla_700009  \\\n",
       "0        0.000170        0.000468        0.000516        0.000222   \n",
       "1        0.000690        0.000491        0.001604        0.000435   \n",
       "2        0.000072        0.000063        0.000088        0.000083   \n",
       "3        0.089187        0.074947        0.102785        0.058986   \n",
       "4        0.000644        0.000855        0.000754        0.000556   \n",
       "\n",
       "   semilla_7000011  semilla_700021  semilla_800009  semilla_800021  promedio  \n",
       "0         0.000336        0.000299        0.000455        0.000306  0.000316  \n",
       "1         0.000667        0.000317        0.001324        0.000446  0.000744  \n",
       "2         0.000087        0.000112        0.000114        0.000118  0.000101  \n",
       "3         0.059479        0.060757        0.101514        0.051234  0.073544  \n",
       "4         0.001379        0.000912        0.000992        0.000781  0.000788  "
      ]
     },
     "execution_count": 109,
     "metadata": {},
     "output_type": "execute_result"
    }
   ],
   "source": [
    "df_voting.head()"
   ]
  },
  {
   "cell_type": "code",
   "execution_count": 115,
   "metadata": {},
   "outputs": [
    {
     "data": {
      "text/html": [
       "<div>\n",
       "<style scoped>\n",
       "    .dataframe tbody tr th:only-of-type {\n",
       "        vertical-align: middle;\n",
       "    }\n",
       "\n",
       "    .dataframe tbody tr th {\n",
       "        vertical-align: top;\n",
       "    }\n",
       "\n",
       "    .dataframe thead th {\n",
       "        text-align: right;\n",
       "    }\n",
       "</style>\n",
       "<table border=\"1\" class=\"dataframe\">\n",
       "  <thead>\n",
       "    <tr style=\"text-align: right;\">\n",
       "      <th></th>\n",
       "      <th>semilla_433</th>\n",
       "      <th>semilla_838</th>\n",
       "      <th>semilla_153</th>\n",
       "      <th>semilla_662</th>\n",
       "      <th>semilla_512</th>\n",
       "      <th>semilla_906</th>\n",
       "      <th>semilla_46</th>\n",
       "      <th>semilla_57</th>\n",
       "      <th>semilla_571</th>\n",
       "      <th>semilla_923</th>\n",
       "      <th>...</th>\n",
       "      <th>semilla_807</th>\n",
       "      <th>semilla_522</th>\n",
       "      <th>semilla_207</th>\n",
       "      <th>semilla_717</th>\n",
       "      <th>semilla_35</th>\n",
       "      <th>semilla_939</th>\n",
       "      <th>semilla_615</th>\n",
       "      <th>semilla_337</th>\n",
       "      <th>semilla_18</th>\n",
       "      <th>promedio</th>\n",
       "    </tr>\n",
       "  </thead>\n",
       "  <tbody>\n",
       "    <tr>\n",
       "      <th>0</th>\n",
       "      <td>0.000084</td>\n",
       "      <td>0.000388</td>\n",
       "      <td>0.000331</td>\n",
       "      <td>0.000217</td>\n",
       "      <td>0.000987</td>\n",
       "      <td>0.000592</td>\n",
       "      <td>0.000241</td>\n",
       "      <td>0.000305</td>\n",
       "      <td>0.000517</td>\n",
       "      <td>0.002334</td>\n",
       "      <td>...</td>\n",
       "      <td>0.000446</td>\n",
       "      <td>0.000213</td>\n",
       "      <td>0.000221</td>\n",
       "      <td>0.000277</td>\n",
       "      <td>0.000079</td>\n",
       "      <td>0.000884</td>\n",
       "      <td>0.000189</td>\n",
       "      <td>0.000357</td>\n",
       "      <td>0.000151</td>\n",
       "      <td>0.000395</td>\n",
       "    </tr>\n",
       "    <tr>\n",
       "      <th>1</th>\n",
       "      <td>0.000217</td>\n",
       "      <td>0.000517</td>\n",
       "      <td>0.000281</td>\n",
       "      <td>0.001185</td>\n",
       "      <td>0.000171</td>\n",
       "      <td>0.000659</td>\n",
       "      <td>0.000571</td>\n",
       "      <td>0.001258</td>\n",
       "      <td>0.000692</td>\n",
       "      <td>0.000457</td>\n",
       "      <td>...</td>\n",
       "      <td>0.000330</td>\n",
       "      <td>0.000452</td>\n",
       "      <td>0.000244</td>\n",
       "      <td>0.000645</td>\n",
       "      <td>0.000721</td>\n",
       "      <td>0.000467</td>\n",
       "      <td>0.000337</td>\n",
       "      <td>0.000740</td>\n",
       "      <td>0.000483</td>\n",
       "      <td>0.000595</td>\n",
       "    </tr>\n",
       "    <tr>\n",
       "      <th>2</th>\n",
       "      <td>0.000036</td>\n",
       "      <td>0.000121</td>\n",
       "      <td>0.000256</td>\n",
       "      <td>0.000091</td>\n",
       "      <td>0.000047</td>\n",
       "      <td>0.000124</td>\n",
       "      <td>0.000047</td>\n",
       "      <td>0.000061</td>\n",
       "      <td>0.000072</td>\n",
       "      <td>0.000231</td>\n",
       "      <td>...</td>\n",
       "      <td>0.000168</td>\n",
       "      <td>0.000167</td>\n",
       "      <td>0.000061</td>\n",
       "      <td>0.000066</td>\n",
       "      <td>0.000053</td>\n",
       "      <td>0.000057</td>\n",
       "      <td>0.000075</td>\n",
       "      <td>0.000102</td>\n",
       "      <td>0.000055</td>\n",
       "      <td>0.000102</td>\n",
       "    </tr>\n",
       "    <tr>\n",
       "      <th>3</th>\n",
       "      <td>0.071394</td>\n",
       "      <td>0.109949</td>\n",
       "      <td>0.078699</td>\n",
       "      <td>0.068984</td>\n",
       "      <td>0.061558</td>\n",
       "      <td>0.078055</td>\n",
       "      <td>0.057936</td>\n",
       "      <td>0.074487</td>\n",
       "      <td>0.068497</td>\n",
       "      <td>0.072796</td>\n",
       "      <td>...</td>\n",
       "      <td>0.098121</td>\n",
       "      <td>0.062554</td>\n",
       "      <td>0.052918</td>\n",
       "      <td>0.083861</td>\n",
       "      <td>0.042690</td>\n",
       "      <td>0.084188</td>\n",
       "      <td>0.064770</td>\n",
       "      <td>0.046058</td>\n",
       "      <td>0.078592</td>\n",
       "      <td>0.072357</td>\n",
       "    </tr>\n",
       "    <tr>\n",
       "      <th>4</th>\n",
       "      <td>0.001316</td>\n",
       "      <td>0.000945</td>\n",
       "      <td>0.000550</td>\n",
       "      <td>0.001323</td>\n",
       "      <td>0.001013</td>\n",
       "      <td>0.000346</td>\n",
       "      <td>0.000951</td>\n",
       "      <td>0.001100</td>\n",
       "      <td>0.000790</td>\n",
       "      <td>0.001271</td>\n",
       "      <td>...</td>\n",
       "      <td>0.001490</td>\n",
       "      <td>0.000624</td>\n",
       "      <td>0.000841</td>\n",
       "      <td>0.000633</td>\n",
       "      <td>0.000928</td>\n",
       "      <td>0.000635</td>\n",
       "      <td>0.001135</td>\n",
       "      <td>0.001180</td>\n",
       "      <td>0.000885</td>\n",
       "      <td>0.000879</td>\n",
       "    </tr>\n",
       "  </tbody>\n",
       "</table>\n",
       "<p>5 rows × 101 columns</p>\n",
       "</div>"
      ],
      "text/plain": [
       "   semilla_433  semilla_838  semilla_153  semilla_662  semilla_512  \\\n",
       "0     0.000084     0.000388     0.000331     0.000217     0.000987   \n",
       "1     0.000217     0.000517     0.000281     0.001185     0.000171   \n",
       "2     0.000036     0.000121     0.000256     0.000091     0.000047   \n",
       "3     0.071394     0.109949     0.078699     0.068984     0.061558   \n",
       "4     0.001316     0.000945     0.000550     0.001323     0.001013   \n",
       "\n",
       "   semilla_906  semilla_46  semilla_57  semilla_571  semilla_923  ...  \\\n",
       "0     0.000592    0.000241    0.000305     0.000517     0.002334  ...   \n",
       "1     0.000659    0.000571    0.001258     0.000692     0.000457  ...   \n",
       "2     0.000124    0.000047    0.000061     0.000072     0.000231  ...   \n",
       "3     0.078055    0.057936    0.074487     0.068497     0.072796  ...   \n",
       "4     0.000346    0.000951    0.001100     0.000790     0.001271  ...   \n",
       "\n",
       "   semilla_807  semilla_522  semilla_207  semilla_717  semilla_35  \\\n",
       "0     0.000446     0.000213     0.000221     0.000277    0.000079   \n",
       "1     0.000330     0.000452     0.000244     0.000645    0.000721   \n",
       "2     0.000168     0.000167     0.000061     0.000066    0.000053   \n",
       "3     0.098121     0.062554     0.052918     0.083861    0.042690   \n",
       "4     0.001490     0.000624     0.000841     0.000633    0.000928   \n",
       "\n",
       "   semilla_939  semilla_615  semilla_337  semilla_18  promedio  \n",
       "0     0.000884     0.000189     0.000357    0.000151  0.000395  \n",
       "1     0.000467     0.000337     0.000740    0.000483  0.000595  \n",
       "2     0.000057     0.000075     0.000102    0.000055  0.000102  \n",
       "3     0.084188     0.064770     0.046058    0.078592  0.072357  \n",
       "4     0.000635     0.001135     0.001180    0.000885  0.000879  \n",
       "\n",
       "[5 rows x 101 columns]"
      ]
     },
     "execution_count": 115,
     "metadata": {},
     "output_type": "execute_result"
    }
   ],
   "source": [
    "df_voting.head()"
   ]
  },
  {
   "cell_type": "markdown",
   "metadata": {},
   "source": [
    "#### predicción"
   ]
  },
  {
   "cell_type": "code",
   "execution_count": null,
   "metadata": {},
   "outputs": [],
   "source": [
    "y_pred_lgm = df_voting['promedio']"
   ]
  },
  {
   "cell_type": "code",
   "execution_count": null,
   "metadata": {},
   "outputs": [],
   "source": [
    "y_pred_labels = (y_pred_lgm > 0.025).astype(int)\n"
   ]
  },
  {
   "cell_type": "code",
   "execution_count": null,
   "metadata": {},
   "outputs": [],
   "source": [
    "#dataframe con las variables más importantes\n",
    "importancias = model.feature_importance()\n",
    "nombres = model.feature_name()\n",
    "df_variables_importantes = pd.DataFrame({'importancia': importancias, 'variable': nombres})\n",
    "df_variables_importantes = df_variables_importantes.sort_values(by='importancia', ascending=False)\n",
    "lista_variables_importantes =  df_variables_importantes['variable'].head(10).to_list()"
   ]
  },
  {
   "cell_type": "code",
   "execution_count": null,
   "metadata": {},
   "outputs": [],
   "source": [
    "df_resultado = pd.DataFrame({\n",
    "    'numero_de_cliente': X_test['numero_de_cliente'],\n",
    "    'Predicted': y_pred_labels\n",
    "})"
   ]
  },
  {
   "cell_type": "code",
   "execution_count": null,
   "metadata": {},
   "outputs": [],
   "source": [
    "\n",
    "# numero = '006'\n",
    "# entrega = f'entrega_{numero}.csv'\n",
    "# path = r\"C:\\Users\\Admin\\Documents\\1_Notebook\\1_Estudio\\1_UBA_Maestria_DS\\1_Especializacion\\1_Segundo_Semestre\\DMEyF\\Entregas\"\n",
    "# archivos = glob.glob(os.path.join(path, '*'))\n",
    "# archivos.sort(key=os.path.getmtime, reverse=True)\n",
    "# ultimo_archivo = archivos[0] if archivos else None\n",
    "# if ultimo_archivo:\n",
    "#     nombre_archivo = os.path.basename(ultimo_archivo)\n",
    "#     numero = ''.join(filter(str.isdigit, nombre_archivo))\n",
    "#     print(f\"El último archivo entregado es: {nombre_archivo}\")\n",
    "#     print(f\"El número extraído es: {numero}\")\n",
    "# else:\n",
    "#     print(\"No se encontraron archivos en la carpeta.\")\n",
    "\n",
    "\n",
    " "
   ]
  },
  {
   "cell_type": "code",
   "execution_count": null,
   "metadata": {},
   "outputs": [],
   "source": [
    "#Ingresar el path sobre el cual se quiere ingresar el archivo a entregar\n",
    "\n",
    "entrega = df_resultado.to_csv(r\"C:\\Users\\Admin\\Desktop\\replicabilidad_competencia_01\\competencia_01_replicabilidad.csv\", index=False)"
   ]
  },
  {
   "cell_type": "code",
   "execution_count": null,
   "metadata": {},
   "outputs": [],
   "source": [
    "\n",
    "# numero = '073'\n",
    "# entrega = f'entrega_{numero}.csv'"
   ]
  },
  {
   "cell_type": "code",
   "execution_count": null,
   "metadata": {},
   "outputs": [],
   "source": [
    "\n",
    "\n",
    "# if os.path.exists(path + entrega):\n",
    "#     print(\"El archivo ya existe\")\n",
    "# else:\n",
    "#     entrega_final = os.path.join(path, entrega)\n",
    "#     df_resultado.to_csv(entrega_final, index=False)\n",
    "    \n"
   ]
  },
  {
   "cell_type": "code",
   "execution_count": null,
   "metadata": {},
   "outputs": [],
   "source": [
    "# entrega_final"
   ]
  },
  {
   "cell_type": "code",
   "execution_count": null,
   "metadata": {},
   "outputs": [],
   "source": [
    "# cantidad_columnas = df_gbm.shape[1]\n",
    "# message = f\"{entrega}, cantidad de columnas en el train: {cantidad_columnas}, modelo: LGBM, mejores parametros: {best_params}, mejor iteracion: {best_iter}, archivo: {entrega_final}\""
   ]
  },
  {
   "cell_type": "markdown",
   "metadata": {},
   "source": [
    "<!-- ### Kaggle -->"
   ]
  },
  {
   "cell_type": "code",
   "execution_count": null,
   "metadata": {},
   "outputs": [],
   "source": [
    "\n",
    "# entrega_final = os.path.join(path, entrega)\n",
    "# entrega_final\n",
    "# competition= 'dm-ey-f-2024-primera'"
   ]
  },
  {
   "cell_type": "code",
   "execution_count": null,
   "metadata": {},
   "outputs": [],
   "source": [
    "# kaggle.api.competition_submit(competition=competition, file_name= entrega_final, message=message, quiet=False)"
   ]
  },
  {
   "cell_type": "markdown",
   "metadata": {},
   "source": [
    "### Puntos de corte"
   ]
  },
  {
   "cell_type": "code",
   "execution_count": null,
   "metadata": {},
   "outputs": [],
   "source": [
    "\n",
    "# predicciones = y_pred_lgm\n",
    "\n",
    "# X_test['Probabilidad'] = predicciones\n",
    "\n",
    "# tb_entrega = X_test.sort_values(by='Probabilidad', ascending=False)\n",
    "\n",
    "# cortes = range(9000,14000,100)\n",
    "\n",
    "# num_subida_kaggle = 65\n",
    "# for envios in cortes:\n",
    "    \n",
    "#     tb_entrega['Predicted'] = 0\n",
    "#     tb_entrega.iloc[:envios, tb_entrega.columns.get_loc('Predicted')] = 1\n",
    "#     resultados = tb_entrega[[\"numero_de_cliente\", 'Predicted']].reset_index(drop=True)\n",
    "    \n",
    "#     print(\"Cantidad de clientes {}\".format(envios))\n",
    "    \n",
    "#     nombre_archivo = 'entrega_0{}.csv'.format(num_subida_kaggle)\n",
    "#     entrega_final = os.path.join(path, nombre_archivo)\n",
    "#     resultados.to_csv(entrega_final, index=False)\n",
    "    \n",
    "    \n",
    "#     cantidad_columnas = df_train.shape[1]\n",
    "#     message = f\"{entrega}, cantidad de columnas en el train: {cantidad_columnas}, modelo: LGBM, mejores parametros: {best_params}, mejor iteracion: {best_iter}, archivo: {entrega_final}, punto de corte: {envios}, optimizado con optuna: {study_name}\"\n",
    "    \n",
    "#     num_subida_kaggle += 1\n",
    "    \n",
    "    \n",
    "    \n",
    "#     entrega_final = os.path.join(path, nombre_archivo)   \n",
    "#     competencia = 'dm-ey-f-2024-primera'\n",
    "#     try:\n",
    "#         api.competition_submit(file_name=entrega_final,message=message,competition=competencia)\n",
    "#     except:\n",
    "#         print(f\"Numero máximo de envios, último envio ={num_subida_kaggle}\")"
   ]
  },
  {
   "cell_type": "code",
   "execution_count": null,
   "metadata": {},
   "outputs": [],
   "source": [
    "# df_train.shape"
   ]
  },
  {
   "cell_type": "code",
   "execution_count": null,
   "metadata": {},
   "outputs": [],
   "source": [
    "# nombre_modelo = 'lgbm_e_en_abril_p_en_junio_451_features.txt'\n",
    "# model.save_model(rf\"C:\\Users\\Admin\\Documents\\1_Notebook\\1_Estudio\\1_UBA_Maestria_DS\\1_Especializacion\\1_Segundo_Semestre\\DMEyF\\modelos_lgbm\\{nombre_modelo}\")"
   ]
  }
 ],
 "metadata": {
  "kernelspec": {
   "display_name": "datascience",
   "language": "python",
   "name": "python3"
  },
  "language_info": {
   "codemirror_mode": {
    "name": "ipython",
    "version": 3
   },
   "file_extension": ".py",
   "mimetype": "text/x-python",
   "name": "python",
   "nbconvert_exporter": "python",
   "pygments_lexer": "ipython3",
   "version": "3.11.9"
  }
 },
 "nbformat": 4,
 "nbformat_minor": 2
}
