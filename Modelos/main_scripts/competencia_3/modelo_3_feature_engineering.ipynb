{
 "cells": [
  {
   "cell_type": "markdown",
   "metadata": {},
   "source": [
    "## Librerías"
   ]
  },
  {
   "cell_type": "markdown",
   "metadata": {},
   "source": []
  },
  {
   "cell_type": "code",
   "execution_count": 9,
   "metadata": {},
   "outputs": [],
   "source": [
    "%%capture\n",
    "%run \"../../recurrentes.ipynb\""
   ]
  },
  {
   "cell_type": "code",
   "execution_count": 10,
   "metadata": {},
   "outputs": [],
   "source": [
    "%%capture\n",
    "%run \"../../funciones.ipynb\""
   ]
  },
  {
   "cell_type": "code",
   "execution_count": 11,
   "metadata": {},
   "outputs": [
    {
     "name": "stdout",
     "output_type": "stream",
     "text": [
      "The sql extension is already loaded. To reload it, use:\n",
      "  %reload_ext sql\n"
     ]
    }
   ],
   "source": [
    "%load_ext sql\n",
    "%config SqlMagic.autopandas = True\n",
    "%config SqlMagic.feedback = False\n",
    "%config SqlMagic.displaycon = False\n",
    "%sql duckdb:///:memory:\n",
    "%config SqlMagic.named_parameters = \"enabled\"\n",
    "\n"
   ]
  },
  {
   "cell_type": "markdown",
   "metadata": {},
   "source": [
    "### Creación clase ternaria"
   ]
  },
  {
   "cell_type": "code",
   "execution_count": 12,
   "metadata": {},
   "outputs": [],
   "source": [
    "# %%sql\n",
    "\n",
    "# create or replace table competencia_03 as\n",
    "# with periodos as (\n",
    "#     select distinct foto_mes from competencia_03_crudo\n",
    "# ), clientes as (\n",
    "#     select distinct numero_de_cliente from competencia_03_crudo\n",
    "# ), todo as (\n",
    "#     select numero_de_cliente, foto_mes from clientes cross join periodos\n",
    "# ), clase_ternaria as (\n",
    "#     select\n",
    "#         c.*\n",
    "#         , if(c.numero_de_cliente is null, 0, 1) as mes_0 \n",
    "#         , lead(mes_0, 1) over (partition by t.numero_de_cliente order by foto_mes) as mes_1\n",
    "#         , lead(mes_0, 2) over (partition by t.numero_de_cliente order by foto_mes) as mes_2\n",
    "#         , if(mes_2 = 1, 'CONTINUA',\n",
    "#              if(mes_1 = 0, 'BAJA+1',\n",
    "#                 if(mes_2 = 0,'BAJA+2',NULL))) as clase_ternaria \n",
    "#     from todo t\n",
    "#     left join competencia_03_crudo c using (numero_de_cliente, foto_mes)\n",
    "# ) \n",
    "\n",
    "# select * EXCLUDE (mes_0, mes_1, mes_2) \n",
    "# from clase_ternaria\n",
    "# where mes_0 = 1 \n",
    "# ;\n"
   ]
  },
  {
   "cell_type": "code",
   "execution_count": 13,
   "metadata": {},
   "outputs": [],
   "source": [
    "# %%sql \n",
    "# SELECT * FROM competencia_03;"
   ]
  },
  {
   "cell_type": "code",
   "execution_count": 14,
   "metadata": {},
   "outputs": [],
   "source": [
    "# %sql COPY competencia_03 TO 'D:/competencia_03.parquet' (FORMAT 'PARQUET');"
   ]
  },
  {
   "cell_type": "markdown",
   "metadata": {},
   "source": [
    "# Feature Engineering"
   ]
  },
  {
   "cell_type": "code",
   "execution_count": 15,
   "metadata": {},
   "outputs": [
    {
     "data": {
      "text/html": [
       "<div>\n",
       "<style scoped>\n",
       "    .dataframe tbody tr th:only-of-type {\n",
       "        vertical-align: middle;\n",
       "    }\n",
       "\n",
       "    .dataframe tbody tr th {\n",
       "        vertical-align: top;\n",
       "    }\n",
       "\n",
       "    .dataframe thead th {\n",
       "        text-align: right;\n",
       "    }\n",
       "</style>\n",
       "<table border=\"1\" class=\"dataframe\">\n",
       "  <thead>\n",
       "    <tr style=\"text-align: right;\">\n",
       "      <th></th>\n",
       "      <th>Success</th>\n",
       "    </tr>\n",
       "  </thead>\n",
       "  <tbody>\n",
       "  </tbody>\n",
       "</table>\n",
       "</div>"
      ],
      "text/plain": [
       "Empty DataFrame\n",
       "Columns: [Success]\n",
       "Index: []"
      ]
     },
     "execution_count": 15,
     "metadata": {},
     "output_type": "execute_result"
    }
   ],
   "source": [
    "%%sql\n",
    "CREATE OR REPLACE TABLE competencia_03 AS\n",
    "SELECT * FROM read_parquet(:dataset_clase_ternaria_sin_psi_l);"
   ]
  },
  {
   "cell_type": "code",
   "execution_count": 16,
   "metadata": {},
   "outputs": [
    {
     "data": {
      "text/html": [
       "<div>\n",
       "<style scoped>\n",
       "    .dataframe tbody tr th:only-of-type {\n",
       "        vertical-align: middle;\n",
       "    }\n",
       "\n",
       "    .dataframe tbody tr th {\n",
       "        vertical-align: top;\n",
       "    }\n",
       "\n",
       "    .dataframe thead th {\n",
       "        text-align: right;\n",
       "    }\n",
       "</style>\n",
       "<table border=\"1\" class=\"dataframe\">\n",
       "  <thead>\n",
       "    <tr style=\"text-align: right;\">\n",
       "      <th></th>\n",
       "      <th>numero_de_cliente</th>\n",
       "      <th>foto_mes</th>\n",
       "      <th>active_quarter</th>\n",
       "      <th>cliente_vip</th>\n",
       "      <th>cliente_edad</th>\n",
       "      <th>cliente_antiguedad</th>\n",
       "      <th>mrentabilidad</th>\n",
       "      <th>mactivos_margen</th>\n",
       "      <th>mpasivos_margen</th>\n",
       "      <th>cproductos</th>\n",
       "      <th>...</th>\n",
       "      <th>Visa_fultimo_cierre</th>\n",
       "      <th>Visa_mpagado</th>\n",
       "      <th>Visa_mpagospesos</th>\n",
       "      <th>Visa_mpagosdolares</th>\n",
       "      <th>Visa_fechaalta</th>\n",
       "      <th>Visa_mconsumototal</th>\n",
       "      <th>Visa_cconsumos</th>\n",
       "      <th>Visa_cadelantosefectivo</th>\n",
       "      <th>Visa_mpagominimo</th>\n",
       "      <th>clase_ternaria</th>\n",
       "    </tr>\n",
       "  </thead>\n",
       "  <tbody>\n",
       "    <tr>\n",
       "      <th>0</th>\n",
       "      <td>250480925</td>\n",
       "      <td>201901</td>\n",
       "      <td>1</td>\n",
       "      <td>0</td>\n",
       "      <td>39</td>\n",
       "      <td>166</td>\n",
       "      <td>2734.28</td>\n",
       "      <td>-221.90</td>\n",
       "      <td>1424.55</td>\n",
       "      <td>7</td>\n",
       "      <td>...</td>\n",
       "      <td>1.0</td>\n",
       "      <td>0.0</td>\n",
       "      <td>-23237.35</td>\n",
       "      <td>0.0</td>\n",
       "      <td>2177.0</td>\n",
       "      <td>6766.59</td>\n",
       "      <td>9.0</td>\n",
       "      <td>0.0</td>\n",
       "      <td>938.40</td>\n",
       "      <td>CONTINUA</td>\n",
       "    </tr>\n",
       "    <tr>\n",
       "      <th>1</th>\n",
       "      <td>250480925</td>\n",
       "      <td>201902</td>\n",
       "      <td>1</td>\n",
       "      <td>0</td>\n",
       "      <td>39</td>\n",
       "      <td>167</td>\n",
       "      <td>2269.95</td>\n",
       "      <td>558.15</td>\n",
       "      <td>685.30</td>\n",
       "      <td>7</td>\n",
       "      <td>...</td>\n",
       "      <td>1.0</td>\n",
       "      <td>0.0</td>\n",
       "      <td>-11730.00</td>\n",
       "      <td>0.0</td>\n",
       "      <td>2205.0</td>\n",
       "      <td>6748.23</td>\n",
       "      <td>12.0</td>\n",
       "      <td>0.0</td>\n",
       "      <td>1630.47</td>\n",
       "      <td>CONTINUA</td>\n",
       "    </tr>\n",
       "    <tr>\n",
       "      <th>2</th>\n",
       "      <td>250480925</td>\n",
       "      <td>201903</td>\n",
       "      <td>1</td>\n",
       "      <td>0</td>\n",
       "      <td>39</td>\n",
       "      <td>168</td>\n",
       "      <td>3928.99</td>\n",
       "      <td>897.46</td>\n",
       "      <td>1584.45</td>\n",
       "      <td>7</td>\n",
       "      <td>...</td>\n",
       "      <td>4.0</td>\n",
       "      <td>10557.0</td>\n",
       "      <td>-25731.12</td>\n",
       "      <td>0.0</td>\n",
       "      <td>2236.0</td>\n",
       "      <td>13258.06</td>\n",
       "      <td>18.0</td>\n",
       "      <td>0.0</td>\n",
       "      <td>0.00</td>\n",
       "      <td>CONTINUA</td>\n",
       "    </tr>\n",
       "    <tr>\n",
       "      <th>3</th>\n",
       "      <td>250480925</td>\n",
       "      <td>201904</td>\n",
       "      <td>1</td>\n",
       "      <td>0</td>\n",
       "      <td>39</td>\n",
       "      <td>169</td>\n",
       "      <td>3431.69</td>\n",
       "      <td>247.72</td>\n",
       "      <td>1537.30</td>\n",
       "      <td>7</td>\n",
       "      <td>...</td>\n",
       "      <td>-1.0</td>\n",
       "      <td>0.0</td>\n",
       "      <td>-19107.25</td>\n",
       "      <td>0.0</td>\n",
       "      <td>2266.0</td>\n",
       "      <td>17332.37</td>\n",
       "      <td>16.0</td>\n",
       "      <td>0.0</td>\n",
       "      <td>1243.38</td>\n",
       "      <td>CONTINUA</td>\n",
       "    </tr>\n",
       "    <tr>\n",
       "      <th>4</th>\n",
       "      <td>250480925</td>\n",
       "      <td>201905</td>\n",
       "      <td>1</td>\n",
       "      <td>0</td>\n",
       "      <td>39</td>\n",
       "      <td>170</td>\n",
       "      <td>0.00</td>\n",
       "      <td>0.00</td>\n",
       "      <td>0.00</td>\n",
       "      <td>7</td>\n",
       "      <td>...</td>\n",
       "      <td>2.0</td>\n",
       "      <td>0.0</td>\n",
       "      <td>-14662.50</td>\n",
       "      <td>0.0</td>\n",
       "      <td>2297.0</td>\n",
       "      <td>8311.09</td>\n",
       "      <td>16.0</td>\n",
       "      <td>0.0</td>\n",
       "      <td>2557.14</td>\n",
       "      <td>CONTINUA</td>\n",
       "    </tr>\n",
       "    <tr>\n",
       "      <th>...</th>\n",
       "      <td>...</td>\n",
       "      <td>...</td>\n",
       "      <td>...</td>\n",
       "      <td>...</td>\n",
       "      <td>...</td>\n",
       "      <td>...</td>\n",
       "      <td>...</td>\n",
       "      <td>...</td>\n",
       "      <td>...</td>\n",
       "      <td>...</td>\n",
       "      <td>...</td>\n",
       "      <td>...</td>\n",
       "      <td>...</td>\n",
       "      <td>...</td>\n",
       "      <td>...</td>\n",
       "      <td>...</td>\n",
       "      <td>...</td>\n",
       "      <td>...</td>\n",
       "      <td>...</td>\n",
       "      <td>...</td>\n",
       "      <td>...</td>\n",
       "    </tr>\n",
       "    <tr>\n",
       "      <th>4901232</th>\n",
       "      <td>1590099528</td>\n",
       "      <td>202105</td>\n",
       "      <td>1</td>\n",
       "      <td>0</td>\n",
       "      <td>55</td>\n",
       "      <td>1</td>\n",
       "      <td>134.97</td>\n",
       "      <td>2.63</td>\n",
       "      <td>112.44</td>\n",
       "      <td>7</td>\n",
       "      <td>...</td>\n",
       "      <td>5.0</td>\n",
       "      <td>0.0</td>\n",
       "      <td>NaN</td>\n",
       "      <td>NaN</td>\n",
       "      <td>28.0</td>\n",
       "      <td>NaN</td>\n",
       "      <td>NaN</td>\n",
       "      <td>NaN</td>\n",
       "      <td>0.00</td>\n",
       "      <td>CONTINUA</td>\n",
       "    </tr>\n",
       "    <tr>\n",
       "      <th>4901233</th>\n",
       "      <td>1590099528</td>\n",
       "      <td>202106</td>\n",
       "      <td>1</td>\n",
       "      <td>0</td>\n",
       "      <td>55</td>\n",
       "      <td>2</td>\n",
       "      <td>228.19</td>\n",
       "      <td>3.45</td>\n",
       "      <td>19.10</td>\n",
       "      <td>7</td>\n",
       "      <td>...</td>\n",
       "      <td>0.0</td>\n",
       "      <td>0.0</td>\n",
       "      <td>NaN</td>\n",
       "      <td>NaN</td>\n",
       "      <td>58.0</td>\n",
       "      <td>NaN</td>\n",
       "      <td>NaN</td>\n",
       "      <td>NaN</td>\n",
       "      <td>0.00</td>\n",
       "      <td>CONTINUA</td>\n",
       "    </tr>\n",
       "    <tr>\n",
       "      <th>4901234</th>\n",
       "      <td>1590099528</td>\n",
       "      <td>202107</td>\n",
       "      <td>1</td>\n",
       "      <td>0</td>\n",
       "      <td>55</td>\n",
       "      <td>3</td>\n",
       "      <td>318.34</td>\n",
       "      <td>1.23</td>\n",
       "      <td>98.19</td>\n",
       "      <td>7</td>\n",
       "      <td>...</td>\n",
       "      <td>3.0</td>\n",
       "      <td>0.0</td>\n",
       "      <td>NaN</td>\n",
       "      <td>NaN</td>\n",
       "      <td>89.0</td>\n",
       "      <td>NaN</td>\n",
       "      <td>NaN</td>\n",
       "      <td>NaN</td>\n",
       "      <td>0.00</td>\n",
       "      <td>CONTINUA</td>\n",
       "    </tr>\n",
       "    <tr>\n",
       "      <th>4901235</th>\n",
       "      <td>1590099528</td>\n",
       "      <td>202108</td>\n",
       "      <td>1</td>\n",
       "      <td>0</td>\n",
       "      <td>55</td>\n",
       "      <td>4</td>\n",
       "      <td>469.97</td>\n",
       "      <td>58.16</td>\n",
       "      <td>154.16</td>\n",
       "      <td>7</td>\n",
       "      <td>...</td>\n",
       "      <td>6.0</td>\n",
       "      <td>0.0</td>\n",
       "      <td>NaN</td>\n",
       "      <td>NaN</td>\n",
       "      <td>120.0</td>\n",
       "      <td>NaN</td>\n",
       "      <td>NaN</td>\n",
       "      <td>NaN</td>\n",
       "      <td>0.00</td>\n",
       "      <td>None</td>\n",
       "    </tr>\n",
       "    <tr>\n",
       "      <th>4901236</th>\n",
       "      <td>1590099528</td>\n",
       "      <td>202109</td>\n",
       "      <td>1</td>\n",
       "      <td>0</td>\n",
       "      <td>55</td>\n",
       "      <td>5</td>\n",
       "      <td>-119.17</td>\n",
       "      <td>17.51</td>\n",
       "      <td>95.70</td>\n",
       "      <td>7</td>\n",
       "      <td>...</td>\n",
       "      <td>1.0</td>\n",
       "      <td>0.0</td>\n",
       "      <td>NaN</td>\n",
       "      <td>NaN</td>\n",
       "      <td>150.0</td>\n",
       "      <td>NaN</td>\n",
       "      <td>NaN</td>\n",
       "      <td>NaN</td>\n",
       "      <td>0.00</td>\n",
       "      <td>None</td>\n",
       "    </tr>\n",
       "  </tbody>\n",
       "</table>\n",
       "<p>4901237 rows × 145 columns</p>\n",
       "</div>"
      ],
      "text/plain": [
       "         numero_de_cliente  foto_mes  active_quarter  cliente_vip  \\\n",
       "0                250480925    201901               1            0   \n",
       "1                250480925    201902               1            0   \n",
       "2                250480925    201903               1            0   \n",
       "3                250480925    201904               1            0   \n",
       "4                250480925    201905               1            0   \n",
       "...                    ...       ...             ...          ...   \n",
       "4901232         1590099528    202105               1            0   \n",
       "4901233         1590099528    202106               1            0   \n",
       "4901234         1590099528    202107               1            0   \n",
       "4901235         1590099528    202108               1            0   \n",
       "4901236         1590099528    202109               1            0   \n",
       "\n",
       "         cliente_edad  cliente_antiguedad  mrentabilidad  mactivos_margen  \\\n",
       "0                  39                 166        2734.28          -221.90   \n",
       "1                  39                 167        2269.95           558.15   \n",
       "2                  39                 168        3928.99           897.46   \n",
       "3                  39                 169        3431.69           247.72   \n",
       "4                  39                 170           0.00             0.00   \n",
       "...               ...                 ...            ...              ...   \n",
       "4901232            55                   1         134.97             2.63   \n",
       "4901233            55                   2         228.19             3.45   \n",
       "4901234            55                   3         318.34             1.23   \n",
       "4901235            55                   4         469.97            58.16   \n",
       "4901236            55                   5        -119.17            17.51   \n",
       "\n",
       "         mpasivos_margen  cproductos  ...  Visa_fultimo_cierre  Visa_mpagado  \\\n",
       "0                1424.55           7  ...                  1.0           0.0   \n",
       "1                 685.30           7  ...                  1.0           0.0   \n",
       "2                1584.45           7  ...                  4.0       10557.0   \n",
       "3                1537.30           7  ...                 -1.0           0.0   \n",
       "4                   0.00           7  ...                  2.0           0.0   \n",
       "...                  ...         ...  ...                  ...           ...   \n",
       "4901232           112.44           7  ...                  5.0           0.0   \n",
       "4901233            19.10           7  ...                  0.0           0.0   \n",
       "4901234            98.19           7  ...                  3.0           0.0   \n",
       "4901235           154.16           7  ...                  6.0           0.0   \n",
       "4901236            95.70           7  ...                  1.0           0.0   \n",
       "\n",
       "         Visa_mpagospesos  Visa_mpagosdolares  Visa_fechaalta  \\\n",
       "0               -23237.35                 0.0          2177.0   \n",
       "1               -11730.00                 0.0          2205.0   \n",
       "2               -25731.12                 0.0          2236.0   \n",
       "3               -19107.25                 0.0          2266.0   \n",
       "4               -14662.50                 0.0          2297.0   \n",
       "...                   ...                 ...             ...   \n",
       "4901232               NaN                 NaN            28.0   \n",
       "4901233               NaN                 NaN            58.0   \n",
       "4901234               NaN                 NaN            89.0   \n",
       "4901235               NaN                 NaN           120.0   \n",
       "4901236               NaN                 NaN           150.0   \n",
       "\n",
       "         Visa_mconsumototal  Visa_cconsumos  Visa_cadelantosefectivo  \\\n",
       "0                   6766.59             9.0                      0.0   \n",
       "1                   6748.23            12.0                      0.0   \n",
       "2                  13258.06            18.0                      0.0   \n",
       "3                  17332.37            16.0                      0.0   \n",
       "4                   8311.09            16.0                      0.0   \n",
       "...                     ...             ...                      ...   \n",
       "4901232                 NaN             NaN                      NaN   \n",
       "4901233                 NaN             NaN                      NaN   \n",
       "4901234                 NaN             NaN                      NaN   \n",
       "4901235                 NaN             NaN                      NaN   \n",
       "4901236                 NaN             NaN                      NaN   \n",
       "\n",
       "         Visa_mpagominimo  clase_ternaria  \n",
       "0                  938.40        CONTINUA  \n",
       "1                 1630.47        CONTINUA  \n",
       "2                    0.00        CONTINUA  \n",
       "3                 1243.38        CONTINUA  \n",
       "4                 2557.14        CONTINUA  \n",
       "...                   ...             ...  \n",
       "4901232              0.00        CONTINUA  \n",
       "4901233              0.00        CONTINUA  \n",
       "4901234              0.00        CONTINUA  \n",
       "4901235              0.00            None  \n",
       "4901236              0.00            None  \n",
       "\n",
       "[4901237 rows x 145 columns]"
      ]
     },
     "execution_count": 16,
     "metadata": {},
     "output_type": "execute_result"
    }
   ],
   "source": [
    "%%sql \n",
    "SELECT * FROM competencia_03;"
   ]
  },
  {
   "cell_type": "code",
   "execution_count": 17,
   "metadata": {},
   "outputs": [],
   "source": [
    "paired_variables = [\n",
    "    ('mtarjeta_visa_consumo', 'mtarjeta_master_consumo'),\n",
    "    ('ctarjeta_visa_debitos_automaticos', 'ctarjeta_master_debitos_automaticos'),\n",
    "    ('mttarjeta_visa_debitos_automaticos', 'mttarjeta_master_debitos_automaticos'),\n",
    "    ('ctarjeta_visa_descuentos', 'ctarjeta_master_descuentos'),\n",
    "    ('mtarjeta_visa_descuentos', 'mtarjeta_master_descuentos'),\n",
    "    ('Visa_Fvencimiento', 'Master_Fvencimiento'),\n",
    "    ('Visa_msaldototal', 'Master_msaldototal'),\n",
    "    ('Visa_msaldopesos', 'Master_msaldopesos'),\n",
    "    ('Visa_msaldodolares', 'Master_msaldodolares'),\n",
    "    ('Visa_mconsumospesos', 'Master_mconsumospesos'),\n",
    "    ('Visa_mconsumosdolares', 'Master_mconsumosdolares'),\n",
    "    ('Visa_mlimitecompra', 'Master_mlimitecompra'),\n",
    "    ('Visa_madelantopesos', 'Master_madelantopesos'),\n",
    "    ('Visa_madelantodolares', 'Master_madelantodolares'),\n",
    "    ('Visa_fultimo_cierre', 'Master_fultimo_cierre'),\n",
    "    ('Visa_mpagado', 'Master_mpagado'),\n",
    "    ('Visa_mpagospesos', 'Master_mpagospesos'),\n",
    "    ('Visa_mpagosdolares', 'Master_mpagosdolares'),\n",
    "    ('Visa_fechaalta', 'Master_fechaalta'),\n",
    "    ('Visa_mconsumotal', 'Master_mconsumototal'),\n",
    "    ('Visa_cconsumos', 'Master_cconsumos'),\n",
    "    ('Visa_cadelantosefectivo', 'Master_cadelantosefectivo'),\n",
    "    ('Visa_mpagominimo', 'Master_mpagominimo')\n",
    "]"
   ]
  },
  {
   "cell_type": "code",
   "execution_count": 18,
   "metadata": {},
   "outputs": [],
   "source": [
    "# lista_feature = ['active_quarter','mrentabilidad','mrentabilidad_annual','mcuenta_corriente','mcaja_ahorro','mcuentas_saldo','ctarjeta_debito_transacciones','mautoservicio','ctarjeta_visa_transacciones','mtarjeta_visa_consumo','mtarjeta_master_consumo','cprestamos_personales','mprestamos_prendarios','cprestamos_hipotecarios','mprestamos_hipotecarios','cplazo_fijo','mplazo_fijo_dolares','mplazo_fijo_pesos','cpayroll_trx','mpayroll','mpayroll2','cpayroll2_trx','ccuenta_debitos_automaticos','mcuenta_debitos_automaticos','ctarjeta_visa_debitos_automaticos','mttarjeta_visa_debitos_automaticos','ctarjeta_master_debitos_automaticos','mttarjeta_master_debitos_automaticos','cpagodeservicios','mpagodeservicios','mpagomiscuentas','cpagomiscuentas','ccajeros_propios_descuentos','mcajeros_propios_descuentos','ctarjeta_visa_descuentos','mtarjeta_visa_descuentos','ctarjeta_master_descuentos','mtarjeta_master_descuentos','ccomisiones_mantenimiento','mcomisiones_mantenimiento','ccomisiones_otras','mcomisiones_otras','cforex','cforex_buy','mforex_buy','cforex_sell','mforex_sell','ctransferencias_recibidas','mtransferencias_recibidas','ctransferencias_emitidas','mtransferencias_emitidas','cextraccion_autoservicio','mextraccion_autoservicio','ccheques_depositados','mcheques_depositados','ccheques_emitidos','mcheques_emitidos','ccheques_depositados_rechazados','mcheques_depositados_rechazados','ccheques_emitidos_rechazados','mcheques_emitidos_rechazados','ccallcenter_transacciones','chomebanking_transacciones','ccajas_transacciones','ccajas_consultas','ccajas_depositos','ccajas_extracciones','ccajas_otras','catm_trx','matm','catm_trx_other','matm_other','ctrx_quarter','Master_Fvencimiento','Master_msaldototal','Master_msaldopesos','Master_msaldodolares','Master_mconsumospesos','Master_mconsumosdolares','Master_mlimitecompra','Master_madelantopesos','Master_madelantodolares','Master_fultimo_cierre','Master_mpagado','Master_mpagospesos','Master_mpagosdolares','Master_fechaalta','Master_mconsumototal','Master_cconsumos','Master_cadelantosefectivo','Master_mpagominimo','Visa_mfinanciacion_limite','Visa_Fvencimiento','Visa_Finiciomora','Visa_msaldototal','Visa_msaldopesos','Visa_msaldodolares','Visa_mconsumospesos','Visa_mconsumosdolares','Visa_mlimitecompra','Visa_madelantopesos', 'Visa_madelantodolares','Visa_fultimo_cierre','Visa_mpagado','Visa_mpagospesos','Visa_mpagosdolares','Visa_fechaalta','Visa_mconsumotal','Visa_cconsumos','Visa_cadelantosefectivo','Visa_mpagominimo']\n"
   ]
  },
  {
   "cell_type": "code",
   "execution_count": 19,
   "metadata": {},
   "outputs": [],
   "source": [
    "# con.execute('''\n",
    "# CREATE OR REPLACE TABLE df_train AS\n",
    "# SELECT *,\n",
    "#     (COALESCE(mpayroll, 0) - COALESCE(mcuentas_saldo, 0)) / NULLIF(ctrx_quarter, 0) AS intensidad_gasto\n",
    "# FROM df_train\n",
    "# ''')"
   ]
  },
  {
   "cell_type": "code",
   "execution_count": 20,
   "metadata": {},
   "outputs": [],
   "source": [
    "# df_train['intensidad_gasto'] = (df_train['mpayroll'].fillna(0) - df_train['mcuentas_saldo'].fillna(0)) / df_train['ctrx_quarter'].replace(0, pd.NA)"
   ]
  },
  {
   "cell_type": "code",
   "execution_count": 21,
   "metadata": {},
   "outputs": [],
   "source": [
    "# df_train['t_saldo_total'] = df_train['Visa_msaldototal'].fillna(0) + df_train['Master_msaldototal'].fillna(0)"
   ]
  },
  {
   "cell_type": "code",
   "execution_count": 22,
   "metadata": {},
   "outputs": [],
   "source": [
    "# con.execute('''\n",
    "# create or replace table df_train as\n",
    "# select \n",
    "#     *,\n",
    "#     (ifnull(Master_mconsumototal,0) + ifnull(Visa_mconsumototal,0)) as t_consumo_total\n",
    "# from df_train''')\n"
   ]
  },
  {
   "cell_type": "code",
   "execution_count": 23,
   "metadata": {},
   "outputs": [],
   "source": [
    "# con.execute('''\n",
    "#             create or replace table df_train as\n",
    "#             select \n",
    "#                     *,\n",
    "#             (IFNULL(t_consumo_total,0) - IFNULL(mpayroll,0)) /NULLIF((IFNULL(mcuentas_saldo, 0) - IFNULL(t_saldo_total,0)), 0) as nivel_endeudamiento, \n",
    "#             FROM df_train''')"
   ]
  },
  {
   "cell_type": "code",
   "execution_count": 24,
   "metadata": {},
   "outputs": [],
   "source": [
    "# df_train['t_consumo_total'] = df_train['Master_mconsumototal'].fillna(0) + df_train['Visa_mconsumototal'].fillna(0)"
   ]
  },
  {
   "cell_type": "markdown",
   "metadata": {},
   "source": [
    "### Status tarjeta"
   ]
  },
  {
   "cell_type": "code",
   "execution_count": 25,
   "metadata": {},
   "outputs": [],
   "source": [
    "tarjetas_variables = [\n",
    "    \n",
    "    ('ctarjeta_visa_debitos_automaticos', 'ctarjeta_master_debitos_automaticos'),\n",
    "    ('mttarjeta_visa_debitos_automaticos', 'mttarjeta_master_debitos_automaticos'),\n",
    "    ('ctarjeta_visa_descuentos', 'ctarjeta_master_descuentos'),\n",
    "    ('mtarjeta_visa_descuentos', 'mtarjeta_master_descuentos'),\n",
    "   \n",
    "    ('Visa_msaldototal', 'Master_msaldototal'),\n",
    "    ('Visa_msaldopesos', 'Master_msaldopesos'),\n",
    "    ('Visa_msaldodolares', 'Master_msaldodolares'),\n",
    "    ('Visa_mconsumospesos', 'Master_mconsumospesos'),\n",
    "    ('Visa_mconsumosdolares', 'Master_mconsumosdolares'),\n",
    "    ('Visa_mlimitecompra', 'Master_mlimitecompra'),\n",
    "    ('Visa_madelantopesos', 'Master_madelantopesos'),\n",
    "    ('Visa_madelantodolares', 'Master_madelantodolares'),\n",
    "    ('Visa_fultimo_cierre', 'Master_fultimo_cierre'),\n",
    "    ('Visa_mpagado', 'Master_mpagado'),\n",
    "    ('Visa_mpagospesos', 'Master_mpagospesos'),\n",
    "    ('Visa_mpagosdolares', 'Master_mpagosdolares'),\n",
    "    ('Visa_fechaalta', 'Master_fechaalta'),\n",
    "    \n",
    "    ('Visa_cconsumos', 'Master_cconsumos'),\n",
    "    ('Visa_cadelantosefectivo', 'Master_cadelantosefectivo'),\n",
    "    ('Visa_mpagominimo', 'Master_mpagominimo')\n",
    "]\n"
   ]
  },
  {
   "cell_type": "code",
   "execution_count": 26,
   "metadata": {},
   "outputs": [],
   "source": [
    "paired_columns = []\n",
    "for visa, master in tarjetas_variables:\n",
    "    paired_columns.append(f\"IFNULL({visa}, 0) + IFNULL ({master},0) AS conjunto_{visa}\")\n",
    "\n",
    "paired_columns_sql = \",\\n    \".join(paired_columns)\n",
    "\n",
    "\n",
    "\n"
   ]
  },
  {
   "cell_type": "code",
   "execution_count": 27,
   "metadata": {},
   "outputs": [
    {
     "data": {
      "text/plain": [
       "['IFNULL(ctarjeta_visa_debitos_automaticos, 0) + IFNULL (ctarjeta_master_debitos_automaticos,0) AS conjunto_ctarjeta_visa_debitos_automaticos',\n",
       " 'IFNULL(mttarjeta_visa_debitos_automaticos, 0) + IFNULL (mttarjeta_master_debitos_automaticos,0) AS conjunto_mttarjeta_visa_debitos_automaticos',\n",
       " 'IFNULL(ctarjeta_visa_descuentos, 0) + IFNULL (ctarjeta_master_descuentos,0) AS conjunto_ctarjeta_visa_descuentos',\n",
       " 'IFNULL(mtarjeta_visa_descuentos, 0) + IFNULL (mtarjeta_master_descuentos,0) AS conjunto_mtarjeta_visa_descuentos',\n",
       " 'IFNULL(Visa_msaldototal, 0) + IFNULL (Master_msaldototal,0) AS conjunto_Visa_msaldototal',\n",
       " 'IFNULL(Visa_msaldopesos, 0) + IFNULL (Master_msaldopesos,0) AS conjunto_Visa_msaldopesos',\n",
       " 'IFNULL(Visa_msaldodolares, 0) + IFNULL (Master_msaldodolares,0) AS conjunto_Visa_msaldodolares',\n",
       " 'IFNULL(Visa_mconsumospesos, 0) + IFNULL (Master_mconsumospesos,0) AS conjunto_Visa_mconsumospesos',\n",
       " 'IFNULL(Visa_mconsumosdolares, 0) + IFNULL (Master_mconsumosdolares,0) AS conjunto_Visa_mconsumosdolares',\n",
       " 'IFNULL(Visa_mlimitecompra, 0) + IFNULL (Master_mlimitecompra,0) AS conjunto_Visa_mlimitecompra',\n",
       " 'IFNULL(Visa_madelantopesos, 0) + IFNULL (Master_madelantopesos,0) AS conjunto_Visa_madelantopesos',\n",
       " 'IFNULL(Visa_madelantodolares, 0) + IFNULL (Master_madelantodolares,0) AS conjunto_Visa_madelantodolares',\n",
       " 'IFNULL(Visa_fultimo_cierre, 0) + IFNULL (Master_fultimo_cierre,0) AS conjunto_Visa_fultimo_cierre',\n",
       " 'IFNULL(Visa_mpagado, 0) + IFNULL (Master_mpagado,0) AS conjunto_Visa_mpagado',\n",
       " 'IFNULL(Visa_mpagospesos, 0) + IFNULL (Master_mpagospesos,0) AS conjunto_Visa_mpagospesos',\n",
       " 'IFNULL(Visa_mpagosdolares, 0) + IFNULL (Master_mpagosdolares,0) AS conjunto_Visa_mpagosdolares',\n",
       " 'IFNULL(Visa_fechaalta, 0) + IFNULL (Master_fechaalta,0) AS conjunto_Visa_fechaalta',\n",
       " 'IFNULL(Visa_cconsumos, 0) + IFNULL (Master_cconsumos,0) AS conjunto_Visa_cconsumos',\n",
       " 'IFNULL(Visa_cadelantosefectivo, 0) + IFNULL (Master_cadelantosefectivo,0) AS conjunto_Visa_cadelantosefectivo',\n",
       " 'IFNULL(Visa_mpagominimo, 0) + IFNULL (Master_mpagominimo,0) AS conjunto_Visa_mpagominimo']"
      ]
     },
     "execution_count": 27,
     "metadata": {},
     "output_type": "execute_result"
    }
   ],
   "source": [
    "paired_columns"
   ]
  },
  {
   "cell_type": "code",
   "execution_count": 28,
   "metadata": {},
   "outputs": [
    {
     "data": {
      "text/html": [
       "<div>\n",
       "<style scoped>\n",
       "    .dataframe tbody tr th:only-of-type {\n",
       "        vertical-align: middle;\n",
       "    }\n",
       "\n",
       "    .dataframe tbody tr th {\n",
       "        vertical-align: top;\n",
       "    }\n",
       "\n",
       "    .dataframe thead th {\n",
       "        text-align: right;\n",
       "    }\n",
       "</style>\n",
       "<table border=\"1\" class=\"dataframe\">\n",
       "  <thead>\n",
       "    <tr style=\"text-align: right;\">\n",
       "      <th></th>\n",
       "      <th>Success</th>\n",
       "    </tr>\n",
       "  </thead>\n",
       "  <tbody>\n",
       "  </tbody>\n",
       "</table>\n",
       "</div>"
      ],
      "text/plain": [
       "Empty DataFrame\n",
       "Columns: [Success]\n",
       "Index: []"
      ]
     },
     "execution_count": 28,
     "metadata": {},
     "output_type": "execute_result"
    }
   ],
   "source": [
    "query = f\"\"\"\n",
    "CREATE OR REPLACE TABLE competencia_03 AS\n",
    "SELECT *,\n",
    "    {paired_columns_sql}\n",
    "FROM competencia_03\n",
    "\"\"\"\n",
    "\n",
    "%sql {{query}}"
   ]
  },
  {
   "cell_type": "code",
   "execution_count": null,
   "metadata": {},
   "outputs": [],
   "source": []
  },
  {
   "cell_type": "code",
   "execution_count": 29,
   "metadata": {},
   "outputs": [
    {
     "data": {
      "text/html": [
       "<div>\n",
       "<style scoped>\n",
       "    .dataframe tbody tr th:only-of-type {\n",
       "        vertical-align: middle;\n",
       "    }\n",
       "\n",
       "    .dataframe tbody tr th {\n",
       "        vertical-align: top;\n",
       "    }\n",
       "\n",
       "    .dataframe thead th {\n",
       "        text-align: right;\n",
       "    }\n",
       "</style>\n",
       "<table border=\"1\" class=\"dataframe\">\n",
       "  <thead>\n",
       "    <tr style=\"text-align: right;\">\n",
       "      <th></th>\n",
       "      <th>Success</th>\n",
       "    </tr>\n",
       "  </thead>\n",
       "  <tbody>\n",
       "  </tbody>\n",
       "</table>\n",
       "</div>"
      ],
      "text/plain": [
       "Empty DataFrame\n",
       "Columns: [Success]\n",
       "Index: []"
      ]
     },
     "execution_count": 29,
     "metadata": {},
     "output_type": "execute_result"
    }
   ],
   "source": [
    "%%sql \n",
    "\n",
    "\n",
    "create or replace table competencia_03 as\n",
    "select\n",
    "    *,\n",
    "    (case when Visa_status = 0 then True end) as T_Visa_normal,\n",
    "    (case when Master_status = 0 then True end) as T_Master_normal\n",
    "from competencia_03;\n",
    "\n",
    "\n",
    "create or replace table competencia_03 as\n",
    "        select *,\n",
    "        CASE \n",
    "        WHEN Visa_status = 6 then 1\n",
    "        WHEN Visa_status = 7 then 2 \n",
    "        WHEN Visa_status = 8 then 3\n",
    "        ELSE NULL\n",
    "        END as Visa_status\n",
    "        from competencia_03;"
   ]
  },
  {
   "cell_type": "code",
   "execution_count": 30,
   "metadata": {},
   "outputs": [
    {
     "data": {
      "text/html": [
       "<div>\n",
       "<style scoped>\n",
       "    .dataframe tbody tr th:only-of-type {\n",
       "        vertical-align: middle;\n",
       "    }\n",
       "\n",
       "    .dataframe tbody tr th {\n",
       "        vertical-align: top;\n",
       "    }\n",
       "\n",
       "    .dataframe thead th {\n",
       "        text-align: right;\n",
       "    }\n",
       "</style>\n",
       "<table border=\"1\" class=\"dataframe\">\n",
       "  <thead>\n",
       "    <tr style=\"text-align: right;\">\n",
       "      <th></th>\n",
       "      <th>Success</th>\n",
       "    </tr>\n",
       "  </thead>\n",
       "  <tbody>\n",
       "  </tbody>\n",
       "</table>\n",
       "</div>"
      ],
      "text/plain": [
       "Empty DataFrame\n",
       "Columns: [Success]\n",
       "Index: []"
      ]
     },
     "execution_count": 30,
     "metadata": {},
     "output_type": "execute_result"
    }
   ],
   "source": [
    "%%sql\n",
    "\n",
    "alter table competencia_03 drop column visa_status;\n",
    "alter table competencia_03 drop column Master_status;"
   ]
  },
  {
   "cell_type": "code",
   "execution_count": 31,
   "metadata": {},
   "outputs": [],
   "source": [
    "# df_train['T_Visa_normal'] = df_train['Visa_status'] == 0\n",
    "\n",
    "\n",
    "# df_train['T_Master_normal'] = df_train['Master_status'] == 0"
   ]
  },
  {
   "cell_type": "code",
   "execution_count": 32,
   "metadata": {},
   "outputs": [],
   "source": [
    "# con.execute('''\n",
    "# create or replace table df_train as\n",
    "# select *\n",
    "#     , greatest(Master_Fvencimiento, Visa_Fvencimiento) as tc_fvencimiento_mayor\n",
    "#     , least(Master_Fvencimiento, Visa_Fvencimiento) as tc_fvencimiento_menor\n",
    "# from df_train''')"
   ]
  },
  {
   "cell_type": "code",
   "execution_count": 33,
   "metadata": {},
   "outputs": [],
   "source": [
    "# con.execute('''create or replace table df_train as\n",
    "#     select *\n",
    "#     , Master_mpagado+Visa_mpagado as tarjeta_total_pagado\n",
    "#     from df_train''')"
   ]
  },
  {
   "cell_type": "code",
   "execution_count": 34,
   "metadata": {},
   "outputs": [],
   "source": [
    "# con.execute('''create or replace table df_train as\n",
    "#     select *\n",
    "#     ,IFNULL(tarjeta_total_pagado, 0) / NULLIF(IFNULL(mprestamos_personales,0),0) as actitud_pago\n",
    "#             from df_train''')"
   ]
  },
  {
   "cell_type": "code",
   "execution_count": 35,
   "metadata": {},
   "outputs": [],
   "source": [
    "# con.execute('''\n",
    "# create or replace table df_train as\n",
    "# select *,\n",
    "#     lag (actitud_pago, 1) over (\n",
    "#         partition by numero_de_cliente \n",
    "#         order by foto_mes\n",
    "#     ) as lag_actitud_pago_1,\n",
    "#     lag (actitud_pago, 2) over (\n",
    "#         partition by numero_de_cliente \n",
    "#         order by foto_mes\n",
    "#     ) as lag_actitud_pago_2\n",
    "# from df_train''')"
   ]
  },
  {
   "cell_type": "code",
   "execution_count": 36,
   "metadata": {},
   "outputs": [],
   "source": [
    "# df_train['T_Visa_normal'] = df_train['Visa_status'] == 0\n",
    "\n",
    "# # Calcular la nueva columna T_Master_normal\n",
    "# df_train['T_Master_normal'] = df_train['Master_status'] == 0"
   ]
  },
  {
   "cell_type": "markdown",
   "metadata": {},
   "source": [
    "### FE lags"
   ]
  },
  {
   "cell_type": "code",
   "execution_count": 37,
   "metadata": {},
   "outputs": [],
   "source": [
    "# lista_feature = ['active_quarter',\n",
    "#  'mrentabilidad',\n",
    "#  'mrentabilidad_annual',\n",
    "#  'mcuenta_corriente',\n",
    "#  'mcaja_ahorro',\n",
    "#  'mcuentas_saldo',\n",
    "#  'ctarjeta_debito_transacciones',\n",
    "#  'mautoservicio',\n",
    "#  'ctarjeta_visa_transacciones',\n",
    "#  'mtarjeta_visa_consumo',\n",
    "#  'mtarjeta_master_consumo',\n",
    "#  'cprestamos_personales',\n",
    "#  'mprestamos_prendarios',\n",
    "#  'cprestamos_hipotecarios',\n",
    "#  'mprestamos_hipotecarios',\n",
    "#  'cplazo_fijo',\n",
    "#  'mplazo_fijo_dolares',\n",
    "#  'mplazo_fijo_pesos',\n",
    "#  'cpayroll_trx',\n",
    "#  'mpayroll',\n",
    "#  'mpayroll2',\n",
    "#  'cpayroll2_trx',\n",
    "#  'ccuenta_debitos_automaticos',\n",
    "#  'mcuenta_debitos_automaticos',\n",
    "#  'ctarjeta_visa_debitos_automaticos',\n",
    "#  'mttarjeta_visa_debitos_automaticos',\n",
    "#  'ctarjeta_master_debitos_automaticos',\n",
    "#  'mttarjeta_master_debitos_automaticos',\n",
    "#  'cpagodeservicios',\n",
    "#  'mpagodeservicios',\n",
    "#  'mpagomiscuentas',\n",
    "#  'cpagomiscuentas',\n",
    "#  'ccajeros_propios_descuentos',\n",
    "#  'mcajeros_propios_descuentos',\n",
    "#  'ctarjeta_visa_descuentos',\n",
    "#  'mtarjeta_visa_descuentos',\n",
    "#  'ctarjeta_master_descuentos',\n",
    "#  'mtarjeta_master_descuentos',\n",
    "#  'ccomisiones_mantenimiento',\n",
    "#  'mcomisiones_mantenimiento',\n",
    "#  'ccomisiones_otras',\n",
    "#  'mcomisiones_otras',\n",
    "#  'cforex',\n",
    "#  'cforex_buy',\n",
    "#  'mforex_buy',\n",
    "#  'cforex_sell',\n",
    "#  'mforex_sell',\n",
    "#  'ctransferencias_recibidas',\n",
    "#  'mtransferencias_recibidas',\n",
    "#  'ctransferencias_emitidas',\n",
    "#  'mtransferencias_emitidas',\n",
    "#  'cextraccion_autoservicio',\n",
    "#  'mextraccion_autoservicio',\n",
    "#  'ccheques_depositados',\n",
    "#  'mcheques_depositados',\n",
    "#  'ccheques_emitidos',\n",
    "#  'mcheques_emitidos',\n",
    "#  'ccheques_depositados_rechazados',\n",
    "#  'mcheques_depositados_rechazados',\n",
    "#  'ccheques_emitidos_rechazados',\n",
    "#  'mcheques_emitidos_rechazados',\n",
    "#  'ccallcenter_transacciones',\n",
    "#  'chomebanking_transacciones',\n",
    "#  'ccajas_transacciones',\n",
    "#  'ccajas_consultas',\n",
    "#  'ccajas_depositos',\n",
    "#  'ccajas_extracciones',\n",
    "#  'ccajas_otras',\n",
    "#  'catm_trx',\n",
    "#  'matm',\n",
    "#  'catm_trx_other',\n",
    "#  'matm_other',\n",
    "#  'ctrx_quarter',\n",
    "#  'Master_Fvencimiento',\n",
    "#  'Master_msaldototal',\n",
    "#  'Master_msaldopesos',\n",
    "#  'Master_msaldodolares',\n",
    "#  'Master_mconsumospesos',\n",
    "#  'Master_mconsumosdolares',\n",
    "#  'Master_mlimitecompra',\n",
    "#  'Master_madelantopesos',\n",
    "#  'Master_madelantodolares',\n",
    "#  'Master_fultimo_cierre',\n",
    "#  'Master_mpagado',\n",
    "#  'Master_mpagospesos',\n",
    "#  'Master_mpagosdolares',\n",
    "#  'Master_fechaalta',\n",
    "#  'Master_mconsumototal',\n",
    "#  'Master_cconsumos',\n",
    "#  'Master_cadelantosefectivo',\n",
    "#  'Master_mpagominimo',\n",
    "#  'Visa_mfinanciacion_limite',\n",
    "#  'Visa_Fvencimiento',\n",
    "#  'Visa_Finiciomora',\n",
    "#  'Visa_msaldototal',\n",
    "#  'Visa_msaldopesos',\n",
    "#  'Visa_msaldodolares',\n",
    "#  'Visa_mconsumospesos',\n",
    "#  'Visa_mconsumosdolares',\n",
    "#  'Visa_mlimitecompra',\n",
    "#  'Visa_madelantopesos',\n",
    "#  'Visa_madelantodolares',\n",
    "#  'Visa_fultimo_cierre',\n",
    "#  'Visa_mpagado',\n",
    "#  'Visa_mpagospesos',\n",
    "#  'Visa_mpagosdolares',\n",
    "#  'Visa_fechaalta',\n",
    "#  'Visa_mconsumototal',\n",
    "#  'Visa_cconsumos',\n",
    "#  'Visa_cadelantosefectivo',\n",
    "#  'Visa_mpagominimo']"
   ]
  },
  {
   "cell_type": "code",
   "execution_count": 38,
   "metadata": {},
   "outputs": [],
   "source": [
    "lista_feature = ['active_quarter',\n",
    " 'mrentabilidad',\n",
    " \n",
    " 'mcuenta_corriente',\n",
    " 'mcaja_ahorro',\n",
    " 'mcuentas_saldo',\n",
    " 'ctarjeta_debito_transacciones',\n",
    " 'mautoservicio',\n",
    " 'mprestamos_prendarios',\n",
    " 'cprestamos_hipotecarios',\n",
    " 'mprestamos_hipotecarios',\n",
    " 'cplazo_fijo',\n",
    " 'mplazo_fijo_dolares',\n",
    " 'mplazo_fijo_pesos',\n",
    " 'cpayroll_trx',\n",
    " 'mpayroll',\n",
    " 'mpayroll2',\n",
    " 'cpayroll2_trx',\n",
    " 'ccuenta_debitos_automaticos',\n",
    " 'mcuenta_debitos_automaticos',\n",
    " 'cpagodeservicios',\n",
    " 'mpagodeservicios',\n",
    " 'mpagomiscuentas',\n",
    " 'cpagomiscuentas',\n",
    " 'ccajeros_propios_descuentos',\n",
    " 'mcajeros_propios_descuentos',\n",
    " 'ccomisiones_mantenimiento',\n",
    " 'ccomisiones_otras',\n",
    " 'cforex',\n",
    " 'cforex_buy',\n",
    " 'mforex_buy',\n",
    " 'cforex_sell',\n",
    " 'mforex_sell',\n",
    " 'ctransferencias_recibidas',\n",
    " 'ctransferencias_emitidas',\n",
    " 'mtransferencias_emitidas',\n",
    " 'cextraccion_autoservicio',\n",
    " 'mextraccion_autoservicio',\n",
    " 'ccheques_depositados',\n",
    " 'mcheques_depositados',\n",
    " 'ccheques_emitidos',\n",
    " 'mcheques_emitidos',\n",
    " 'ccheques_depositados_rechazados',\n",
    " 'mcheques_depositados_rechazados',\n",
    " 'ccheques_emitidos_rechazados',\n",
    " 'mcheques_emitidos_rechazados',\n",
    " 'ccallcenter_transacciones',\n",
    " 'chomebanking_transacciones',\n",
    " 'ccajas_transacciones',\n",
    " 'ccajas_consultas',\n",
    " 'ccajas_depositos',\n",
    " 'ccajas_extracciones',\n",
    " 'ccajas_otras',\n",
    " 'catm_trx',\n",
    " 'matm',\n",
    " 'catm_trx_other',\n",
    " 'matm_other',\n",
    " 'ctrx_quarter',\n",
    " 'conjunto_ctarjeta_visa_debitos_automaticos',\n",
    " 'conjunto_mttarjeta_visa_debitos_automaticos',\n",
    " 'conjunto_ctarjeta_visa_descuentos',\n",
    " 'conjunto_mtarjeta_visa_descuentos',\n",
    " 'conjunto_Visa_msaldototal',\n",
    " 'conjunto_Visa_msaldopesos',\n",
    " 'conjunto_Visa_msaldodolares',\n",
    " 'conjunto_Visa_mconsumospesos',\n",
    " 'conjunto_Visa_mconsumosdolares',\n",
    " 'conjunto_Visa_mlimitecompra',\n",
    " 'conjunto_Visa_madelantopesos',\n",
    " 'conjunto_Visa_madelantodolares',\n",
    " 'conjunto_Visa_fultimo_cierre',\n",
    " 'conjunto_Visa_mpagado',\n",
    " 'conjunto_Visa_mpagospesos',\n",
    " 'conjunto_Visa_mpagosdolares',\n",
    " 'conjunto_Visa_fechaalta',\n",
    " 'conjunto_Visa_cconsumos',\n",
    " 'conjunto_Visa_cadelantosefectivo',\n",
    " 'conjunto_Visa_mpagominimo']\n",
    "\n"
   ]
  },
  {
   "cell_type": "code",
   "execution_count": 39,
   "metadata": {},
   "outputs": [
    {
     "data": {
      "text/html": [
       "<div>\n",
       "<style scoped>\n",
       "    .dataframe tbody tr th:only-of-type {\n",
       "        vertical-align: middle;\n",
       "    }\n",
       "\n",
       "    .dataframe tbody tr th {\n",
       "        vertical-align: top;\n",
       "    }\n",
       "\n",
       "    .dataframe thead th {\n",
       "        text-align: right;\n",
       "    }\n",
       "</style>\n",
       "<table border=\"1\" class=\"dataframe\">\n",
       "  <thead>\n",
       "    <tr style=\"text-align: right;\">\n",
       "      <th></th>\n",
       "      <th>Success</th>\n",
       "    </tr>\n",
       "  </thead>\n",
       "  <tbody>\n",
       "  </tbody>\n",
       "</table>\n",
       "</div>"
      ],
      "text/plain": [
       "Empty DataFrame\n",
       "Columns: [Success]\n",
       "Index: []"
      ]
     },
     "execution_count": 39,
     "metadata": {},
     "output_type": "execute_result"
    }
   ],
   "source": [
    "lag_columns = []\n",
    "for variable in lista_feature:\n",
    "    lag_columns.append(f\"lag({variable}, 1) over (partition by numero_de_cliente order by foto_mes) as {variable}_lag_1\")\n",
    "    lag_columns.append(f\"lag({variable}, 2) over (partition by numero_de_cliente order by foto_mes) as {variable}_lag_2\")\n",
    "\n",
    "\n",
    "lag_columns_sql = \",\\n    \".join(lag_columns)\n",
    "\n",
    "\n",
    "query = f\"\"\"\n",
    "CREATE OR REPLACE TABLE competencia_03 AS\n",
    "SELECT *,\n",
    "    {lag_columns_sql}\n",
    "FROM competencia_03\n",
    "\"\"\"\n",
    "\n",
    "%sql {{query}}\n",
    "\n"
   ]
  },
  {
   "cell_type": "code",
   "execution_count": 40,
   "metadata": {},
   "outputs": [
    {
     "data": {
      "text/html": [
       "<div>\n",
       "<style scoped>\n",
       "    .dataframe tbody tr th:only-of-type {\n",
       "        vertical-align: middle;\n",
       "    }\n",
       "\n",
       "    .dataframe tbody tr th {\n",
       "        vertical-align: top;\n",
       "    }\n",
       "\n",
       "    .dataframe thead th {\n",
       "        text-align: right;\n",
       "    }\n",
       "</style>\n",
       "<table border=\"1\" class=\"dataframe\">\n",
       "  <thead>\n",
       "    <tr style=\"text-align: right;\">\n",
       "      <th></th>\n",
       "      <th>Success</th>\n",
       "    </tr>\n",
       "  </thead>\n",
       "  <tbody>\n",
       "  </tbody>\n",
       "</table>\n",
       "</div>"
      ],
      "text/plain": [
       "Empty DataFrame\n",
       "Columns: [Success]\n",
       "Index: []"
      ]
     },
     "execution_count": 40,
     "metadata": {},
     "output_type": "execute_result"
    }
   ],
   "source": [
    "delta_columns = []\n",
    "for variable in lista_feature:\n",
    "    nombre_variable = variable+'_delta_1'\n",
    "    nombre_variable_2 = variable+'_delta_2'\n",
    "    delta_columns.append(f\"{variable} - {variable}_lag_1 as {nombre_variable}\")\n",
    "    delta_columns.append(f\"{variable}_lag_1 - {variable}_lag_2 as {nombre_variable_2}\")\n",
    "\n",
    "delta_columns_sql = \",\\n    \".join(delta_columns)\n",
    "\n",
    "\n",
    "query = f'''CREATE OR REPLACE TABLE competencia_03 AS\n",
    "            select *,\n",
    "            {delta_columns_sql}\n",
    "            from competencia_03'''\n",
    "%sql {{query}}\n",
    "            "
   ]
  },
  {
   "cell_type": "code",
   "execution_count": 41,
   "metadata": {},
   "outputs": [
    {
     "data": {
      "text/plain": [
       "'C:\\\\Users\\\\Admin\\\\Documents\\\\1_Notebook\\\\1_Estudio\\\\1_UBA_Maestria_DS\\\\1_Especializacion\\\\1_Segundo_Semestre\\\\DMEyF\\\\datasets\\\\competencia_3\\\\competencia_03_lags_deltas_y_clase_ternaria.parquet'"
      ]
     },
     "execution_count": 41,
     "metadata": {},
     "output_type": "execute_result"
    }
   ],
   "source": [
    "path_dataset_lags_deltas_y_clase_ternaria = datasets_path_l+r'\\competencia_03_lags_deltas_y_clase_ternaria.parquet'\n",
    "path_dataset_lags_deltas_y_clase_ternaria\n"
   ]
  },
  {
   "cell_type": "code",
   "execution_count": 42,
   "metadata": {},
   "outputs": [
    {
     "data": {
      "text/html": [
       "<div>\n",
       "<style scoped>\n",
       "    .dataframe tbody tr th:only-of-type {\n",
       "        vertical-align: middle;\n",
       "    }\n",
       "\n",
       "    .dataframe tbody tr th {\n",
       "        vertical-align: top;\n",
       "    }\n",
       "\n",
       "    .dataframe thead th {\n",
       "        text-align: right;\n",
       "    }\n",
       "</style>\n",
       "<table border=\"1\" class=\"dataframe\">\n",
       "  <thead>\n",
       "    <tr style=\"text-align: right;\">\n",
       "      <th></th>\n",
       "      <th>Success</th>\n",
       "    </tr>\n",
       "  </thead>\n",
       "  <tbody>\n",
       "  </tbody>\n",
       "</table>\n",
       "</div>"
      ],
      "text/plain": [
       "Empty DataFrame\n",
       "Columns: [Success]\n",
       "Index: []"
      ]
     },
     "execution_count": 42,
     "metadata": {},
     "output_type": "execute_result"
    }
   ],
   "source": [
    "%sql COPY competencia_03 TO '{{path_dataset_lags_deltas_y_clase_ternaria}}' (FORMAT 'parquet')\n"
   ]
  },
  {
   "cell_type": "code",
   "execution_count": null,
   "metadata": {},
   "outputs": [
    {
     "data": {
      "text/plain": [
       "(4735593, 600)"
      ]
     },
     "execution_count": 6,
     "metadata": {},
     "output_type": "execute_result"
    }
   ],
   "source": [
    "datita = pd.read_parquet('C:\\\\Users\\\\Admin\\\\Documents\\\\1_Notebook\\\\1_Estudio\\\\1_UBA_Maestria_DS\\\\1_Especializacion\\\\1_Segundo_Semestre\\\\DMEyF\\\\datasets\\\\competencia_2\\\\competencia_02_lags_deltas_y_clase_ternaria.parquet'\n",
    ") \n",
    "datita.shape"
   ]
  },
  {
   "cell_type": "code",
   "execution_count": 8,
   "metadata": {},
   "outputs": [
    {
     "data": {
      "text/plain": [
       "0          CONTINUA\n",
       "1          CONTINUA\n",
       "2          CONTINUA\n",
       "3          CONTINUA\n",
       "4          CONTINUA\n",
       "             ...   \n",
       "4735588    CONTINUA\n",
       "4735589    CONTINUA\n",
       "4735590    CONTINUA\n",
       "4735591    CONTINUA\n",
       "4735592    CONTINUA\n",
       "Name: clase_ternaria, Length: 4735593, dtype: object"
      ]
     },
     "execution_count": 8,
     "metadata": {},
     "output_type": "execute_result"
    }
   ],
   "source": [
    "datita['clase_ternaria']"
   ]
  },
  {
   "cell_type": "code",
   "execution_count": null,
   "metadata": {},
   "outputs": [
    {
     "data": {
      "application/vnd.jupyter.widget-view+json": {
       "model_id": "5bfd0e6324534aa0b2e4a359d6320790",
       "version_major": 2,
       "version_minor": 0
      },
      "text/plain": [
       "FloatProgress(value=0.0, layout=Layout(width='auto'), style=ProgressStyle(bar_color='black'))"
      ]
     },
     "metadata": {},
     "output_type": "display_data"
    },
    {
     "data": {
      "text/plain": [
       "<duckdb.duckdb.DuckDBPyConnection at 0x1b1d393a4b0>"
      ]
     },
     "execution_count": 80,
     "metadata": {},
     "output_type": "execute_result"
    }
   ],
   "source": [
    "\n",
    "# con.execute('''\n",
    "# create or replace table df_train as\n",
    "# select *,\n",
    "#     lag (mpayroll, 1) over (\n",
    "#         partition by numero_de_cliente \n",
    "#         order by foto_mes\n",
    "#     ) as lag_mpayroll1,\n",
    "#     lag (mpayroll, 2) over (\n",
    "#         partition by numero_de_cliente \n",
    "#         order by foto_mes\n",
    "#     ) as lag_mpayroll2\n",
    "# from df_train''')\n"
   ]
  },
  {
   "cell_type": "code",
   "execution_count": 81,
   "metadata": {},
   "outputs": [],
   "source": [
    "\n",
    "# df_sorted = df_train.sort_values(by=['numero_de_cliente', 'foto_mes'])\n",
    "\n",
    "\n",
    "# df_train['lag_ctrx_quarter1'] = df_sorted.groupby('numero_de_cliente')['ctrx_quarter'].shift(1)\n",
    "\n",
    "\n",
    "# df_train['lag_ctrx_quarter2'] = df_sorted.groupby('numero_de_cliente')['ctrx_quarter'].shift(2)"
   ]
  },
  {
   "cell_type": "code",
   "execution_count": 82,
   "metadata": {},
   "outputs": [],
   "source": [
    "# con.execute('''\n",
    "# create or replace table df_train as\n",
    "# select * \n",
    "#     , lag (t_consumo_total, 1) over (\n",
    "#         partition by numero_de_cliente \n",
    "#         order by foto_mes, numero_de_cliente\n",
    "#     ) as lag_consumo_total1\n",
    "#     , lag (t_consumo_total, 2) over (\n",
    "#         partition by numero_de_cliente \n",
    "#         order by foto_mes, numero_de_cliente\n",
    "#     ) as lag_consumo_total2\n",
    "# from df_train''')"
   ]
  },
  {
   "cell_type": "markdown",
   "metadata": {},
   "source": [
    "### FE Deltas"
   ]
  },
  {
   "cell_type": "code",
   "execution_count": null,
   "metadata": {},
   "outputs": [
    {
     "data": {
      "text/plain": [
       "<duckdb.duckdb.DuckDBPyConnection at 0x1b1d393a4b0>"
      ]
     },
     "execution_count": 83,
     "metadata": {},
     "output_type": "execute_result"
    }
   ],
   "source": [
    "# con.execute('''create or replace table df_train as\n",
    "# select *\n",
    "#   , ctrx_quarter - lag_ctrx_quarter1 as delta_1_ctrx_quarter\n",
    "#   , ctrx_quarter - lag_ctrx_quarter2 as delta_1_ctrx_quarter\n",
    "# from df_train''')"
   ]
  },
  {
   "cell_type": "code",
   "execution_count": 84,
   "metadata": {},
   "outputs": [],
   "source": [
    "\n",
    "# con.execute('''create or replace table df_train as\n",
    "# select *\n",
    "#   , t_consumo_total - lag_consumo_total1 as delta_1_lag_confumo_total\n",
    "#   , t_consumo_total - lag_consumo_total2 as delta_2_lag_consumo_total\n",
    "# from df_train''')"
   ]
  },
  {
   "cell_type": "code",
   "execution_count": 85,
   "metadata": {},
   "outputs": [],
   "source": [
    "# con.execute(''' create or replace table df_train as\n",
    "# select *\n",
    "#   ,         IFNULL (t_consumo_total,0) / NULLIF (IFNULL (mpayroll,0),0) as consumo_vs_payroll\n",
    "#             from df_train''')"
   ]
  },
  {
   "cell_type": "code",
   "execution_count": 86,
   "metadata": {},
   "outputs": [],
   "source": [
    "# con.execute('''\n",
    "# create or replace table df_train as\n",
    "# select * \n",
    "#     , lag (consumo_vs_payroll, 1) over (\n",
    "#         partition by numero_de_cliente \n",
    "#         order by foto_mes, numero_de_cliente\n",
    "#     ) as lag_consumo_vs_payroll_1\n",
    "#     , lag (consumo_vs_payroll, 2) over (\n",
    "#         partition by numero_de_cliente \n",
    "#         order by foto_mes, numero_de_cliente\n",
    "#     ) as lag_consumo_vs_payroll_2\n",
    "# from df_train''')"
   ]
  },
  {
   "cell_type": "code",
   "execution_count": 87,
   "metadata": {},
   "outputs": [],
   "source": [
    "# # Ordenar el DataFrame por 'numero_de_cliente' y 'foto_mes'\n",
    "# df_sorted = df_train.sort_values(by=['numero_de_cliente', 'foto_mes'])\n",
    "\n",
    "# # Calcular la columna 'lag_consumo_total1'\n",
    "# df_train['lag_consumo_total1'] = df_sorted.groupby('numero_de_cliente')['t_consumo_total'].shift(1)\n",
    "\n",
    "# # Calcular la columna 'lag_consumo_total2'\n",
    "# df_train['lag_consumo_total2'] = df_sorted.groupby('numero_de_cliente')['t_consumo_total'].shift(2)"
   ]
  },
  {
   "cell_type": "markdown",
   "metadata": {},
   "source": [
    "### FE Percents"
   ]
  },
  {
   "cell_type": "code",
   "execution_count": null,
   "metadata": {},
   "outputs": [
    {
     "data": {
      "application/vnd.jupyter.widget-view+json": {
       "model_id": "f4513bf73c4d4fefaf76e7ca75448c3e",
       "version_major": 2,
       "version_minor": 0
      },
      "text/plain": [
       "FloatProgress(value=0.0, layout=Layout(width='auto'), style=ProgressStyle(bar_color='black'))"
      ]
     },
     "metadata": {},
     "output_type": "display_data"
    },
    {
     "data": {
      "text/plain": [
       "<duckdb.duckdb.DuckDBPyConnection at 0x1b1d393a4b0>"
      ]
     },
     "execution_count": 88,
     "metadata": {},
     "output_type": "execute_result"
    }
   ],
   "source": [
    "# for variable in lista_features:\n",
    "        \n",
    "#     con.execute('''\n",
    "                \n",
    "        \n",
    "#     create or replace table df_train as\n",
    "#     select *\n",
    "#         , percent_rank() over (partition by foto_mes order by {variable},numero_de_cliente) as cliente_antiguedad_dd\n",
    "#          as {nombre_variable}\n",
    "#     from df_train''')\n",
    "\n"
   ]
  },
  {
   "cell_type": "code",
   "execution_count": 89,
   "metadata": {},
   "outputs": [],
   "source": [
    "# con.execute('''create or replace table df_train as\n",
    "# select *, \n",
    "#             greatest(ctarjeta_visa_transacciones, ctarjeta_master_transacciones) as max_tarjeta_transacciones,\n",
    "#             greatest(ccallcenter_transacciones, chomebanking_transacciones) as max_dig_analog_transacciones,\n",
    "#             least(ctarjeta_debito_transacciones, ctarjeta_visa_transacciones) as min_tarjeta_debito_transacciones,\n",
    "#             least(ctarjeta_visa_transacciones, ctarjeta_master_transacciones) as min_tarjeta_master_transacciones,\n",
    "#             least(ccallcenter_transacciones, chomebanking_transacciones) as min_callcenter_transacciones,\n",
    "#             from df_train''')\n",
    "            "
   ]
  },
  {
   "cell_type": "code",
   "execution_count": 90,
   "metadata": {},
   "outputs": [],
   "source": [
    "# # Calcular percent_rank para cada columna\n",
    "# df_train['cliente_antiguedad_dd'] = df_train.groupby('foto_mes')['cliente_antiguedad'].rank(method='min', pct=True)\n",
    "# df_train['cliente_edad_dd'] = df_train.groupby('foto_mes')['cliente_edad'].rank(method='min', pct=True)\n",
    "# df_train['ctrx_quarter_dd'] = df_train.groupby('foto_mes')['ctrx_quarter'].rank(method='min', pct=True)\n",
    "# df_train['mactivos_margen_dd'] = df_train.groupby('foto_mes')['mactivos_margen'].rank(method='min', pct=True)\n",
    "# df_train['mpayroll_dd'] = df_train.groupby('foto_mes')['mpayroll'].rank(method='min', pct=True)\n",
    "# df_train['intensidad_gasto_dd'] = df_train.groupby('foto_mes')['intensidad_gasto'].rank(method='min', pct=True)\n",
    "# df_train['cproductos_dd'] = df_train.groupby('foto_mes')['cproductos'].rank(method='min', pct=True)"
   ]
  },
  {
   "cell_type": "code",
   "execution_count": 91,
   "metadata": {},
   "outputs": [],
   "source": [
    "# df_train = con.execute('''SELECT * FROM df_train''').fetch_df()\n"
   ]
  },
  {
   "cell_type": "code",
   "execution_count": 92,
   "metadata": {},
   "outputs": [],
   "source": [
    "# con.close()"
   ]
  },
  {
   "cell_type": "code",
   "execution_count": 93,
   "metadata": {},
   "outputs": [],
   "source": [
    "# df_train.shape"
   ]
  },
  {
   "cell_type": "code",
   "execution_count": 94,
   "metadata": {},
   "outputs": [],
   "source": [
    "# # df_train.to_csv(r\"C:\\Users\\Admin\\Documents\\1_Notebook\\1_Estudio\\1_UBA_Maestria_DS\\1_Especializacion\\1_Segundo_Semestre\\DMEyF\\Git\\dmeyf2024\\datasets\\competencia_03_f_e.csv\", index=False)\n",
    "# df_train = pd.read_csv(r\"C:\\Users\\Admin\\Documents\\1_Notebook\\1_Estudio\\1_UBA_Maestria_DS\\1_Especializacion\\1_Segundo_Semestre\\DMEyF\\Git\\dmeyf2024\\datasets\\competencia_03_f_e.csv\", index_col=False)    "
   ]
  },
  {
   "cell_type": "markdown",
   "metadata": {},
   "source": [
    "### Modelo para variables más importantes + optimización "
   ]
  },
  {
   "cell_type": "code",
   "execution_count": 96,
   "metadata": {},
   "outputs": [],
   "source": [
    "# optuna.visualization.plot_optimization_history(study)"
   ]
  },
  {
   "cell_type": "code",
   "execution_count": 97,
   "metadata": {},
   "outputs": [],
   "source": [
    "# plot_param_importances(study)"
   ]
  },
  {
   "cell_type": "code",
   "execution_count": 98,
   "metadata": {},
   "outputs": [],
   "source": [
    "# plot_slice(study)"
   ]
  },
  {
   "cell_type": "code",
   "execution_count": 99,
   "metadata": {},
   "outputs": [],
   "source": [
    "# best_params = study.best_params\n",
    "# print(\"Mejores parámetros:\", best_params)"
   ]
  }
 ],
 "metadata": {
  "kernelspec": {
   "display_name": "datascience",
   "language": "python",
   "name": "python3"
  },
  "language_info": {
   "codemirror_mode": {
    "name": "ipython",
    "version": 3
   },
   "file_extension": ".py",
   "mimetype": "text/x-python",
   "name": "python",
   "nbconvert_exporter": "python",
   "pygments_lexer": "ipython3",
   "version": "3.11.9"
  }
 },
 "nbformat": 4,
 "nbformat_minor": 2
}
