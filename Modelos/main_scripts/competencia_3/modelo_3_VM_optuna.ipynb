{
 "cells": [
  {
   "cell_type": "markdown",
   "metadata": {},
   "source": [
    "## Precarga de librerias y funciones"
   ]
  },
  {
   "cell_type": "code",
   "execution_count": 1,
   "metadata": {},
   "outputs": [],
   "source": [
    "%%capture\n",
    "%run \"../../recurrentes.ipynb\""
   ]
  },
  {
   "cell_type": "code",
   "execution_count": 2,
   "metadata": {},
   "outputs": [],
   "source": [
    "%%capture\n",
    "%run \"../../funciones.ipynb\""
   ]
  },
  {
   "cell_type": "code",
   "execution_count": 3,
   "metadata": {},
   "outputs": [
    {
     "name": "stdout",
     "output_type": "stream",
     "text": [
      "The sql extension is already loaded. To reload it, use:\n",
      "  %reload_ext sql\n"
     ]
    }
   ],
   "source": [
    "# 1 configuración de la base de datos\n",
    "\n",
    "%load_ext sql\n",
    "%config SqlMagic.autopandas = True\n",
    "%config SqlMagic.feedback = False\n",
    "%config SqlMagic.displaycon = False\n",
    "%sql duckdb:///:memory:\n"
   ]
  },
  {
   "cell_type": "code",
   "execution_count": 4,
   "metadata": {},
   "outputs": [],
   "source": [
    "# 2 Preseteo optuna especificar bucket y nombre del estudio\n",
    "\n",
    "\n",
    "nombre_archivo = 'optimization_tree.db'\n",
    "bucket = 'b2/'\n",
    "\n",
    "\n",
    "estudio_optuna = base_path + 'buckets/' + bucket + 'optimization_tree.db'\n",
    "\n",
    "\n",
    "# cargar estudio\n",
    "# a) competencia_02\n",
    "# b) competencia_02_lags\n",
    "# c) competencia_02_lags_y_deltas\n",
    "# b1 -- competencia_02_lags_deltas_psi_fe\n",
    "# b1 - 'competencia_02_lags_deltas_psi_fe_sorted'\n",
    "\n",
    "nombre_estudio = 'competencia_03_solo_deltas_max_div_sin_meses_bajos_bt'\n"
   ]
  },
  {
   "cell_type": "code",
   "execution_count": 5,
   "metadata": {},
   "outputs": [],
   "source": [
    "# 3 - Cargar datos\n",
    "\n",
    "# Opciones:\n",
    "\n",
    "# a) dataset_clase_ternaria\n",
    "\n",
    "df_train = pd.read_parquet(dataset_competencia_03_lags_deltas_y_clase_ternaria)\n",
    "\n"
   ]
  },
  {
   "cell_type": "code",
   "execution_count": 6,
   "metadata": {},
   "outputs": [],
   "source": [
    "columnas = df_train.columns\n",
    "columnas_lags = [col for col in columnas if 'lag' in col]"
   ]
  },
  {
   "cell_type": "code",
   "execution_count": 7,
   "metadata": {},
   "outputs": [],
   "source": [
    "df_train = df_train.drop(columns=columnas_lags)"
   ]
  },
  {
   "cell_type": "code",
   "execution_count": 8,
   "metadata": {},
   "outputs": [
    {
     "data": {
      "text/plain": [
       "(4901237, 320)"
      ]
     },
     "execution_count": 8,
     "metadata": {},
     "output_type": "execute_result"
    }
   ],
   "source": [
    "df_train.shape"
   ]
  },
  {
   "cell_type": "code",
   "execution_count": 9,
   "metadata": {},
   "outputs": [],
   "source": [
    "columnas_num = df_train.select_dtypes(exclude=['bool','object'])\n",
    "lista_columnas_num = columnas_num.columns"
   ]
  },
  {
   "cell_type": "code",
   "execution_count": 10,
   "metadata": {},
   "outputs": [],
   "source": [
    "df_train['max'] = df_train[lista_columnas_num].max(axis=1)"
   ]
  },
  {
   "cell_type": "code",
   "execution_count": 11,
   "metadata": {},
   "outputs": [
    {
     "name": "stdout",
     "output_type": "stream",
     "text": [
      "Todas las variables fueron verificadas correctamente.\n"
     ]
    }
   ],
   "source": [
    "# Lista de variables a verificar\n",
    "variables = [\n",
    "    'cmobile_app_trx', 'Master_cconsumos', 'ctarjeta_debito_transacciones', \n",
    "    'ctarjeta_visa_transacciones', 'ctarjeta_master_transacciones', 'cpayroll_trx', \n",
    "    'cpayroll2_trx', 'ccuenta_debitos_automaticos', 'cpagodeservicios', 'cforex', \n",
    "    'cforex_buy', 'mforex_sell', 'cextraccion_autoservicio', 'ccallcenter_transacciones', \n",
    "    'chomebanking_transacciones'\n",
    "]\n",
    "\n",
    "# Verificar si 'ctrx_quarter' existe en el DataFrame\n",
    "if 'ctrx_quarter' not in df_train.columns:\n",
    "    raise KeyError(\"La variable 'ctrx_quarter' no existe en el dataset.\")\n",
    "\n",
    "# Lista de las variables que sí están presentes en el DataFrame\n",
    "variables_presentes = [var for var in variables if var in df_train.columns]\n",
    "\n",
    "# Si hay variables presentes en el DataFrame, calcular la Power Ratio\n",
    "if variables_presentes:\n",
    "    for var in variables_presentes:\n",
    "        # Evitar división por cero reemplazando ceros en el denominador por un valor mínimo (1e-6)\n",
    "        denominator = df_train[var].replace(0, 1e-6) ** 2  # Elevar al cuadrado el denominador\n",
    "        # Crear una nueva columna con el prefijo 'power_ratio_'\n",
    "        df_train['power_ratio_' + var] = df_train['ctrx_quarter'] / denominator\n",
    "else:\n",
    "    print(\"No se encontraron variables para calcular la Power Ratio.\")\n",
    "\n",
    "# Informar sobre las variables que faltan en el DataFrame\n",
    "variables_faltantes = [var for var in variables if var not in df_train.columns]\n",
    "if variables_faltantes:\n",
    "    print(f\"Las siguientes variables no existen en el dataset y no se calcularon: {variables_faltantes}\")\n",
    "else:\n",
    "    print(\"Todas las variables fueron verificadas correctamente.\")\n"
   ]
  },
  {
   "cell_type": "code",
   "execution_count": 12,
   "metadata": {},
   "outputs": [],
   "source": [
    "# df_train.drop(columns=dicc_psi['dataset_lags_deltas_y_clase_ternaria'], inplace= True)\n",
    "# df_train.drop(columns=dicc_psi['lista_light_gbm_feature_importance'], inplace = True)\n"
   ]
  },
  {
   "cell_type": "markdown",
   "metadata": {},
   "source": [
    "# Light GBM"
   ]
  },
  {
   "cell_type": "markdown",
   "metadata": {},
   "source": [
    "## Formateo pre modelo"
   ]
  },
  {
   "cell_type": "code",
   "execution_count": 13,
   "metadata": {},
   "outputs": [],
   "source": [
    "if 'T_Visa_normal' in df_train.columns:\n",
    "    df_train['T_Visa_normal'] = df_train['T_Visa_normal'].astype(bool)\n",
    "if 'T_Master_normal'in df_train.columns:\n",
    "    df_train['T_Master_normal'] = df_train['T_Master_normal'].astype(bool)\n"
   ]
  },
  {
   "cell_type": "code",
   "execution_count": 14,
   "metadata": {},
   "outputs": [
    {
     "data": {
      "text/plain": [
       "clase_ternaria\n",
       "CONTINUA    162783\n",
       "BAJA+2        1294\n",
       "BAJA+1        1075\n",
       "Name: count, dtype: int64"
      ]
     },
     "execution_count": 14,
     "metadata": {},
     "output_type": "execute_result"
    }
   ],
   "source": [
    "df_train[df_train['foto_mes']==202107]['clase_ternaria'].value_counts()"
   ]
  },
  {
   "cell_type": "code",
   "execution_count": 15,
   "metadata": {},
   "outputs": [],
   "source": [
    "# 4 - parametros para modelo\n",
    "ganancia_acierto = 273000\n",
    "costo_estimulo = 7000\n",
    "\n",
    "mes_train = [201901, 201902, 201903, 201905, 201907, 201911, 202011, 202012,\n",
    "       202101, 202102, 202103, 202104, 202105]\n",
    "mes_test = 202107\n"
   ]
  },
  {
   "cell_type": "code",
   "execution_count": 16,
   "metadata": {},
   "outputs": [],
   "source": [
    "data = df_train"
   ]
  },
  {
   "cell_type": "code",
   "execution_count": 17,
   "metadata": {},
   "outputs": [],
   "source": [
    "data['tmobile_app'] = pd.to_numeric(data['tmobile_app'], errors='coerce')  # Convierte no numéricos a NaN\n",
    "data['tmobile_app'] = data['tmobile_app'].fillna(0).astype('bool')  # Llena los NaN y convierte a booleano\n",
    "\n",
    "\n",
    "\n",
    "data['cmobile_app_trx'] = pd.to_numeric(data['cmobile_app_trx'], errors='coerce')  # Convierte no numéricos a NaN\n",
    "data['cmobile_app_trx'] = data['cmobile_app_trx'].fillna(0).astype('bool')  # Llena los NaN y convierte a booleano"
   ]
  },
  {
   "cell_type": "code",
   "execution_count": 18,
   "metadata": {},
   "outputs": [],
   "source": [
    "\n",
    "data['clase_peso'] = 1.0\n",
    "data.loc[data['clase_ternaria'] == 'BAJA+2', 'clase_peso'] = 1.00002\n",
    "data.loc[data['clase_ternaria'] == 'BAJA+1', 'clase_peso'] = 1.00001\n",
    "data['clase_binaria'] = np.where(data['clase_ternaria']=='BAJA+2', 1, 0)\n",
    "df_test = data[data['foto_mes'] == mes_test]\n",
    "df_train = data[data['foto_mes'].isin(mes_train)]\n",
    "\n",
    "clase_peso = df_train['clase_peso']\n",
    "X_train = df_train.drop(['clase_ternaria', 'clase_binaria', 'clase_peso'], axis=1)\n",
    "Y_train =df_train['clase_binaria']\n",
    "X_test = df_test.drop(['clase_ternaria', 'clase_binaria', 'clase_peso'], axis=1)\n",
    "Y_test =df_test['clase_binaria']\n",
    "w_train = df_train.loc[X_train.index, 'clase_peso']\n"
   ]
  },
  {
   "cell_type": "code",
   "execution_count": 19,
   "metadata": {},
   "outputs": [
    {
     "data": {
      "text/plain": [
       "(array([201901, 201902, 201903, 201905, 201907, 201911, 202011, 202012,\n",
       "        202101, 202102, 202103, 202104, 202105]),\n",
       " array([202107]))"
      ]
     },
     "execution_count": 19,
     "metadata": {},
     "output_type": "execute_result"
    }
   ],
   "source": [
    "df_train['foto_mes'].unique() , df_test['foto_mes'].unique()"
   ]
  },
  {
   "cell_type": "code",
   "execution_count": null,
   "metadata": {},
   "outputs": [],
   "source": []
  },
  {
   "cell_type": "markdown",
   "metadata": {},
   "source": [
    "### Optimización"
   ]
  },
  {
   "cell_type": "markdown",
   "metadata": {},
   "source": [
    "#### Optimización original"
   ]
  },
  {
   "cell_type": "code",
   "execution_count": 20,
   "metadata": {},
   "outputs": [],
   "source": [
    "import optuna\n",
    "\n",
    "optuna.logging.set_verbosity(optuna.logging.INFO)"
   ]
  },
  {
   "cell_type": "code",
   "execution_count": 21,
   "metadata": {},
   "outputs": [
    {
     "name": "stderr",
     "output_type": "stream",
     "text": [
      "Best trial: 23. Best value: 1.061e+09:   0%|          | 1/1000 [03:47<63:09:03, 227.57s/it]"
     ]
    },
    {
     "name": "stdout",
     "output_type": "stream",
     "text": [
      "[I 2024-12-03 19:58:59,994] Trial 26 finished with value: 1031730000.0 and parameters: {'num_leaves': 60, 'learning_rate': 0.08990017071781842, 'min_data_in_leaf': 1251, 'feature_fraction': 0.14515343215035953, 'bagging_fraction': 0.7047876930464093}. Best is trial 23 with value: 1061004000.0.\n"
     ]
    },
    {
     "name": "stderr",
     "output_type": "stream",
     "text": [
      "Best trial: 23. Best value: 1.061e+09:   0%|          | 2/1000 [08:11<69:05:42, 249.24s/it]"
     ]
    },
    {
     "name": "stdout",
     "output_type": "stream",
     "text": [
      "[I 2024-12-03 20:03:24,405] Trial 27 finished with value: 1047564000.0 and parameters: {'num_leaves': 56, 'learning_rate': 0.07787332059660754, 'min_data_in_leaf': 1654, 'feature_fraction': 0.2995721292781493, 'bagging_fraction': 0.5684876546695454}. Best is trial 23 with value: 1061004000.0.\n"
     ]
    },
    {
     "name": "stderr",
     "output_type": "stream",
     "text": [
      "Best trial: 23. Best value: 1.061e+09:   0%|          | 3/1000 [12:17<68:32:26, 247.49s/it]"
     ]
    },
    {
     "name": "stdout",
     "output_type": "stream",
     "text": [
      "[I 2024-12-03 20:07:29,809] Trial 28 finished with value: 1018094000.0 and parameters: {'num_leaves': 100, 'learning_rate': 0.12711812240987527, 'min_data_in_leaf': 1609, 'feature_fraction': 0.18899346892391794, 'bagging_fraction': 0.7381423001465224}. Best is trial 23 with value: 1061004000.0.\n"
     ]
    },
    {
     "name": "stderr",
     "output_type": "stream",
     "text": [
      "Best trial: 23. Best value: 1.061e+09:   0%|          | 4/1000 [17:28<75:26:09, 272.66s/it]"
     ]
    },
    {
     "name": "stdout",
     "output_type": "stream",
     "text": [
      "[I 2024-12-03 20:12:41,055] Trial 29 finished with value: 1042972000.0 and parameters: {'num_leaves': 64, 'learning_rate': 0.03875516070518559, 'min_data_in_leaf': 1183, 'feature_fraction': 0.5643667492680575, 'bagging_fraction': 0.6535927879935446}. Best is trial 23 with value: 1061004000.0.\n"
     ]
    },
    {
     "name": "stderr",
     "output_type": "stream",
     "text": [
      "Best trial: 23. Best value: 1.061e+09:   0%|          | 5/1000 [22:15<76:43:39, 277.61s/it]"
     ]
    },
    {
     "name": "stdout",
     "output_type": "stream",
     "text": [
      "[I 2024-12-03 20:17:27,435] Trial 30 finished with value: 1049258000.0 and parameters: {'num_leaves': 56, 'learning_rate': 0.03617385846117998, 'min_data_in_leaf': 1019, 'feature_fraction': 0.3973764791681284, 'bagging_fraction': 0.773422927825755}. Best is trial 23 with value: 1061004000.0.\n"
     ]
    },
    {
     "name": "stderr",
     "output_type": "stream",
     "text": [
      "Best trial: 23. Best value: 1.061e+09:   1%|          | 6/1000 [26:48<76:13:09, 276.05s/it]"
     ]
    },
    {
     "name": "stdout",
     "output_type": "stream",
     "text": [
      "[I 2024-12-03 20:22:00,451] Trial 31 finished with value: 1045345000.0 and parameters: {'num_leaves': 76, 'learning_rate': 0.07643587239849886, 'min_data_in_leaf': 1535, 'feature_fraction': 0.2981311302970623, 'bagging_fraction': 0.4587714621164881}. Best is trial 23 with value: 1061004000.0.\n"
     ]
    },
    {
     "name": "stderr",
     "output_type": "stream",
     "text": [
      "Best trial: 32. Best value: 1.06362e+09:   1%|          | 7/1000 [31:11<75:01:05, 271.97s/it]"
     ]
    },
    {
     "name": "stdout",
     "output_type": "stream",
     "text": [
      "[I 2024-12-03 20:26:24,028] Trial 32 finished with value: 1063615000.0 and parameters: {'num_leaves': 87, 'learning_rate': 0.026115106284506518, 'min_data_in_leaf': 1321, 'feature_fraction': 0.243881017842387, 'bagging_fraction': 0.6476711707143874}. Best is trial 32 with value: 1063615000.0.\n"
     ]
    },
    {
     "name": "stderr",
     "output_type": "stream",
     "text": [
      "Best trial: 32. Best value: 1.06362e+09:   1%|          | 8/1000 [35:29<73:41:38, 267.44s/it]"
     ]
    },
    {
     "name": "stdout",
     "output_type": "stream",
     "text": [
      "[I 2024-12-03 20:30:41,764] Trial 33 finished with value: 913220000.0 and parameters: {'num_leaves': 89, 'learning_rate': 0.00012048283592533751, 'min_data_in_leaf': 1807, 'feature_fraction': 0.2536213326773662, 'bagging_fraction': 0.533319831398662}. Best is trial 32 with value: 1063615000.0.\n"
     ]
    },
    {
     "name": "stderr",
     "output_type": "stream",
     "text": [
      "Best trial: 32. Best value: 1.06362e+09:   1%|          | 9/1000 [40:28<76:18:55, 277.23s/it]"
     ]
    },
    {
     "name": "stdout",
     "output_type": "stream",
     "text": [
      "[I 2024-12-03 20:35:40,527] Trial 34 finished with value: 1060507000.0 and parameters: {'num_leaves': 100, 'learning_rate': 0.036167948532859207, 'min_data_in_leaf': 1257, 'feature_fraction': 0.38165166833410075, 'bagging_fraction': 0.6621560238187076}. Best is trial 32 with value: 1063615000.0.\n"
     ]
    },
    {
     "name": "stderr",
     "output_type": "stream",
     "text": [
      "Best trial: 32. Best value: 1.06362e+09:   1%|          | 10/1000 [45:19<77:28:29, 281.73s/it]"
     ]
    },
    {
     "name": "stdout",
     "output_type": "stream",
     "text": [
      "[I 2024-12-03 20:40:32,321] Trial 35 finished with value: 937153000.0 and parameters: {'num_leaves': 100, 'learning_rate': 0.21565774150812717, 'min_data_in_leaf': 1172, 'feature_fraction': 0.3845345698020338, 'bagging_fraction': 0.6709442378756295}. Best is trial 32 with value: 1063615000.0.\n"
     ]
    },
    {
     "name": "stderr",
     "output_type": "stream",
     "text": [
      "Best trial: 32. Best value: 1.06362e+09:   1%|          | 11/1000 [49:26<74:28:12, 271.07s/it]"
     ]
    },
    {
     "name": "stdout",
     "output_type": "stream",
     "text": [
      "[I 2024-12-03 20:44:39,243] Trial 36 finished with value: 1045933000.0 and parameters: {'num_leaves': 89, 'learning_rate': 0.07566907741360861, 'min_data_in_leaf': 1247, 'feature_fraction': 0.20298689610702736, 'bagging_fraction': 0.7523885568957189}. Best is trial 32 with value: 1063615000.0.\n"
     ]
    },
    {
     "name": "stderr",
     "output_type": "stream",
     "text": [
      "Best trial: 32. Best value: 1.06362e+09:   1%|          | 12/1000 [54:52<78:57:09, 287.68s/it]"
     ]
    },
    {
     "name": "stdout",
     "output_type": "stream",
     "text": [
      "[I 2024-12-03 20:50:04,908] Trial 37 finished with value: 1052499000.0 and parameters: {'num_leaves': 96, 'learning_rate': 0.04161855202796315, 'min_data_in_leaf': 1098, 'feature_fraction': 0.5066685083538883, 'bagging_fraction': 0.5418258961897614}. Best is trial 32 with value: 1063615000.0.\n"
     ]
    },
    {
     "name": "stderr",
     "output_type": "stream",
     "text": [
      "Best trial: 32. Best value: 1.06362e+09:   1%|▏         | 13/1000 [58:34<73:26:56, 267.90s/it]"
     ]
    },
    {
     "name": "stdout",
     "output_type": "stream",
     "text": [
      "[I 2024-12-03 20:53:47,286] Trial 38 finished with value: 1026067000.0 and parameters: {'num_leaves': 88, 'learning_rate': 0.021360224689828566, 'min_data_in_leaf': 1599, 'feature_fraction': 0.10980123347199414, 'bagging_fraction': 0.8063920718681368}. Best is trial 32 with value: 1063615000.0.\n"
     ]
    },
    {
     "name": "stderr",
     "output_type": "stream",
     "text": [
      "Best trial: 32. Best value: 1.06362e+09:   1%|▏         | 14/1000 [1:03:40<76:29:02, 279.25s/it]"
     ]
    },
    {
     "name": "stdout",
     "output_type": "stream",
     "text": [
      "[I 2024-12-03 20:58:52,772] Trial 39 finished with value: 1020418000.0 and parameters: {'num_leaves': 77, 'learning_rate': 0.11558056775576964, 'min_data_in_leaf': 1456, 'feature_fraction': 0.46557055717186857, 'bagging_fraction': 0.4997746875102479}. Best is trial 32 with value: 1063615000.0.\n"
     ]
    },
    {
     "name": "stderr",
     "output_type": "stream",
     "text": [
      "Best trial: 32. Best value: 1.06362e+09:   2%|▏         | 15/1000 [1:09:05<80:11:25, 293.08s/it]"
     ]
    },
    {
     "name": "stdout",
     "output_type": "stream",
     "text": [
      "[I 2024-12-03 21:04:17,903] Trial 40 finished with value: 1035881000.0 and parameters: {'num_leaves': 95, 'learning_rate': 0.06966771262384137, 'min_data_in_leaf': 758, 'feature_fraction': 0.5602255691695979, 'bagging_fraction': 0.9370393396394294}. Best is trial 32 with value: 1063615000.0.\n"
     ]
    },
    {
     "name": "stderr",
     "output_type": "stream",
     "text": [
      "Best trial: 32. Best value: 1.06362e+09:   2%|▏         | 16/1000 [1:12:01<70:26:33, 257.72s/it]"
     ]
    },
    {
     "name": "stdout",
     "output_type": "stream",
     "text": [
      "[I 2024-12-03 21:07:13,494] Trial 41 finished with value: 1023400000.0 and parameters: {'num_leaves': 69, 'learning_rate': 0.09093629586231546, 'min_data_in_leaf': 1434, 'feature_fraction': 0.9869616805929816, 'bagging_fraction': 0.6772301906584326}. Best is trial 32 with value: 1063615000.0.\n"
     ]
    },
    {
     "name": "stderr",
     "output_type": "stream",
     "text": [
      "Best trial: 32. Best value: 1.06362e+09:   2%|▏         | 17/1000 [1:16:38<71:58:11, 263.57s/it]"
     ]
    },
    {
     "name": "stdout",
     "output_type": "stream",
     "text": [
      "[I 2024-12-03 21:11:50,684] Trial 42 finished with value: 1056545000.0 and parameters: {'num_leaves': 100, 'learning_rate': 0.039886621506386374, 'min_data_in_leaf': 1267, 'feature_fraction': 0.2828804660719703, 'bagging_fraction': 0.5934358590647661}. Best is trial 32 with value: 1063615000.0.\n"
     ]
    },
    {
     "name": "stderr",
     "output_type": "stream",
     "text": [
      "Best trial: 32. Best value: 1.06362e+09:   2%|▏         | 18/1000 [1:21:25<73:51:40, 270.77s/it]"
     ]
    },
    {
     "name": "stdout",
     "output_type": "stream",
     "text": [
      "[I 2024-12-03 21:16:38,226] Trial 43 finished with value: 1023085000.0 and parameters: {'num_leaves': 66, 'learning_rate': 0.010274979207664015, 'min_data_in_leaf': 1065, 'feature_fraction': 0.3537974119820199, 'bagging_fraction': 0.6327945608151733}. Best is trial 32 with value: 1063615000.0.\n"
     ]
    },
    {
     "name": "stderr",
     "output_type": "stream",
     "text": [
      "Best trial: 32. Best value: 1.06362e+09:   2%|▏         | 19/1000 [1:25:19<70:44:12, 259.58s/it]"
     ]
    },
    {
     "name": "stdout",
     "output_type": "stream",
     "text": [
      "[I 2024-12-03 21:20:31,743] Trial 44 finished with value: 1054956000.0 and parameters: {'num_leaves': 59, 'learning_rate': 0.043715447878308826, 'min_data_in_leaf': 1343, 'feature_fraction': 0.17209861117326591, 'bagging_fraction': 0.71728666213728}. Best is trial 32 with value: 1063615000.0.\n"
     ]
    },
    {
     "name": "stderr",
     "output_type": "stream",
     "text": [
      "Best trial: 32. Best value: 1.06362e+09:   2%|▏         | 20/1000 [1:29:56<72:07:49, 264.97s/it]"
     ]
    },
    {
     "name": "stdout",
     "output_type": "stream",
     "text": [
      "[I 2024-12-03 21:25:09,261] Trial 45 finished with value: 1061886000.0 and parameters: {'num_leaves': 91, 'learning_rate': 0.029342346635057637, 'min_data_in_leaf': 1529, 'feature_fraction': 0.2865893274813246, 'bagging_fraction': 0.5786714266511599}. Best is trial 32 with value: 1063615000.0.\n"
     ]
    },
    {
     "name": "stderr",
     "output_type": "stream",
     "text": [
      "Best trial: 32. Best value: 1.06362e+09:   2%|▏         | 21/1000 [1:34:57<74:56:38, 275.59s/it]"
     ]
    },
    {
     "name": "stdout",
     "output_type": "stream",
     "text": [
      "[I 2024-12-03 21:30:09,600] Trial 46 finished with value: 1058736000.0 and parameters: {'num_leaves': 92, 'learning_rate': 0.023743029696830353, 'min_data_in_leaf': 1734, 'feature_fraction': 0.38065214948930093, 'bagging_fraction': 0.49128298750563404}. Best is trial 32 with value: 1063615000.0.\n"
     ]
    },
    {
     "name": "stderr",
     "output_type": "stream",
     "text": [
      "Best trial: 32. Best value: 1.06362e+09:   2%|▏         | 22/1000 [1:39:12<73:14:51, 269.62s/it]"
     ]
    },
    {
     "name": "stdout",
     "output_type": "stream",
     "text": [
      "[I 2024-12-03 21:34:25,317] Trial 47 finished with value: 1009771000.0 and parameters: {'num_leaves': 87, 'learning_rate': 0.009057964223927944, 'min_data_in_leaf': 1527, 'feature_fraction': 0.21819050003899154, 'bagging_fraction': 0.5629365766825494}. Best is trial 32 with value: 1063615000.0.\n"
     ]
    },
    {
     "name": "stderr",
     "output_type": "stream",
     "text": [
      "Best trial: 32. Best value: 1.06362e+09:   2%|▏         | 23/1000 [1:43:47<73:35:52, 271.19s/it]"
     ]
    },
    {
     "name": "stdout",
     "output_type": "stream",
     "text": [
      "[I 2024-12-03 21:39:00,160] Trial 48 finished with value: 1044813000.0 and parameters: {'num_leaves': 80, 'learning_rate': 0.052686968317199934, 'min_data_in_leaf': 1127, 'feature_fraction': 0.32010182072366217, 'bagging_fraction': 0.7071853790368856}. Best is trial 32 with value: 1063615000.0.\n"
     ]
    },
    {
     "name": "stderr",
     "output_type": "stream",
     "text": [
      "Best trial: 32. Best value: 1.06362e+09:   2%|▏         | 24/1000 [1:47:39<70:18:08, 259.31s/it]"
     ]
    },
    {
     "name": "stdout",
     "output_type": "stream",
     "text": [
      "[I 2024-12-03 21:42:51,766] Trial 49 finished with value: 937713000.0 and parameters: {'num_leaves': 93, 'learning_rate': 0.20830200529916088, 'min_data_in_leaf': 973, 'feature_fraction': 0.15023524987588385, 'bagging_fraction': 0.6614081526509461}. Best is trial 32 with value: 1063615000.0.\n"
     ]
    },
    {
     "name": "stderr",
     "output_type": "stream",
     "text": [
      "Best trial: 32. Best value: 1.06362e+09:   2%|▎         | 25/1000 [1:52:27<72:34:20, 267.96s/it]"
     ]
    },
    {
     "name": "stdout",
     "output_type": "stream",
     "text": [
      "[I 2024-12-03 21:47:39,898] Trial 50 finished with value: 871374000.0 and parameters: {'num_leaves': 97, 'learning_rate': 0.29897601600864243, 'min_data_in_leaf': 1573, 'feature_fraction': 0.3511834721636201, 'bagging_fraction': 0.40352582269894877}. Best is trial 32 with value: 1063615000.0.\n"
     ]
    },
    {
     "name": "stderr",
     "output_type": "stream",
     "text": [
      "Best trial: 32. Best value: 1.06362e+09:   3%|▎         | 26/1000 [1:56:51<72:09:17, 266.69s/it]"
     ]
    },
    {
     "name": "stdout",
     "output_type": "stream",
     "text": [
      "[I 2024-12-03 21:52:03,629] Trial 51 finished with value: 1003772000.0 and parameters: {'num_leaves': 85, 'learning_rate': 0.150047235183733, 'min_data_in_leaf': 1427, 'feature_fraction': 0.26050557940571406, 'bagging_fraction': 0.5736588762470596}. Best is trial 32 with value: 1063615000.0.\n"
     ]
    },
    {
     "name": "stderr",
     "output_type": "stream",
     "text": [
      "Best trial: 32. Best value: 1.06362e+09:   3%|▎         | 27/1000 [2:01:40<73:56:25, 273.57s/it]"
     ]
    },
    {
     "name": "stdout",
     "output_type": "stream",
     "text": [
      "[I 2024-12-03 21:56:53,255] Trial 52 finished with value: 1055341000.0 and parameters: {'num_leaves': 72, 'learning_rate': 0.025743535092567483, 'min_data_in_leaf': 1288, 'feature_fraction': 0.2789011777738908, 'bagging_fraction': 0.6087354285332655}. Best is trial 32 with value: 1063615000.0.\n"
     ]
    },
    {
     "name": "stderr",
     "output_type": "stream",
     "text": [
      "Best trial: 32. Best value: 1.06362e+09:   3%|▎         | 28/1000 [2:05:57<72:28:02, 268.40s/it]"
     ]
    },
    {
     "name": "stdout",
     "output_type": "stream",
     "text": [
      "[I 2024-12-03 22:01:09,580] Trial 53 finished with value: 1054060000.0 and parameters: {'num_leaves': 47, 'learning_rate': 0.03277943328083774, 'min_data_in_leaf': 1687, 'feature_fraction': 0.21616272031123257, 'bagging_fraction': 0.6411284800352517}. Best is trial 32 with value: 1063615000.0.\n"
     ]
    },
    {
     "name": "stderr",
     "output_type": "stream",
     "text": [
      "Best trial: 32. Best value: 1.06362e+09:   3%|▎         | 29/1000 [2:10:40<73:35:28, 272.84s/it]"
     ]
    },
    {
     "name": "stdout",
     "output_type": "stream",
     "text": [
      "[I 2024-12-03 22:05:52,788] Trial 54 finished with value: 1056041000.0 and parameters: {'num_leaves': 78, 'learning_rate': 0.06488235227044777, 'min_data_in_leaf': 1426, 'feature_fraction': 0.3167028000781095, 'bagging_fraction': 0.5180589819529549}. Best is trial 32 with value: 1063615000.0.\n"
     ]
    },
    {
     "name": "stderr",
     "output_type": "stream",
     "text": [
      "Best trial: 32. Best value: 1.06362e+09:   3%|▎         | 30/1000 [2:13:34<65:33:44, 243.32s/it]"
     ]
    },
    {
     "name": "stdout",
     "output_type": "stream",
     "text": [
      "[I 2024-12-03 22:08:47,244] Trial 55 finished with value: 1046024000.0 and parameters: {'num_leaves': 52, 'learning_rate': 0.05012678187308783, 'min_data_in_leaf': 1208, 'feature_fraction': 0.7531997804516499, 'bagging_fraction': 0.60661740801336}. Best is trial 32 with value: 1063615000.0.\n"
     ]
    },
    {
     "name": "stderr",
     "output_type": "stream",
     "text": [
      "Best trial: 32. Best value: 1.06362e+09:   3%|▎         | 31/1000 [2:18:35<70:05:57, 260.43s/it]"
     ]
    },
    {
     "name": "stdout",
     "output_type": "stream",
     "text": [
      "[I 2024-12-03 22:13:47,588] Trial 56 finished with value: 1046143000.0 and parameters: {'num_leaves': 41, 'learning_rate': 0.030731720536439258, 'min_data_in_leaf': 1814, 'feature_fraction': 0.43837647283039705, 'bagging_fraction': 0.759176008583989}. Best is trial 32 with value: 1063615000.0.\n"
     ]
    },
    {
     "name": "stderr",
     "output_type": "stream",
     "text": [
      "Best trial: 32. Best value: 1.06362e+09:   3%|▎         | 32/1000 [2:22:47<69:22:29, 258.01s/it]"
     ]
    },
    {
     "name": "stdout",
     "output_type": "stream",
     "text": [
      "[I 2024-12-03 22:17:59,936] Trial 57 finished with value: 971712000.0 and parameters: {'num_leaves': 34, 'learning_rate': 0.0067676177517349626, 'min_data_in_leaf': 1318, 'feature_fraction': 0.23751715192497536, 'bagging_fraction': 0.6835393789943506}. Best is trial 32 with value: 1063615000.0.\n"
     ]
    },
    {
     "name": "stderr",
     "output_type": "stream",
     "text": [
      "Best trial: 32. Best value: 1.06362e+09:   3%|▎         | 33/1000 [2:27:48<72:47:54, 271.02s/it]"
     ]
    },
    {
     "name": "stdout",
     "output_type": "stream",
     "text": [
      "[I 2024-12-03 22:23:01,317] Trial 58 finished with value: 1051316000.0 and parameters: {'num_leaves': 92, 'learning_rate': 0.015543158236764755, 'min_data_in_leaf': 900, 'feature_fraction': 0.34405032098781624, 'bagging_fraction': 0.577760228503972}. Best is trial 32 with value: 1063615000.0.\n"
     ]
    },
    {
     "name": "stderr",
     "output_type": "stream",
     "text": [
      "Best trial: 32. Best value: 1.06362e+09:   3%|▎         | 34/1000 [2:31:43<69:45:06, 259.94s/it]"
     ]
    },
    {
     "name": "stdout",
     "output_type": "stream",
     "text": [
      "[I 2024-12-03 22:26:55,418] Trial 59 finished with value: 1039913000.0 and parameters: {'num_leaves': 66, 'learning_rate': 0.0504288005933465, 'min_data_in_leaf': 1390, 'feature_fraction': 0.14267508191315348, 'bagging_fraction': 0.6370722603506112}. Best is trial 32 with value: 1063615000.0.\n"
     ]
    },
    {
     "name": "stderr",
     "output_type": "stream",
     "text": [
      "Best trial: 32. Best value: 1.06362e+09:   4%|▎         | 35/1000 [2:36:44<73:02:54, 272.51s/it]"
     ]
    },
    {
     "name": "stdout",
     "output_type": "stream",
     "text": [
      "[I 2024-12-03 22:31:57,262] Trial 60 finished with value: 910140000.0 and parameters: {'num_leaves': 98, 'learning_rate': 0.24791169147046024, 'min_data_in_leaf': 1538, 'feature_fraction': 0.40027794727121147, 'bagging_fraction': 0.2882620631126843}. Best is trial 32 with value: 1063615000.0.\n"
     ]
    },
    {
     "name": "stderr",
     "output_type": "stream",
     "text": [
      "Best trial: 32. Best value: 1.06362e+09:   4%|▎         | 36/1000 [2:41:19<73:08:47, 273.16s/it]"
     ]
    },
    {
     "name": "stdout",
     "output_type": "stream",
     "text": [
      "[I 2024-12-03 22:36:31,936] Trial 61 finished with value: 1014622000.0 and parameters: {'num_leaves': 9, 'learning_rate': 0.08423683512624025, 'min_data_in_leaf': 1480, 'feature_fraction': 0.465144288781182, 'bagging_fraction': 0.8392285372577575}. Best is trial 32 with value: 1063615000.0.\n"
     ]
    },
    {
     "name": "stderr",
     "output_type": "stream",
     "text": [
      "Best trial: 32. Best value: 1.06362e+09:   4%|▎         | 37/1000 [2:46:16<75:00:17, 280.39s/it]"
     ]
    },
    {
     "name": "stdout",
     "output_type": "stream",
     "text": [
      "[I 2024-12-03 22:41:29,201] Trial 62 finished with value: 1059597000.0 and parameters: {'num_leaves': 92, 'learning_rate': 0.02646486664841988, 'min_data_in_leaf': 1740, 'feature_fraction': 0.37084075661750504, 'bagging_fraction': 0.4767511589371511}. Best is trial 32 with value: 1063615000.0.\n"
     ]
    },
    {
     "name": "stderr",
     "output_type": "stream",
     "text": [
      "Best trial: 32. Best value: 1.06362e+09:   4%|▍         | 38/1000 [2:50:49<74:20:49, 278.22s/it]"
     ]
    },
    {
     "name": "stdout",
     "output_type": "stream",
     "text": [
      "[I 2024-12-03 22:46:02,360] Trial 63 finished with value: 1050868000.0 and parameters: {'num_leaves': 91, 'learning_rate': 0.06263329940059731, 'min_data_in_leaf': 1629, 'feature_fraction': 0.2844343715102204, 'bagging_fraction': 0.41845065083252375}. Best is trial 32 with value: 1063615000.0.\n"
     ]
    },
    {
     "name": "stderr",
     "output_type": "stream",
     "text": [
      "Best trial: 32. Best value: 1.06362e+09:   4%|▍         | 39/1000 [2:55:45<75:37:30, 283.30s/it]"
     ]
    },
    {
     "name": "stdout",
     "output_type": "stream",
     "text": [
      "[I 2024-12-03 22:50:57,505] Trial 64 finished with value: 1049860000.0 and parameters: {'num_leaves': 81, 'learning_rate': 0.016315999112739368, 'min_data_in_leaf': 1804, 'feature_fraction': 0.36694324002095036, 'bagging_fraction': 0.4983405985592666}. Best is trial 32 with value: 1063615000.0.\n"
     ]
    },
    {
     "name": "stderr",
     "output_type": "stream",
     "text": [
      "Best trial: 32. Best value: 1.06362e+09:   4%|▍         | 40/1000 [3:00:33<75:55:26, 284.72s/it]"
     ]
    },
    {
     "name": "stdout",
     "output_type": "stream",
     "text": [
      "[I 2024-12-03 22:55:45,526] Trial 65 finished with value: 1063181000.0 and parameters: {'num_leaves': 95, 'learning_rate': 0.02835794813968866, 'min_data_in_leaf': 1922, 'feature_fraction': 0.3231482795368342, 'bagging_fraction': 0.5460391946870587}. Best is trial 32 with value: 1063615000.0.\n"
     ]
    },
    {
     "name": "stderr",
     "output_type": "stream",
     "text": [
      "Best trial: 32. Best value: 1.06362e+09:   4%|▍         | 41/1000 [3:05:07<75:00:41, 281.59s/it]"
     ]
    },
    {
     "name": "stdout",
     "output_type": "stream",
     "text": [
      "[I 2024-12-03 23:00:19,811] Trial 66 finished with value: 1016792000.0 and parameters: {'num_leaves': 15, 'learning_rate': 0.046099228038009296, 'min_data_in_leaf': 1928, 'feature_fraction': 0.4054771518106261, 'bagging_fraction': 0.46715026425653144}. Best is trial 32 with value: 1063615000.0.\n"
     ]
    },
    {
     "name": "stderr",
     "output_type": "stream",
     "text": [
      "Best trial: 67. Best value: 1.06636e+09:   4%|▍         | 42/1000 [3:09:40<74:14:06, 278.96s/it]"
     ]
    },
    {
     "name": "stdout",
     "output_type": "stream",
     "text": [
      "[I 2024-12-03 23:04:52,654] Trial 67 finished with value: 1066359000.0 and parameters: {'num_leaves': 95, 'learning_rate': 0.03003119339141502, 'min_data_in_leaf': 1987, 'feature_fraction': 0.5975599571135087, 'bagging_fraction': 0.7301155242035579}. Best is trial 67 with value: 1066359000.0.\n"
     ]
    },
    {
     "name": "stderr",
     "output_type": "stream",
     "text": [
      "Best trial: 67. Best value: 1.06636e+09:   4%|▍         | 43/1000 [3:13:12<68:51:13, 259.01s/it]"
     ]
    },
    {
     "name": "stdout",
     "output_type": "stream",
     "text": [
      "[I 2024-12-03 23:08:25,109] Trial 68 finished with value: 1044869000.0 and parameters: {'num_leaves': 95, 'learning_rate': 0.05864272212476544, 'min_data_in_leaf': 1919, 'feature_fraction': 0.6550908242294351, 'bagging_fraction': 0.3557925989374018}. Best is trial 67 with value: 1066359000.0.\n"
     ]
    },
    {
     "name": "stderr",
     "output_type": "stream",
     "text": [
      "Best trial: 67. Best value: 1.06636e+09:   4%|▍         | 44/1000 [3:16:45<65:03:56, 245.02s/it]"
     ]
    },
    {
     "name": "stdout",
     "output_type": "stream",
     "text": [
      "[I 2024-12-03 23:11:57,476] Trial 69 finished with value: 942340000.0 and parameters: {'num_leaves': 86, 'learning_rate': 0.0006536346699694551, 'min_data_in_leaf': 1992, 'feature_fraction': 0.6358812265131721, 'bagging_fraction': 0.5488236108741257}. Best is trial 67 with value: 1066359000.0.\n"
     ]
    },
    {
     "name": "stderr",
     "output_type": "stream",
     "text": [
      "Best trial: 67. Best value: 1.06636e+09:   4%|▍         | 45/1000 [3:20:12<62:00:53, 233.77s/it]"
     ]
    },
    {
     "name": "stdout",
     "output_type": "stream",
     "text": [
      "[I 2024-12-03 23:15:25,011] Trial 70 finished with value: 1051953000.0 and parameters: {'num_leaves': 90, 'learning_rate': 0.03189030168584606, 'min_data_in_leaf': 1858, 'feature_fraction': 0.7528134184980095, 'bagging_fraction': 0.7391691055083947}. Best is trial 67 with value: 1066359000.0.\n"
     ]
    },
    {
     "name": "stderr",
     "output_type": "stream",
     "text": [
      "Best trial: 67. Best value: 1.06636e+09:   5%|▍         | 46/1000 [3:25:43<69:38:26, 262.80s/it]"
     ]
    },
    {
     "name": "stdout",
     "output_type": "stream",
     "text": [
      "[I 2024-12-03 23:20:55,525] Trial 71 finished with value: 1018381000.0 and parameters: {'num_leaves': 94, 'learning_rate': 0.10152379555926827, 'min_data_in_leaf': 1737, 'feature_fraction': 0.5252745894547806, 'bagging_fraction': 0.7904104403330188}. Best is trial 67 with value: 1066359000.0.\n"
     ]
    },
    {
     "name": "stderr",
     "output_type": "stream",
     "text": [
      "Best trial: 67. Best value: 1.06636e+09:   5%|▍         | 47/1000 [3:30:36<71:59:10, 271.93s/it]"
     ]
    },
    {
     "name": "stdout",
     "output_type": "stream",
     "text": [
      "[I 2024-12-03 23:25:48,772] Trial 72 finished with value: 1059233000.0 and parameters: {'num_leaves': 100, 'learning_rate': 0.025798332132938695, 'min_data_in_leaf': 1689, 'feature_fraction': 0.3244721994511911, 'bagging_fraction': 0.7040705253665712}. Best is trial 67 with value: 1066359000.0.\n"
     ]
    },
    {
     "name": "stderr",
     "output_type": "stream",
     "text": [
      "Best trial: 67. Best value: 1.06636e+09:   5%|▍         | 48/1000 [3:35:11<72:08:10, 272.78s/it]"
     ]
    },
    {
     "name": "stdout",
     "output_type": "stream",
     "text": [
      "[I 2024-12-03 23:30:23,547] Trial 73 finished with value: 1050672000.0 and parameters: {'num_leaves': 97, 'learning_rate': 0.01701570644705747, 'min_data_in_leaf': 1948, 'feature_fraction': 0.254060483571675, 'bagging_fraction': 0.6501005349647355}. Best is trial 67 with value: 1066359000.0.\n"
     ]
    },
    {
     "name": "stderr",
     "output_type": "stream",
     "text": [
      "Best trial: 67. Best value: 1.06636e+09:   5%|▍         | 49/1000 [3:39:53<72:49:46, 275.70s/it]"
     ]
    },
    {
     "name": "stdout",
     "output_type": "stream",
     "text": [
      "[I 2024-12-03 23:35:06,035] Trial 74 finished with value: 1066247000.0 and parameters: {'num_leaves': 88, 'learning_rate': 0.03575281068068746, 'min_data_in_leaf': 1655, 'feature_fraction': 0.30792303498719187, 'bagging_fraction': 0.5304012372045728}. Best is trial 67 with value: 1066359000.0.\n"
     ]
    },
    {
     "name": "stderr",
     "output_type": "stream",
     "text": [
      "Best trial: 67. Best value: 1.06636e+09:   5%|▌         | 50/1000 [3:45:23<77:04:30, 292.07s/it]"
     ]
    },
    {
     "name": "stdout",
     "output_type": "stream",
     "text": [
      "[I 2024-12-03 23:40:36,325] Trial 75 finished with value: 1057448000.0 and parameters: {'num_leaves': 82, 'learning_rate': 0.042872955351649915, 'min_data_in_leaf': 1861, 'feature_fraction': 0.5395153243106896, 'bagging_fraction': 0.5198462694021941}. Best is trial 67 with value: 1066359000.0.\n"
     ]
    },
    {
     "name": "stderr",
     "output_type": "stream",
     "text": [
      "Best trial: 67. Best value: 1.06636e+09:   5%|▌         | 50/1000 [3:49:46<72:45:52, 275.74s/it]\n"
     ]
    },
    {
     "name": "stdout",
     "output_type": "stream",
     "text": [
      "[W 2024-12-03 23:44:59,418] Trial 76 failed with parameters: {'num_leaves': 87, 'learning_rate': 0.0692327849086722, 'min_data_in_leaf': 1763, 'feature_fraction': 0.48972299418286186, 'bagging_fraction': 0.5830477256755155} because of the following error: KeyboardInterrupt().\n",
      "Traceback (most recent call last):\n",
      "  File \"/home/n_alba_dscience/.venv/lib/python3.12/site-packages/optuna/study/_optimize.py\", line 197, in _run_trial\n",
      "    value_or_values = func(trial)\n",
      "                      ^^^^^^^^^^^\n",
      "  File \"/tmp/ipykernel_96311/2707597616.py\", line 42, in objective\n",
      "    cv_results = lgb.cv(\n",
      "                 ^^^^^^^\n",
      "  File \"/home/n_alba_dscience/.venv/lib/python3.12/site-packages/lightgbm/engine.py\", line 826, in cv\n",
      "    cvfolds.update(fobj=fobj)  # type: ignore[call-arg]\n",
      "    ^^^^^^^^^^^^^^^^^^^^^^^^^\n",
      "  File \"/home/n_alba_dscience/.venv/lib/python3.12/site-packages/lightgbm/engine.py\", line 402, in handler_function\n",
      "    ret.append(getattr(booster, name)(*args, **kwargs))\n",
      "               ^^^^^^^^^^^^^^^^^^^^^^^^^^^^^^^^^^^^^^^\n",
      "  File \"/home/n_alba_dscience/.venv/lib/python3.12/site-packages/lightgbm/basic.py\", line 4136, in update\n",
      "    _LIB.LGBM_BoosterUpdateOneIter(\n",
      "KeyboardInterrupt\n",
      "[W 2024-12-03 23:44:59,424] Trial 76 failed with value None.\n"
     ]
    },
    {
     "ename": "KeyboardInterrupt",
     "evalue": "",
     "output_type": "error",
     "traceback": [
      "\u001b[0;31m---------------------------------------------------------------------------\u001b[0m",
      "\u001b[0;31mKeyboardInterrupt\u001b[0m                         Traceback (most recent call last)",
      "Cell \u001b[0;32mIn[21], line 82\u001b[0m\n\u001b[1;32m     74\u001b[0m study \u001b[38;5;241m=\u001b[39m optuna\u001b[38;5;241m.\u001b[39mcreate_study(\n\u001b[1;32m     75\u001b[0m     direction\u001b[38;5;241m=\u001b[39m\u001b[38;5;124m\"\u001b[39m\u001b[38;5;124mmaximize\u001b[39m\u001b[38;5;124m\"\u001b[39m,\n\u001b[1;32m     76\u001b[0m     study_name\u001b[38;5;241m=\u001b[39mstudy_name,\n\u001b[1;32m     77\u001b[0m     storage\u001b[38;5;241m=\u001b[39mstorage_name,\n\u001b[1;32m     78\u001b[0m     load_if_exists\u001b[38;5;241m=\u001b[39m\u001b[38;5;28;01mTrue\u001b[39;00m,\n\u001b[1;32m     79\u001b[0m )\n\u001b[1;32m     81\u001b[0m \u001b[38;5;66;03m# Optimizar el estudio con el callback personalizado\u001b[39;00m\n\u001b[0;32m---> 82\u001b[0m \u001b[43mstudy\u001b[49m\u001b[38;5;241;43m.\u001b[39;49m\u001b[43moptimize\u001b[49m\u001b[43m(\u001b[49m\u001b[43mobjective\u001b[49m\u001b[43m,\u001b[49m\u001b[43m \u001b[49m\u001b[43mn_trials\u001b[49m\u001b[38;5;241;43m=\u001b[39;49m\u001b[38;5;241;43m1000\u001b[39;49m\u001b[43m,\u001b[49m\u001b[43m \u001b[49m\u001b[43mshow_progress_bar\u001b[49m\u001b[38;5;241;43m=\u001b[39;49m\u001b[38;5;28;43;01mTrue\u001b[39;49;00m\u001b[43m)\u001b[49m\n",
      "File \u001b[0;32m~/.venv/lib/python3.12/site-packages/optuna/study/study.py:475\u001b[0m, in \u001b[0;36mStudy.optimize\u001b[0;34m(self, func, n_trials, timeout, n_jobs, catch, callbacks, gc_after_trial, show_progress_bar)\u001b[0m\n\u001b[1;32m    373\u001b[0m \u001b[38;5;28;01mdef\u001b[39;00m \u001b[38;5;21moptimize\u001b[39m(\n\u001b[1;32m    374\u001b[0m     \u001b[38;5;28mself\u001b[39m,\n\u001b[1;32m    375\u001b[0m     func: ObjectiveFuncType,\n\u001b[0;32m   (...)\u001b[0m\n\u001b[1;32m    382\u001b[0m     show_progress_bar: \u001b[38;5;28mbool\u001b[39m \u001b[38;5;241m=\u001b[39m \u001b[38;5;28;01mFalse\u001b[39;00m,\n\u001b[1;32m    383\u001b[0m ) \u001b[38;5;241m-\u001b[39m\u001b[38;5;241m>\u001b[39m \u001b[38;5;28;01mNone\u001b[39;00m:\n\u001b[1;32m    384\u001b[0m \u001b[38;5;250m    \u001b[39m\u001b[38;5;124;03m\"\"\"Optimize an objective function.\u001b[39;00m\n\u001b[1;32m    385\u001b[0m \n\u001b[1;32m    386\u001b[0m \u001b[38;5;124;03m    Optimization is done by choosing a suitable set of hyperparameter values from a given\u001b[39;00m\n\u001b[0;32m   (...)\u001b[0m\n\u001b[1;32m    473\u001b[0m \u001b[38;5;124;03m            If nested invocation of this method occurs.\u001b[39;00m\n\u001b[1;32m    474\u001b[0m \u001b[38;5;124;03m    \"\"\"\u001b[39;00m\n\u001b[0;32m--> 475\u001b[0m     \u001b[43m_optimize\u001b[49m\u001b[43m(\u001b[49m\n\u001b[1;32m    476\u001b[0m \u001b[43m        \u001b[49m\u001b[43mstudy\u001b[49m\u001b[38;5;241;43m=\u001b[39;49m\u001b[38;5;28;43mself\u001b[39;49m\u001b[43m,\u001b[49m\n\u001b[1;32m    477\u001b[0m \u001b[43m        \u001b[49m\u001b[43mfunc\u001b[49m\u001b[38;5;241;43m=\u001b[39;49m\u001b[43mfunc\u001b[49m\u001b[43m,\u001b[49m\n\u001b[1;32m    478\u001b[0m \u001b[43m        \u001b[49m\u001b[43mn_trials\u001b[49m\u001b[38;5;241;43m=\u001b[39;49m\u001b[43mn_trials\u001b[49m\u001b[43m,\u001b[49m\n\u001b[1;32m    479\u001b[0m \u001b[43m        \u001b[49m\u001b[43mtimeout\u001b[49m\u001b[38;5;241;43m=\u001b[39;49m\u001b[43mtimeout\u001b[49m\u001b[43m,\u001b[49m\n\u001b[1;32m    480\u001b[0m \u001b[43m        \u001b[49m\u001b[43mn_jobs\u001b[49m\u001b[38;5;241;43m=\u001b[39;49m\u001b[43mn_jobs\u001b[49m\u001b[43m,\u001b[49m\n\u001b[1;32m    481\u001b[0m \u001b[43m        \u001b[49m\u001b[43mcatch\u001b[49m\u001b[38;5;241;43m=\u001b[39;49m\u001b[38;5;28;43mtuple\u001b[39;49m\u001b[43m(\u001b[49m\u001b[43mcatch\u001b[49m\u001b[43m)\u001b[49m\u001b[43m \u001b[49m\u001b[38;5;28;43;01mif\u001b[39;49;00m\u001b[43m \u001b[49m\u001b[38;5;28;43misinstance\u001b[39;49m\u001b[43m(\u001b[49m\u001b[43mcatch\u001b[49m\u001b[43m,\u001b[49m\u001b[43m \u001b[49m\u001b[43mIterable\u001b[49m\u001b[43m)\u001b[49m\u001b[43m \u001b[49m\u001b[38;5;28;43;01melse\u001b[39;49;00m\u001b[43m \u001b[49m\u001b[43m(\u001b[49m\u001b[43mcatch\u001b[49m\u001b[43m,\u001b[49m\u001b[43m)\u001b[49m\u001b[43m,\u001b[49m\n\u001b[1;32m    482\u001b[0m \u001b[43m        \u001b[49m\u001b[43mcallbacks\u001b[49m\u001b[38;5;241;43m=\u001b[39;49m\u001b[43mcallbacks\u001b[49m\u001b[43m,\u001b[49m\n\u001b[1;32m    483\u001b[0m \u001b[43m        \u001b[49m\u001b[43mgc_after_trial\u001b[49m\u001b[38;5;241;43m=\u001b[39;49m\u001b[43mgc_after_trial\u001b[49m\u001b[43m,\u001b[49m\n\u001b[1;32m    484\u001b[0m \u001b[43m        \u001b[49m\u001b[43mshow_progress_bar\u001b[49m\u001b[38;5;241;43m=\u001b[39;49m\u001b[43mshow_progress_bar\u001b[49m\u001b[43m,\u001b[49m\n\u001b[1;32m    485\u001b[0m \u001b[43m    \u001b[49m\u001b[43m)\u001b[49m\n",
      "File \u001b[0;32m~/.venv/lib/python3.12/site-packages/optuna/study/_optimize.py:63\u001b[0m, in \u001b[0;36m_optimize\u001b[0;34m(study, func, n_trials, timeout, n_jobs, catch, callbacks, gc_after_trial, show_progress_bar)\u001b[0m\n\u001b[1;32m     61\u001b[0m \u001b[38;5;28;01mtry\u001b[39;00m:\n\u001b[1;32m     62\u001b[0m     \u001b[38;5;28;01mif\u001b[39;00m n_jobs \u001b[38;5;241m==\u001b[39m \u001b[38;5;241m1\u001b[39m:\n\u001b[0;32m---> 63\u001b[0m         \u001b[43m_optimize_sequential\u001b[49m\u001b[43m(\u001b[49m\n\u001b[1;32m     64\u001b[0m \u001b[43m            \u001b[49m\u001b[43mstudy\u001b[49m\u001b[43m,\u001b[49m\n\u001b[1;32m     65\u001b[0m \u001b[43m            \u001b[49m\u001b[43mfunc\u001b[49m\u001b[43m,\u001b[49m\n\u001b[1;32m     66\u001b[0m \u001b[43m            \u001b[49m\u001b[43mn_trials\u001b[49m\u001b[43m,\u001b[49m\n\u001b[1;32m     67\u001b[0m \u001b[43m            \u001b[49m\u001b[43mtimeout\u001b[49m\u001b[43m,\u001b[49m\n\u001b[1;32m     68\u001b[0m \u001b[43m            \u001b[49m\u001b[43mcatch\u001b[49m\u001b[43m,\u001b[49m\n\u001b[1;32m     69\u001b[0m \u001b[43m            \u001b[49m\u001b[43mcallbacks\u001b[49m\u001b[43m,\u001b[49m\n\u001b[1;32m     70\u001b[0m \u001b[43m            \u001b[49m\u001b[43mgc_after_trial\u001b[49m\u001b[43m,\u001b[49m\n\u001b[1;32m     71\u001b[0m \u001b[43m            \u001b[49m\u001b[43mreseed_sampler_rng\u001b[49m\u001b[38;5;241;43m=\u001b[39;49m\u001b[38;5;28;43;01mFalse\u001b[39;49;00m\u001b[43m,\u001b[49m\n\u001b[1;32m     72\u001b[0m \u001b[43m            \u001b[49m\u001b[43mtime_start\u001b[49m\u001b[38;5;241;43m=\u001b[39;49m\u001b[38;5;28;43;01mNone\u001b[39;49;00m\u001b[43m,\u001b[49m\n\u001b[1;32m     73\u001b[0m \u001b[43m            \u001b[49m\u001b[43mprogress_bar\u001b[49m\u001b[38;5;241;43m=\u001b[39;49m\u001b[43mprogress_bar\u001b[49m\u001b[43m,\u001b[49m\n\u001b[1;32m     74\u001b[0m \u001b[43m        \u001b[49m\u001b[43m)\u001b[49m\n\u001b[1;32m     75\u001b[0m     \u001b[38;5;28;01melse\u001b[39;00m:\n\u001b[1;32m     76\u001b[0m         \u001b[38;5;28;01mif\u001b[39;00m n_jobs \u001b[38;5;241m==\u001b[39m \u001b[38;5;241m-\u001b[39m\u001b[38;5;241m1\u001b[39m:\n",
      "File \u001b[0;32m~/.venv/lib/python3.12/site-packages/optuna/study/_optimize.py:160\u001b[0m, in \u001b[0;36m_optimize_sequential\u001b[0;34m(study, func, n_trials, timeout, catch, callbacks, gc_after_trial, reseed_sampler_rng, time_start, progress_bar)\u001b[0m\n\u001b[1;32m    157\u001b[0m         \u001b[38;5;28;01mbreak\u001b[39;00m\n\u001b[1;32m    159\u001b[0m \u001b[38;5;28;01mtry\u001b[39;00m:\n\u001b[0;32m--> 160\u001b[0m     frozen_trial \u001b[38;5;241m=\u001b[39m \u001b[43m_run_trial\u001b[49m\u001b[43m(\u001b[49m\u001b[43mstudy\u001b[49m\u001b[43m,\u001b[49m\u001b[43m \u001b[49m\u001b[43mfunc\u001b[49m\u001b[43m,\u001b[49m\u001b[43m \u001b[49m\u001b[43mcatch\u001b[49m\u001b[43m)\u001b[49m\n\u001b[1;32m    161\u001b[0m \u001b[38;5;28;01mfinally\u001b[39;00m:\n\u001b[1;32m    162\u001b[0m     \u001b[38;5;66;03m# The following line mitigates memory problems that can be occurred in some\u001b[39;00m\n\u001b[1;32m    163\u001b[0m     \u001b[38;5;66;03m# environments (e.g., services that use computing containers such as GitHub Actions).\u001b[39;00m\n\u001b[1;32m    164\u001b[0m     \u001b[38;5;66;03m# Please refer to the following PR for further details:\u001b[39;00m\n\u001b[1;32m    165\u001b[0m     \u001b[38;5;66;03m# https://github.com/optuna/optuna/pull/325.\u001b[39;00m\n\u001b[1;32m    166\u001b[0m     \u001b[38;5;28;01mif\u001b[39;00m gc_after_trial:\n",
      "File \u001b[0;32m~/.venv/lib/python3.12/site-packages/optuna/study/_optimize.py:248\u001b[0m, in \u001b[0;36m_run_trial\u001b[0;34m(study, func, catch)\u001b[0m\n\u001b[1;32m    241\u001b[0m         \u001b[38;5;28;01massert\u001b[39;00m \u001b[38;5;28;01mFalse\u001b[39;00m, \u001b[38;5;124m\"\u001b[39m\u001b[38;5;124mShould not reach.\u001b[39m\u001b[38;5;124m\"\u001b[39m\n\u001b[1;32m    243\u001b[0m \u001b[38;5;28;01mif\u001b[39;00m (\n\u001b[1;32m    244\u001b[0m     frozen_trial\u001b[38;5;241m.\u001b[39mstate \u001b[38;5;241m==\u001b[39m TrialState\u001b[38;5;241m.\u001b[39mFAIL\n\u001b[1;32m    245\u001b[0m     \u001b[38;5;129;01mand\u001b[39;00m func_err \u001b[38;5;129;01mis\u001b[39;00m \u001b[38;5;129;01mnot\u001b[39;00m \u001b[38;5;28;01mNone\u001b[39;00m\n\u001b[1;32m    246\u001b[0m     \u001b[38;5;129;01mand\u001b[39;00m \u001b[38;5;129;01mnot\u001b[39;00m \u001b[38;5;28misinstance\u001b[39m(func_err, catch)\n\u001b[1;32m    247\u001b[0m ):\n\u001b[0;32m--> 248\u001b[0m     \u001b[38;5;28;01mraise\u001b[39;00m func_err\n\u001b[1;32m    249\u001b[0m \u001b[38;5;28;01mreturn\u001b[39;00m frozen_trial\n",
      "File \u001b[0;32m~/.venv/lib/python3.12/site-packages/optuna/study/_optimize.py:197\u001b[0m, in \u001b[0;36m_run_trial\u001b[0;34m(study, func, catch)\u001b[0m\n\u001b[1;32m    195\u001b[0m \u001b[38;5;28;01mwith\u001b[39;00m get_heartbeat_thread(trial\u001b[38;5;241m.\u001b[39m_trial_id, study\u001b[38;5;241m.\u001b[39m_storage):\n\u001b[1;32m    196\u001b[0m     \u001b[38;5;28;01mtry\u001b[39;00m:\n\u001b[0;32m--> 197\u001b[0m         value_or_values \u001b[38;5;241m=\u001b[39m \u001b[43mfunc\u001b[49m\u001b[43m(\u001b[49m\u001b[43mtrial\u001b[49m\u001b[43m)\u001b[49m\n\u001b[1;32m    198\u001b[0m     \u001b[38;5;28;01mexcept\u001b[39;00m exceptions\u001b[38;5;241m.\u001b[39mTrialPruned \u001b[38;5;28;01mas\u001b[39;00m e:\n\u001b[1;32m    199\u001b[0m         \u001b[38;5;66;03m# TODO(mamu): Handle multi-objective cases.\u001b[39;00m\n\u001b[1;32m    200\u001b[0m         state \u001b[38;5;241m=\u001b[39m TrialState\u001b[38;5;241m.\u001b[39mPRUNED\n",
      "Cell \u001b[0;32mIn[21], line 42\u001b[0m, in \u001b[0;36mobjective\u001b[0;34m(trial)\u001b[0m\n\u001b[1;32m     20\u001b[0m params \u001b[38;5;241m=\u001b[39m {\n\u001b[1;32m     21\u001b[0m     \u001b[38;5;124m'\u001b[39m\u001b[38;5;124mobjective\u001b[39m\u001b[38;5;124m'\u001b[39m: \u001b[38;5;124m'\u001b[39m\u001b[38;5;124mbinary\u001b[39m\u001b[38;5;124m'\u001b[39m,\n\u001b[1;32m     22\u001b[0m     \u001b[38;5;124m'\u001b[39m\u001b[38;5;124mmetric\u001b[39m\u001b[38;5;124m'\u001b[39m: \u001b[38;5;124m'\u001b[39m\u001b[38;5;124mcustom\u001b[39m\u001b[38;5;124m'\u001b[39m, \n\u001b[0;32m   (...)\u001b[0m\n\u001b[1;32m     35\u001b[0m     \u001b[38;5;124m'\u001b[39m\u001b[38;5;124mverbose\u001b[39m\u001b[38;5;124m'\u001b[39m: \u001b[38;5;241m-\u001b[39m\u001b[38;5;241m1\u001b[39m\n\u001b[1;32m     36\u001b[0m }\n\u001b[1;32m     38\u001b[0m train_data \u001b[38;5;241m=\u001b[39m lgb\u001b[38;5;241m.\u001b[39mDataset(X_train,\n\u001b[1;32m     39\u001b[0m                          label\u001b[38;5;241m=\u001b[39mY_train,  \u001b[38;5;66;03m# elegir la clase\u001b[39;00m\n\u001b[1;32m     40\u001b[0m                          weight\u001b[38;5;241m=\u001b[39mw_train)\n\u001b[0;32m---> 42\u001b[0m cv_results \u001b[38;5;241m=\u001b[39m \u001b[43mlgb\u001b[49m\u001b[38;5;241;43m.\u001b[39;49m\u001b[43mcv\u001b[49m\u001b[43m(\u001b[49m\n\u001b[1;32m     43\u001b[0m \u001b[43m    \u001b[49m\u001b[43mparams\u001b[49m\u001b[43m,\u001b[49m\n\u001b[1;32m     44\u001b[0m \u001b[43m    \u001b[49m\u001b[43mtrain_data\u001b[49m\u001b[43m,\u001b[49m\n\u001b[1;32m     45\u001b[0m \u001b[43m    \u001b[49m\u001b[43mnum_boost_round\u001b[49m\u001b[38;5;241;43m=\u001b[39;49m\u001b[38;5;241;43m300\u001b[39;49m\u001b[43m,\u001b[49m\u001b[43m  \u001b[49m\u001b[38;5;66;43;03m# modificar, subir y subir... y descomentar la línea inferior\u001b[39;49;00m\n\u001b[1;32m     46\u001b[0m \u001b[43m    \u001b[49m\u001b[43mfeval\u001b[49m\u001b[38;5;241;43m=\u001b[39;49m\u001b[43mlgb_gan_eval\u001b[49m\u001b[43m,\u001b[49m\n\u001b[1;32m     47\u001b[0m \u001b[43m    \u001b[49m\u001b[43mstratified\u001b[49m\u001b[38;5;241;43m=\u001b[39;49m\u001b[38;5;28;43;01mTrue\u001b[39;49;00m\u001b[43m,\u001b[49m\n\u001b[1;32m     48\u001b[0m \u001b[43m    \u001b[49m\u001b[43mnfold\u001b[49m\u001b[38;5;241;43m=\u001b[39;49m\u001b[38;5;241;43m5\u001b[39;49m\u001b[43m,\u001b[49m\n\u001b[1;32m     49\u001b[0m \u001b[43m    \u001b[49m\u001b[43mseed\u001b[49m\u001b[38;5;241;43m=\u001b[39;49m\u001b[43msemillas\u001b[49m\u001b[43m[\u001b[49m\u001b[38;5;241;43m0\u001b[39;49m\u001b[43m]\u001b[49m\n\u001b[1;32m     50\u001b[0m \u001b[43m    \u001b[49m\n\u001b[1;32m     51\u001b[0m \u001b[43m\u001b[49m\u001b[43m)\u001b[49m\n\u001b[1;32m     53\u001b[0m max_gan \u001b[38;5;241m=\u001b[39m \u001b[38;5;28mmax\u001b[39m(cv_results[\u001b[38;5;124m'\u001b[39m\u001b[38;5;124mvalid gan_eval-mean\u001b[39m\u001b[38;5;124m'\u001b[39m])\n\u001b[1;32m     54\u001b[0m best_iter \u001b[38;5;241m=\u001b[39m cv_results[\u001b[38;5;124m'\u001b[39m\u001b[38;5;124mvalid gan_eval-mean\u001b[39m\u001b[38;5;124m'\u001b[39m]\u001b[38;5;241m.\u001b[39mindex(max_gan) \u001b[38;5;241m+\u001b[39m \u001b[38;5;241m1\u001b[39m\n",
      "File \u001b[0;32m~/.venv/lib/python3.12/site-packages/lightgbm/engine.py:826\u001b[0m, in \u001b[0;36mcv\u001b[0;34m(params, train_set, num_boost_round, folds, nfold, stratified, shuffle, metrics, feval, init_model, feature_name, categorical_feature, fpreproc, seed, callbacks, eval_train_metric, return_cvbooster)\u001b[0m\n\u001b[1;32m    815\u001b[0m \u001b[38;5;28;01mfor\u001b[39;00m cb \u001b[38;5;129;01min\u001b[39;00m callbacks_before_iter:\n\u001b[1;32m    816\u001b[0m     cb(\n\u001b[1;32m    817\u001b[0m         callback\u001b[38;5;241m.\u001b[39mCallbackEnv(\n\u001b[1;32m    818\u001b[0m             model\u001b[38;5;241m=\u001b[39mcvfolds,\n\u001b[0;32m   (...)\u001b[0m\n\u001b[1;32m    824\u001b[0m         )\n\u001b[1;32m    825\u001b[0m     )\n\u001b[0;32m--> 826\u001b[0m \u001b[43mcvfolds\u001b[49m\u001b[38;5;241;43m.\u001b[39;49m\u001b[43mupdate\u001b[49m\u001b[43m(\u001b[49m\u001b[43mfobj\u001b[49m\u001b[38;5;241;43m=\u001b[39;49m\u001b[43mfobj\u001b[49m\u001b[43m)\u001b[49m  \u001b[38;5;66;03m# type: ignore[call-arg]\u001b[39;00m\n\u001b[1;32m    827\u001b[0m res \u001b[38;5;241m=\u001b[39m _agg_cv_result(cvfolds\u001b[38;5;241m.\u001b[39meval_valid(feval))  \u001b[38;5;66;03m# type: ignore[call-arg]\u001b[39;00m\n\u001b[1;32m    828\u001b[0m \u001b[38;5;28;01mfor\u001b[39;00m _, key, mean, _, std \u001b[38;5;129;01min\u001b[39;00m res:\n",
      "File \u001b[0;32m~/.venv/lib/python3.12/site-packages/lightgbm/engine.py:402\u001b[0m, in \u001b[0;36mCVBooster.__getattr__.<locals>.handler_function\u001b[0;34m(*args, **kwargs)\u001b[0m\n\u001b[1;32m    400\u001b[0m ret \u001b[38;5;241m=\u001b[39m []\n\u001b[1;32m    401\u001b[0m \u001b[38;5;28;01mfor\u001b[39;00m booster \u001b[38;5;129;01min\u001b[39;00m \u001b[38;5;28mself\u001b[39m\u001b[38;5;241m.\u001b[39mboosters:\n\u001b[0;32m--> 402\u001b[0m     ret\u001b[38;5;241m.\u001b[39mappend(\u001b[38;5;28;43mgetattr\u001b[39;49m\u001b[43m(\u001b[49m\u001b[43mbooster\u001b[49m\u001b[43m,\u001b[49m\u001b[43m \u001b[49m\u001b[43mname\u001b[49m\u001b[43m)\u001b[49m\u001b[43m(\u001b[49m\u001b[38;5;241;43m*\u001b[39;49m\u001b[43margs\u001b[49m\u001b[43m,\u001b[49m\u001b[43m \u001b[49m\u001b[38;5;241;43m*\u001b[39;49m\u001b[38;5;241;43m*\u001b[39;49m\u001b[43mkwargs\u001b[49m\u001b[43m)\u001b[49m)\n\u001b[1;32m    403\u001b[0m \u001b[38;5;28;01mreturn\u001b[39;00m ret\n",
      "File \u001b[0;32m~/.venv/lib/python3.12/site-packages/lightgbm/basic.py:4136\u001b[0m, in \u001b[0;36mBooster.update\u001b[0;34m(self, train_set, fobj)\u001b[0m\n\u001b[1;32m   4133\u001b[0m \u001b[38;5;28;01mif\u001b[39;00m \u001b[38;5;28mself\u001b[39m\u001b[38;5;241m.\u001b[39m__set_objective_to_none:\n\u001b[1;32m   4134\u001b[0m     \u001b[38;5;28;01mraise\u001b[39;00m LightGBMError(\u001b[38;5;124m\"\u001b[39m\u001b[38;5;124mCannot update due to null objective function.\u001b[39m\u001b[38;5;124m\"\u001b[39m)\n\u001b[1;32m   4135\u001b[0m _safe_call(\n\u001b[0;32m-> 4136\u001b[0m     \u001b[43m_LIB\u001b[49m\u001b[38;5;241;43m.\u001b[39;49m\u001b[43mLGBM_BoosterUpdateOneIter\u001b[49m\u001b[43m(\u001b[49m\n\u001b[1;32m   4137\u001b[0m \u001b[43m        \u001b[49m\u001b[38;5;28;43mself\u001b[39;49m\u001b[38;5;241;43m.\u001b[39;49m\u001b[43m_handle\u001b[49m\u001b[43m,\u001b[49m\n\u001b[1;32m   4138\u001b[0m \u001b[43m        \u001b[49m\u001b[43mctypes\u001b[49m\u001b[38;5;241;43m.\u001b[39;49m\u001b[43mbyref\u001b[49m\u001b[43m(\u001b[49m\u001b[43mis_finished\u001b[49m\u001b[43m)\u001b[49m\u001b[43m,\u001b[49m\n\u001b[1;32m   4139\u001b[0m \u001b[43m    \u001b[49m\u001b[43m)\u001b[49m\n\u001b[1;32m   4140\u001b[0m )\n\u001b[1;32m   4141\u001b[0m \u001b[38;5;28mself\u001b[39m\u001b[38;5;241m.\u001b[39m__is_predicted_cur_iter \u001b[38;5;241m=\u001b[39m [\u001b[38;5;28;01mFalse\u001b[39;00m \u001b[38;5;28;01mfor\u001b[39;00m _ \u001b[38;5;129;01min\u001b[39;00m \u001b[38;5;28mrange\u001b[39m(\u001b[38;5;28mself\u001b[39m\u001b[38;5;241m.\u001b[39m__num_dataset)]\n\u001b[1;32m   4142\u001b[0m \u001b[38;5;28;01mreturn\u001b[39;00m is_finished\u001b[38;5;241m.\u001b[39mvalue \u001b[38;5;241m==\u001b[39m \u001b[38;5;241m1\u001b[39m\n",
      "\u001b[0;31mKeyboardInterrupt\u001b[0m: "
     ]
    }
   ],
   "source": [
    "import optuna\n",
    "import logging\n",
    "import sys\n",
    "import lightgbm as lgb\n",
    "\n",
    "# Configurar el logging\n",
    "for handler in logging.root.handlers[:]:\n",
    "    logging.root.removeHandler(handler)\n",
    "logging.basicConfig(stream=sys.stdout, level=logging.DEBUG)\n",
    "optuna.logging.set_verbosity(optuna.logging.DEBUG)\n",
    "\n",
    "\n",
    "def objective(trial):\n",
    "    num_leaves = trial.suggest_int('num_leaves', 8, 100)\n",
    "    learning_rate = trial.suggest_float('learning_rate', 0.00005, 0.3)  # más bajo, más iteraciones necesita\n",
    "    min_data_in_leaf = trial.suggest_int('min_data_in_leaf', 1, 2000)\n",
    "    feature_fraction = trial.suggest_float('feature_fraction', 0.1, 1.0)\n",
    "    bagging_fraction = trial.suggest_float('bagging_fraction', 0.1, 1.0)\n",
    "\n",
    "    params = {\n",
    "        'objective': 'binary',\n",
    "        'metric': 'custom', \n",
    "        'boosting_type': 'gbdt',\n",
    "        \n",
    "        'first_metric_only': True,\n",
    "        'boost_from_average': True,\n",
    "        'feature_pre_filter': False,\n",
    "        'max_bin': 31,\n",
    "        'num_leaves': num_leaves,\n",
    "        'learning_rate': learning_rate,\n",
    "        'min_data_in_leaf': min_data_in_leaf,\n",
    "        'feature_fraction': feature_fraction,\n",
    "        'bagging_fraction': bagging_fraction,\n",
    "        'seed': semillas[0],\n",
    "        'verbose': -1\n",
    "    }\n",
    "\n",
    "    train_data = lgb.Dataset(X_train,\n",
    "                             label=Y_train,  # elegir la clase\n",
    "                             weight=w_train)\n",
    "                             \n",
    "    cv_results = lgb.cv(\n",
    "        params,\n",
    "        train_data,\n",
    "        num_boost_round=300,  # modificar, subir y subir... y descomentar la línea inferior\n",
    "        feval=lgb_gan_eval,\n",
    "        stratified=True,\n",
    "        nfold=5,\n",
    "        seed=semillas[0]\n",
    "        \n",
    "    )\n",
    "\n",
    "    max_gan = max(cv_results['valid gan_eval-mean'])\n",
    "    best_iter = cv_results['valid gan_eval-mean'].index(max_gan) + 1\n",
    "\n",
    "    # Guardamos cuál es la mejor iteración del modelo\n",
    "    trial.set_user_attr(\"best_iter\", best_iter)\n",
    "\n",
    "    # Imprimir información de la prueba actual\n",
    "    \n",
    "\n",
    "    return max_gan * 5\n",
    "\n",
    "# Ajuste de la verbosidad de Optuna ya incluido arriba\n",
    "# optuna.logging.set_verbosity(optuna.logging.INFO)\n",
    "\n",
    "storage_name = rf\"sqlite:///{estudio_optuna}\"\n",
    "\n",
    "study_name = nombre_estudio\n",
    "\n",
    "# Crear el callback con 300 pruebas consecutivas sin mejora\n",
    "\n",
    "# Crear el estudio\n",
    "study = optuna.create_study(\n",
    "    direction=\"maximize\",\n",
    "    study_name=study_name,\n",
    "    storage=storage_name,\n",
    "    load_if_exists=True,\n",
    ")\n",
    "\n",
    "# Optimizar el estudio con el callback personalizado\n",
    "study.optimize(objective, n_trials=1000, show_progress_bar=True)\n"
   ]
  },
  {
   "cell_type": "code",
   "execution_count": 22,
   "metadata": {},
   "outputs": [
    {
     "data": {
      "text/plain": [
       "{'num_leaves': 95,\n",
       " 'learning_rate': 0.03003119339141502,\n",
       " 'min_data_in_leaf': 1987,\n",
       " 'feature_fraction': 0.5975599571135087,\n",
       " 'bagging_fraction': 0.7301155242035579}"
      ]
     },
     "execution_count": 22,
     "metadata": {},
     "output_type": "execute_result"
    }
   ],
   "source": [
    "best_params = study.best_params\n",
    "best_params"
   ]
  },
  {
   "cell_type": "code",
   "execution_count": 23,
   "metadata": {
    "scrolled": true
   },
   "outputs": [
    {
     "data": {
      "text/plain": [
       "300"
      ]
     },
     "execution_count": 23,
     "metadata": {},
     "output_type": "execute_result"
    }
   ],
   "source": [
    "best_trial = study.best_trial.user_attrs[\"best_iter\"]\n",
    "best_trial"
   ]
  },
  {
   "cell_type": "markdown",
   "metadata": {},
   "source": [
    "#### Optimización para series temporales con TimeSeriesSplit  "
   ]
  },
  {
   "cell_type": "markdown",
   "metadata": {},
   "source": [
    "#### Optimización para series temporales con TimeSeriesSplit y undersampling\n"
   ]
  },
  {
   "cell_type": "code",
   "execution_count": null,
   "metadata": {},
   "outputs": [],
   "source": [
    "best_iter =  study.best_trial.user_attrs[\"best_iter\"]Training until validation scores don't improve for 50 rounds\n",
    "Early stopping, best iteration is:\n",
    "[37]\tcv_agg's valid gan_eval: 3.32697e+08 + 1.02725e+07\n",
    "Training until validation scores don't improve for 50 rounds\n",
    "Early stopping, best iteration is:\n",
    "[89]\tcv_agg's valid gan_eval: 3.72505e+08 + 2.92651e+06\n",
    "Training until validation scores don't improve for 50 rounds\n",
    "Early stopping, best iteration is:\n",
    "[48]\tcv_agg's valid gan_eval: 3.43602e+08 + 8.13274e+06\n",
    "Training until validation scores don't improve for 50 rounds\n",
    "Early stopping, best iteration is:\n",
    "[41]\tcv_agg's valid gan_eval: 3.27047e+08 + 1.04825e+07\n",
    "Training until validation scores don't improve for 50 rounds\n",
    "Early stopping, best iteration is:\n",
    "[42]\tcv_agg's valid gan_eval: 3.58134e+08 + 4.73243e+06\n",
    "Training until validation scores don't improve for 50 rounds\n",
    "best_iter"
   ]
  },
  {
   "cell_type": "code",
   "execution_count": null,
   "metadata": {},
   "outputs": [],
   "source": [
    "best_params = study.best_params\n",
    "best_params"
   ]
  },
  {
   "cell_type": "code",
   "execution_count": null,
   "metadata": {},
   "outputs": [],
   "source": [
    "# 6_ b_Optimización para series temporales con TimeSeriesSplit y undersampling\n",
    "\n",
    "n_splits = 5\n",
    "tscv = TimeSeriesSplit(n_splits=n_splits)\n",
    "folds = list(tscv.split(X_train))\n",
    "\n",
    "def objective(trial):\n",
    "    num_leaves = trial.suggest_int('num_leaves', 200, 10000)\n",
    "    learning_rate = trial.suggest_float('learning_rate', 0.005, 0.3)\n",
    "    min_data_in_leaf = trial.suggest_int('min_data_in_leaf', 1, 8000)\n",
    "    feature_fraction = trial.suggest_float('feature_fraction', 0.3, 1.0)\n",
    "    bagging_fraction = trial.suggest_float('bagging_fraction', 0.3, 1.0)\n",
    "\n",
    "    params = {\n",
    "        'objective': 'binary',\n",
    "        'metric': 'custom',\n",
    "        'boosting_type': 'gbdt',\n",
    "        'first_metric_only': True,\n",
    "        'boost_from_average': True,\n",
    "        'feature_pre_filter': False,\n",
    "        'max_bin': 31,\n",
    "        'num_leaves': num_leaves,\n",
    "        'learning_rate': learning_rate,\n",
    "        'min_data_in_leaf': min_data_in_leaf,\n",
    "        'feature_fraction': feature_fraction,\n",
    "        'bagging_fraction': bagging_fraction,\n",
    "        'seed': semillas[0],\n",
    "        'verbose': -1\n",
    "    }\n",
    "\n",
    "    # Asegurarse de que los datos estén ordenados cronológicamente\n",
    "    X_train_sorted = X_train.sort_index()\n",
    "    Y_train_sorted = Y_train.loc[X_train_sorted.index]\n",
    "    w_train_sorted = w_train.loc[X_train_sorted.index]\n",
    "    \n",
    "    \n",
    "\n",
    "    train_data = lgb.Dataset(\n",
    "        X_train_sorted,\n",
    "        label=Y_train_sorted,\n",
    "        weight=w_train_sorted\n",
    "    )\n",
    "\n",
    "    cv_results = lgb.cv(\n",
    "        params,\n",
    "        train_data,\n",
    "        num_boost_round=5000,   # Un número muy alto inicial\n",
    "        feval=lgb_gan_eval,\n",
    "        folds=folds,\n",
    "        stratified=False,\n",
    "        seed=semillas[0],\n",
    "        early_stopping_rounds=50  # Detenerse si no hay mejora en 50 rondas consecutivas\n",
    "    )\n",
    "    max_gan = max(cv_results['valid gan_eval-mean'])\n",
    "    best_iter = cv_results['valid gan_eval-mean'].index(max_gan) + 1\n",
    "\n",
    "    # Guardamos la mejor iteración\n",
    "    trial.set_user_attr(\"best_iter\", best_iter)\n",
    "\n",
    "    return max_gan * 5\n",
    "\n",
    "# Configurar el almacenamiento y el estudio de Optuna\n",
    "storage_name = rf\"sqlite:///{estudio_optuna}\"\n",
    "study_name = nombre_estudio\n",
    "\n",
    "# Crear el estudio\n",
    "study = optuna.create_study(\n",
    "    direction=\"maximize\",\n",
    "    study_name=study_name,\n",
    "    storage=storage_name,\n",
    "    load_if_exists=True,\n",
    ")\n",
    "\n",
    "# Definir el callback para early stopping\n",
    "class EarlyStoppingByImprovement:\n",
    "    def __init__(self, patience: int):\n",
    "        self.patience = patience\n",
    "        self.best_value = None\n",
    "        self.no_improvement_trials = 0\n",
    "\n",
    "    def __call__(self, study, trial):\n",
    "        current_best_value = study.best_trial.value\n",
    "\n",
    "        if self.best_value is None or current_best_value > self.best_value:\n",
    "            self.best_value = current_best_value\n",
    "            self.no_improvement_trials = 0\n",
    "        else:\n",
    "            self.no_improvement_trials += 1\n",
    "\n",
    "        if self.no_improvement_trials >= self.patience:\n",
    "            print(f\"Early stopping: No hay mejora en {self.patience} pruebas consecutivas.\")\n",
    "            study.stop()\n",
    "\n",
    "# Crear el callback con paciencia de 100\n",
    "early_stopping_callback = EarlyStoppingByImprovement(patience=100)\n",
    "\n",
    "# Configurar el nivel de registro de Optuna (opcional)\n",
    "optuna.logging.set_verbosity(optuna.logging.INFO)\n",
    "\n",
    "# Optimizar el estudio con el callback personalizado\n",
    "study.optimize(\n",
    "    objective,\n",
    "    n_trials=30000,\n",
    "    callbacks=[early_stopping_callback]\n",
    ")\n"
   ]
  },
  {
   "cell_type": "markdown",
   "metadata": {},
   "source": [
    "## Voting GD"
   ]
  },
  {
   "cell_type": "code",
   "execution_count": null,
   "metadata": {},
   "outputs": [],
   "source": [
    "best_params = {'num_leaves': 4259,\n",
    " 'learning_rate': 0.03459780778027798,\n",
    " 'min_data_in_leaf': 2863,\n",
    " 'feature_fraction': 0.7029328587219807,\n",
    " 'bagging_fraction': 0.7914082839316137}"
   ]
  },
  {
   "cell_type": "code",
   "execution_count": null,
   "metadata": {},
   "outputs": [],
   "source": [
    "#Modelo 10 meses\n",
    "# best_iter = 5\n",
    "best_params = {'num_leaves': 3545,\n",
    " 'learning_rate': 0.07959540527561224,\n",
    " 'min_data_in_leaf': 933,\n",
    " 'feature_fraction': 0.6829932939284065,\n",
    " 'bagging_fraction': 0.6251908881121132}"
   ]
  },
  {
   "cell_type": "code",
   "execution_count": null,
   "metadata": {},
   "outputs": [],
   "source": [
    "# 7 - Voting promedio de modelos para reducir varianza\n",
    "numeros_random = np.random.randint(0, 100000, 15)\n",
    "train_data = lgb.Dataset(X_train,\n",
    "                            label=Y_train,\n",
    "                            weight=w_train)\n",
    "\n",
    "\n",
    "\n",
    "df_voting = pd.DataFrame()\n",
    "\n",
    "for semilla in numeros_random: \n",
    "        \n",
    "    best_iter = 5\n",
    "    df_modelos = pd.DataFrame\n",
    "    params = {\n",
    "    'objective': 'binary',\n",
    "    'boosting_type': 'gbdt',\n",
    "    'first_metric_only': True,\n",
    "    'boost_from_average': True,\n",
    "    'feature_pre_filter': False,\n",
    "    'max_bin': 31,\n",
    "    'num_leaves': best_params['num_leaves'],\n",
    "    'learning_rate': best_params['learning_rate'],\n",
    "    'min_data_in_leaf': best_params['min_data_in_leaf'],\n",
    "    'feature_fraction': best_params['feature_fraction'],\n",
    "    'bagging_fraction': best_params['bagging_fraction'],\n",
    "    'seed': semilla,\n",
    "    'verbose': 0\n",
    "    }\n",
    "        \n",
    "        \n",
    "    model = lgb.train(params,\n",
    "                    train_data,\n",
    "                    num_boost_round=best_iter)\n",
    "    \n",
    "    y_pred = model.predict(X_test)\n",
    "    \n",
    "    df_voting[f'pred_{semilla}'] = y_pred\n",
    "    \n",
    "df_voting['pred_mean'] = df_voting.mean(axis=1)\n",
    "    "
   ]
  },
  {
   "cell_type": "code",
   "execution_count": null,
   "metadata": {},
   "outputs": [],
   "source": [
    "df_voting"
   ]
  },
  {
   "cell_type": "markdown",
   "metadata": {},
   "source": [
    "## Predicción"
   ]
  },
  {
   "cell_type": "code",
   "execution_count": null,
   "metadata": {},
   "outputs": [],
   "source": [
    "y_pred = df_voting['pred_mean']\n",
    "\n",
    "predicciones = y_pred\n",
    "\n",
    "X_test['Probabilidad'] = predicciones\n",
    "\n",
    "tb_entrega = X_test.sort_values(by='Probabilidad', ascending=False)"
   ]
  },
  {
   "cell_type": "code",
   "execution_count": null,
   "metadata": {},
   "outputs": [],
   "source": [
    "\n",
    "tb_entrega['Predicted'] = 0\n",
    "\n",
    "envios = 9730\n",
    "tb_entrega.iloc[:envios, tb_entrega.columns.get_loc('Predicted')] = 1\n",
    "\n",
    "resultados = tb_entrega[[\"numero_de_cliente\", 'Predicted']].reset_index(drop=True)\n",
    "\n",
    "print(\"Cantidad de clientes {}\".format(envios))\n",
    "num_subida_kaggle = 18\n",
    "nombre_archivo = '\\entrega_0{}.csv'.format(num_subida_kaggle)\n",
    "entrega_final = f'{entregas_l}{nombre_archivo}'\n",
    "resultados.to_csv(entrega_final, index=False)"
   ]
  },
  {
   "cell_type": "code",
   "execution_count": null,
   "metadata": {},
   "outputs": [],
   "source": [
    "numero_de_cliente = X_test['numero_de_cliente']"
   ]
  },
  {
   "cell_type": "code",
   "execution_count": null,
   "metadata": {},
   "outputs": [],
   "source": [
    "\n",
    "nombres = model.feature_name()\n",
    "df_resultado = pd.DataFrame({\n",
    "    'numero_de_cliente': numero_de_cliente,\n",
    "    'Predicted': y\n",
    "}, index=X_test.index)"
   ]
  },
  {
   "cell_type": "markdown",
   "metadata": {},
   "source": [
    "## Entrega Kaggle"
   ]
  },
  {
   "cell_type": "code",
   "execution_count": null,
   "metadata": {},
   "outputs": [],
   "source": [
    "#Ingresar el path sobre el cual se quiere ingresar el archivo a entregar\n",
    "entrega = 'entrega_kaggle'\n",
    "formato = '.csv'\n",
    "numero = rf\"\\{entrega}_002{formato}\"\n",
    "entrega_final = df_resultado.to_csv(rf\"{entregas_l}{numero}\", index=False)\n",
    "entrega_final_path = entregas_l + numero\n"
   ]
  },
  {
   "cell_type": "code",
   "execution_count": null,
   "metadata": {},
   "outputs": [],
   "source": [
    "cantidad_columnas = 298\n",
    "message = f\"{entrega}, cantidad de columnas en el train: {cantidad_columnas}, modelo: LGBM, mejores parametros: {best_params}, mejor iteracion: {best_iter}\""
   ]
  },
  {
   "cell_type": "code",
   "execution_count": null,
   "metadata": {},
   "outputs": [],
   "source": []
  },
  {
   "cell_type": "markdown",
   "metadata": {},
   "source": [
    "<!-- ### Kaggle -->"
   ]
  },
  {
   "cell_type": "code",
   "execution_count": null,
   "metadata": {},
   "outputs": [],
   "source": [
    "\n",
    "competition= 'DMEyF-2024-Segunda'"
   ]
  },
  {
   "cell_type": "code",
   "execution_count": null,
   "metadata": {},
   "outputs": [],
   "source": [
    "kaggle.api.competition_submit(competition=competition, file_name= entrega_final_path, message=message, quiet=False)"
   ]
  },
  {
   "cell_type": "markdown",
   "metadata": {},
   "source": [
    "### Puntos de corte"
   ]
  },
  {
   "cell_type": "code",
   "execution_count": null,
   "metadata": {},
   "outputs": [],
   "source": [
    "\n",
    "predicciones = y_pred_lgm\n",
    "\n",
    "X_test['Probabilidad'] = predicciones\n",
    "\n",
    "tb_entrega = X_test.sort_values(by='Probabilidad', ascending=False)\n",
    "\n",
    "cortes = range(9000,14000,100)\n",
    "\n",
    "num_subida_kaggle = 65\n",
    "for envios in cortes:\n",
    "    \n",
    "    tb_entrega['Predicted'] = 0\n",
    "    tb_entrega.iloc[:envios, tb_entrega.columns.get_loc('Predicted')] = 1\n",
    "    resultados = tb_entrega[[\"numero_de_cliente\", 'Predicted']].reset_index(drop=True)\n",
    "    \n",
    "    print(\"Cantidad de clientes {}\".format(envios))\n",
    "    \n",
    "    nombre_archivo = 'entrega_0{}.csv'.format(num_subida_kaggle)\n",
    "    entrega_final = os.path.join(path, nombre_archivo)\n",
    "    resultados.to_csv(entrega_final, index=False)\n",
    "    \n",
    "    \n",
    "    cantidad_columnas = df_train.shape[1]\n",
    "    message = f\"{entrega}, cantidad de columnas en el train: {cantidad_columnas}, modelo: LGBM, mejores parametros: {best_params}, mejor iteracion: {best_iter}, archivo: {entrega_final}, punto de corte: {envios}, optimizado con optuna: {study_name}\"\n",
    "    \n",
    "    num_subida_kaggle += 1\n",
    "    \n",
    "    \n",
    "    \n",
    "    entrega_final = os.path.join(path, nombre_archivo)   \n",
    "    competencia = 'dm-ey-f-2024-primera'\n",
    "    try:\n",
    "        api.competition_submit(file_name=entrega_final,message=message,competition=competencia)\n",
    "    except:\n",
    "        print(f\"Numero máximo de envios, último envio ={num_subida_kaggle}\")"
   ]
  },
  {
   "cell_type": "code",
   "execution_count": null,
   "metadata": {},
   "outputs": [],
   "source": [
    "# df_train.shape"
   ]
  },
  {
   "cell_type": "code",
   "execution_count": null,
   "metadata": {},
   "outputs": [],
   "source": [
    "# nombre_modelo = 'lgbm_e_en_abril_p_en_junio_451_features.txt'\n",
    "# model.save_model(rf\"C:\\Users\\Admin\\Documents\\1_Notebook\\1_Estudio\\1_UBA_Maestria_DS\\1_Especializacion\\1_Segundo_Semestre\\DMEyF\\modelos_lgbm\\{nombre_modelo}\")"
   ]
  }
 ],
 "metadata": {
  "kernelspec": {
   "display_name": "Python 3 (ipykernel)",
   "language": "python",
   "name": "python3"
  },
  "language_info": {
   "codemirror_mode": {
    "name": "ipython",
    "version": 3
   },
   "file_extension": ".py",
   "mimetype": "text/x-python",
   "name": "python",
   "nbconvert_exporter": "python",
   "pygments_lexer": "ipython3",
   "version": "3.12.3"
  }
 },
 "nbformat": 4,
 "nbformat_minor": 4
}
