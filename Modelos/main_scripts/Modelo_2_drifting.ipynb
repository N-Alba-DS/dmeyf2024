{
 "cells": [
  {
   "cell_type": "markdown",
   "metadata": {},
   "source": [
    "## Librerías"
   ]
  },
  {
   "cell_type": "markdown",
   "metadata": {},
   "source": []
  },
  {
   "cell_type": "code",
   "execution_count": 10,
   "metadata": {},
   "outputs": [
    {
     "name": "stdout",
     "output_type": "stream",
     "text": [
      "The sql extension is already loaded. To reload it, use:\n",
      "  %reload_ext sql\n"
     ]
    }
   ],
   "source": [
    "%run \"../recurrentes.ipynb\""
   ]
  },
  {
   "cell_type": "code",
   "execution_count": 11,
   "metadata": {},
   "outputs": [],
   "source": [
    "%run \"../funciones.ipynb\""
   ]
  },
  {
   "cell_type": "code",
   "execution_count": 12,
   "metadata": {},
   "outputs": [
    {
     "name": "stdout",
     "output_type": "stream",
     "text": [
      "The sql extension is already loaded. To reload it, use:\n",
      "  %reload_ext sql\n"
     ]
    }
   ],
   "source": [
    "%load_ext sql\n",
    "%config SqlMagic.autopandas = True\n",
    "%config SqlMagic.feedback = False\n",
    "%config SqlMagic.displaycon = False\n",
    "%sql duckdb:///:memory:\n"
   ]
  },
  {
   "cell_type": "code",
   "execution_count": 13,
   "metadata": {},
   "outputs": [],
   "source": [
    "#1 - Carga del dataset. Opciones: \n",
    "# dataset_lags_clase_ternaria_l : dataset con lags y clase ternaria\n",
    "# dataset_clase_ternaria_l: dataset sin lags y clase ternaria\n",
    "\n",
    "data = pd.read_parquet(dataset_clase_ternaria_l)"
   ]
  },
  {
   "cell_type": "markdown",
   "metadata": {},
   "source": [
    "## Valores null por variable"
   ]
  },
  {
   "cell_type": "code",
   "execution_count": 14,
   "metadata": {},
   "outputs": [
    {
     "data": {
      "text/html": [
       "<div>\n",
       "<style scoped>\n",
       "    .dataframe tbody tr th:only-of-type {\n",
       "        vertical-align: middle;\n",
       "    }\n",
       "\n",
       "    .dataframe tbody tr th {\n",
       "        vertical-align: top;\n",
       "    }\n",
       "\n",
       "    .dataframe thead th {\n",
       "        text-align: right;\n",
       "    }\n",
       "</style>\n",
       "<table border=\"1\" class=\"dataframe\">\n",
       "  <thead>\n",
       "    <tr style=\"text-align: right;\">\n",
       "      <th></th>\n",
       "      <th>Train Null Percentage</th>\n",
       "      <th>Score Null Percentage</th>\n",
       "      <th>diff</th>\n",
       "    </tr>\n",
       "  </thead>\n",
       "  <tbody>\n",
       "    <tr>\n",
       "      <th>Visa_Finiciomora</th>\n",
       "      <td>97.495195</td>\n",
       "      <td>99.390451</td>\n",
       "      <td>1.895256</td>\n",
       "    </tr>\n",
       "    <tr>\n",
       "      <th>mtarjeta_master_descuentos</th>\n",
       "      <td>3.453778</td>\n",
       "      <td>2.682016</td>\n",
       "      <td>0.771763</td>\n",
       "    </tr>\n",
       "    <tr>\n",
       "      <th>Visa_mconsumosdolares</th>\n",
       "      <td>12.844381</td>\n",
       "      <td>13.081952</td>\n",
       "      <td>0.237572</td>\n",
       "    </tr>\n",
       "    <tr>\n",
       "      <th>Visa_cadelantosefectivo</th>\n",
       "      <td>12.844381</td>\n",
       "      <td>13.081952</td>\n",
       "      <td>0.237572</td>\n",
       "    </tr>\n",
       "    <tr>\n",
       "      <th>Visa_cconsumos</th>\n",
       "      <td>12.844381</td>\n",
       "      <td>13.081952</td>\n",
       "      <td>0.237572</td>\n",
       "    </tr>\n",
       "    <tr>\n",
       "      <th>...</th>\n",
       "      <td>...</td>\n",
       "      <td>...</td>\n",
       "      <td>...</td>\n",
       "    </tr>\n",
       "    <tr>\n",
       "      <th>mpayroll</th>\n",
       "      <td>0.000000</td>\n",
       "      <td>0.000000</td>\n",
       "      <td>0.000000</td>\n",
       "    </tr>\n",
       "    <tr>\n",
       "      <th>mpayroll2</th>\n",
       "      <td>0.000000</td>\n",
       "      <td>0.000000</td>\n",
       "      <td>0.000000</td>\n",
       "    </tr>\n",
       "    <tr>\n",
       "      <th>cpayroll2_trx</th>\n",
       "      <td>0.000000</td>\n",
       "      <td>0.000000</td>\n",
       "      <td>0.000000</td>\n",
       "    </tr>\n",
       "    <tr>\n",
       "      <th>ccuenta_debitos_automaticos</th>\n",
       "      <td>0.000000</td>\n",
       "      <td>0.000000</td>\n",
       "      <td>0.000000</td>\n",
       "    </tr>\n",
       "    <tr>\n",
       "      <th>clase_ternaria</th>\n",
       "      <td>0.000000</td>\n",
       "      <td>0.000000</td>\n",
       "      <td>0.000000</td>\n",
       "    </tr>\n",
       "  </tbody>\n",
       "</table>\n",
       "<p>155 rows × 3 columns</p>\n",
       "</div>"
      ],
      "text/plain": [
       "                             Train Null Percentage  Score Null Percentage  \\\n",
       "Visa_Finiciomora                         97.495195              99.390451   \n",
       "mtarjeta_master_descuentos                3.453778               2.682016   \n",
       "Visa_mconsumosdolares                    12.844381              13.081952   \n",
       "Visa_cadelantosefectivo                  12.844381              13.081952   \n",
       "Visa_cconsumos                           12.844381              13.081952   \n",
       "...                                            ...                    ...   \n",
       "mpayroll                                  0.000000               0.000000   \n",
       "mpayroll2                                 0.000000               0.000000   \n",
       "cpayroll2_trx                             0.000000               0.000000   \n",
       "ccuenta_debitos_automaticos               0.000000               0.000000   \n",
       "clase_ternaria                            0.000000               0.000000   \n",
       "\n",
       "                                 diff  \n",
       "Visa_Finiciomora             1.895256  \n",
       "mtarjeta_master_descuentos   0.771763  \n",
       "Visa_mconsumosdolares        0.237572  \n",
       "Visa_cadelantosefectivo      0.237572  \n",
       "Visa_cconsumos               0.237572  \n",
       "...                               ...  \n",
       "mpayroll                     0.000000  \n",
       "mpayroll2                    0.000000  \n",
       "cpayroll2_trx                0.000000  \n",
       "ccuenta_debitos_automaticos  0.000000  \n",
       "clase_ternaria               0.000000  \n",
       "\n",
       "[155 rows x 3 columns]"
      ]
     },
     "execution_count": 14,
     "metadata": {},
     "output_type": "execute_result"
    }
   ],
   "source": [
    "# Ingresar mes train y mes score\n",
    "train_data = data[data['foto_mes'] == 202108]\n",
    "score_data = data[data['foto_mes'] == 202106]\n",
    "\n",
    "train_null_percentage = train_data.isnull().mean() * 100\n",
    "score_null_percentage = score_data.isnull().mean() * 100\n",
    "\n",
    "comparison_df = pd.DataFrame({'Train Null Percentage': train_null_percentage, 'Score Null Percentage': score_null_percentage})\n",
    "comparison_df['diff'] = (comparison_df['Score Null Percentage'] - comparison_df['Train Null Percentage']).abs()\n",
    "\n",
    "comparison_df_sorted = comparison_df.sort_values('diff', ascending=False)\n",
    "\n",
    "comparison_df_sorted"
   ]
  },
  {
   "cell_type": "markdown",
   "metadata": {},
   "source": [
    "## Análisis drifting con PSI"
   ]
  },
  {
   "cell_type": "code",
   "execution_count": 15,
   "metadata": {},
   "outputs": [
    {
     "data": {
      "text/html": [
       "<div>\n",
       "<style scoped>\n",
       "    .dataframe tbody tr th:only-of-type {\n",
       "        vertical-align: middle;\n",
       "    }\n",
       "\n",
       "    .dataframe tbody tr th {\n",
       "        vertical-align: top;\n",
       "    }\n",
       "\n",
       "    .dataframe thead th {\n",
       "        text-align: right;\n",
       "    }\n",
       "</style>\n",
       "<table border=\"1\" class=\"dataframe\">\n",
       "  <thead>\n",
       "    <tr style=\"text-align: right;\">\n",
       "      <th></th>\n",
       "      <th>feature</th>\n",
       "      <th>psi</th>\n",
       "    </tr>\n",
       "  </thead>\n",
       "  <tbody>\n",
       "    <tr>\n",
       "      <th>135</th>\n",
       "      <td>Visa_Finiciomora</td>\n",
       "      <td>2.288712</td>\n",
       "    </tr>\n",
       "    <tr>\n",
       "      <th>122</th>\n",
       "      <td>Master_fultimo_cierre</td>\n",
       "      <td>1.129652</td>\n",
       "    </tr>\n",
       "    <tr>\n",
       "      <th>144</th>\n",
       "      <td>Visa_fultimo_cierre</td>\n",
       "      <td>0.937082</td>\n",
       "    </tr>\n",
       "    <tr>\n",
       "      <th>50</th>\n",
       "      <td>cpayroll_trx</td>\n",
       "      <td>0.223737</td>\n",
       "    </tr>\n",
       "    <tr>\n",
       "      <th>145</th>\n",
       "      <td>Visa_mpagado</td>\n",
       "      <td>0.136970</td>\n",
       "    </tr>\n",
       "    <tr>\n",
       "      <th>...</th>\n",
       "      <td>...</td>\n",
       "      <td>...</td>\n",
       "    </tr>\n",
       "    <tr>\n",
       "      <th>40</th>\n",
       "      <td>cinversion1</td>\n",
       "      <td>0.000000</td>\n",
       "    </tr>\n",
       "    <tr>\n",
       "      <th>39</th>\n",
       "      <td>mplazo_fijo_pesos</td>\n",
       "      <td>0.000000</td>\n",
       "    </tr>\n",
       "    <tr>\n",
       "      <th>95</th>\n",
       "      <td>thomebanking</td>\n",
       "      <td>0.000000</td>\n",
       "    </tr>\n",
       "    <tr>\n",
       "      <th>93</th>\n",
       "      <td>tcallcenter</td>\n",
       "      <td>0.000000</td>\n",
       "    </tr>\n",
       "    <tr>\n",
       "      <th>77</th>\n",
       "      <td>cforex_sell</td>\n",
       "      <td>0.000000</td>\n",
       "    </tr>\n",
       "  </tbody>\n",
       "</table>\n",
       "<p>153 rows × 2 columns</p>\n",
       "</div>"
      ],
      "text/plain": [
       "                   feature       psi\n",
       "135       Visa_Finiciomora  2.288712\n",
       "122  Master_fultimo_cierre  1.129652\n",
       "144    Visa_fultimo_cierre  0.937082\n",
       "50            cpayroll_trx  0.223737\n",
       "145           Visa_mpagado  0.136970\n",
       "..                     ...       ...\n",
       "40             cinversion1  0.000000\n",
       "39       mplazo_fijo_pesos  0.000000\n",
       "95            thomebanking  0.000000\n",
       "93             tcallcenter  0.000000\n",
       "77             cforex_sell  0.000000\n",
       "\n",
       "[153 rows x 2 columns]"
      ]
     },
     "execution_count": 15,
     "metadata": {},
     "output_type": "execute_result"
    }
   ],
   "source": [
    "psi_results = []\n",
    "for column in train_data.columns:\n",
    "  if column not in ['foto_mes', 'clase_ternaria']:\n",
    "    train_variable = train_data[column]\n",
    "    score_variable = score_data[column]\n",
    "    psi_value = psi(train_variable, score_variable)\n",
    "    psi_results.append({'feature': column, 'psi': psi_value})\n",
    "\n",
    "psi_df = pd.DataFrame(psi_results)\n",
    "psi_df = psi_df.sort_values('psi', ascending=False)\n",
    "psi_df"
   ]
  },
  {
   "cell_type": "code",
   "execution_count": 16,
   "metadata": {},
   "outputs": [
    {
     "name": "stdout",
     "output_type": "stream",
     "text": [
      "Cortes en Master_Finiciomora: [5.999, 15.0, 22.0, 29.0, 50.0, 57.0, 239.0]\n",
      "Frecuencia Esperada: [ 27  59 313  46  94  66]\n",
      "Frecuencia Actual: [ 41  25 282  49 117 119]\n"
     ]
    }
   ],
   "source": [
    "variable_name = 'Master_Finiciomora'\n",
    "expected = train_data[variable_name]\n",
    "actual = score_data[variable_name]\n",
    "\n",
    "expected_not_null = expected.dropna()\n",
    "actual_not_null = actual.dropna()\n",
    "\n",
    "bin_edges = pd.qcut(expected_not_null, q=10, duplicates='drop').unique()\n",
    "bin_edges2 = [edge.left for edge in bin_edges] + [edge.right for edge in bin_edges]\n",
    "breakpoints = sorted(list(set(bin_edges2)))\n",
    "\n",
    "print(f'Cortes en {variable_name}: {breakpoints}')\n",
    "expected_counts, _ = np.histogram(expected_not_null, bins=breakpoints)\n",
    "actual_counts, _ = np.histogram(actual_not_null, bins=breakpoints)\n",
    "\n",
    "print(f'Frecuencia Esperada: {expected_counts}')\n",
    "print(f'Frecuencia Actual: {actual_counts}')\n"
   ]
  },
  {
   "cell_type": "markdown",
   "metadata": {},
   "source": [
    "## Analisis drifting con modelo"
   ]
  },
  {
   "cell_type": "code",
   "execution_count": 19,
   "metadata": {},
   "outputs": [],
   "source": [
    "# 2- Para el caso de que el dataset sea con feature engineering incluido\n",
    "if 'T_visa_normal' in data.columns:\n",
    "    data['T_visa_normal'] = data['T_visa_normal'].astype(bool)\n",
    "    data['T_master_normal'] = data['T_master_normal'].astype(bool)\n"
   ]
  },
  {
   "cell_type": "code",
   "execution_count": 21,
   "metadata": {},
   "outputs": [],
   "source": [
    "# 3- parametros para calcular ganancia del modelo\n",
    "ganancia_acierto = 273000\n",
    "costo_estimulo = 7000\n",
    "\n",
    "\n",
    "data['clase_peso'] = 1.0\n",
    "data.loc[data['clase_ternaria'] == 'BAJA+2', 'clase_peso'] = 1.00002\n",
    "data.loc[data['clase_ternaria'] == 'BAJA+1', 'clase_peso'] = 1.00001\n"
   ]
  },
  {
   "cell_type": "code",
   "execution_count": 22,
   "metadata": {},
   "outputs": [],
   "source": [
    "# 4 - binarización de la clase ternaria\n",
    "\n",
    "data['clase_binaria'] = np.where(data['clase_ternaria']=='CONTINUA', 0, 1)"
   ]
  },
  {
   "cell_type": "code",
   "execution_count": 23,
   "metadata": {},
   "outputs": [],
   "source": [
    "# 5 Especificar mes de train y test\n",
    "\n",
    "df_train = data[data['foto_mes']<=202106]\n",
    "df_test = data[data['foto_mes']==202108]\n"
   ]
  },
  {
   "cell_type": "code",
   "execution_count": 24,
   "metadata": {},
   "outputs": [],
   "source": [
    "clase_peso = df_train['clase_peso']\n",
    "X_train = df_train.drop(['clase_ternaria', 'clase_binaria', 'clase_peso'], axis=1)\n",
    "Y_train =df_train['clase_binaria']\n",
    "X_test = df_test.drop(['clase_ternaria', 'clase_binaria', 'clase_peso'], axis=1)\n",
    "Y_test =df_test['clase_binaria']"
   ]
  },
  {
   "cell_type": "code",
   "execution_count": 25,
   "metadata": {},
   "outputs": [],
   "source": [
    "w_train = df_train.loc[X_train.index, 'clase_peso']\n"
   ]
  },
  {
   "cell_type": "code",
   "execution_count": 26,
   "metadata": {},
   "outputs": [],
   "source": [
    "best_params = {'num_leaves': 40,\n",
    " 'learning_rate': 0.022596031021514126,\n",
    " 'min_data_in_leaf': 1692,\n",
    " 'feature_fraction': 0.8060065372089812,\n",
    " 'bagging_fraction': 0.8663914349386255}"
   ]
  },
  {
   "cell_type": "code",
   "execution_count": null,
   "metadata": {},
   "outputs": [],
   "source": [
    "train_data = lgb.Dataset(X_train,\n",
    "                            label=Y_train,\n",
    "                            weight=w_train)\n",
    "\n",
    "\n",
    "params = {\n",
    "'objective': 'binary',\n",
    "'boosting_type': 'gbdt',\n",
    "'first_metric_only': True,\n",
    "'boost_from_average': True,\n",
    "'feature_pre_filter': False,\n",
    "'max_bin': 31,\n",
    "'num_leaves': 0,\n",
    "'learning_rate': 0,\n",
    "'min_data_in_leaf': 0,\n",
    "'feature_fraction': 0,\n",
    "'bagging_fraction': 0,\n",
    "'seed': semillas[0],\n",
    "'verbose': 0\n",
    "}\n",
    "    #actualización con valores optuna\n",
    "params.update(best_params)\n",
    "\n",
    "if params['num_leaves'] == 0:\n",
    "    print ('Error falta actualización de parámetros')\n",
    "\n",
    "\n",
    "model = lgb.train(params,\n",
    "                train_data,\n",
    "                num_boost_round=299)\n",
    "\n"
   ]
  },
  {
   "cell_type": "code",
   "execution_count": null,
   "metadata": {},
   "outputs": [],
   "source": [
    "model_df = model.trees_to_dataframe()"
   ]
  },
  {
   "cell_type": "code",
   "execution_count": null,
   "metadata": {},
   "outputs": [],
   "source": [
    "model_df[model_df['split_feature'] == 'cpayroll_trx'].sort_values('threshold')"
   ]
  },
  {
   "cell_type": "markdown",
   "metadata": {},
   "source": [
    "## Analisis SHAPs"
   ]
  },
  {
   "cell_type": "code",
   "execution_count": null,
   "metadata": {},
   "outputs": [],
   "source": [
    "explainer = shap.TreeExplainer(model)\n",
    "shap_values = explainer.shap_values(X_train)"
   ]
  },
  {
   "cell_type": "markdown",
   "metadata": {},
   "source": [
    "##"
   ]
  }
 ],
 "metadata": {
  "kernelspec": {
   "display_name": "datascience",
   "language": "python",
   "name": "python3"
  },
  "language_info": {
   "codemirror_mode": {
    "name": "ipython",
    "version": 3
   },
   "file_extension": ".py",
   "mimetype": "text/x-python",
   "name": "python",
   "nbconvert_exporter": "python",
   "pygments_lexer": "ipython3",
   "version": "3.11.9"
  }
 },
 "nbformat": 4,
 "nbformat_minor": 2
}
