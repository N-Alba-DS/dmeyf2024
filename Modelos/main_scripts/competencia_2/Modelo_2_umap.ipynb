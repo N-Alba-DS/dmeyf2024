{
 "cells": [
  {
   "cell_type": "markdown",
   "metadata": {},
   "source": [
    "## Precarga de librerias y funciones"
   ]
  },
  {
   "cell_type": "code",
   "execution_count": null,
   "metadata": {},
   "outputs": [],
   "source": [
    "%run \"../../recurrentes.ipynb\""
   ]
  },
  {
   "cell_type": "code",
   "execution_count": null,
   "metadata": {},
   "outputs": [],
   "source": [
    "%run \"../../funciones.ipynb\""
   ]
  },
  {
   "cell_type": "markdown",
   "metadata": {},
   "source": [
    "#### Excel"
   ]
  },
  {
   "cell_type": "code",
   "execution_count": null,
   "metadata": {},
   "outputs": [],
   "source": [
    "# 2 - Cargar datos\n",
    "# Opciones:\n",
    "# a) dataset_clase_ternaria_l\n",
    "# b) dataset_lags_clase_ternaria_l\n",
    "# c) dataset_lags_deltas_y_clase_ternaria_l\n",
    "# d) dataset_10_meses_l\n",
    "\n",
    "dataset = dataset_10_meses\n",
    "dataset_name = os.path.basename(dataset)\n",
    "df_train = pd.read_parquet(dataset)\n"
   ]
  },
  {
   "cell_type": "code",
   "execution_count": null,
   "metadata": {},
   "outputs": [],
   "source": [
    "import umap\n",
    "import pandas as pd\n",
    "from sklearn.preprocessing import StandardScaler"
   ]
  },
  {
   "cell_type": "code",
   "execution_count": null,
   "metadata": {},
   "outputs": [],
   "source": [
    "df_train['foto_mes'].shape"
   ]
  },
  {
   "cell_type": "code",
   "execution_count": null,
   "metadata": {},
   "outputs": [],
   "source": [
    "df_train.shape"
   ]
  },
  {
   "cell_type": "code",
   "execution_count": null,
   "metadata": {},
   "outputs": [],
   "source": [
    "numero_de_cliente = df_train['numero_de_cliente']\n",
    "caracteristicas = df_train.drop(['numero_de_cliente','clase_ternaria'], axis=1)\n",
    "caracteristicas_sin_nulos = caracteristicas.dropna(axis=1)"
   ]
  },
  {
   "cell_type": "code",
   "execution_count": null,
   "metadata": {},
   "outputs": [],
   "source": [
    "caracteristicas_sin_nulos.shape"
   ]
  },
  {
   "cell_type": "code",
   "execution_count": null,
   "metadata": {},
   "outputs": [],
   "source": [
    "\n",
    "scaler = StandardScaler()\n",
    "caracteristicas_escaladas = scaler.fit_transform(caracteristicas_sin_nulos)\n",
    "\n",
    "# 4. Aplicar UMAP\n",
    "reductor = umap.UMAP(n_components=2, n_neighbors=10, n_jobs=6)\n",
    "embedding = reductor.fit_transform(caracteristicas_escaladas)\n",
    "\n",
    "# 5. Crear DataFrame de embeddings con 'numero_de_cliente'\n",
    "embedding_df = pd.DataFrame(embedding, columns=['UMAP1', 'UMAP2'])\n",
    "df_umap = pd.concat([numero_de_cliente.reset_index(drop=True), embedding_df], axis=1)\n",
    "\n",
    "\n"
   ]
  },
  {
   "cell_type": "code",
   "execution_count": null,
   "metadata": {},
   "outputs": [],
   "source": [
    "df_umap.to_csv('embedding_umap_con_cliente.csv', index=False)"
   ]
  },
  {
   "cell_type": "markdown",
   "metadata": {},
   "source": [
    "## Punto de corte"
   ]
  },
  {
   "cell_type": "code",
   "execution_count": null,
   "metadata": {},
   "outputs": [],
   "source": [
    "merged_data = prediccion.merge(bajas, on='numero_de_cliente', how='inner')\n",
    "        \n",
    "# Ordenar por probabilidad de mayor a menor\n",
    "merged_data_sorted = merged_data.sort_values('Probabilidad', ascending=False)\n",
    "\n",
    "# Seleccionar top clientes\n",
    "top_clients = merged_data_sorted.iloc[:12000].copy()  # Trabajar con una copia\n",
    "\n",
    "# Convertir 'clase_ternaria' a variable binaria para los top clientes\n",
    "top_clients.loc[:, 'bajas_reales'] = (top_clients['clase_ternaria'] == 'BAJA+2').astype(int)\n",
    "\n",
    "top_clients.value_counts('clase_ternaria')"
   ]
  },
  {
   "cell_type": "code",
   "execution_count": null,
   "metadata": {},
   "outputs": [],
   "source": [
    "def calculoGanancia(bajas,prediccion,corte):\n",
    "    ''' \n",
    "    Calcula la ganancia para una semilla específica.\n",
    "    \n",
    "    Parámetros:\n",
    "    bajas: DataFrame con columnas \"numero_de_cliente\" y \"clase_ternaria\".\n",
    "    prediccion: DataFrame con columnas \"numero_de_cliente\" y \"Probabilidad\".\n",
    "    corte: int, cantidad de estímulos.\n",
    "    random_state: int, semilla para train_test_split.\n",
    "    \n",
    "    Retorna:\n",
    "    ganancia_publico: Ganancia para el público.\n",
    "    ganancia_privado: Ganancia para el privado.\n",
    "    '''\n",
    "    # Realizar el split en público y privado\n",
    "    Publico, Privado = train_test_split(\n",
    "        bajas,\n",
    "        test_size=0.7,\n",
    "        stratify=bajas['clase_ternaria'],\n",
    "        random_state=123\n",
    "    )\n",
    "\n",
    "    # Clientes que decido estimular\n",
    "    estimulos = prediccion.iloc[:corte] \n",
    "\n",
    "    # Obtener los estímulos en el conjunto público y privado\n",
    "    estimulos_publico = pd.merge(estimulos, Publico, on='numero_de_cliente', how='inner')\n",
    "    estimulos_privado = pd.merge(estimulos, Privado, on='numero_de_cliente', how='inner')\n",
    "\n",
    "    # Calcular los verdaderos positivos en cada conjunto\n",
    "    TP_publico = estimulos_publico[estimulos_publico['clase_ternaria'] == 'BAJA+2']\n",
    "    TP_privado = estimulos_privado[estimulos_privado['clase_ternaria'] == 'BAJA+2']\n",
    "\n",
    "    # 5. Calcular la ganancia para cada conjunto con normalización\n",
    "    # Primero, calculamos la ganancia en cada conjunto\n",
    "    ganancia_publico_sin_norm = (len(TP_publico) * 273000) - ((len(estimulos_publico) - len(TP_publico)) * 7000)\n",
    "    ganancia_privado_sin_norm = (len(TP_privado) * 273000) - ((len(estimulos_privado) - len(TP_privado)) * 7000)\n",
    "\n",
    "    # Luego, normalizamos dividiendo por el porcentaje correspondiente\n",
    "    ganancia_publico = ganancia_publico_sin_norm / 0.3\n",
    "    ganancia_privado = ganancia_privado_sin_norm / 0.7\n",
    "\n",
    "    return ganancia_publico, ganancia_privado\n"
   ]
  },
  {
   "cell_type": "code",
   "execution_count": null,
   "metadata": {},
   "outputs": [],
   "source": [
    "inicio = time.time()\n",
    "\n",
    "resultados = []\n",
    "cortes = range(5000, 20000, 1000)\n",
    "\n",
    "\n",
    "pred_model_sorted = prediccion.sort_values('Probabilidad', ascending=False)\n",
    "model_name = 'LightGBM'\n",
    "\n",
    "# Iteramos sobre cada corte\n",
    "for corte in cortes:\n",
    "    ganancia_publico, ganancia_privado = calculoGanancia(bajas, pred_model_sorted, corte)\n",
    "    \n",
    "    # Almacenamos los resultados\n",
    "    resultados.append({\n",
    "        'Modelo': model_name,\n",
    "        'Corte': corte,\n",
    "        'Ganancia Público': ganancia_publico,\n",
    "        'Ganancia Privado': ganancia_privado\n",
    "    })\n",
    "\n",
    "# Convertimos los resultados en un DataFrame\n",
    "resultados = pd.DataFrame(resultados)\n",
    "\n",
    "fin = time.time()\n",
    "tiempo_ejecucion = fin - inicio\n",
    "\n",
    "print(f\"Tiempo de ejecución: {tiempo_ejecucion:.2f} segundos\")"
   ]
  },
  {
   "cell_type": "code",
   "execution_count": null,
   "metadata": {},
   "outputs": [],
   "source": [
    "# Pivotamos el DataFrame 'resultados' para reorganizar las ganancias\n",
    "resultados_pivot = resultados.pivot_table(\n",
    "    index='Corte',\n",
    "    columns='Modelo',\n",
    "    values=['Ganancia Público', 'Ganancia Privado']\n",
    ")\n",
    "\n",
    "# Aplanamos las columnas para facilitar el acceso\n",
    "resultados_pivot.columns = [f'{ganancia}_{modelo}' for ganancia, modelo in resultados_pivot.columns]\n",
    "\n",
    "# Reordenamos las columnas alternando 'Público' y 'Privado' para cada modelo\n",
    "# Ordenamos primero por el modelo, luego alternando entre 'Público' y 'Privado'\n",
    "columnas_ordenadas = []\n",
    "for modelo in resultados['Modelo'].unique():\n",
    "    columnas_ordenadas.append(f'Ganancia Público_{modelo}')\n",
    "    columnas_ordenadas.append(f'Ganancia Privado_{modelo}')\n",
    "\n",
    "# Reorganizamos el DataFrame usando el nuevo orden de columnas\n",
    "resultados_pivot = resultados_pivot[columnas_ordenadas]\n",
    "\n",
    "# Convertimos el índice 'Corte' en una columna si prefieres tenerla como tal\n",
    "resultados_pivot = resultados_pivot.reset_index()\n",
    "resultados_pivot"
   ]
  }
 ],
 "metadata": {
  "kernelspec": {
   "display_name": "datascience",
   "language": "python",
   "name": "python3"
  },
  "language_info": {
   "codemirror_mode": {
    "name": "ipython",
    "version": 3
   },
   "file_extension": ".py",
   "mimetype": "text/x-python",
   "name": "python",
   "nbconvert_exporter": "python",
   "pygments_lexer": "ipython3",
   "version": "3.11.9"
  }
 },
 "nbformat": 4,
 "nbformat_minor": 4
}
