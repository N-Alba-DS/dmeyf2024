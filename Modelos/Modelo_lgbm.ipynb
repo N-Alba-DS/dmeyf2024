{
 "cells": [
  {
   "cell_type": "markdown",
   "metadata": {},
   "source": [
    "## Librerías"
   ]
  },
  {
   "cell_type": "code",
   "execution_count": 500,
   "metadata": {},
   "outputs": [],
   "source": [
    "import pandas as pd\n",
    "import numpy as np\n",
    "import seaborn as sns\n",
    "import matplotlib.pyplot as plt\n",
    "import itertools\n",
    "import plotly.express as px\n",
    "import plotly.graph_objects as go\n",
    "from plotly.subplots import make_subplots\n",
    "import lightgbm as lgb\n",
    "\n",
    "\n",
    "\n",
    "\n",
    "from sklearn.ensemble import RandomForestClassifier\n",
    "from sklearn.tree import DecisionTreeClassifier, plot_tree,  _tree\n",
    "from sklearn.model_selection import train_test_split\n",
    "from sklearn.model_selection import ShuffleSplit, StratifiedShuffleSplit\n",
    "from sklearn.metrics import f1_score\n",
    "\n",
    "from umap import UMAP\n",
    "import matplotlib.pyplot as plt\n",
    "from sklearn.cluster import DBSCAN\n",
    "from sklearn.ensemble import  RandomForestClassifier\n",
    "from sklearn.impute import SimpleImputer\n",
    "from joblib import Parallel, delayed\n",
    "from time import time\n",
    "import duckdb\n",
    "# %load_ext sql\n",
    "# %config SqlMagic.autopandas = True\n",
    "# %config SqlMagic.feedback = False\n",
    "# %config SqlMagic.displaycon = False\n",
    "# %sql duckdb:///:memory:\n",
    "import time\n",
    "import optuna\n",
    "from optuna.study import MaxTrialsCallback\n",
    "from optuna.trial import TrialState\n",
    "\n",
    "from optuna.visualization import plot_param_importances, plot_contour,  plot_slice, plot_optimization_history\n",
    "import plotly.express as px\n",
    "import os\n",
    "\n",
    "import kaggle \n",
    "import glob\n",
    "\n"
   ]
  },
  {
   "cell_type": "code",
   "execution_count": 501,
   "metadata": {},
   "outputs": [],
   "source": [
    "from kaggle.api.kaggle_api_extended import KaggleApi\n",
    "api = KaggleApi()\n",
    "api.authenticate()"
   ]
  },
  {
   "cell_type": "code",
   "execution_count": 502,
   "metadata": {},
   "outputs": [],
   "source": [
    "semillas =[ 400009,  500009,  600011,  700021,  800021]"
   ]
  },
  {
   "cell_type": "code",
   "execution_count": 503,
   "metadata": {},
   "outputs": [],
   "source": [
    "# # import duckdb\n",
    "\n",
    "\n",
    "# con = duckdb.connect(database=':memory:', read_only=False)\n",
    "\n",
    "# ruta_csv = r'C:\\Users\\Admin\\Documents\\1_Notebook\\1_Estudio\\1_UBA_Maestria_DS\\1_Especializacion\\1_Segundo_Semestre\\DMEyF\\Git\\dmeyf2024\\datasets\\competencia_01.csv'\n",
    "\n",
    "# con.execute(f\"CREATE TABLE df_train AS SELECT * FROM read_csv_auto('{ruta_csv}')\")\n"
   ]
  },
  {
   "cell_type": "code",
   "execution_count": 504,
   "metadata": {},
   "outputs": [],
   "source": [
    "#dataset perteneciente a la carpeta datasets del repisotorio, archivo: competencia_01.csv\n",
    "\n",
    "df_train = pd.read_csv(r\"C:\\Users\\Admin\\Documents\\1_Notebook\\1_Estudio\\1_UBA_Maestria_DS\\1_Especializacion\\1_Segundo_Semestre\\DMEyF\\Git\\dmeyf2024\\datasets\\competencia_01.csv\")"
   ]
  },
  {
   "cell_type": "code",
   "execution_count": 505,
   "metadata": {},
   "outputs": [
    {
     "data": {
      "text/html": [
       "<div>\n",
       "<style scoped>\n",
       "    .dataframe tbody tr th:only-of-type {\n",
       "        vertical-align: middle;\n",
       "    }\n",
       "\n",
       "    .dataframe tbody tr th {\n",
       "        vertical-align: top;\n",
       "    }\n",
       "\n",
       "    .dataframe thead th {\n",
       "        text-align: right;\n",
       "    }\n",
       "</style>\n",
       "<table border=\"1\" class=\"dataframe\">\n",
       "  <thead>\n",
       "    <tr style=\"text-align: right;\">\n",
       "      <th></th>\n",
       "      <th>column_name</th>\n",
       "      <th>missing_values</th>\n",
       "    </tr>\n",
       "  </thead>\n",
       "  <tbody>\n",
       "    <tr>\n",
       "      <th>68</th>\n",
       "      <td>mtarjeta_visa_descuentos</td>\n",
       "      <td>16998</td>\n",
       "    </tr>\n",
       "    <tr>\n",
       "      <th>70</th>\n",
       "      <td>mtarjeta_master_descuentos</td>\n",
       "      <td>23521</td>\n",
       "    </tr>\n",
       "    <tr>\n",
       "      <th>110</th>\n",
       "      <td>Master_delinquency</td>\n",
       "      <td>101319</td>\n",
       "    </tr>\n",
       "    <tr>\n",
       "      <th>111</th>\n",
       "      <td>Master_status</td>\n",
       "      <td>101319</td>\n",
       "    </tr>\n",
       "    <tr>\n",
       "      <th>112</th>\n",
       "      <td>Master_mfinanciacion_limite</td>\n",
       "      <td>101319</td>\n",
       "    </tr>\n",
       "    <tr>\n",
       "      <th>113</th>\n",
       "      <td>Master_Fvencimiento</td>\n",
       "      <td>101319</td>\n",
       "    </tr>\n",
       "    <tr>\n",
       "      <th>114</th>\n",
       "      <td>Master_Finiciomora</td>\n",
       "      <td>977048</td>\n",
       "    </tr>\n",
       "    <tr>\n",
       "      <th>115</th>\n",
       "      <td>Master_msaldototal</td>\n",
       "      <td>101319</td>\n",
       "    </tr>\n",
       "    <tr>\n",
       "      <th>116</th>\n",
       "      <td>Master_msaldopesos</td>\n",
       "      <td>101319</td>\n",
       "    </tr>\n",
       "    <tr>\n",
       "      <th>117</th>\n",
       "      <td>Master_msaldodolares</td>\n",
       "      <td>101319</td>\n",
       "    </tr>\n",
       "    <tr>\n",
       "      <th>118</th>\n",
       "      <td>Master_mconsumospesos</td>\n",
       "      <td>586300</td>\n",
       "    </tr>\n",
       "    <tr>\n",
       "      <th>119</th>\n",
       "      <td>Master_mconsumosdolares</td>\n",
       "      <td>586300</td>\n",
       "    </tr>\n",
       "    <tr>\n",
       "      <th>120</th>\n",
       "      <td>Master_mlimitecompra</td>\n",
       "      <td>101319</td>\n",
       "    </tr>\n",
       "    <tr>\n",
       "      <th>121</th>\n",
       "      <td>Master_madelantopesos</td>\n",
       "      <td>586300</td>\n",
       "    </tr>\n",
       "    <tr>\n",
       "      <th>122</th>\n",
       "      <td>Master_madelantodolares</td>\n",
       "      <td>586300</td>\n",
       "    </tr>\n",
       "    <tr>\n",
       "      <th>123</th>\n",
       "      <td>Master_fultimo_cierre</td>\n",
       "      <td>101770</td>\n",
       "    </tr>\n",
       "    <tr>\n",
       "      <th>124</th>\n",
       "      <td>Master_mpagado</td>\n",
       "      <td>101319</td>\n",
       "    </tr>\n",
       "    <tr>\n",
       "      <th>125</th>\n",
       "      <td>Master_mpagospesos</td>\n",
       "      <td>586300</td>\n",
       "    </tr>\n",
       "    <tr>\n",
       "      <th>126</th>\n",
       "      <td>Master_mpagosdolares</td>\n",
       "      <td>586300</td>\n",
       "    </tr>\n",
       "    <tr>\n",
       "      <th>127</th>\n",
       "      <td>Master_fechaalta</td>\n",
       "      <td>101319</td>\n",
       "    </tr>\n",
       "    <tr>\n",
       "      <th>128</th>\n",
       "      <td>Master_mconsumototal</td>\n",
       "      <td>586300</td>\n",
       "    </tr>\n",
       "    <tr>\n",
       "      <th>129</th>\n",
       "      <td>Master_cconsumos</td>\n",
       "      <td>586300</td>\n",
       "    </tr>\n",
       "    <tr>\n",
       "      <th>130</th>\n",
       "      <td>Master_cadelantosefectivo</td>\n",
       "      <td>586300</td>\n",
       "    </tr>\n",
       "    <tr>\n",
       "      <th>131</th>\n",
       "      <td>Master_mpagominimo</td>\n",
       "      <td>101319</td>\n",
       "    </tr>\n",
       "    <tr>\n",
       "      <th>132</th>\n",
       "      <td>Visa_delinquency</td>\n",
       "      <td>48838</td>\n",
       "    </tr>\n",
       "    <tr>\n",
       "      <th>133</th>\n",
       "      <td>Visa_status</td>\n",
       "      <td>48838</td>\n",
       "    </tr>\n",
       "    <tr>\n",
       "      <th>134</th>\n",
       "      <td>Visa_mfinanciacion_limite</td>\n",
       "      <td>48838</td>\n",
       "    </tr>\n",
       "    <tr>\n",
       "      <th>135</th>\n",
       "      <td>Visa_Fvencimiento</td>\n",
       "      <td>48838</td>\n",
       "    </tr>\n",
       "    <tr>\n",
       "      <th>136</th>\n",
       "      <td>Visa_Finiciomora</td>\n",
       "      <td>968318</td>\n",
       "    </tr>\n",
       "    <tr>\n",
       "      <th>137</th>\n",
       "      <td>Visa_msaldototal</td>\n",
       "      <td>48838</td>\n",
       "    </tr>\n",
       "    <tr>\n",
       "      <th>138</th>\n",
       "      <td>Visa_msaldopesos</td>\n",
       "      <td>48838</td>\n",
       "    </tr>\n",
       "    <tr>\n",
       "      <th>139</th>\n",
       "      <td>Visa_msaldodolares</td>\n",
       "      <td>48838</td>\n",
       "    </tr>\n",
       "    <tr>\n",
       "      <th>140</th>\n",
       "      <td>Visa_mconsumospesos</td>\n",
       "      <td>133593</td>\n",
       "    </tr>\n",
       "    <tr>\n",
       "      <th>141</th>\n",
       "      <td>Visa_mconsumosdolares</td>\n",
       "      <td>133593</td>\n",
       "    </tr>\n",
       "    <tr>\n",
       "      <th>142</th>\n",
       "      <td>Visa_mlimitecompra</td>\n",
       "      <td>48838</td>\n",
       "    </tr>\n",
       "    <tr>\n",
       "      <th>143</th>\n",
       "      <td>Visa_madelantopesos</td>\n",
       "      <td>133593</td>\n",
       "    </tr>\n",
       "    <tr>\n",
       "      <th>144</th>\n",
       "      <td>Visa_madelantodolares</td>\n",
       "      <td>133593</td>\n",
       "    </tr>\n",
       "    <tr>\n",
       "      <th>145</th>\n",
       "      <td>Visa_fultimo_cierre</td>\n",
       "      <td>49162</td>\n",
       "    </tr>\n",
       "    <tr>\n",
       "      <th>146</th>\n",
       "      <td>Visa_mpagado</td>\n",
       "      <td>48838</td>\n",
       "    </tr>\n",
       "    <tr>\n",
       "      <th>147</th>\n",
       "      <td>Visa_mpagospesos</td>\n",
       "      <td>133593</td>\n",
       "    </tr>\n",
       "    <tr>\n",
       "      <th>148</th>\n",
       "      <td>Visa_mpagosdolares</td>\n",
       "      <td>133593</td>\n",
       "    </tr>\n",
       "    <tr>\n",
       "      <th>149</th>\n",
       "      <td>Visa_fechaalta</td>\n",
       "      <td>48838</td>\n",
       "    </tr>\n",
       "    <tr>\n",
       "      <th>150</th>\n",
       "      <td>Visa_mconsumototal</td>\n",
       "      <td>133593</td>\n",
       "    </tr>\n",
       "    <tr>\n",
       "      <th>151</th>\n",
       "      <td>Visa_cconsumos</td>\n",
       "      <td>133593</td>\n",
       "    </tr>\n",
       "    <tr>\n",
       "      <th>152</th>\n",
       "      <td>Visa_cadelantosefectivo</td>\n",
       "      <td>133593</td>\n",
       "    </tr>\n",
       "    <tr>\n",
       "      <th>153</th>\n",
       "      <td>Visa_mpagominimo</td>\n",
       "      <td>48838</td>\n",
       "    </tr>\n",
       "  </tbody>\n",
       "</table>\n",
       "</div>"
      ],
      "text/plain": [
       "                     column_name  missing_values\n",
       "68      mtarjeta_visa_descuentos           16998\n",
       "70    mtarjeta_master_descuentos           23521\n",
       "110           Master_delinquency          101319\n",
       "111                Master_status          101319\n",
       "112  Master_mfinanciacion_limite          101319\n",
       "113          Master_Fvencimiento          101319\n",
       "114           Master_Finiciomora          977048\n",
       "115           Master_msaldototal          101319\n",
       "116           Master_msaldopesos          101319\n",
       "117         Master_msaldodolares          101319\n",
       "118        Master_mconsumospesos          586300\n",
       "119      Master_mconsumosdolares          586300\n",
       "120         Master_mlimitecompra          101319\n",
       "121        Master_madelantopesos          586300\n",
       "122      Master_madelantodolares          586300\n",
       "123        Master_fultimo_cierre          101770\n",
       "124               Master_mpagado          101319\n",
       "125           Master_mpagospesos          586300\n",
       "126         Master_mpagosdolares          586300\n",
       "127             Master_fechaalta          101319\n",
       "128         Master_mconsumototal          586300\n",
       "129             Master_cconsumos          586300\n",
       "130    Master_cadelantosefectivo          586300\n",
       "131           Master_mpagominimo          101319\n",
       "132             Visa_delinquency           48838\n",
       "133                  Visa_status           48838\n",
       "134    Visa_mfinanciacion_limite           48838\n",
       "135            Visa_Fvencimiento           48838\n",
       "136             Visa_Finiciomora          968318\n",
       "137             Visa_msaldototal           48838\n",
       "138             Visa_msaldopesos           48838\n",
       "139           Visa_msaldodolares           48838\n",
       "140          Visa_mconsumospesos          133593\n",
       "141        Visa_mconsumosdolares          133593\n",
       "142           Visa_mlimitecompra           48838\n",
       "143          Visa_madelantopesos          133593\n",
       "144        Visa_madelantodolares          133593\n",
       "145          Visa_fultimo_cierre           49162\n",
       "146                 Visa_mpagado           48838\n",
       "147             Visa_mpagospesos          133593\n",
       "148           Visa_mpagosdolares          133593\n",
       "149               Visa_fechaalta           48838\n",
       "150           Visa_mconsumototal          133593\n",
       "151               Visa_cconsumos          133593\n",
       "152      Visa_cadelantosefectivo          133593\n",
       "153             Visa_mpagominimo           48838"
      ]
     },
     "execution_count": 505,
     "metadata": {},
     "output_type": "execute_result"
    }
   ],
   "source": [
    "import pandas as pd\n",
    "\n",
    "# Asumiendo que df_train ya está definido\n",
    "na_counts = df_train.isna().sum()\n",
    "\n",
    "# Convertir la Serie a DataFrame\n",
    "na_counts_df = pd.DataFrame(na_counts, columns=['missing_values'])\n",
    "\n",
    "# Resetear el índice para convertir los nombres de las columnas en una columna\n",
    "na_counts_df.reset_index(inplace=True)\n",
    "\n",
    "# Renombrar las columnas\n",
    "na_counts_df.columns = ['column_name', 'missing_values']\n",
    "\n",
    "# Mostrar el DataFrame resultante\n",
    "na_counts_df.sort_values('missing_values', ascending=False)\n",
    "na_counts_df = na_counts_df[na_counts_df['missing_values']>0]\n",
    "na_counts_df.sort_values('missing_values', ascending=True)\n",
    "na_counts_df"
   ]
  },
  {
   "cell_type": "code",
   "execution_count": 506,
   "metadata": {},
   "outputs": [],
   "source": [
    "# import pandas as pd\n",
    "\n",
    "\n",
    "\n",
    "# import numpy as np\n",
    "\n",
    "\n",
    "\n",
    "# df_parallel = pd.read_csv(r\"C:\\Users\\Admin\\Documents\\1_Notebook\\1_Estudio\\1 UBA Maestría DS\\1_Especialización\\1_Segundo Semestre\\DMEyF\\Git\\dmeyf2024\\datasets\\competencia_01_crudo.csv\")\n",
    "\n",
    "\n",
    "\n",
    "# start_time = time.time()\n",
    "\n",
    "# # Crear la columna clase_ternaria usando la columna 'foto_mes' basada en la presencia real\n",
    "\n",
    "# df_ternaria= duckdb.query('''\n",
    "\n",
    "#     WITH siguiente_mes AS (\n",
    "\n",
    "#         SELECT\n",
    "\n",
    "#             numero_de_cliente,\n",
    "\n",
    "#             foto_mes,\n",
    "\n",
    "#             -- Obtener los meses siguientes en los que el cliente está presente\n",
    "\n",
    "#             LEAD(foto_mes, 1) OVER (PARTITION BY numero_de_cliente ORDER BY foto_mes) AS foto_mes_proximo1,\n",
    "\n",
    "#             LEAD(foto_mes, 2) OVER (PARTITION BY numero_de_cliente ORDER BY foto_mes) AS foto_mes_proximo2\n",
    "\n",
    "#         FROM df_parallel\n",
    "\n",
    "#     )\n",
    "\n",
    "#     SELECT\n",
    "\n",
    "#         numero_de_cliente,\n",
    "\n",
    "#         foto_mes,\n",
    "\n",
    "#         CASE\n",
    "\n",
    "#             -- Si el cliente está en los dos meses consecutivos siguientes\n",
    "\n",
    "#             WHEN foto_mes_proximo1 = foto_mes + 1 AND foto_mes_proximo2 = foto_mes + 2 THEN 'CONTINUA'\n",
    "\n",
    "#             -- Si el cliente no está en el siguiente mes\n",
    "\n",
    "#             WHEN foto_mes_proximo1 IS NULL OR foto_mes_proximo1 <> foto_mes + 1 THEN 'BAJA+1'\n",
    "\n",
    "#             -- Si el cliente está en el siguiente mes pero no en el segundo mes consecutivo\n",
    "\n",
    "#             WHEN foto_mes_proximo1 = foto_mes + 1 AND (foto_mes_proximo2 IS NULL OR foto_mes_proximo2 <> foto_mes + 2) THEN 'BAJA+2'\n",
    "\n",
    "#             ELSE NULL\n",
    "\n",
    "#         END AS clase_ternaria\n",
    "\n",
    "#     FROM siguiente_mes\n",
    "\n",
    "#     ORDER BY numero_de_cliente, foto_mes\n",
    "\n",
    "#     ''')\n",
    "\n",
    "# df_ternaria = df_ternaria.to_df()\n",
    "# df_ternaria = df_ternaria[['numero_de_cliente', 'foto_mes', 'clase_ternaria']]\n",
    "\n",
    "\n",
    "# df_parallel = df_parallel.merge(df_ternaria, on=['numero_de_cliente', 'foto_mes'], how='left')\n",
    "\n",
    "# df_parallel.to_csv(r\"C:\\Users\\Admin\\Documents\\1_Notebook\\1_Estudio\\1 UBA Maestría DS\\1_Especialización\\1_Segundo Semestre\\DMEyF\\Git\\dmeyf2024\\datasets\\competencia_01.csv\", index=False)"
   ]
  },
  {
   "cell_type": "markdown",
   "metadata": {},
   "source": [
    "df_train.columns.values"
   ]
  },
  {
   "cell_type": "markdown",
   "metadata": {},
   "source": [
    "# Feature Engineering"
   ]
  },
  {
   "cell_type": "code",
   "execution_count": 507,
   "metadata": {},
   "outputs": [],
   "source": [
    "# con.execute('''\n",
    "# CREATE OR REPLACE TABLE df_train AS\n",
    "# SELECT *,\n",
    "#     (COALESCE(mpayroll, 0) - COALESCE(mcuentas_saldo, 0)) / NULLIF(ctrx_quarter, 0) AS intensidad_gasto\n",
    "# FROM df_train\n",
    "# ''')"
   ]
  },
  {
   "cell_type": "code",
   "execution_count": 508,
   "metadata": {},
   "outputs": [],
   "source": [
    "# df_train['intensidad_gasto'] = (df_train['mpayroll'].fillna(0) - df_train['mcuentas_saldo'].fillna(0)) / df_train['ctrx_quarter'].replace(0, pd.NA)"
   ]
  },
  {
   "cell_type": "code",
   "execution_count": 509,
   "metadata": {},
   "outputs": [],
   "source": [
    "# con.execute('''\n",
    "# create or replace table df_train as\n",
    "# select \n",
    "#     *,\n",
    "#     (IFNULL(visa_msaldototal, 0) + IFNULL(master_msaldototal, 0)) as t_saldo_total\n",
    "# FROM df_train''')\n",
    "\n",
    "\n"
   ]
  },
  {
   "cell_type": "code",
   "execution_count": 510,
   "metadata": {},
   "outputs": [],
   "source": [
    "# df_train['t_saldo_total'] = df_train['Visa_msaldototal'].fillna(0) + df_train['Master_msaldototal'].fillna(0)"
   ]
  },
  {
   "cell_type": "code",
   "execution_count": 511,
   "metadata": {},
   "outputs": [],
   "source": [
    "# con.execute('''\n",
    "# create or replace table df_train as\n",
    "# select \n",
    "#     *,\n",
    "#     (ifnull(Master_mconsumototal,0) + ifnull(Visa_mconsumototal,0)) as t_consumo_total\n",
    "# from df_train''')\n"
   ]
  },
  {
   "cell_type": "code",
   "execution_count": 512,
   "metadata": {},
   "outputs": [],
   "source": [
    "# con.execute('''\n",
    "#             create or replace table df_train as\n",
    "#             select \n",
    "#                     *,\n",
    "#             (IFNULL(t_consumo_total,0) - IFNULL(mpayroll,0)) /NULLIF((IFNULL(mcuentas_saldo, 0) - IFNULL(t_saldo_total,0)), 0) as nivel_endeudamiento, \n",
    "#             FROM df_train''')"
   ]
  },
  {
   "cell_type": "code",
   "execution_count": 513,
   "metadata": {},
   "outputs": [],
   "source": [
    "# df_train['t_consumo_total'] = df_train['Master_mconsumototal'].fillna(0) + df_train['Visa_mconsumototal'].fillna(0)"
   ]
  },
  {
   "cell_type": "code",
   "execution_count": 514,
   "metadata": {},
   "outputs": [],
   "source": [
    "# con.execute('''\n",
    "# create or replace table df_train as\n",
    "# select\n",
    "#     *,\n",
    "#     (case when visa_status = 0 then True end) as T_Visa_normal,\n",
    "#     (case when Master_status = 0 then True end) as T_Master_normal\n",
    "# from df_train''')"
   ]
  },
  {
   "cell_type": "code",
   "execution_count": 515,
   "metadata": {},
   "outputs": [],
   "source": [
    "# df_train['T_Visa_normal'] = df_train['Visa_status'] == 0\n",
    "\n",
    "\n",
    "# df_train['T_Master_normal'] = df_train['Master_status'] == 0"
   ]
  },
  {
   "cell_type": "code",
   "execution_count": 516,
   "metadata": {},
   "outputs": [],
   "source": [
    "# con.execute('''\n",
    "# create or replace table df_train as\n",
    "# select *\n",
    "#     , greatest(Master_Fvencimiento, Visa_Fvencimiento) as tc_fvencimiento_mayor\n",
    "#     , least(Master_Fvencimiento, Visa_Fvencimiento) as tc_fvencimiento_menor\n",
    "# from df_train''')"
   ]
  },
  {
   "cell_type": "code",
   "execution_count": 517,
   "metadata": {},
   "outputs": [],
   "source": [
    "# con.execute('''\n",
    "# create or replace table df_train as\n",
    "# select *,\n",
    "#     lag (nivel_endeudamiento, 1) over (\n",
    "#         partition by numero_de_cliente \n",
    "#         order by foto_mes\n",
    "#     ) as lag_endeudamiento1,\n",
    "#     lag (nivel_endeudamiento, 2) over (\n",
    "#         partition by numero_de_cliente \n",
    "#         order by foto_mes\n",
    "#     ) as lag_endeudamiento2\n",
    "# from df_train''')\n"
   ]
  },
  {
   "cell_type": "code",
   "execution_count": 518,
   "metadata": {},
   "outputs": [],
   "source": [
    "# con.execute('''create or replace table df_train as\n",
    "#     select *\n",
    "#     , Master_mpagado+Visa_mpagado as tarjeta_total_pagado\n",
    "#     from df_train''')"
   ]
  },
  {
   "cell_type": "code",
   "execution_count": 519,
   "metadata": {},
   "outputs": [],
   "source": [
    "# con.execute('''create or replace table df_train as\n",
    "#     select *\n",
    "#     ,IFNULL(tarjeta_total_pagado, 0) / NULLIF(IFNULL(mprestamos_personales,0),0) as actitud_pago\n",
    "#             from df_train''')"
   ]
  },
  {
   "cell_type": "code",
   "execution_count": 520,
   "metadata": {},
   "outputs": [],
   "source": [
    "# con.execute('''\n",
    "# create or replace table df_train as\n",
    "# select *,\n",
    "#     lag (actitud_pago, 1) over (\n",
    "#         partition by numero_de_cliente \n",
    "#         order by foto_mes\n",
    "#     ) as lag_actitud_pago_1,\n",
    "#     lag (actitud_pago, 2) over (\n",
    "#         partition by numero_de_cliente \n",
    "#         order by foto_mes\n",
    "#     ) as lag_actitud_pago_2\n",
    "# from df_train''')"
   ]
  },
  {
   "cell_type": "code",
   "execution_count": 521,
   "metadata": {},
   "outputs": [],
   "source": [
    "# df_train['T_Visa_normal'] = df_train['Visa_status'] == 0\n",
    "\n",
    "# # Calcular la nueva columna T_Master_normal\n",
    "# df_train['T_Master_normal'] = df_train['Master_status'] == 0"
   ]
  },
  {
   "cell_type": "code",
   "execution_count": 522,
   "metadata": {},
   "outputs": [],
   "source": [
    "# con.execute('''\n",
    "# create or replace table df_train as\n",
    "# select *,\n",
    "#     lag (ctrx_quarter, 1) over (\n",
    "#         partition by numero_de_cliente \n",
    "#         order by foto_mes\n",
    "#     ) as lag_ctrx_quarter1,\n",
    "#     lag (ctrx_quarter, 2) over (\n",
    "#         partition by numero_de_cliente \n",
    "#         order by foto_mes\n",
    "#     ) as lag_ctrx_quarter2\n",
    "# from df_train''')\n"
   ]
  },
  {
   "cell_type": "code",
   "execution_count": 523,
   "metadata": {},
   "outputs": [],
   "source": [
    "\n",
    "# con.execute('''\n",
    "# create or replace table df_train as\n",
    "# select *,\n",
    "#     lag (mpayroll, 1) over (\n",
    "#         partition by numero_de_cliente \n",
    "#         order by foto_mes\n",
    "#     ) as lag_mpayroll1,\n",
    "#     lag (mpayroll, 2) over (\n",
    "#         partition by numero_de_cliente \n",
    "#         order by foto_mes\n",
    "#     ) as lag_mpayroll2\n",
    "# from df_train''')\n"
   ]
  },
  {
   "cell_type": "code",
   "execution_count": 524,
   "metadata": {},
   "outputs": [],
   "source": [
    "\n",
    "# df_sorted = df_train.sort_values(by=['numero_de_cliente', 'foto_mes'])\n",
    "\n",
    "\n",
    "# df_train['lag_ctrx_quarter1'] = df_sorted.groupby('numero_de_cliente')['ctrx_quarter'].shift(1)\n",
    "\n",
    "\n",
    "# df_train['lag_ctrx_quarter2'] = df_sorted.groupby('numero_de_cliente')['ctrx_quarter'].shift(2)"
   ]
  },
  {
   "cell_type": "code",
   "execution_count": 525,
   "metadata": {},
   "outputs": [],
   "source": [
    "# con.execute('''\n",
    "# create or replace table df_train as\n",
    "# select * \n",
    "#     , lag (t_consumo_total, 1) over (\n",
    "#         partition by numero_de_cliente \n",
    "#         order by foto_mes, numero_de_cliente\n",
    "#     ) as lag_consumo_total1\n",
    "#     , lag (t_consumo_total, 2) over (\n",
    "#         partition by numero_de_cliente \n",
    "#         order by foto_mes, numero_de_cliente\n",
    "#     ) as lag_consumo_total2\n",
    "# from df_train''')"
   ]
  },
  {
   "cell_type": "code",
   "execution_count": 526,
   "metadata": {},
   "outputs": [],
   "source": [
    "# con.execute('''create or replace table df_train as\n",
    "# select *\n",
    "#   , ctrx_quarter - lag_ctrx_quarter1 as delta_1_ctrx_quarter\n",
    "#   , ctrx_quarter - lag_ctrx_quarter2 as delta_1_ctrx_quarter\n",
    "# from df_train''')"
   ]
  },
  {
   "cell_type": "code",
   "execution_count": 527,
   "metadata": {},
   "outputs": [],
   "source": [
    "\n",
    "# con.execute('''create or replace table df_train as\n",
    "# select *\n",
    "#   , t_consumo_total - lag_consumo_total1 as delta_1_lag_confumo_total\n",
    "#   , t_consumo_total - lag_consumo_total2 as delta_2_lag_consumo_total\n",
    "# from df_train''')"
   ]
  },
  {
   "cell_type": "code",
   "execution_count": 528,
   "metadata": {},
   "outputs": [],
   "source": [
    "# con.execute(''' create or replace table df_train as\n",
    "# select *\n",
    "#   ,         IFNULL (t_consumo_total,0) / NULLIF (IFNULL (mpayroll,0),0) as consumo_vs_payroll\n",
    "#             from df_train''')"
   ]
  },
  {
   "cell_type": "code",
   "execution_count": 529,
   "metadata": {},
   "outputs": [],
   "source": [
    "# con.execute('''\n",
    "# create or replace table df_train as\n",
    "# select * \n",
    "#     , lag (consumo_vs_payroll, 1) over (\n",
    "#         partition by numero_de_cliente \n",
    "#         order by foto_mes, numero_de_cliente\n",
    "#     ) as lag_consumo_vs_payroll_1\n",
    "#     , lag (consumo_vs_payroll, 2) over (\n",
    "#         partition by numero_de_cliente \n",
    "#         order by foto_mes, numero_de_cliente\n",
    "#     ) as lag_consumo_vs_payroll_2\n",
    "# from df_train''')"
   ]
  },
  {
   "cell_type": "code",
   "execution_count": 530,
   "metadata": {},
   "outputs": [],
   "source": [
    "# # Ordenar el DataFrame por 'numero_de_cliente' y 'foto_mes'\n",
    "# df_sorted = df_train.sort_values(by=['numero_de_cliente', 'foto_mes'])\n",
    "\n",
    "# # Calcular la columna 'lag_consumo_total1'\n",
    "# df_train['lag_consumo_total1'] = df_sorted.groupby('numero_de_cliente')['t_consumo_total'].shift(1)\n",
    "\n",
    "# # Calcular la columna 'lag_consumo_total2'\n",
    "# df_train['lag_consumo_total2'] = df_sorted.groupby('numero_de_cliente')['t_consumo_total'].shift(2)"
   ]
  },
  {
   "cell_type": "code",
   "execution_count": 531,
   "metadata": {},
   "outputs": [],
   "source": [
    "# con.execute('''\n",
    "            \n",
    "    \n",
    "# create or replace table df_train as\n",
    "# select *\n",
    "#     , percent_rank() over (partition by foto_mes order by cliente_antiguedad,numero_de_cliente) as cliente_antiguedad_dd\n",
    "#     , percent_rank() over (partition by foto_mes order by cliente_edad,numero_de_cliente) as cliente_edad_dd\n",
    "#     , percent_rank() over (partition by foto_mes order by ctrx_quarter,numero_de_cliente) as ctrx_quarter_dd\n",
    "#     , percent_rank() over (partition by foto_mes order by mactivos_margen,numero_de_cliente) as mactivos_margen_dd\n",
    "#     , percent_rank() over (partition by foto_mes order by mpayroll,numero_de_cliente) as mpayroll_dd\n",
    "#     , percent_rank() over (partition by foto_mes order by intensidad_gasto,numero_de_cliente) as intensidad_gasto_dd\n",
    "#     , percent_rank() over (partition by foto_mes order by cproductos,numero_de_cliente) as cproductos_dd\n",
    "# from df_train''')\n",
    "\n"
   ]
  },
  {
   "cell_type": "code",
   "execution_count": 532,
   "metadata": {},
   "outputs": [],
   "source": [
    "# con.execute('''create or replace table df_train as\n",
    "# select *, \n",
    "#             greatest(ctarjeta_visa_transacciones, ctarjeta_master_transacciones) as max_tarjeta_transacciones,\n",
    "#             greatest(ccallcenter_transacciones, chomebanking_transacciones) as max_dig_analog_transacciones,\n",
    "#             least(ctarjeta_debito_transacciones, ctarjeta_visa_transacciones) as min_tarjeta_debito_transacciones,\n",
    "#             least(ctarjeta_visa_transacciones, ctarjeta_master_transacciones) as min_tarjeta_master_transacciones,\n",
    "#             least(ccallcenter_transacciones, chomebanking_transacciones) as min_callcenter_transacciones,\n",
    "#             from df_train''')\n",
    "            "
   ]
  },
  {
   "cell_type": "code",
   "execution_count": 533,
   "metadata": {},
   "outputs": [],
   "source": [
    "# # Calcular percent_rank para cada columna\n",
    "# df_train['cliente_antiguedad_dd'] = df_train.groupby('foto_mes')['cliente_antiguedad'].rank(method='min', pct=True)\n",
    "# df_train['cliente_edad_dd'] = df_train.groupby('foto_mes')['cliente_edad'].rank(method='min', pct=True)\n",
    "# df_train['ctrx_quarter_dd'] = df_train.groupby('foto_mes')['ctrx_quarter'].rank(method='min', pct=True)\n",
    "# df_train['mactivos_margen_dd'] = df_train.groupby('foto_mes')['mactivos_margen'].rank(method='min', pct=True)\n",
    "# df_train['mpayroll_dd'] = df_train.groupby('foto_mes')['mpayroll'].rank(method='min', pct=True)\n",
    "# df_train['intensidad_gasto_dd'] = df_train.groupby('foto_mes')['intensidad_gasto'].rank(method='min', pct=True)\n",
    "# df_train['cproductos_dd'] = df_train.groupby('foto_mes')['cproductos'].rank(method='min', pct=True)"
   ]
  },
  {
   "cell_type": "code",
   "execution_count": 534,
   "metadata": {},
   "outputs": [],
   "source": [
    "# df_train = con.execute('''SELECT * FROM df_train''').fetch_df()\n"
   ]
  },
  {
   "cell_type": "code",
   "execution_count": 535,
   "metadata": {},
   "outputs": [],
   "source": [
    "# con.close()"
   ]
  },
  {
   "cell_type": "code",
   "execution_count": 536,
   "metadata": {},
   "outputs": [],
   "source": [
    "# df_train.shape"
   ]
  },
  {
   "cell_type": "code",
   "execution_count": 537,
   "metadata": {},
   "outputs": [],
   "source": [
    "# # df_train.to_csv(r\"C:\\Users\\Admin\\Documents\\1_Notebook\\1_Estudio\\1_UBA_Maestria_DS\\1_Especializacion\\1_Segundo_Semestre\\DMEyF\\Git\\dmeyf2024\\datasets\\competencia_03_f_e.csv\", index=False)\n",
    "# df_train = pd.read_csv(r\"C:\\Users\\Admin\\Documents\\1_Notebook\\1_Estudio\\1_UBA_Maestria_DS\\1_Especializacion\\1_Segundo_Semestre\\DMEyF\\Git\\dmeyf2024\\datasets\\competencia_03_f_e.csv\", index_col=False)    "
   ]
  },
  {
   "cell_type": "code",
   "execution_count": 538,
   "metadata": {},
   "outputs": [
    {
     "data": {
      "text/plain": [
       "(981946, 155)"
      ]
     },
     "execution_count": 538,
     "metadata": {},
     "output_type": "execute_result"
    }
   ],
   "source": [
    "df_train.shape"
   ]
  },
  {
   "cell_type": "markdown",
   "metadata": {},
   "source": [
    "### Modelo para variables más importantes + optimización "
   ]
  },
  {
   "cell_type": "code",
   "execution_count": 539,
   "metadata": {},
   "outputs": [],
   "source": [
    "# mod = sklearn.ensemble.RandomForestClassifier(n_estimators=400, min_samples_leaf=200, random_state=semillas[1])\n",
    "# X = df_train.drop(columns=['clase_ternaria'])\n",
    "\n",
    "# X = X.select_dtypes(include=['float64', 'int64'])\n",
    "# Y = df_train['clase_ternaria'].map(lambda x: 0 if x == 'CONTINUA' else 1)\n",
    "# imp_mean = SimpleImputer(missing_values=np.nan, strategy='median')\n",
    "# X_imp = imp_mean.fit_transform(X)\n",
    "# mod.fit(X_imp, Y)\n",
    "# importances = mod.feature_importances_\n",
    "# feature_names = X.columns\n",
    "\n",
    "\n",
    "# feature_importances = pd.DataFrame({'feature': feature_names, 'importance': importances})\n",
    "# feature_importances = feature_importances.sort_values(by='importance', ascending=False)\n"
   ]
  },
  {
   "cell_type": "code",
   "execution_count": 540,
   "metadata": {},
   "outputs": [],
   "source": [
    "# # # # features + importantes\n",
    "# # # #feature_most_important = feature_importances.query('importance > 0.01')\n",
    "# # # #pd.set_option('display.max_rows', 50)\n",
    "# # # #feature_most_important['feature'].tolist()\n",
    "\n",
    "# lista_feature_importances = ['mrentabilidad_annual',\n",
    "#  'delta_1_ctrx_quarter_1',\n",
    "#  'mcuentas_saldo',\n",
    "#  'mpasivos_margen',\n",
    "#  'Visa_mfinanciacion_limite',\n",
    "#  'delta_1_ctrx_quarter',\n",
    "#  'mrentabilidad',\n",
    "#  'Visa_fechaalta',\n",
    "#  'chomebanking_transacciones',\n",
    "#  'Master_fechaalta']"
   ]
  },
  {
   "cell_type": "code",
   "execution_count": 541,
   "metadata": {},
   "outputs": [],
   "source": [
    "\n",
    "\n",
    "# def multiplicador(df, lista):\n",
    "#     for i in range(len(lista)):\n",
    "#         for j in range(i+1, len(lista)):\n",
    "#             variable1 = lista[i]\n",
    "#             variable2 = lista[j]\n",
    "#             nombre = f\"{variable1}_x_{variable2}\"\n",
    "#             df[nombre] = df[variable1] * df[variable2]\n",
    "#     return df\n",
    "\n",
    "\n",
    "\n",
    "\n",
    "# def distancias(df, lista):\n",
    "#     combinaciones = itertools.combinations(lista, 4)\n",
    "#     new_columns = {}  \n",
    "\n",
    "#     for comb in combinaciones:\n",
    "#         variable1, variable2, variable3, variable4 = comb\n",
    "#         nombre = f\"distancia_{variable1}_x_{variable2}_x_{variable3}_x_{variable4}\"\n",
    "\n",
    "        \n",
    "#         denominador = df[variable3] - df[variable4]\n",
    "#         numerador = df[variable1] - df[variable2]\n",
    "\n",
    "        \n",
    "#         with np.errstate(divide='ignore', invalid='ignore'):\n",
    "#             distancia = np.where(denominador != 0, numerador / denominador, np.nan)\n",
    "\n",
    "        \n",
    "#         new_columns[nombre] = distancia\n",
    "\n",
    "    \n",
    "#     new_columns_df = pd.DataFrame(new_columns, index=df.index)\n",
    "\n",
    "    \n",
    "#     df = pd.concat([df, new_columns_df], axis=1)\n",
    "\n",
    "#     return df\n",
    "\n",
    "\n",
    "\n",
    "\n",
    "    "
   ]
  },
  {
   "cell_type": "code",
   "execution_count": 542,
   "metadata": {},
   "outputs": [],
   "source": [
    "\n",
    "# df_train = multiplicador(df_train, lista_feature_importances)\n",
    "# print (df_train.shape)\n",
    "\n",
    "\n"
   ]
  },
  {
   "cell_type": "code",
   "execution_count": 543,
   "metadata": {},
   "outputs": [],
   "source": [
    "\n",
    "# df_train = distancias (df_train, lista_feature_importances)\n",
    "# print (df_train.shape)"
   ]
  },
  {
   "cell_type": "code",
   "execution_count": 544,
   "metadata": {},
   "outputs": [],
   "source": [
    "# df_max = df_train.select_dtypes(include=['float64', 'int64'])\n",
    "# df_train['maximo_valor_columna'] = df_max.max(axis=1)"
   ]
  },
  {
   "cell_type": "code",
   "execution_count": 545,
   "metadata": {},
   "outputs": [],
   "source": [
    "# reformateando Index(['intensidad_gasto', 'T_Visa_normal', 'T_Master_normal'], dtype='object')\n",
    "\n",
    "# df_train['T_Visa_normal'] = df_train['T_Visa_normal'].astype(bool)\n",
    "# df_train['T_Master_normal'] = df_train['T_Master_normal'].astype(bool)\n",
    "# df_train['intensidad_gasto'] = df_train['intensidad_gasto'].fillna(0)\n",
    "# df_train['intensidad_gasto'] = df_train['intensidad_gasto'].astype(float)\n",
    "# df_train['intensidad_gasto'].dtype\n"
   ]
  },
  {
   "cell_type": "code",
   "execution_count": 546,
   "metadata": {},
   "outputs": [],
   "source": [
    "# df_train['foto_mes'] = pd.to_datetime(df_train['foto_mes'], format='%Y%m')\n",
    "# registro_fecha_min = df_train['foto_mes'].min()\n",
    "# df_train['days_since_primer_registro'] = (df_train['foto_mes'] - pd.to_datetime(registro_fecha_min)).dt.days\n"
   ]
  },
  {
   "cell_type": "code",
   "execution_count": 547,
   "metadata": {},
   "outputs": [],
   "source": [
    "# df_train.shape"
   ]
  },
  {
   "cell_type": "code",
   "execution_count": 548,
   "metadata": {},
   "outputs": [],
   "source": [
    "# df_matrix = df_train[df_train['foto_mes']=='2021-04-01']\n",
    "# Xtrain = df_matrix\n",
    "# ytrain = Xtrain[\"clase_ternaria\"].map(lambda x: 0 if x == \"CONTINUA\" else 1)\n",
    "# Xtrain = Xtrain.drop(columns=[\"clase_ternaria\", \"foto_mes\"])"
   ]
  },
  {
   "cell_type": "code",
   "execution_count": 549,
   "metadata": {},
   "outputs": [],
   "source": [
    "# ytrain.shape"
   ]
  },
  {
   "cell_type": "code",
   "execution_count": 550,
   "metadata": {},
   "outputs": [],
   "source": [
    "# np.random.seed(500009)\n",
    "\n",
    "# continua_sample = ytrain[ytrain == 0].sample(2000, random_state=500009).index\n",
    "# bajas_1_2 = ytrain[ytrain == 1].index\n",
    "# rf_index = continua_sample.union(bajas_1_2)\n",
    "\n",
    "# Xtrain_rf = Xtrain.loc[rf_index]\n",
    "# ytrain_rf = ytrain.loc[rf_index]"
   ]
  },
  {
   "cell_type": "code",
   "execution_count": 551,
   "metadata": {},
   "outputs": [],
   "source": [
    "# Xtrain_rf['intensidad_gasto'] = Xtrain_rf['intensidad_gasto'].fillna(0)\n",
    "# Xtrain_rf['intensidad_gasto'] = Xtrain_rf['intensidad_gasto'].astype(float)\n",
    "# Xtrain_rf['intensidad_gasto'] = Xtrain_rf['intensidad_gasto'].replace(0,np.nan)\n"
   ]
  },
  {
   "cell_type": "code",
   "execution_count": 552,
   "metadata": {},
   "outputs": [],
   "source": [
    "# Xtrain_rf['intensidad_gasto'] = Xtrain_rf['intensidad_gasto'].replace(0,np.nan)"
   ]
  },
  {
   "cell_type": "code",
   "execution_count": 553,
   "metadata": {},
   "outputs": [],
   "source": [
    "# imp_mean = SimpleImputer(missing_values=np.nan, strategy='median')\n",
    "# Xtrain_rf_imp = imp_mean.fit_transform(Xtrain_rf)\n",
    "\n",
    "\n",
    "\n"
   ]
  },
  {
   "cell_type": "code",
   "execution_count": 554,
   "metadata": {},
   "outputs": [],
   "source": [
    "\n",
    "\n",
    "# numeric_cols = Xtrain_rf.select_dtypes(include=[np.number]).columns\n",
    "# Xtrain_rf_numeric = Xtrain_rf[numeric_cols]\n",
    "\n",
    "# # Paso 2: Identificar y eliminar columnas con solo NaNs\n",
    "# cols_all_nan = Xtrain_rf_numeric.columns[Xtrain_rf_numeric.isna().all()].tolist()\n",
    "# Xtrain_rf_numeric_no_nan = Xtrain_rf_numeric.drop(columns=cols_all_nan)\n",
    "\n",
    "# # Paso 3: Imputación\n",
    "# imp_mean = SimpleImputer(missing_values=np.nan, strategy='median')\n",
    "# Xtrain_rf_imp = imp_mean.fit_transform(Xtrain_rf_numeric_no_nan)\n"
   ]
  },
  {
   "cell_type": "code",
   "execution_count": 555,
   "metadata": {},
   "outputs": [],
   "source": [
    "# Mejores parámetros modelo con multiplicador y distancias: {'criterion': 'entropy', 'max_depth': 18, 'min_samples_split': 49, 'min_samples_leaf': 17, 'max_leaf_nodes': 20, 'n_estimators': 357}\n"
   ]
  },
  {
   "cell_type": "code",
   "execution_count": 556,
   "metadata": {},
   "outputs": [],
   "source": [
    "# sss_opt = ShuffleSplit(n_splits=5, test_size=0.3, random_state=semillas[1])\n",
    "\n",
    "# def ganancia(model, X, y, prop):\n",
    "#     y_pred = model.predict(X)\n",
    "#     return f1_score(y, y_pred)\n",
    "\n",
    "\n",
    "# def objective(trial, X, y, sss):\n",
    "#     criterion = trial.suggest_categorical('criterion', ['gini', 'entropy'])\n",
    "#     max_depth = trial.suggest_int('max_depth', 2, 30)\n",
    "#     min_samples_split = trial.suggest_int('min_samples_split', 2, 100)\n",
    "#     min_samples_leaf = trial.suggest_int('min_samples_leaf', 1, 30)\n",
    "#     max_leaf_nodes = trial.suggest_int('max_leaf_nodes', 2, 100)\n",
    "#     n_estimators = trial.suggest_int('n_estimators', 100, 450)\n",
    "\n",
    "#     def train_and_evaluate(train_index, test_index, X, y):\n",
    "#         m = RandomForestClassifier(\n",
    "#             criterion=criterion,\n",
    "#             max_depth=max_depth,\n",
    "#             min_samples_split=min_samples_split,\n",
    "#             min_samples_leaf=min_samples_leaf,\n",
    "#             max_leaf_nodes=max_leaf_nodes,\n",
    "#             n_estimators = n_estimators,\n",
    "#             random_state=semillas[1],\n",
    "#         )\n",
    "#         m.fit(X.iloc[train_index], y.iloc[train_index])\n",
    "#         ganancia_value = ganancia(m, X.iloc[test_index], y.iloc[test_index], prop=0.3)\n",
    "#         return ganancia_value\n",
    "\n",
    "#     results = []\n",
    "#     for train_index, test_index in sss.split(X):\n",
    "#         resultados = train_and_evaluate(train_index, test_index, X, y)\n",
    "#         results.append(resultados)\n",
    "\n",
    "#     return np.mean(results)\n",
    "\n",
    "# storage_name = r\"sqlite:///C:\\Users\\Admin\\Documents\\1_Notebook\\1_Estudio\\1 UBA Maestría DS\\1_Especialización\\1_Segundo Semestre\\DMEyF\\Optuna\\rf_segmentacion1\\optimization_tree.db\"\n",
    "# study_name = \"rf_segmentacion_sql_sin_multiplicacion_+variables2\"\n",
    "\n",
    "# study = optuna.create_study(\n",
    "#     direction=\"maximize\",\n",
    "#     study_name=study_name,\n",
    "#     storage=storage_name,\n",
    "#     load_if_exists=True,\n",
    "# )\n",
    "\n",
    "# study.optimize(lambda trial: objective(trial, Xtrain_rf_imp, ytrain_rf, sss_opt), n_trials=100)"
   ]
  },
  {
   "cell_type": "code",
   "execution_count": 557,
   "metadata": {},
   "outputs": [],
   "source": [
    "# best_params = study.best_params\n",
    "# print(\"Mejores parámetros:\", best_params)"
   ]
  },
  {
   "cell_type": "code",
   "execution_count": 558,
   "metadata": {},
   "outputs": [],
   "source": [
    "# Mejores parámetros modelo con multiplicador y distancias: {'criterion': 'entropy', 'max_depth': 18, 'min_samples_split': 49, 'min_samples_leaf': 17, 'max_leaf_nodes': 20, 'n_estimators': 357}\n",
    "# mejores parametros con multiplicador y distancias parámetros ampliados[I 2024-09-20 20:16:40,506] Trial 27 finished with value: 0.8539276241135811 and parameters: {'criterion': 'entropy', 'max_depth': 15, 'min_samples_split': 12, 'min_samples_leaf': 6, 'max_leaf_nodes': 72, 'n_estimators': 321}. Best is trial 27 with value: 0.8539276241135811.\n",
    "# meeroes parametros con sql y multiplicador y distancias parámetros ampliados [I 2024-09-20 21:55:44,120] Trial 63 finished with value: 0.8482707761957877 and parameters: {'criterion': 'entropy', 'max_depth': 20, 'min_samples_split': 6, 'min_samples_leaf': 7, 'max_leaf_nodes': 79, 'n_estimators': 421}. Best is trial 63 with value: 0.8482707761957877.\n",
    "# [I 2024-09-20 22:47:33,670] Trial 99 finished with value: 0.8606976030299156 and parameters: {'criterion': 'entropy', 'max_depth': 30, 'min_samples_split': 19, 'min_samples_leaf': 6, 'max_leaf_nodes': 86, 'n_estimators': 364}. Best is trial 80 with value: 0.8640001429117513.\n",
    "# Mejores parámetros sql con parametros ampliados 2: {'criterion': 'entropy', 'max_depth': 30, 'min_samples_split': 13, 'min_samples_leaf': 3, 'max_leaf_nodes': 80, 'n_estimators': 404}\n",
    "\n",
    "\n",
    "\n",
    "#Mejores parámetros para sólo variables sql: {'criterion': 'entropy', 'max_depth': 19, 'min_samples_split': 32, 'min_samples_leaf': 14, 'max_leaf_nodes': 20, 'n_estimators': 208}\n",
    "# [I 2024-09-20 21:07:23,138] Trial 74 finished with value: 0.8527321327714421 and parameters: {'criterion': 'entropy', 'max_depth': 19, 'min_samples_split': 2, 'min_samples_leaf': 3, 'max_leaf_nodes': 100, 'n_estimators': 325}. Best is trial 74 with value: 0.8527321327714421.\n",
    "\n",
    "\n"
   ]
  },
  {
   "cell_type": "markdown",
   "metadata": {},
   "source": [
    "# Light GBM"
   ]
  },
  {
   "cell_type": "code",
   "execution_count": 559,
   "metadata": {},
   "outputs": [],
   "source": [
    "# Filtrar los datos para el mes de junio de 2021\n"
   ]
  },
  {
   "cell_type": "code",
   "execution_count": 560,
   "metadata": {},
   "outputs": [],
   "source": [
    "#Master_status\n",
    "# df_train['Master_delinquency'] = df_train['Master_delinquency'].astype('category')\n",
    "# df_train['Master_status'] = df_train['Master_status'].astype('category')\n",
    "# df_train['Visa_status'] = df_train['Visa_status'].astype('category')\n",
    "# df_train['Visa_delinquency'] = df_train['Visa_delinquency'].astype('category')\n"
   ]
  },
  {
   "cell_type": "code",
   "execution_count": 561,
   "metadata": {},
   "outputs": [],
   "source": [
    "#Ver si corresponde hacer feature engeeniring \n",
    "#1 Formateo de columnas en categóricas para que las acepte el algoritmo\n",
    "#2 Armado del algoritmo\n",
    "#3 Optimización del algoritmo\n",
    "#4 Predicción de los datos de junio"
   ]
  },
  {
   "cell_type": "code",
   "execution_count": 562,
   "metadata": {},
   "outputs": [],
   "source": [
    "# df_train['foto_mes'] = df_train['foto_mes'].dt.strftime('%Y%m')\n"
   ]
  },
  {
   "cell_type": "code",
   "execution_count": 563,
   "metadata": {},
   "outputs": [],
   "source": [
    "# df_train['foto_mes'] = df_train['foto_mes'].astype('int64')\n",
    "# df_train['T_Visa_normal'] = df_train['T_Visa_normal'].astype('bool')\n",
    "# df_train['T_Master_normal'] = df_train['T_Master_normal'].astype('bool')"
   ]
  },
  {
   "cell_type": "code",
   "execution_count": 564,
   "metadata": {},
   "outputs": [],
   "source": [
    "# df_train['T_Master_normal'].dtypes\n"
   ]
  },
  {
   "cell_type": "code",
   "execution_count": 565,
   "metadata": {},
   "outputs": [],
   "source": [
    "\n",
    "ganancia_acierto = 273000\n",
    "costo_estimulo = 7000\n",
    "\n",
    "mes_train = 202104\n",
    "mes_test = 202106\n"
   ]
  },
  {
   "cell_type": "code",
   "execution_count": 566,
   "metadata": {},
   "outputs": [],
   "source": [
    "df_train = df_train.drop(columns=['cprestamos_personales','mprestamos_personales','Master_fultimo_cierre','Visa_fultimo_cierre'])"
   ]
  },
  {
   "cell_type": "code",
   "execution_count": 567,
   "metadata": {},
   "outputs": [],
   "source": [
    "df_gbm = df_train.copy() "
   ]
  },
  {
   "cell_type": "markdown",
   "metadata": {},
   "source": [
    "### Data Drifting"
   ]
  },
  {
   "cell_type": "code",
   "execution_count": 568,
   "metadata": {},
   "outputs": [],
   "source": [
    "train_data = df_gbm[df_gbm['foto_mes'] == mes_train]\n",
    "score_data = df_gbm[df_gbm['foto_mes'] == mes_test]"
   ]
  },
  {
   "cell_type": "code",
   "execution_count": 569,
   "metadata": {},
   "outputs": [],
   "source": [
    "def psi(expected, actual, buckets=10):\n",
    "\n",
    "    def psi_formula(expected_prop, actual_prop):\n",
    "        result = (actual_prop - expected_prop) * np.log(actual_prop / expected_prop)\n",
    "        return result\n",
    "\n",
    "    expected_not_null = expected.dropna()\n",
    "    actual_not_null = actual.dropna()\n",
    "\n",
    "    bin_edges = pd.qcut(expected_not_null, q=buckets, duplicates='drop').unique()\n",
    "    bin_edges2 = [edge.left for edge in bin_edges] + [edge.right for edge in bin_edges]\n",
    "    breakpoints = sorted(list(set(bin_edges2)))\n",
    "\n",
    "    expected_counts, _ = np.histogram(expected_not_null, bins=breakpoints)\n",
    "    actual_counts, _ = np.histogram(actual_not_null, bins=breakpoints)\n",
    "\n",
    "    expected_prop = expected_counts / len(expected_not_null)\n",
    "    actual_prop = actual_counts / len(actual_not_null)\n",
    "\n",
    "    psi_not_null = psi_formula(expected_prop, actual_prop).sum()\n",
    "\n",
    "    psi_null = 0\n",
    "\n",
    "    if expected.isnull().sum() > 0 and actual.isnull().sum() > 0 :\n",
    "      expected_null_percentage = expected.isnull().mean()\n",
    "      actual_null_percentage = actual.isnull().mean()\n",
    "      psi_null = psi_formula(expected_null_percentage, actual_null_percentage)\n",
    "\n",
    "    return psi_not_null + psi_null\n"
   ]
  },
  {
   "cell_type": "code",
   "execution_count": 570,
   "metadata": {},
   "outputs": [
    {
     "name": "stderr",
     "output_type": "stream",
     "text": [
      "C:\\Users\\Admin\\AppData\\Local\\Temp\\ipykernel_14100\\2860382255.py:4: RuntimeWarning: divide by zero encountered in log\n",
      "  result = (actual_prop - expected_prop) * np.log(actual_prop / expected_prop)\n",
      "C:\\Users\\Admin\\AppData\\Local\\Temp\\ipykernel_14100\\2860382255.py:4: RuntimeWarning: divide by zero encountered in log\n",
      "  result = (actual_prop - expected_prop) * np.log(actual_prop / expected_prop)\n"
     ]
    },
    {
     "data": {
      "text/html": [
       "<div>\n",
       "<style scoped>\n",
       "    .dataframe tbody tr th:only-of-type {\n",
       "        vertical-align: middle;\n",
       "    }\n",
       "\n",
       "    .dataframe tbody tr th {\n",
       "        vertical-align: top;\n",
       "    }\n",
       "\n",
       "    .dataframe thead th {\n",
       "        text-align: right;\n",
       "    }\n",
       "</style>\n",
       "<table border=\"1\" class=\"dataframe\">\n",
       "  <thead>\n",
       "    <tr style=\"text-align: right;\">\n",
       "      <th></th>\n",
       "      <th>feature</th>\n",
       "      <th>psi</th>\n",
       "    </tr>\n",
       "  </thead>\n",
       "  <tbody>\n",
       "    <tr>\n",
       "      <th>128</th>\n",
       "      <td>Visa_Finiciomora</td>\n",
       "      <td>inf</td>\n",
       "    </tr>\n",
       "    <tr>\n",
       "      <th>109</th>\n",
       "      <td>Master_Finiciomora</td>\n",
       "      <td>inf</td>\n",
       "    </tr>\n",
       "    <tr>\n",
       "      <th>48</th>\n",
       "      <td>cpayroll_trx</td>\n",
       "      <td>0.241274</td>\n",
       "    </tr>\n",
       "    <tr>\n",
       "      <th>49</th>\n",
       "      <td>mpayroll</td>\n",
       "      <td>0.213187</td>\n",
       "    </tr>\n",
       "    <tr>\n",
       "      <th>69</th>\n",
       "      <td>mcomisiones_mantenimiento</td>\n",
       "      <td>0.051215</td>\n",
       "    </tr>\n",
       "    <tr>\n",
       "      <th>...</th>\n",
       "      <td>...</td>\n",
       "      <td>...</td>\n",
       "    </tr>\n",
       "    <tr>\n",
       "      <th>62</th>\n",
       "      <td>ccajeros_propios_descuentos</td>\n",
       "      <td>0.000000</td>\n",
       "    </tr>\n",
       "    <tr>\n",
       "      <th>105</th>\n",
       "      <td>tmobile_app</td>\n",
       "      <td>0.000000</td>\n",
       "    </tr>\n",
       "    <tr>\n",
       "      <th>106</th>\n",
       "      <td>cmobile_app_trx</td>\n",
       "      <td>0.000000</td>\n",
       "    </tr>\n",
       "    <tr>\n",
       "      <th>75</th>\n",
       "      <td>cforex_sell</td>\n",
       "      <td>0.000000</td>\n",
       "    </tr>\n",
       "    <tr>\n",
       "      <th>72</th>\n",
       "      <td>cforex</td>\n",
       "      <td>0.000000</td>\n",
       "    </tr>\n",
       "  </tbody>\n",
       "</table>\n",
       "<p>145 rows × 2 columns</p>\n",
       "</div>"
      ],
      "text/plain": [
       "                         feature       psi\n",
       "128             Visa_Finiciomora       inf\n",
       "109           Master_Finiciomora       inf\n",
       "48                  cpayroll_trx  0.241274\n",
       "49                      mpayroll  0.213187\n",
       "69     mcomisiones_mantenimiento  0.051215\n",
       "..                           ...       ...\n",
       "62   ccajeros_propios_descuentos  0.000000\n",
       "105                  tmobile_app  0.000000\n",
       "106              cmobile_app_trx  0.000000\n",
       "75                   cforex_sell  0.000000\n",
       "72                        cforex  0.000000\n",
       "\n",
       "[145 rows x 2 columns]"
      ]
     },
     "execution_count": 570,
     "metadata": {},
     "output_type": "execute_result"
    }
   ],
   "source": [
    "psi_results = []\n",
    "for column in train_data.columns:\n",
    "  if column not in ['foto_mes', 'clase_ternaria','Master_delinquency', 'Master_status', 'Visa_delinquency',\n",
    "       'Visa_status', 'clase_ternaria']:\n",
    "    train_variable = train_data[column]\n",
    "    score_variable = score_data[column]\n",
    "    psi_value = psi(train_variable, score_variable)\n",
    "    psi_results.append({'feature': column, 'psi': psi_value})\n",
    "\n",
    "psi_df = pd.DataFrame(psi_results)\n",
    "psi_df = psi_df.sort_values('psi', ascending=False)\n",
    "psi_df"
   ]
  },
  {
   "cell_type": "code",
   "execution_count": 571,
   "metadata": {},
   "outputs": [],
   "source": [
    "df_gbm['clase_binaria1'] = 0\n",
    "df_gbm['clase_binaria2'] = 0\n",
    "df_gbm['clase_binaria1'] = np.where(df_gbm['clase_ternaria'] == 'BAJA+2', 1, 0)\n",
    "df_gbm['clase_binaria2'] = np.where(df_gbm['clase_ternaria'] == 'CONTINUA', 0, 1)"
   ]
  },
  {
   "cell_type": "code",
   "execution_count": 572,
   "metadata": {},
   "outputs": [],
   "source": [
    "df_gbm['clase_peso'] = 1.0\n",
    "\n",
    "df_gbm.loc[df_gbm['clase_ternaria'] == 'BAJA+2', 'clase_peso'] = 1.00002\n",
    "df_gbm.loc[df_gbm['clase_ternaria'] == 'BAJA+1', 'clase_peso'] = 1.00001"
   ]
  },
  {
   "cell_type": "code",
   "execution_count": 573,
   "metadata": {},
   "outputs": [],
   "source": [
    "train_data = df_gbm[df_gbm['foto_mes'] == mes_train]\n",
    "test_data = df_gbm[df_gbm['foto_mes'] == mes_test]\n",
    "\n",
    "X_train = train_data.drop(['clase_ternaria', 'clase_peso', 'clase_binaria1','clase_binaria2'], axis=1)\n",
    "y_train_binaria1 = train_data['clase_binaria1']\n",
    "y_train_binaria2 = train_data['clase_binaria2']\n",
    "w_train = train_data['clase_peso']\n",
    "\n",
    "X_test = test_data.drop(['clase_ternaria', 'clase_peso', 'clase_binaria1','clase_binaria2'], axis=1)\n",
    "y_test_binaria1 = test_data['clase_binaria1']\n",
    "y_test_class = test_data['clase_ternaria']\n",
    "w_test = test_data['clase_peso']"
   ]
  },
  {
   "cell_type": "code",
   "execution_count": 574,
   "metadata": {},
   "outputs": [],
   "source": [
    "def lgb_gan_eval(y_pred, data):\n",
    "    weight = data.get_weight()\n",
    "    ganancia = np.where(weight == 1.00002, ganancia_acierto, 0) - np.where(weight < 1.00002, costo_estimulo, 0)\n",
    "    ganancia = ganancia[np.argsort(y_pred)[::-1]]\n",
    "    ganancia = np.cumsum(ganancia)\n",
    "\n",
    "    return 'gan_eval', np.max(ganancia) , True\n",
    "\n",
    "# Parámetros del modelos.\n",
    "params = {\n",
    "    'objective': 'binary',\n",
    "    'metric': 'gan_eval',\n",
    "    'boosting_type': 'gbdt',\n",
    "    'max_bin': 31,\n",
    "    'num_leaves': 31,\n",
    "    'learning_rate': 0.01,\n",
    "    'feature_fraction': 0.3,\n",
    "    'bagging_fraction': 0.7,\n",
    "    'verbose': 0\n",
    "}"
   ]
  },
  {
   "cell_type": "code",
   "execution_count": 575,
   "metadata": {},
   "outputs": [],
   "source": [
    "train_data1 = lgb.Dataset(X_train, label=y_train_binaria1, weight=w_train )\n",
    "train_data2 = lgb.Dataset(X_train, label=y_train_binaria2, weight=w_train )"
   ]
  },
  {
   "cell_type": "code",
   "execution_count": 576,
   "metadata": {},
   "outputs": [],
   "source": [
    "cv_results1 = lgb.cv(\n",
    "    params,\n",
    "    train_data1,\n",
    "    num_boost_round=150,\n",
    "    feval=lgb_gan_eval,\n",
    "    nfold=5,\n",
    "    seed=semillas[0]\n",
    ")\n",
    "\n",
    "cv_results2 = lgb.cv(\n",
    "    params,\n",
    "    train_data2,\n",
    "    num_boost_round=150,\n",
    "    feval=lgb_gan_eval,\n",
    "    nfold=5,\n",
    "    seed=semillas[0]\n",
    ")"
   ]
  },
  {
   "cell_type": "code",
   "execution_count": 577,
   "metadata": {},
   "outputs": [
    {
     "data": {
      "image/png": "[encoded data removed]",
      "text/plain": [
       "<Figure size 1000x600 with 1 Axes>"
      ]
     },
     "metadata": {},
     "output_type": "display_data"
    }
   ],
   "source": [
    "df_ganancias = pd.DataFrame({\n",
    "    'binaria1': cv_results1['valid gan_eval-mean'],\n",
    "    'binaria2': cv_results2['valid gan_eval-mean'],\n",
    "    'Iteracion': range(1, len(cv_results1['valid gan_eval-mean']) + 1)\n",
    "})\n",
    "\n",
    "# Normalizamos la ganancias\n",
    "df_ganancias['binaria1'] = df_ganancias['binaria1']*5\n",
    "df_ganancias['binaria2'] = df_ganancias['binaria2']*5\n",
    "\n",
    "plt.figure(figsize=(10, 6))\n",
    "sns.lineplot(x='Iteracion', y='binaria1', data=df_ganancias, label='binaria 1')\n",
    "sns.lineplot(x='Iteracion', y='binaria2', data=df_ganancias, label='binaria 2')\n",
    "plt.title('Comparación de las Ganancias de las 2 clases binarias')\n",
    "plt.xlabel('Iteración')\n",
    "plt.ylabel('Ganancia')\n",
    "plt.legend()\n",
    "plt.show()"
   ]
  },
  {
   "cell_type": "code",
   "execution_count": 578,
   "metadata": {},
   "outputs": [],
   "source": [
    "# def objective(trial):\n",
    "#     num_leaves = trial.suggest_int('num_leaves', 8, 100)\n",
    "#     learning_rate = trial.suggest_float('learning_rate', 0.00005, 0.3)  # mas bajo, más iteraciones necesita\n",
    "#     min_data_in_leaf = trial.suggest_int('min_data_in_leaf', 1, 2000)\n",
    "#     feature_fraction = trial.suggest_float('feature_fraction', 0.1, 1.0)\n",
    "#     bagging_fraction = trial.suggest_float('bagging_fraction', 0.1, 1.0)\n",
    "\n",
    "#     params = {\n",
    "#         'objective': 'binary',\n",
    "#         'metric': 'custom', \n",
    "#         'boosting_type': 'gbdt',\n",
    "#         'device': 'gpu',  # Usar la GPU\n",
    "#         'gpu_platform_id': 0,  # (opcional) ID de la plataforma GPU\n",
    "#         'gpu_device_id': 0,     # (opcional) ID del dispositivo GPU\n",
    "#         'first_metric_only': True,\n",
    "#         'boost_from_average': True,\n",
    "#         'feature_pre_filter': False,\n",
    "#         'max_bin': 31,\n",
    "#         'device': 'gpu',\n",
    "#         'num_leaves': num_leaves,\n",
    "#         'learning_rate': learning_rate,\n",
    "#         'min_data_in_leaf': min_data_in_leaf,\n",
    "#         'feature_fraction': feature_fraction,\n",
    "#         'bagging_fraction': bagging_fraction,\n",
    "#         'seed': semillas[0],\n",
    "#         'verbose': -1\n",
    "#     }\n",
    "\n",
    "#     train_data = lgb.Dataset(X_train,\n",
    "#                              label=y_train_binaria2,  # elegir la clase\n",
    "#                              weight=w_train)\n",
    "                             \n",
    "#     cv_results = lgb.cv(\n",
    "#         params,\n",
    "#         train_data,\n",
    "#         num_boost_round=300,  # modificar, subir y subir... y descomentar la línea inferior\n",
    "        \n",
    "#         feval=lgb_gan_eval,\n",
    "#         stratified=True,\n",
    "#         nfold=5,\n",
    "#         seed=semillas[0]\n",
    "#     )\n",
    "\n",
    "#     max_gan = max(cv_results['valid gan_eval-mean'])\n",
    "#     best_iter = cv_results['valid gan_eval-mean'].index(max_gan) + 1\n",
    "\n",
    "#     # Guardamos cual es la mejor iteración del modelo\n",
    "#     trial.set_user_attr(\"best_iter\", best_iter)\n",
    "\n",
    "#     return max_gan * 5\n",
    "\n",
    "\n",
    "# storage_name = r\"sqlite:///C:\\Users\\Admin\\Documents\\1_Notebook\\1_Estudio\\1_UBA_Maestria_DS\\1_Especializacion\\1_Segundo_Semestre\\DMEyF\\Optuna\\rf_segmentacion1\\optimization_tree.db\"\n",
    "# study_name = \"l_gbm_base1\"\n",
    "\n",
    "\n",
    "\n",
    "# study = optuna.create_study(\n",
    "#     direction=\"maximize\",\n",
    "#     study_name=study_name,\n",
    "#     storage=storage_name,\n",
    "#     load_if_exists=True,\n",
    "# )\n",
    "\n",
    "# import optuna\n",
    "\n",
    "# class EarlyStoppingByImprovement:\n",
    "#     def __init__(self, patience: int):\n",
    "#         \"\"\"\n",
    "#         Args:\n",
    "#             patience (int): Número de pruebas consecutivas sin mejora antes de detener la optimización.\n",
    "#         \"\"\"\n",
    "#         self.patience = patience\n",
    "#         self.best_value = None\n",
    "#         self.no_improvement_trials = 0\n",
    "\n",
    "#     def __call__(self, study, trial):\n",
    "#         current_best_value = study.best_trial.value\n",
    "\n",
    "#         # Si la métrica mejora, reseteamos el contador\n",
    "#         if self.best_value is None or current_best_value > self.best_value:\n",
    "#             self.best_value = current_best_value\n",
    "#             self.no_improvement_trials = 0\n",
    "#         else:\n",
    "#             # Si no hay mejora, incrementamos el contador\n",
    "#             self.no_improvement_trials += 1\n",
    "\n",
    "#         # Detener si no ha habido mejora en 'self.patience' pruebas consecutivas\n",
    "#         if self.no_improvement_trials >= self.patience:\n",
    "#             print(f\"Early stopping: No hay mejora en {self.patience} pruebas consecutivas.\")\n",
    "#             study.stop()\n",
    "\n",
    "# # Crear el callback con 100 pruebas consecutivas sin mejora\n",
    "# early_stopping_callback = EarlyStoppingByImprovement(patience=300)\n",
    "\n",
    "# # Crear el estudio\n",
    "# study = optuna.create_study(\n",
    "#     direction=\"maximize\",\n",
    "#     study_name=study_name,\n",
    "#     storage=storage_name,\n",
    "#     load_if_exists=True,\n",
    "# )\n",
    "\n",
    "# # Optimizar el estudio con el callback personalizado\n",
    "# study.optimize(objective, n_trials=30000)\n"
   ]
  },
  {
   "cell_type": "code",
   "execution_count": 579,
   "metadata": {},
   "outputs": [],
   "source": [
    "best_params = {'num_leaves': 76, 'learning_rate': 0.04264413547569725, 'min_data_in_leaf': 766, 'feature_fraction': 0.8987812271100075, 'bagging_fraction': 0.6737761560342819}\n"
   ]
  },
  {
   "cell_type": "code",
   "execution_count": 580,
   "metadata": {},
   "outputs": [],
   "source": [
    "# optuna.visualization.plot_optimization_history(study)"
   ]
  },
  {
   "cell_type": "code",
   "execution_count": 581,
   "metadata": {},
   "outputs": [],
   "source": [
    "# plot_param_importances(study)"
   ]
  },
  {
   "cell_type": "code",
   "execution_count": 582,
   "metadata": {},
   "outputs": [],
   "source": [
    "# plot_slice(study)"
   ]
  },
  {
   "cell_type": "markdown",
   "metadata": {},
   "source": []
  },
  {
   "cell_type": "code",
   "execution_count": 583,
   "metadata": {},
   "outputs": [
    {
     "data": {
      "text/plain": [
       "{'num_leaves': 76,\n",
       " 'learning_rate': 0.04264413547569725,\n",
       " 'min_data_in_leaf': 766,\n",
       " 'feature_fraction': 0.8987812271100075,\n",
       " 'bagging_fraction': 0.6737761560342819}"
      ]
     },
     "execution_count": 583,
     "metadata": {},
     "output_type": "execute_result"
    }
   ],
   "source": [
    "best_params"
   ]
  },
  {
   "cell_type": "code",
   "execution_count": 584,
   "metadata": {},
   "outputs": [
    {
     "name": "stdout",
     "output_type": "stream",
     "text": [
      "Mejor cantidad de árboles para el mejor model 141\n"
     ]
    }
   ],
   "source": [
    "best_iter = study.best_trial.user_attrs[\"best_iter\"]\n",
    "print(f\"Mejor cantidad de árboles para el mejor model {best_iter}\")\n",
    "params = {\n",
    "    'objective': 'binary',\n",
    "    'boosting_type': 'gbdt',\n",
    "    'first_metric_only': True,\n",
    "    'boost_from_average': True,\n",
    "    'feature_pre_filter': False,\n",
    "    'max_bin': 31,\n",
    "    'num_leaves': study.best_params['num_leaves'],\n",
    "    'learning_rate': study.best_params['learning_rate'],\n",
    "    'min_data_in_leaf': study.best_params['min_data_in_leaf'],\n",
    "    'feature_fraction': study.best_params['feature_fraction'],\n",
    "    'bagging_fraction': study.best_params['bagging_fraction'],\n",
    "    'seed': semillas[0],\n",
    "    'verbose': 0\n",
    "}\n",
    "\n",
    "train_data = lgb.Dataset(X_train,\n",
    "                          label=y_train_binaria2,\n",
    "                          weight=w_train)\n",
    "\n",
    "model = lgb.train(params,\n",
    "                  train_data,\n",
    "                  num_boost_round=best_iter)"
   ]
  },
  {
   "cell_type": "code",
   "execution_count": 585,
   "metadata": {},
   "outputs": [],
   "source": [
    "# mes_test = 202106\n",
    "# test_data = df_gbm[df_gbm['foto_mes'] == mes_test]\n",
    "\n",
    "\n",
    "# X_test = test_data.drop(['clase_ternaria', 'clase_peso', 'clase_binaria1','clase_binaria2'], axis=1)\n",
    "# y_test_binaria1 = test_data['clase_binaria1']\n",
    "# y_test_class = test_data['clase_ternaria']\n",
    "# w_test = test_data['clase_peso']"
   ]
  },
  {
   "cell_type": "code",
   "execution_count": 586,
   "metadata": {},
   "outputs": [
    {
     "data": {
      "text/plain": [
       "(164876, 150)"
      ]
     },
     "execution_count": 586,
     "metadata": {},
     "output_type": "execute_result"
    }
   ],
   "source": [
    "X_test.shape"
   ]
  },
  {
   "cell_type": "code",
   "execution_count": 587,
   "metadata": {},
   "outputs": [],
   "source": [
    "y_pred_lgm = model.predict(X_test)"
   ]
  },
  {
   "cell_type": "code",
   "execution_count": 588,
   "metadata": {},
   "outputs": [],
   "source": [
    "y_pred_labels = (y_pred_lgm > 0.025).astype(int)\n"
   ]
  },
  {
   "cell_type": "code",
   "execution_count": 589,
   "metadata": {},
   "outputs": [],
   "source": [
    "#dataframe con las variables más importantes\n",
    "importancias = model.feature_importance()\n",
    "nombres = model.feature_name()\n",
    "df_variables_importantes = pd.DataFrame({'importancia': importancias, 'variable': nombres})\n",
    "df_variables_importantes = df_variables_importantes.sort_values(by='importancia', ascending=False)\n",
    "lista_variables_importantes =  df_variables_importantes['variable'].head(10).to_list()"
   ]
  },
  {
   "cell_type": "code",
   "execution_count": 590,
   "metadata": {},
   "outputs": [],
   "source": [
    "df_resultado = pd.DataFrame({\n",
    "    'numero_de_cliente': X_test['numero_de_cliente'],\n",
    "    'Predicted': y_pred_labels\n",
    "})"
   ]
  },
  {
   "cell_type": "code",
   "execution_count": 591,
   "metadata": {},
   "outputs": [],
   "source": [
    "\n",
    "# numero = '006'\n",
    "# entrega = f'entrega_{numero}.csv'\n",
    "# path = r\"C:\\Users\\Admin\\Documents\\1_Notebook\\1_Estudio\\1_UBA_Maestria_DS\\1_Especializacion\\1_Segundo_Semestre\\DMEyF\\Entregas\"\n",
    "# archivos = glob.glob(os.path.join(path, '*'))\n",
    "# archivos.sort(key=os.path.getmtime, reverse=True)\n",
    "# ultimo_archivo = archivos[0] if archivos else None\n",
    "# if ultimo_archivo:\n",
    "#     nombre_archivo = os.path.basename(ultimo_archivo)\n",
    "#     numero = ''.join(filter(str.isdigit, nombre_archivo))\n",
    "#     print(f\"El último archivo entregado es: {nombre_archivo}\")\n",
    "#     print(f\"El número extraído es: {numero}\")\n",
    "# else:\n",
    "#     print(\"No se encontraron archivos en la carpeta.\")\n",
    "\n",
    "\n",
    " "
   ]
  },
  {
   "cell_type": "code",
   "execution_count": 592,
   "metadata": {},
   "outputs": [],
   "source": [
    "#Ingresar el path sobre el cual se quiere ingresar el archivo a entregar\n",
    "\n",
    "entrega = df_resultado.to_csv(r\"C:\\Users\\Admin\\Desktop\\replicabilidad_competencia_01\\competencia_01_replicabilidad.csv\", index=False)"
   ]
  },
  {
   "cell_type": "code",
   "execution_count": 593,
   "metadata": {},
   "outputs": [],
   "source": [
    "\n",
    "# numero = '073'\n",
    "# entrega = f'entrega_{numero}.csv'"
   ]
  },
  {
   "cell_type": "code",
   "execution_count": 594,
   "metadata": {},
   "outputs": [],
   "source": [
    "\n",
    "\n",
    "# if os.path.exists(path + entrega):\n",
    "#     print(\"El archivo ya existe\")\n",
    "# else:\n",
    "#     entrega_final = os.path.join(path, entrega)\n",
    "#     df_resultado.to_csv(entrega_final, index=False)\n",
    "    \n"
   ]
  },
  {
   "cell_type": "code",
   "execution_count": 595,
   "metadata": {},
   "outputs": [],
   "source": [
    "# entrega_final"
   ]
  },
  {
   "cell_type": "code",
   "execution_count": 596,
   "metadata": {},
   "outputs": [],
   "source": [
    "# cantidad_columnas = df_gbm.shape[1]\n",
    "# message = f\"{entrega}, cantidad de columnas en el train: {cantidad_columnas}, modelo: LGBM, mejores parametros: {best_params}, mejor iteracion: {best_iter}, archivo: {entrega_final}\""
   ]
  },
  {
   "cell_type": "markdown",
   "metadata": {},
   "source": [
    "<!-- ### Kaggle -->"
   ]
  },
  {
   "cell_type": "code",
   "execution_count": 597,
   "metadata": {},
   "outputs": [],
   "source": [
    "\n",
    "# entrega_final = os.path.join(path, entrega)\n",
    "# entrega_final\n",
    "# competition= 'dm-ey-f-2024-primera'"
   ]
  },
  {
   "cell_type": "code",
   "execution_count": 598,
   "metadata": {},
   "outputs": [],
   "source": [
    "# kaggle.api.competition_submit(competition=competition, file_name= entrega_final, message=message, quiet=False)"
   ]
  },
  {
   "cell_type": "markdown",
   "metadata": {},
   "source": [
    "## Consejo de especialistas"
   ]
  },
  {
   "cell_type": "code",
   "execution_count": 599,
   "metadata": {},
   "outputs": [],
   "source": [
    "# df_abril = df_train[df_train['foto_mes'] == 202104]\n",
    "# df_abril.shape\n",
    "# df_abril['clase_ternaria'] = df_abril['clase_ternaria'].map(lambda x: 0 if x == 'CONTINUA' else 1)"
   ]
  },
  {
   "cell_type": "code",
   "execution_count": 600,
   "metadata": {},
   "outputs": [],
   "source": [
    "# df_junio = df_train[df_train['foto_mes'] == 202106]\n",
    "# clientes_unicos = df_junio['numero_de_cliente'].unique()"
   ]
  },
  {
   "cell_type": "code",
   "execution_count": 601,
   "metadata": {},
   "outputs": [],
   "source": [
    "# junio_en_abril = df_abril.loc[df_abril['numero_de_cliente'].isin(clientes_unicos), 'clase_ternaria']"
   ]
  },
  {
   "cell_type": "code",
   "execution_count": 602,
   "metadata": {},
   "outputs": [],
   "source": [
    "# Xtrain_rf = df_abril\n",
    "# ytrain_rf = Xtrain_rf[\"clase_ternaria\"].map(lambda x: 0 if x == \"CONTINUA\" else 1)\n",
    "# Xtrain_rf = Xtrain_rf.drop(\"clase_ternaria\", axis=1)"
   ]
  },
  {
   "cell_type": "code",
   "execution_count": 603,
   "metadata": {},
   "outputs": [],
   "source": [
    "# imp_mean = SimpleImputer(missing_values=np.nan, strategy='median')\n",
    "# Xtrain_rf_imp = imp_mean.fit_transform(Xtrain_rf)\n"
   ]
  },
  {
   "cell_type": "code",
   "execution_count": 604,
   "metadata": {},
   "outputs": [],
   "source": [
    "# Xtrain_rf_imp.shape"
   ]
  },
  {
   "cell_type": "code",
   "execution_count": 605,
   "metadata": {},
   "outputs": [],
   "source": [
    "# embedding_rf = UMAP(\n",
    "#   n_components=4,\n",
    "#   n_neighbors=50,\n",
    "#   metric=\"minkowski\",\n",
    "#   random_state=17,\n",
    "# ).fit_transform(Xtrain_rf_imp)\n",
    "\n",
    "# plt.scatter(embedding_rf[:,0], embedding_rf[:,1])"
   ]
  },
  {
   "cell_type": "code",
   "execution_count": 606,
   "metadata": {},
   "outputs": [],
   "source": [
    "# hdb = DBSCAN(eps=0.3)\n",
    "# y = hdb.fit(embedding_rf)\n",
    "\n",
    "# plt.scatter(embedding_rf[:, 0], embedding_rf[:, 1], c=y.labels_, cmap='tab10')\n",
    "# plt.tight_layout()\n",
    "# plt.show()"
   ]
  },
  {
   "cell_type": "code",
   "execution_count": 607,
   "metadata": {},
   "outputs": [],
   "source": [
    "# df_abril['clase_ternaria'].value_counts()"
   ]
  },
  {
   "cell_type": "code",
   "execution_count": 608,
   "metadata": {},
   "outputs": [],
   "source": [
    "\n",
    "\n",
    "# embedding_df = pd.DataFrame(embedding_rf, columns=['UMAP_1', 'UMAP_2'])\n",
    "\n",
    "# df_abril = df_abril.reset_index(drop=True)\n",
    "# df_abril = pd.concat([df_abril, embedding_df], axis=1)\n",
    "\n",
    "# df_abril['cluster'] = y.labels_\n",
    "\n"
   ]
  },
  {
   "cell_type": "code",
   "execution_count": 609,
   "metadata": {},
   "outputs": [],
   "source": [
    "# # Crear un mapa de colores para las clases\n",
    "# class_colors = {0: 'blue', 1: 'red'}  # Colores para las dos clases\n",
    "# class_names = {0: 'CONTINUA', 1: 'BAJA'}  # Etiquetas para las clases\n",
    "\n",
    "# plt.figure(figsize=(10, 7))\n",
    "\n",
    "# # Obtener etiquetas de clúster únicas\n",
    "# clusters_unique = df_abril['cluster'].unique()\n",
    "\n",
    "# # Graficar cada clúster y clase\n",
    "# for cluster in clusters_unique:\n",
    "#     # Indices de los puntos en este clúster\n",
    "#     idx = df_abril['cluster'] == cluster\n",
    "#     # Obtener las etiquetas de clase de estos puntos\n",
    "#     classes_in_cluster = df_abril.loc[idx, 'clase_ternaria']\n",
    "#     # Colorear puntos según su clase\n",
    "#     for class_value in [0, 1]:  # Asumiendo dos valores de clase (0, 1)\n",
    "#         idx_class = idx & (df_abril['clase_ternaria'] == class_value)\n",
    "#         if np.any(idx_class):\n",
    "#             plt.scatter(\n",
    "#                 df_abril.loc[idx_class, 'UMAP_1'],\n",
    "#                 df_abril.loc[idx_class, 'UMAP_2'],\n",
    "#                 color=class_colors[class_value],\n",
    "#                 label=f'Clúster {cluster}, {class_names[class_value]}',\n",
    "#                 edgecolor='k',\n",
    "#                 s=50,\n",
    "#                 alpha=0.5\n",
    "#             )\n",
    "\n",
    "\n",
    "\n",
    "# # Configuración de la gráfica\n",
    "# plt.xlabel('Componente UMAP 1')\n",
    "# plt.ylabel('Componente UMAP 2')\n",
    "# plt.title('Distribución de Clases en los Clústeres')\n",
    "# plt.tight_layout()\n",
    "# plt.show()\n",
    "\n"
   ]
  },
  {
   "cell_type": "code",
   "execution_count": 610,
   "metadata": {},
   "outputs": [],
   "source": [
    "# df_abril.groupby('cluster')['clase_ternaria'].value_counts(normalize=True).unstack().plot(kind='bar', stacked=True, color=['blue', 'red'])\n"
   ]
  },
  {
   "cell_type": "markdown",
   "metadata": {},
   "source": [
    "### Puntos de corte"
   ]
  },
  {
   "cell_type": "code",
   "execution_count": 611,
   "metadata": {},
   "outputs": [],
   "source": [
    "\n",
    "# predicciones = y_pred_lgm\n",
    "\n",
    "# X_test['Probabilidad'] = predicciones\n",
    "\n",
    "# tb_entrega = X_test.sort_values(by='Probabilidad', ascending=False)\n",
    "\n",
    "# cortes = range(9000,14000,100)\n",
    "\n",
    "# num_subida_kaggle = 65\n",
    "# for envios in cortes:\n",
    "    \n",
    "#     tb_entrega['Predicted'] = 0\n",
    "#     tb_entrega.iloc[:envios, tb_entrega.columns.get_loc('Predicted')] = 1\n",
    "#     resultados = tb_entrega[[\"numero_de_cliente\", 'Predicted']].reset_index(drop=True)\n",
    "    \n",
    "#     print(\"Cantidad de clientes {}\".format(envios))\n",
    "    \n",
    "#     nombre_archivo = 'entrega_0{}.csv'.format(num_subida_kaggle)\n",
    "#     entrega_final = os.path.join(path, nombre_archivo)\n",
    "#     resultados.to_csv(entrega_final, index=False)\n",
    "    \n",
    "    \n",
    "#     cantidad_columnas = df_train.shape[1]\n",
    "#     message = f\"{entrega}, cantidad de columnas en el train: {cantidad_columnas}, modelo: LGBM, mejores parametros: {best_params}, mejor iteracion: {best_iter}, archivo: {entrega_final}, punto de corte: {envios}, optimizado con optuna: {study_name}\"\n",
    "    \n",
    "#     num_subida_kaggle += 1\n",
    "    \n",
    "    \n",
    "    \n",
    "#     entrega_final = os.path.join(path, nombre_archivo)   \n",
    "#     competencia = 'dm-ey-f-2024-primera'\n",
    "#     try:\n",
    "#         api.competition_submit(file_name=entrega_final,message=message,competition=competencia)\n",
    "#     except:\n",
    "#         print(f\"Numero máximo de envios, último envio ={num_subida_kaggle}\")"
   ]
  },
  {
   "cell_type": "code",
   "execution_count": 612,
   "metadata": {},
   "outputs": [],
   "source": [
    "# df_train.shape"
   ]
  },
  {
   "cell_type": "code",
   "execution_count": 613,
   "metadata": {},
   "outputs": [],
   "source": [
    "# nombre_modelo = 'lgbm_e_en_abril_p_en_junio_451_features.txt'\n",
    "# model.save_model(rf\"C:\\Users\\Admin\\Documents\\1_Notebook\\1_Estudio\\1_UBA_Maestria_DS\\1_Especializacion\\1_Segundo_Semestre\\DMEyF\\modelos_lgbm\\{nombre_modelo}\")"
   ]
  }
 ],
 "metadata": {
  "kernelspec": {
   "display_name": "datascience",
   "language": "python",
   "name": "python3"
  },
  "language_info": {
   "codemirror_mode": {
    "name": "ipython",
    "version": 3
   },
   "file_extension": ".py",
   "mimetype": "text/x-python",
   "name": "python",
   "nbconvert_exporter": "python",
   "pygments_lexer": "ipython3",
   "version": "3.11.9"
  }
 },
 "nbformat": 4,
 "nbformat_minor": 2
}
